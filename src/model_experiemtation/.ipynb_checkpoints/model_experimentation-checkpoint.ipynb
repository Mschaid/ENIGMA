{
 "cells": [
  {
   "cell_type": "markdown",
   "id": "667b1c92",
   "metadata": {},
   "source": [
    "# Test "
   ]
  },
  {
   "cell_type": "code",
   "execution_count": 2,
   "id": "53587072",
   "metadata": {},
   "outputs": [
    {
     "name": "stderr",
     "output_type": "stream",
     "text": [
      "2023-05-17 15:48:18.768024: I tensorflow/core/util/port.cc:110] oneDNN custom operations are on. You may see slightly different numerical results due to floating-point round-off errors from different computation orders. To turn them off, set the environment variable `TF_ENABLE_ONEDNN_OPTS=0`.\n",
      "2023-05-17 15:48:21.632932: I tensorflow/core/platform/cpu_feature_guard.cc:182] This TensorFlow binary is optimized to use available CPU instructions in performance-critical operations.\n",
      "To enable the following instructions: AVX2 AVX512F AVX512_VNNI FMA, in other operations, rebuild TensorFlow with the appropriate compiler flags.\n",
      "2023-05-17 15:48:33.146428: W tensorflow/compiler/tf2tensorrt/utils/py_utils.cc:38] TF-TRT Warning: Could not find TensorRT\n"
     ]
    }
   ],
   "source": [
    "from src.processors.Preprocessor import Preprocessor\n",
    "from src.model_experiemtation.ModelExperimentor import TFModelExperimentor\n",
    "\n",
    "import pandas as pd\n",
    "import os\n",
    "import numpy as np\n",
    "import matplotlib.pyplot as plt\n",
    "import seaborn as sns\n",
    "import seaborn.objects as so\n",
    "from sklearn.model_selection import train_test_split\n",
    "import logging\n",
    "\n",
    "import tensorflow as tf\n",
    "from tensorflow.keras.layers import Conv1D, MaxPooling1D, Flatten, Dense\n",
    "from tensorflow.keras import Sequential\n",
    "from tensorflow.keras.layers import Dense\n",
    "from tensorflow.keras.losses import BinaryCrossentropy\n"
   ]
  },
  {
   "cell_type": "markdown",
   "id": "93bdda14",
   "metadata": {},
   "source": [
    "## Import data from stored processors"
   ]
  },
  {
   "cell_type": "code",
   "execution_count": 4,
   "id": "7b627129",
   "metadata": {},
   "outputs": [],
   "source": [
    "PATH = '/projects/p31961/gaby_data/aggregated_data/processors/5_day_training_gaby.pkl'\n",
    "proc = Preprocessor().load_processor(PATH)\n"
   ]
  },
  {
   "cell_type": "markdown",
   "id": "2b588cd0",
   "metadata": {},
   "source": [
    "# Deep NN"
   ]
  },
  {
   "cell_type": "code",
   "execution_count": null,
   "id": "bedd4dd2",
   "metadata": {},
   "outputs": [],
   "source": [
    "sequential_model = Sequential (\n",
    "    [\n",
    "        Dense(128, activation = 'relu', name = \"dense_1\", input_shape = (X_train.columns.shape, ))\n",
    "        \n",
    "    ]\n",
    ")"
   ]
  }
 ],
 "metadata": {
  "kernelspec": {
   "display_name": "Python 3 (ipykernel)",
   "language": "python",
   "name": "python3"
  },
  "language_info": {
   "codemirror_mode": {
    "name": "ipython",
    "version": 3
   },
   "file_extension": ".py",
   "mimetype": "text/x-python",
   "name": "python",
   "nbconvert_exporter": "python",
   "pygments_lexer": "ipython3",
   "version": "3.11.2"
  }
 },
 "nbformat": 4,
 "nbformat_minor": 5
}
