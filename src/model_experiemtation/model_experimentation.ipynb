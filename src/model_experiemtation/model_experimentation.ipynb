{
 "cells": [
  {
   "cell_type": "markdown",
   "id": "667b1c92",
   "metadata": {},
   "source": [
    "# Test "
   ]
  },
  {
   "cell_type": "code",
   "execution_count": null,
   "id": "53587072",
   "metadata": {},
   "outputs": [],
   "source": [
    "from src.processors.Preprocessor import Preprocessor\n",
    "from src.model_experiemtation.ModelExperimentor import TFModelExperimentor\n",
    "\n",
    "import pandas as pd\n",
    "import os\n",
    "import numpy as np\n",
    "import matplotlib.pyplot as plt\n",
    "import seaborn as sns\n",
    "import seaborn.objects as so\n",
    "from sklearn.model_selection import train_test_split\n",
    "import logging\n",
    "from time import sleep\n",
    "import datetime\n",
    "\n",
    "import tensorflow as tf\n",
    "from tensorflow.keras.layers import Dense, Normalization, LSTM\n",
    "from tensorflow.keras import Sequential\n",
    "\n",
    "from tensorflow.keras.losses import BinaryCrossentropy\n",
    "\n",
    "print(\"TensorFlow version:\", tf.__version__)\n",
    "\n",
    "# Check if GPUs are detectable\n",
    "gpus = tf.config.list_physical_devices('GPU')\n",
    "print(gpus)\n",
    "if gpus:\n",
    "    print(\"GPUs are detectable.\")\n",
    "    for gpu in gpus:\n",
    "        print(\"Available GPU:\", gpu)\n",
    "else:\n",
    "    print(\"No GPUs are detectable.\")\n",
    "\n",
    "print(\"TensorFlow is using GPU:\", tf.test.is_built_with_cuda() and tf.test.is_gpu_available())\n",
    "print(tf.config.list_physical_devices('GPU'))\n"
   ]
  },
  {
   "cell_type": "markdown",
   "id": "93bdda14",
   "metadata": {},
   "source": [
    "## Import data from stored processors"
   ]
  },
  {
   "cell_type": "code",
   "execution_count": null,
   "id": "7b627129",
   "metadata": {},
   "outputs": [],
   "source": [
    "\n",
    "X_train = pd.read_pickle('/projects/p31961/dopamine_modeling/data/gaby_test/X_train.pkl')\n",
    "X_test = pd.read_pickle('/projects/p31961/dopamine_modeling/data/gaby_test/X_test.pkl')\n",
    "y_train = pd.read_pickle('/projects/p31961/dopamine_modeling/data/gaby_test/y_train.pkl')\n",
    "y_test = pd.read_pickle('/projects/p31961/dopamine_modeling/data/gaby_test/y_test.pkl')\n",
    "#normalize training data"
   ]
  },
  {
   "cell_type": "code",
   "execution_count": null,
   "id": "f12b6347",
   "metadata": {},
   "outputs": [],
   "source": [
    "test_path = '/home/mds8301/gaby_test/processors/unit_test_processor.pkl'\n",
    "proc = Preprocessor.load_processor(test_path)\n"
   ]
  },
  {
   "cell_type": "code",
   "execution_count": null,
   "id": "f64266b6",
   "metadata": {},
   "outputs": [],
   "source": [
    "dir(proc)"
   ]
  },
  {
   "cell_type": "markdown",
   "id": "2b588cd0",
   "metadata": {},
   "source": [
    "# Deep NN"
   ]
  },
  {
   "cell_type": "code",
   "execution_count": null,
   "id": "bedd4dd2",
   "metadata": {},
   "outputs": [],
   "source": []
  },
  {
   "cell_type": "code",
   "execution_count": null,
   "id": "e4804b37",
   "metadata": {},
   "outputs": [],
   "source": []
  },
  {
   "cell_type": "code",
   "execution_count": null,
   "id": "0081a883",
   "metadata": {},
   "outputs": [],
   "source": []
  },
  {
   "cell_type": "code",
   "execution_count": null,
   "id": "860d4c46",
   "metadata": {},
   "outputs": [],
   "source": [
    "   model_kwargs = {\"optimizer\": \"adam\", \n",
    "                   \"loss\": \"binary_crossentropy\",\n",
    "                   \"metrics\": [\"accuracy\"]}\n",
    "    (\n",
    "        tf_seq\n",
    "        .compile_model(**test_kwargs)\n",
    "        .train_model()\n",
    "    )"
   ]
  }
 ],
 "metadata": {
  "kernelspec": {
   "display_name": "dope (Python 311)",
   "language": "python",
   "name": "dope"
  },
  "language_info": {
   "codemirror_mode": {
    "name": "ipython",
    "version": 3
   },
   "file_extension": ".py",
   "mimetype": "text/x-python",
   "name": "python",
   "nbconvert_exporter": "python",
   "pygments_lexer": "ipython3",
   "version": "3.11.2"
  }
 },
 "nbformat": 4,
 "nbformat_minor": 5
}
