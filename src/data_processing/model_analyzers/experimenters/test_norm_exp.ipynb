{
 "cells": [
  {
   "cell_type": "code",
   "execution_count": 7,
   "metadata": {},
   "outputs": [
    {
     "name": "stdout",
     "output_type": "stream",
     "text": [
      "The autoreload extension is already loaded. To reload it, use:\n",
      "  %reload_ext autoreload\n"
     ]
    }
   ],
   "source": [
    "%load_ext autoreload\n",
    "%autoreload 2"
   ]
  },
  {
   "cell_type": "code",
   "execution_count": 8,
   "metadata": {},
   "outputs": [],
   "source": [
    "from src.data_processing.preprocessing.pandas_preprocessors import *\n",
    "from src.data_processing.pipelines.ClassifierPipe import ClassifierPipe\n",
    "from functools import partial"
   ]
  },
  {
   "cell_type": "code",
   "execution_count": 9,
   "metadata": {},
   "outputs": [],
   "source": [
    "DATA_PATH = '/Users/mds8301/iterm_data_storage/raw_data_raw_data.parquet.gzip'\n",
    "partial_normalized_preprocessor = partial(\n",
    "        normalized_preprocessor_wo_day, normalizer=normalize_by_baseline, query='sensor==\"DA\"', experiment_cols_to_drop=None)\n",
    "\n",
    "PROCESSOR_PIPE = (ClassifierPipe(DATA_PATH)\n",
    "                .read_raw_data()\n",
    "                .pandas_pipe(partial_normalized_preprocessor)\n",
    "                .split_by_ratio(target='ratio_avoid')\n",
    "                .transform_data()\n",
    "                )"
   ]
  },
  {
   "cell_type": "code",
   "execution_count": 12,
   "metadata": {},
   "outputs": [
    {
     "data": {
      "text/plain": [
       "array([[-0.5766389 , -0.11327462,  0.00807192, ..., -0.88251966,\n",
       "        -0.929611  , -0.82272273],\n",
       "       [ 0.11242329,  1.5440421 ,  1.6185782 , ..., -0.11436057,\n",
       "        -1.1111794 , -0.16135648],\n",
       "       [ 0.27626982,  1.1334567 ,  0.5802304 , ...,  0.8761979 ,\n",
       "         0.81547594,  0.53045565],\n",
       "       ...,\n",
       "       [-1.3241107 , -1.2929556 , -0.8372393 , ..., -2.4565542 ,\n",
       "        -2.39575   , -2.5942926 ],\n",
       "       [ 1.2071884 ,  0.5424574 , -0.78427476, ..., -0.31850144,\n",
       "         0.4936221 ,  0.80964166],\n",
       "       [-0.47369683, -0.01662293, -0.48253712, ...,  0.24089886,\n",
       "        -0.263151  ,  0.25406715]], dtype=float32)"
      ]
     },
     "execution_count": 12,
     "metadata": {},
     "output_type": "execute_result"
    }
   ],
   "source": []
  },
  {
   "cell_type": "code",
   "execution_count": null,
   "metadata": {},
   "outputs": [],
   "source": []
  }
 ],
 "metadata": {
  "kernelspec": {
   "display_name": "enigma_xgb",
   "language": "python",
   "name": "python3"
  },
  "language_info": {
   "codemirror_mode": {
    "name": "ipython",
    "version": 3
   },
   "file_extension": ".py",
   "mimetype": "text/x-python",
   "name": "python",
   "nbconvert_exporter": "python",
   "pygments_lexer": "ipython3",
   "version": "3.11.6"
  }
 },
 "nbformat": 4,
 "nbformat_minor": 2
}
