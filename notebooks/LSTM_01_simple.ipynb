{
 "cells": [
  {
   "cell_type": "code",
   "execution_count": null,
   "metadata": {},
   "outputs": [],
   "source": [
    "%load_ext autoreload \n",
    "%autoreload 2"
   ]
  },
  {
   "attachments": {},
   "cell_type": "markdown",
   "metadata": {},
   "source": [
    "# Initial exploration of full training LSTM simple 01\n"
   ]
  },
  {
   "cell_type": "code",
   "execution_count": null,
   "metadata": {},
   "outputs": [],
   "source": [
    "import pandas as pd\n",
    "import numpy as np\n",
    "import matplotlib.pyplot as plt\n",
    "import seaborn as sns\n",
    "\n",
    "import tensorflow as tf\n",
    "\n",
    "from src.modeling.prototyping.lstm_protype_simple import validated_tf\n",
    "from src.modeling.prototyping.lstm_simple_initial_training import build_path"
   ]
  },
  {
   "attachments": {},
   "cell_type": "markdown",
   "metadata": {},
   "source": [
    "### Tensorflow spec"
   ]
  },
  {
   "cell_type": "code",
   "execution_count": null,
   "metadata": {},
   "outputs": [],
   "source": [
    "validated_tf()"
   ]
  },
  {
   "attachments": {},
   "cell_type": "markdown",
   "metadata": {},
   "source": [
    "### model specs"
   ]
  },
  {
   "cell_type": "code",
   "execution_count": null,
   "metadata": {},
   "outputs": [],
   "source": [
    "LTSM_1_PATH = '/projects/p31961/dopamine_modeling/results/models/lstm_simple_initial_training_with_downsampling'"
   ]
  },
  {
   "cell_type": "code",
   "execution_count": null,
   "metadata": {},
   "outputs": [],
   "source": [
    "ltsm = tf.keras.models.load_model(LTSM_1_PATH)"
   ]
  },
  {
   "cell_type": "code",
   "execution_count": null,
   "metadata": {},
   "outputs": [],
   "source": [
    "ltsm.summary()"
   ]
  },
  {
   "attachments": {},
   "cell_type": "markdown",
   "metadata": {},
   "source": [
    "* data was downsampled during preprocessing selecting every 100th data point"
   ]
  },
  {
   "cell_type": "code",
   "execution_count": null,
   "metadata": {},
   "outputs": [],
   "source": [
    "PATH_TO_DATA = '/projects/p31961/gaby_data/aggregated_data/data_pipeline/datasets'\n"
   ]
  },
  {
   "cell_type": "code",
   "execution_count": null,
   "metadata": {},
   "outputs": [],
   "source": [
    "X_test_path = build_path(PATH_TO_DATA, 'X_test_downsampled')\n",
    "y_test_path = build_path(PATH_TO_DATA, 'y_test_downsampled')"
   ]
  },
  {
   "cell_type": "code",
   "execution_count": null,
   "metadata": {},
   "outputs": [],
   "source": [
    "X_test = pd.read_parquet(X_test_path)\n",
    "y_test = pd.read_parquet(y_test_path)"
   ]
  },
  {
   "cell_type": "code",
   "execution_count": null,
   "metadata": {},
   "outputs": [],
   "source": [
    "predicted_signal = ltsm.predict(X_test)"
   ]
  },
  {
   "cell_type": "code",
   "execution_count": null,
   "metadata": {},
   "outputs": [],
   "source": [
    "predicted_signal"
   ]
  },
  {
   "attachments": {},
   "cell_type": "markdown",
   "metadata": {},
   "source": [
    "### reformating and data aggregation\n"
   ]
  },
  {
   "cell_type": "code",
   "execution_count": null,
   "metadata": {},
   "outputs": [],
   "source": [
    "def combine_data(df, true_signal, infered_signal):\n",
    "    cols_to_group = ['day', 'time', 'event_cue', 'event_shock', 'sensor_D1', 'sensor_D2', 'sensor_DA']\n",
    "    agg_diict = {'true_signal': ['mean', 'sem'],\n",
    "             'predicted_signal': ['mean', 'sem']\n",
    "             }\n",
    "    def flatten_df(df):\n",
    "        df.columns = ['_'.join(col) for col in df.columns.values]\n",
    "        df = df.reset_index()\n",
    "        return df\n",
    "    def strip_cols(df):\n",
    "        df.columns = [col.rstrip('_') for col in df.columns]\n",
    "        return df\n",
    "    return(\n",
    "        df.assign(\n",
    "            true_signal=true_signal, \n",
    "            predicted_signal=infered_signal)\n",
    "        .reset_index(drop=True)\n",
    "        .groupby(by = cols_to_group, as_index = False).agg(agg_diict)\n",
    "        .pipe(flatten_df)\n",
    "        .pipe(strip_cols)\n",
    "        .drop(columns = 'index')\n",
    "\n",
    "    )"
   ]
  },
  {
   "cell_type": "code",
   "execution_count": null,
   "metadata": {},
   "outputs": [],
   "source": [
    "combined_data = combine_data(df = X_test, true_signal=y_test, infered_signal=predicted_signal)\n",
    "combined_data\n"
   ]
  },
  {
   "attachments": {},
   "cell_type": "markdown",
   "metadata": {},
   "source": []
  },
  {
   "cell_type": "code",
   "execution_count": null,
   "metadata": {},
   "outputs": [],
   "source": [
    "\n",
    "test_data = combined_data.query('day==6 & event_cue==0 & event_shock==1 & sensor_DA==1')\n",
    "test_data.isna().sum()"
   ]
  },
  {
   "attachments": {},
   "cell_type": "markdown",
   "metadata": {},
   "source": [
    "# Predicted vs true signal\n",
    "* day 6\n",
    "* shock\n",
    "* dopamine"
   ]
  },
  {
   "cell_type": "code",
   "execution_count": null,
   "metadata": {},
   "outputs": [],
   "source": [
    "# sns.lineplot(data=test_data, x='time', y='true_signal_mean', color='blue')\n",
    "sns.lineplot(data=test_data, x='time', y='true_signal_mean', color='blue', linewidth=0.5)\n",
    "sns.lineplot(data=test_data, x='time', y='predicted_signal_mean', color='black', linewidth=0.5)\n",
    "# plt.fill_between(test_data['time'], test_data['predicted_signal_mean'] - test_data['predicted_signal_sem'], test_data['predicted_signal_mean'] + test_data['predicted_signal_sem'], alpha=1, color='black')"
   ]
  },
  {
   "attachments": {},
   "cell_type": "markdown",
   "metadata": {},
   "source": [
    "# Summary \n",
    "the data is clearly incorrect. I think data is downsampled too much, I have preprocessed the data gain sampling every 10th data point and retrained to LSTM simple 02"
   ]
  },
  {
   "attachments": {},
   "cell_type": "markdown",
   "metadata": {},
   "source": [
    "_____"
   ]
  },
  {
   "attachments": {},
   "cell_type": "markdown",
   "metadata": {},
   "source": [
    "# Validation of LSTM_02_simple retran with smaller downsample (25)\n"
   ]
  },
  {
   "cell_type": "code",
   "execution_count": null,
   "metadata": {},
   "outputs": [],
   "source": [
    "LTSM_2 = '/projects/p31961/dopamine_modeling/results/models/LSTM_02_simple'"
   ]
  },
  {
   "cell_type": "code",
   "execution_count": null,
   "metadata": {},
   "outputs": [],
   "source": [
    "lstm_2 = tf.keras.models.load_model(LTSM_2)"
   ]
  },
  {
   "attachments": {},
   "cell_type": "markdown",
   "metadata": {},
   "source": [
    "## LTSM summary"
   ]
  },
  {
   "cell_type": "code",
   "execution_count": null,
   "metadata": {},
   "outputs": [],
   "source": [
    "lstm_2.summary()"
   ]
  },
  {
   "attachments": {},
   "cell_type": "markdown",
   "metadata": {},
   "source": [
    "### read data into pandas"
   ]
  },
  {
   "cell_type": "code",
   "execution_count": null,
   "metadata": {},
   "outputs": [],
   "source": [
    "X_test_25_path = build_path(path_to_data = PATH_TO_DATA, data_set_prefix='5_day_training_gaby_ds25_',dataset_name='X_test_downsampled')\n",
    "y_test_25_path = build_path(path_to_data = PATH_TO_DATA, data_set_prefix='5_day_training_gaby_ds25_',dataset_name='y_test_downsampled')"
   ]
  },
  {
   "cell_type": "code",
   "execution_count": null,
   "metadata": {},
   "outputs": [],
   "source": [
    "X_test_25 = pd.read_parquet(X_test_25_path)\n",
    "y_test_25 = pd.read_parquet(y_test_25_path)\n"
   ]
  },
  {
   "attachments": {},
   "cell_type": "markdown",
   "metadata": {},
   "source": [
    "### Signal inference"
   ]
  },
  {
   "cell_type": "code",
   "execution_count": null,
   "metadata": {},
   "outputs": [],
   "source": [
    "predicted_signal_25 = lstm_2.predict(X_test_25)\n",
    "predicted_signal_25"
   ]
  },
  {
   "cell_type": "code",
   "execution_count": null,
   "metadata": {},
   "outputs": [],
   "source": [
    "combined_data_25 = combine_data(df = X_test_25, true_signal=y_test_25, infered_signal=predicted_signal_25)\n",
    "combined_data_25"
   ]
  },
  {
   "cell_type": "code",
   "execution_count": null,
   "metadata": {},
   "outputs": [],
   "source": [
    "day6_cue_da = combined_data_25.query('day==6 & event_cue==1 & event_shock==0 & sensor_DA==1')\n",
    "day6_cue_da.isna().sum()\n",
    "# day6_cue_da"
   ]
  },
  {
   "cell_type": "code",
   "execution_count": null,
   "metadata": {},
   "outputs": [],
   "source": [
    "def plot_signal(y):\n",
    "    sns.lineplot(data=day6_cue_da, x='time', y=f'{y}_mean', color='black', linewidth=0.5)\n",
    "    plt.fill_between(day6_cue_da['time'], day6_cue_da[f'{y}_mean'] - day6_cue_da[f'{y}_sem'], day6_cue_da[f'{y}_mean'] + day6_cue_da[f'{y}_sem'], alpha=.2, color='black')\n",
    "plot_signal('true_signal')\n",
    "plot_signal('predicted_signal')"
   ]
  },
  {
   "attachments": {},
   "cell_type": "markdown",
   "metadata": {},
   "source": [
    "# what is wrong with the data?`"
   ]
  },
  {
   "cell_type": "code",
   "execution_count": 3,
   "metadata": {},
   "outputs": [
    {
     "data": {
      "text/html": [
       "<div>\n",
       "<style scoped>\n",
       "    .dataframe tbody tr th:only-of-type {\n",
       "        vertical-align: middle;\n",
       "    }\n",
       "\n",
       "    .dataframe tbody tr th {\n",
       "        vertical-align: top;\n",
       "    }\n",
       "\n",
       "    .dataframe thead th {\n",
       "        text-align: right;\n",
       "    }\n",
       "</style>\n",
       "<table border=\"1\" class=\"dataframe\">\n",
       "  <thead>\n",
       "    <tr style=\"text-align: right;\">\n",
       "      <th></th>\n",
       "      <th>mouse_id</th>\n",
       "      <th>day</th>\n",
       "      <th>event</th>\n",
       "      <th>sensor</th>\n",
       "      <th>time</th>\n",
       "      <th>trial</th>\n",
       "      <th>signal</th>\n",
       "    </tr>\n",
       "  </thead>\n",
       "  <tbody>\n",
       "    <tr>\n",
       "      <th>0</th>\n",
       "      <td>142_237</td>\n",
       "      <td>1</td>\n",
       "      <td>avoid</td>\n",
       "      <td>D1</td>\n",
       "      <td>-25.000000</td>\n",
       "      <td>0</td>\n",
       "      <td>0.955051</td>\n",
       "    </tr>\n",
       "    <tr>\n",
       "      <th>1</th>\n",
       "      <td>142_237</td>\n",
       "      <td>1</td>\n",
       "      <td>avoid</td>\n",
       "      <td>D1</td>\n",
       "      <td>-24.998034</td>\n",
       "      <td>0</td>\n",
       "      <td>0.956232</td>\n",
       "    </tr>\n",
       "    <tr>\n",
       "      <th>2</th>\n",
       "      <td>142_237</td>\n",
       "      <td>1</td>\n",
       "      <td>avoid</td>\n",
       "      <td>D1</td>\n",
       "      <td>-24.996067</td>\n",
       "      <td>0</td>\n",
       "      <td>0.957714</td>\n",
       "    </tr>\n",
       "    <tr>\n",
       "      <th>3</th>\n",
       "      <td>142_237</td>\n",
       "      <td>1</td>\n",
       "      <td>avoid</td>\n",
       "      <td>D1</td>\n",
       "      <td>-24.994102</td>\n",
       "      <td>0</td>\n",
       "      <td>0.959506</td>\n",
       "    </tr>\n",
       "    <tr>\n",
       "      <th>4</th>\n",
       "      <td>142_237</td>\n",
       "      <td>1</td>\n",
       "      <td>avoid</td>\n",
       "      <td>D1</td>\n",
       "      <td>-24.992136</td>\n",
       "      <td>0</td>\n",
       "      <td>0.961616</td>\n",
       "    </tr>\n",
       "    <tr>\n",
       "      <th>...</th>\n",
       "      <td>...</td>\n",
       "      <td>...</td>\n",
       "      <td>...</td>\n",
       "      <td>...</td>\n",
       "      <td>...</td>\n",
       "      <td>...</td>\n",
       "      <td>...</td>\n",
       "    </tr>\n",
       "    <tr>\n",
       "      <th>22884</th>\n",
       "      <td>313_255</td>\n",
       "      <td>7</td>\n",
       "      <td>shock</td>\n",
       "      <td>DA</td>\n",
       "      <td>19.992136</td>\n",
       "      <td>0</td>\n",
       "      <td>0.741634</td>\n",
       "    </tr>\n",
       "    <tr>\n",
       "      <th>22885</th>\n",
       "      <td>313_255</td>\n",
       "      <td>7</td>\n",
       "      <td>shock</td>\n",
       "      <td>DA</td>\n",
       "      <td>19.994102</td>\n",
       "      <td>0</td>\n",
       "      <td>0.713201</td>\n",
       "    </tr>\n",
       "    <tr>\n",
       "      <th>22886</th>\n",
       "      <td>313_255</td>\n",
       "      <td>7</td>\n",
       "      <td>shock</td>\n",
       "      <td>DA</td>\n",
       "      <td>19.996067</td>\n",
       "      <td>0</td>\n",
       "      <td>0.684301</td>\n",
       "    </tr>\n",
       "    <tr>\n",
       "      <th>22887</th>\n",
       "      <td>313_255</td>\n",
       "      <td>7</td>\n",
       "      <td>shock</td>\n",
       "      <td>DA</td>\n",
       "      <td>19.998034</td>\n",
       "      <td>0</td>\n",
       "      <td>0.654951</td>\n",
       "    </tr>\n",
       "    <tr>\n",
       "      <th>22888</th>\n",
       "      <td>313_255</td>\n",
       "      <td>7</td>\n",
       "      <td>shock</td>\n",
       "      <td>DA</td>\n",
       "      <td>20.000000</td>\n",
       "      <td>0</td>\n",
       "      <td>0.625171</td>\n",
       "    </tr>\n",
       "  </tbody>\n",
       "</table>\n",
       "<p>292864755 rows × 7 columns</p>\n",
       "</div>"
      ],
      "text/plain": [
       "      mouse_id  day  event sensor       time  trial    signal\n",
       "0      142_237    1  avoid     D1 -25.000000      0  0.955051\n",
       "1      142_237    1  avoid     D1 -24.998034      0  0.956232\n",
       "2      142_237    1  avoid     D1 -24.996067      0  0.957714\n",
       "3      142_237    1  avoid     D1 -24.994102      0  0.959506\n",
       "4      142_237    1  avoid     D1 -24.992136      0  0.961616\n",
       "...        ...  ...    ...    ...        ...    ...       ...\n",
       "22884  313_255    7  shock     DA  19.992136      0  0.741634\n",
       "22885  313_255    7  shock     DA  19.994102      0  0.713201\n",
       "22886  313_255    7  shock     DA  19.996067      0  0.684301\n",
       "22887  313_255    7  shock     DA  19.998034      0  0.654951\n",
       "22888  313_255    7  shock     DA  20.000000      0  0.625171\n",
       "\n",
       "[292864755 rows x 7 columns]"
      ]
     },
     "execution_count": 3,
     "metadata": {},
     "output_type": "execute_result"
    }
   ],
   "source": [
    "RAW_PATH = '/projects/p31961/gaby_data/aggregated_data/aggregated_data.parquet.gzp'\n",
    "raw_data = pd.read_parquet(RAW_PATH)\n",
    "raw_data"
   ]
  },
  {
   "cell_type": "code",
   "execution_count": null,
   "metadata": {},
   "outputs": [],
   "source": [
    "raw_ds25 = raw_data[::25]\n",
    "raw_ds25"
   ]
  },
  {
   "cell_type": "code",
   "execution_count": null,
   "metadata": {},
   "outputs": [],
   "source": [
    "def filter_data(df):\n",
    "    def flatten_df(df):\n",
    "        df.columns = ['_'.join(col) for col in df.columns.values]\n",
    "        df = df.reset_index()\n",
    "        return df\n",
    "    def strip_cols(df):\n",
    "            df.columns = [col.rstrip('_') for col in df.columns]\n",
    "            return df\n",
    "        \n",
    "    group_by = ['time', 'sensor', 'mouse_id', 'day', 'event']\n",
    "    agg_dict = {'signal': ['mean']}\n",
    "\n",
    "    grouped= (\n",
    "        df.groupby(by=group_by, as_index=False).agg(agg_dict)\n",
    "        .pipe(flatten_df)\n",
    "        .pipe(strip_cols)\n",
    "        .drop(columns = 'index') \n",
    "    )\n",
    "    return (grouped\n",
    "            .query('day==1 & event==\"cue\" & sensor==\"DA\"')\n",
    "            .groupby(by = ['time'], as_index=True).agg({'signal_mean': ['mean', 'sem']})\n",
    "            .pipe(flatten_df)\n",
    "            .pipe(strip_cols)\n",
    "    )\n",
    "\n",
    "d1_cue_da_ds = filter_data(raw_ds25)\n"
   ]
  },
  {
   "cell_type": "code",
   "execution_count": null,
   "metadata": {},
   "outputs": [],
   "source": [
    "d1_cue_da_ds"
   ]
  },
  {
   "cell_type": "code",
   "execution_count": null,
   "metadata": {},
   "outputs": [],
   "source": [
    "d1_cue_da_raw = filter_data(raw_data)"
   ]
  },
  {
   "cell_type": "code",
   "execution_count": null,
   "metadata": {},
   "outputs": [],
   "source": [
    "d1_cue_da_raw\n",
    "correct_down_sample = d1_cue_da_raw[::100]"
   ]
  },
  {
   "cell_type": "code",
   "execution_count": null,
   "metadata": {},
   "outputs": [],
   "source": [
    "def plot_data(df, title):\n",
    "    sns.lineplot(data=df, x='time', y='signal_mean_mean',linewidth=0.2)\n",
    "    # change y axsis to be -2 to 2\n",
    "    plt.fill_between(df['time'], df['signal_mean_mean'] - df['signal_mean_sem'], df['signal_mean_mean'] + df['signal_mean_sem'], alpha=.2, color='black')\n",
    "    plt.ylim(-2, 2)\n",
    "    plt.title(title)\n",
    "    \n",
    "# plot_data(df = d1_cue_da_raw, title='raw data')"
   ]
  },
  {
   "cell_type": "code",
   "execution_count": null,
   "metadata": {},
   "outputs": [],
   "source": [
    "\n",
    "plot_data(df = d1_cue_da_ds, title='downsampled data')\n"
   ]
  },
  {
   "cell_type": "code",
   "execution_count": null,
   "metadata": {},
   "outputs": [],
   "source": [
    "plot_data(df = correct_down_sample, title='correct downsampled data')"
   ]
  },
  {
   "attachments": {},
   "cell_type": "markdown",
   "metadata": {},
   "source": [
    "# error in down sampling\n",
    "* I made a mistake in when I introduced the downsampling for this data. I think I need to introduce it after grouping and processing right before training? The below is an interative process for finding the correct order of operations"
   ]
  },
  {
   "cell_type": "code",
   "execution_count": null,
   "metadata": {},
   "outputs": [],
   "source": [
    "def filter_data_update(df):\n",
    "    def flatten_df(df):\n",
    "        df.columns = ['_'.join(col) for col in df.columns.values]\n",
    "        df = df.reset_index()\n",
    "        return df\n",
    "    def strip_cols(df):\n",
    "            df.columns = [col.rstrip('_') for col in df.columns]\n",
    "            return df\n",
    "        \n",
    "    group_by = ['time', 'sensor', 'day', 'event']\n",
    "    agg_dict = {'signal': ['mean', 'sem']}\n",
    "\n",
    "    grouped= (\n",
    "        df.groupby(by=group_by, as_index=False).agg(agg_dict)\n",
    "        .pipe(flatten_df)\n",
    "        .pipe(strip_cols)\n",
    "        .drop(columns = 'index') \n",
    "    )\n",
    "    return (grouped\n",
    "            # .query('day==1 & event==\"cue\" & sensor==\"DA\"')\n",
    "            # .groupby(by = ['time', ], as_index=True).agg({'signal_mean': ['mean', 'sem']})\n",
    "            # .pipe(flatten_df)\n",
    "            # .pipe(strip_cols)\n",
    "    )\n",
    "\n",
    "\n",
    "grouped_data_update = filter_data_update(raw_data)"
   ]
  },
  {
   "cell_type": "code",
   "execution_count": null,
   "metadata": {},
   "outputs": [],
   "source": [
    "day1_cue_da = grouped_data_update.query('day==1 & event==\"cue\" & sensor==\"DA\"')\n",
    "day1_cue_da"
   ]
  },
  {
   "attachments": {},
   "cell_type": "markdown",
   "metadata": {},
   "source": []
  },
  {
   "cell_type": "code",
   "execution_count": null,
   "metadata": {},
   "outputs": [],
   "source": [
    "def plot_data_update(df, title):\n",
    "    sns.lineplot(data=df, x='time', y='signal_mean',linewidth=0.2)\n",
    "    # change y axsis to be -2 to 2\n",
    "    plt.fill_between(df['time'], df['signal_mean'] - df['signal_sem'], df['signal_mean'] + df['signal_sem'], alpha=.2, color='black')\n",
    "    plt.ylim(-2, 2)\n",
    "    plt.title(title)\n",
    "plot_data_update(df = day1_cue_da, title='raw data updated filter')"
   ]
  },
  {
   "attachments": {},
   "cell_type": "markdown",
   "metadata": {},
   "source": [
    "## I beleive the downsampling after the aggregated and melted dataframe is the problem. \n",
    "* possible soluton - convert time to timeseries in padas -> resample \n"
   ]
  },
  {
   "cell_type": "code",
   "execution_count": 4,
   "metadata": {},
   "outputs": [
    {
     "data": {
      "text/html": [
       "<div>\n",
       "<style scoped>\n",
       "    .dataframe tbody tr th:only-of-type {\n",
       "        vertical-align: middle;\n",
       "    }\n",
       "\n",
       "    .dataframe tbody tr th {\n",
       "        vertical-align: top;\n",
       "    }\n",
       "\n",
       "    .dataframe thead th {\n",
       "        text-align: right;\n",
       "    }\n",
       "</style>\n",
       "<table border=\"1\" class=\"dataframe\">\n",
       "  <thead>\n",
       "    <tr style=\"text-align: right;\">\n",
       "      <th></th>\n",
       "      <th>mouse_id</th>\n",
       "      <th>day</th>\n",
       "      <th>event</th>\n",
       "      <th>sensor</th>\n",
       "      <th>time</th>\n",
       "      <th>trial</th>\n",
       "      <th>signal</th>\n",
       "    </tr>\n",
       "  </thead>\n",
       "  <tbody>\n",
       "    <tr>\n",
       "      <th>0</th>\n",
       "      <td>142_237</td>\n",
       "      <td>1</td>\n",
       "      <td>avoid</td>\n",
       "      <td>D1</td>\n",
       "      <td>-25.000000</td>\n",
       "      <td>0</td>\n",
       "      <td>0.955051</td>\n",
       "    </tr>\n",
       "    <tr>\n",
       "      <th>1</th>\n",
       "      <td>142_237</td>\n",
       "      <td>1</td>\n",
       "      <td>avoid</td>\n",
       "      <td>D1</td>\n",
       "      <td>-24.998034</td>\n",
       "      <td>0</td>\n",
       "      <td>0.956232</td>\n",
       "    </tr>\n",
       "    <tr>\n",
       "      <th>2</th>\n",
       "      <td>142_237</td>\n",
       "      <td>1</td>\n",
       "      <td>avoid</td>\n",
       "      <td>D1</td>\n",
       "      <td>-24.996067</td>\n",
       "      <td>0</td>\n",
       "      <td>0.957714</td>\n",
       "    </tr>\n",
       "    <tr>\n",
       "      <th>3</th>\n",
       "      <td>142_237</td>\n",
       "      <td>1</td>\n",
       "      <td>avoid</td>\n",
       "      <td>D1</td>\n",
       "      <td>-24.994102</td>\n",
       "      <td>0</td>\n",
       "      <td>0.959506</td>\n",
       "    </tr>\n",
       "    <tr>\n",
       "      <th>4</th>\n",
       "      <td>142_237</td>\n",
       "      <td>1</td>\n",
       "      <td>avoid</td>\n",
       "      <td>D1</td>\n",
       "      <td>-24.992136</td>\n",
       "      <td>0</td>\n",
       "      <td>0.961616</td>\n",
       "    </tr>\n",
       "    <tr>\n",
       "      <th>...</th>\n",
       "      <td>...</td>\n",
       "      <td>...</td>\n",
       "      <td>...</td>\n",
       "      <td>...</td>\n",
       "      <td>...</td>\n",
       "      <td>...</td>\n",
       "      <td>...</td>\n",
       "    </tr>\n",
       "    <tr>\n",
       "      <th>22884</th>\n",
       "      <td>313_255</td>\n",
       "      <td>7</td>\n",
       "      <td>shock</td>\n",
       "      <td>DA</td>\n",
       "      <td>19.992136</td>\n",
       "      <td>0</td>\n",
       "      <td>0.741634</td>\n",
       "    </tr>\n",
       "    <tr>\n",
       "      <th>22885</th>\n",
       "      <td>313_255</td>\n",
       "      <td>7</td>\n",
       "      <td>shock</td>\n",
       "      <td>DA</td>\n",
       "      <td>19.994102</td>\n",
       "      <td>0</td>\n",
       "      <td>0.713201</td>\n",
       "    </tr>\n",
       "    <tr>\n",
       "      <th>22886</th>\n",
       "      <td>313_255</td>\n",
       "      <td>7</td>\n",
       "      <td>shock</td>\n",
       "      <td>DA</td>\n",
       "      <td>19.996067</td>\n",
       "      <td>0</td>\n",
       "      <td>0.684301</td>\n",
       "    </tr>\n",
       "    <tr>\n",
       "      <th>22887</th>\n",
       "      <td>313_255</td>\n",
       "      <td>7</td>\n",
       "      <td>shock</td>\n",
       "      <td>DA</td>\n",
       "      <td>19.998034</td>\n",
       "      <td>0</td>\n",
       "      <td>0.654951</td>\n",
       "    </tr>\n",
       "    <tr>\n",
       "      <th>22888</th>\n",
       "      <td>313_255</td>\n",
       "      <td>7</td>\n",
       "      <td>shock</td>\n",
       "      <td>DA</td>\n",
       "      <td>20.000000</td>\n",
       "      <td>0</td>\n",
       "      <td>0.625171</td>\n",
       "    </tr>\n",
       "  </tbody>\n",
       "</table>\n",
       "<p>292864755 rows × 7 columns</p>\n",
       "</div>"
      ],
      "text/plain": [
       "      mouse_id  day  event sensor       time  trial    signal\n",
       "0      142_237    1  avoid     D1 -25.000000      0  0.955051\n",
       "1      142_237    1  avoid     D1 -24.998034      0  0.956232\n",
       "2      142_237    1  avoid     D1 -24.996067      0  0.957714\n",
       "3      142_237    1  avoid     D1 -24.994102      0  0.959506\n",
       "4      142_237    1  avoid     D1 -24.992136      0  0.961616\n",
       "...        ...  ...    ...    ...        ...    ...       ...\n",
       "22884  313_255    7  shock     DA  19.992136      0  0.741634\n",
       "22885  313_255    7  shock     DA  19.994102      0  0.713201\n",
       "22886  313_255    7  shock     DA  19.996067      0  0.684301\n",
       "22887  313_255    7  shock     DA  19.998034      0  0.654951\n",
       "22888  313_255    7  shock     DA  20.000000      0  0.625171\n",
       "\n",
       "[292864755 rows x 7 columns]"
      ]
     },
     "execution_count": 4,
     "metadata": {},
     "output_type": "execute_result"
    }
   ],
   "source": [
    "raw_data"
   ]
  },
  {
   "cell_type": "code",
   "execution_count": 11,
   "metadata": {},
   "outputs": [
    {
     "ename": "",
     "evalue": "",
     "output_type": "error",
     "traceback": [
      "\u001b[1;31mThe Kernel crashed while executing code in the the current cell or a previous cell. Please review the code in the cell(s) to identify a possible cause of the failure. Click <a href='https://aka.ms/vscodeJupyterKernelCrash'>here</a> for more info. View Jupyter <a href='command:jupyter.viewOutput'>log</a> for further details."
     ]
    },
    {
     "ename": "",
     "evalue": "",
     "output_type": "error",
     "traceback": [
      "\u001b[1;31mCanceled future for execute_request message before replies were done"
     ]
    }
   ],
   "source": [
    "raw_data_us = raw_data.assign(time =pd.to_timedelta(raw_data['time'], unit='seconds'))\n",
    "resample = raw_data_us.resample('100ms', on='time').mean()\n",
    "resample"
   ]
  },
  {
   "cell_type": "code",
   "execution_count": 10,
   "metadata": {},
   "outputs": [
    {
     "data": {
      "text/plain": [
       "mouse_id     object\n",
       "day           int64\n",
       "event        object\n",
       "sensor       object\n",
       "time        float64\n",
       "trial         int32\n",
       "signal      float32\n",
       "dtype: object"
      ]
     },
     "execution_count": 10,
     "metadata": {},
     "output_type": "execute_result"
    }
   ],
   "source": []
  },
  {
   "cell_type": "code",
   "execution_count": null,
   "metadata": {},
   "outputs": [],
   "source": []
  }
 ],
 "metadata": {
  "kernelspec": {
   "display_name": "dope (Python 311)",
   "language": "python",
   "name": "dope"
  },
  "language_info": {
   "codemirror_mode": {
    "name": "ipython",
    "version": 3
   },
   "file_extension": ".py",
   "mimetype": "text/x-python",
   "name": "python",
   "nbconvert_exporter": "python",
   "pygments_lexer": "ipython3",
   "version": "3.11.2"
  },
  "orig_nbformat": 4
 },
 "nbformat": 4,
 "nbformat_minor": 2
}
