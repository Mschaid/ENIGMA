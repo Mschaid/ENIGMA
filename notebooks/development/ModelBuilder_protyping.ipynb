{
 "cells": [
  {
   "cell_type": "code",
   "execution_count": 1,
   "metadata": {},
   "outputs": [
    {
     "name": "stdout",
     "output_type": "stream",
     "text": [
      "/projects/p31961/dopamine_modeling\n"
     ]
    }
   ],
   "source": [
    "import pandas as pd \n",
    "import os\n",
    "import seaborn as sns\n",
    "import numpy as np\n",
    "import h5py\n",
    "\n",
    "from src.model_builders import ModelBuilderBase\n",
    "\n",
    "#load extenstions\n",
    "%load_ext autoreload\n",
    "%autoreload 2\n",
    "%load_ext watermark\n",
    "\n",
    "#make sure directory is correct\n",
    "os.chdir('/projects/p31961/dopamine_modeling')\n",
    "!pwd"
   ]
  },
  {
   "cell_type": "code",
   "execution_count": 2,
   "metadata": {},
   "outputs": [],
   "source": [
    "PATH = '/projects/p31961/gaby_data/aggregated_data/data_pipeline/datasets/5_day_training_gaby_dataset.h5'"
   ]
  },
  {
   "cell_type": "code",
   "execution_count": 3,
   "metadata": {},
   "outputs": [
    {
     "name": "stdout",
     "output_type": "stream",
     "text": [
      "['attributes', 'dataframes']\n"
     ]
    }
   ],
   "source": [
    "with h5py.File(PATH, 'r') as f:\n",
    "    print(list(f.keys()))"
   ]
  },
  {
   "cell_type": "code",
   "execution_count": 4,
   "metadata": {},
   "outputs": [],
   "source": [
    "class TestBuilder:\n",
    "\n",
    "    def __init__(self, \n",
    "                 model,\n",
    "                 path_to_processed_data,\n",
    "                 ):\n",
    "\n",
    "\n",
    "        self.model = None\n",
    "        self.path_to_processed_data = path_to_processed_data\n",
    "        \n",
    "\n",
    "    def load_preprocessed_data(self):\n",
    "\n",
    "\n",
    "        with h5py.File(self.path_to_processed_data, 'r') as file:\n",
    "            dataframe_group = file['dataframes']\n",
    "            for key in dataframe_group.keys():\n",
    "                dataset = dataframe_group[key]\n",
    "                setattr(self, key, pd.DataFrame(dataset[:]))\n",
    "            \n",
    "            attrs_group = file['attrs']\n",
    "            for key in attrs_group.keys():\n",
    "                setattr(self, key, attrs_group[key].value)"
   ]
  },
  {
   "cell_type": "code",
   "execution_count": 5,
   "metadata": {},
   "outputs": [],
   "source": [
    "test = TestBuilder(model=None, path_to_processed_data=PATH)"
   ]
  },
  {
   "cell_type": "code",
   "execution_count": 6,
   "metadata": {},
   "outputs": [
    {
     "ename": "",
     "evalue": "",
     "output_type": "error",
     "traceback": [
      "\u001b[1;31mCanceled future for execute_request message before replies were done"
     ]
    },
    {
     "ename": "",
     "evalue": "",
     "output_type": "error",
     "traceback": [
      "\u001b[1;31mThe Kernel crashed while executing code in the the current cell or a previous cell. Please review the code in the cell(s) to identify a possible cause of the failure. Click <a href='https://aka.ms/vscodeJupyterKernelCrash'>here</a> for more info. View Jupyter <a href='command:jupyter.viewOutput'>log</a> for further details."
     ]
    }
   ],
   "source": []
  },
  {
   "cell_type": "code",
   "execution_count": null,
   "metadata": {},
   "outputs": [],
   "source": []
  }
 ],
 "metadata": {
  "kernelspec": {
   "display_name": "dope (Python 311)",
   "language": "python",
   "name": "dope"
  },
  "language_info": {
   "codemirror_mode": {
    "name": "ipython",
    "version": 3
   },
   "file_extension": ".py",
   "mimetype": "text/x-python",
   "name": "python",
   "nbconvert_exporter": "python",
   "pygments_lexer": "ipython3",
   "version": "3.11.2"
  },
  "orig_nbformat": 4
 },
 "nbformat": 4,
 "nbformat_minor": 2
}
