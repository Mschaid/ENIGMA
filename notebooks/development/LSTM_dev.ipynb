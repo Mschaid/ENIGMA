{
 "cells": [
  {
   "cell_type": "raw",
   "metadata": {},
   "source": [
    "---\n",
    "title: \"Building modular LSTM models\"\n",
    "author: \"Mike Schaid\"\n",
    "date: \"2023-06-15\"\n",
    "theme: cosmo\n",
    "format: \n",
    "  html: \n",
    "    monobackgroundcolor: '#f1f1f101'\n",
    "    code-fold: true\n",
    "    code-block-border-left: true\n",
    "    code-block-bg: \"#0000\"\n",
    "    code-block-border-left: \"#999999\"\n",
    "    highlight-style: a11y\n",
    "    embed-resources: true\n",
    "---"
   ]
  },
  {
   "cell_type": "code",
   "execution_count": 1,
   "metadata": {},
   "outputs": [],
   "source": [
    "%load_ext autoreload \n",
    "%autoreload 2 "
   ]
  },
  {
   "cell_type": "code",
   "execution_count": 2,
   "metadata": {},
   "outputs": [
    {
     "name": "stderr",
     "output_type": "stream",
     "text": [
      "2023-06-21 16:51:20.481046: I tensorflow/core/util/port.cc:110] oneDNN custom operations are on. You may see slightly different numerical results due to floating-point round-off errors from different computation orders. To turn them off, set the environment variable `TF_ENABLE_ONEDNN_OPTS=0`.\n",
      "2023-06-21 16:51:20.558846: I tensorflow/core/platform/cpu_feature_guard.cc:182] This TensorFlow binary is optimized to use available CPU instructions in performance-critical operations.\n",
      "To enable the following instructions: AVX2 AVX512F AVX512_VNNI FMA, in other operations, rebuild TensorFlow with the appropriate compiler flags.\n",
      "2023-06-21 16:51:26.048664: W tensorflow/compiler/tf2tensorrt/utils/py_utils.cc:38] TF-TRT Warning: Could not find TensorRT\n"
     ]
    }
   ],
   "source": [
    "import datetime\n",
    "import os\n",
    "import pandas as pd\n",
    "import numpy as np\n",
    "import matplotlib.pyplot as plt\n",
    "import seaborn as sns\n",
    "import tensorflow as tf\n",
    "\n",
    "from src.modeling.Models.SimpleLSTM import SimpleLSTM\n",
    "from src.modeling.Models.StackedLSTM import StackedLSTM\n",
    "from src.utilities.tensorflow_helpers import set_tensorboard"
   ]
  },
  {
   "cell_type": "code",
   "execution_count": 3,
   "metadata": {},
   "outputs": [],
   "source": [
    "dataset_dir = '/projects/p31961/gaby_data/aggregated_data/data_pipeline_downsampled/datasets'\n",
    "X_train_path = os.path.join(dataset_dir, '5_day_training_gaby_downsampled_X_train.parquet.gzip')\n",
    "X_test_path = os.path.join(dataset_dir, '5_day_training_gaby_downsampled_X_test.parquet.gzip')\n",
    "y_train_path = os.path.join(dataset_dir, '5_day_training_gaby_downsampled_y_train.parquet.gzip')\n",
    "y_test_path = os.path.join(dataset_dir, '5_day_training_gaby_downsampled_y_test.parquet.gzip')\n",
    "\n",
    "X_train = pd.read_parquet(X_train_path)\n",
    "X_test = pd.read_parquet(X_test_path)\n",
    "y_train = pd.read_parquet(y_train_path)\n",
    "y_test = pd.read_parquet(y_test_path)\n",
    "X_train = X_train[:1000]\n",
    "y_train = y_train[:1000]\n",
    "X_test = X_test[:1000]\n",
    "y_test = y_test[:1000]"
   ]
  },
  {
   "cell_type": "code",
   "execution_count": null,
   "metadata": {},
   "outputs": [],
   "source": [
    "tf.keras.backend.clear_session()"
   ]
  },
  {
   "cell_type": "code",
   "execution_count": 4,
   "metadata": {},
   "outputs": [],
   "source": [
    "\n",
    "save_dir = \"/projects/p31961/dopamine_modeling/results/logs/training_logs/model_experimentation_StackedLSTM\"\n",
    "def experiment():\n",
    "    units = range(32, 129, 32)\n",
    "\n",
    "    for unit in units:\n",
    "        \n",
    "        model_name = f'SimpleLSTM_{unit}_units'\n",
    "        tensorboard_callback = set_tensorboard(model_name, save_dir)\n",
    "        \n",
    "        model = StackedLSTM(sequence_length = 90,\n",
    "                           num_features = X_train.shape[1],\n",
    "                           lstm_1_units=90\n",
    "                           )\n",
    "        model.compile(optimizer='adam', loss='mse', metrics=['mse', 'mae'])\n",
    "        model.fit(X_train, y_train, epochs = 10,  callbacks = [tensorboard_callback])\n",
    "        model.evaluate(X_test, y_test, callbacks = [tensorboard_callback])\n",
    "        \n",
    "        # model.save(model_name)"
   ]
  },
  {
   "cell_type": "code",
   "execution_count": 6,
   "metadata": {},
   "outputs": [
    {
     "ename": "",
     "evalue": "",
     "output_type": "error",
     "traceback": [
      "\u001b[1;31mCannot execute code, session has been disposed. Please try restarting the Kernel."
     ]
    },
    {
     "ename": "",
     "evalue": "",
     "output_type": "error",
     "traceback": [
      "\u001b[1;31mThe Kernel crashed while executing code in the the current cell or a previous cell. Please review the code in the cell(s) to identify a possible cause of the failure. Click <a href='https://aka.ms/vscodeJupyterKernelCrash'>here</a> for more info. View Jupyter <a href='command:jupyter.viewOutput'>log</a> for further details."
     ]
    }
   ],
   "source": [
    "experiment()"
   ]
  },
  {
   "cell_type": "code",
   "execution_count": 5,
   "metadata": {},
   "outputs": [
    {
     "ename": "",
     "evalue": "",
     "output_type": "error",
     "traceback": [
      "\u001b[1;31mCannot execute code, session has been disposed. Please try restarting the Kernel."
     ]
    },
    {
     "ename": "",
     "evalue": "",
     "output_type": "error",
     "traceback": [
      "\u001b[1;31mThe Kernel crashed while executing code in the the current cell or a previous cell. Please review the code in the cell(s) to identify a possible cause of the failure. Click <a href='https://aka.ms/vscodeJupyterKernelCrash'>here</a> for more info. View Jupyter <a href='command:jupyter.viewOutput'>log</a> for further details."
     ]
    }
   ],
   "source": [
    "\n",
    "model_name = f'StackedLSTM_90_units'\n",
    "tensorboard_callback = set_tensorboard(model_name, save_dir)\n",
    "\n",
    "model = StackedLSTM(sequence_length = 90,\n",
    "                    num_features = X_train.shape[1],\n",
    "                    lstm_1_units=90\n",
    "                    )\n",
    "model.compile(optimizer='adam', loss='mse', metrics=['mse', 'mae'])\n",
    "model.fit(X_train, y_train, epochs = 10,  callbacks = [tensorboard_callback])\n",
    "# model.evaluate(X_test, y_test, callbacks = [tensorboard_callback])\n"
   ]
  },
  {
   "cell_type": "code",
   "execution_count": null,
   "metadata": {},
   "outputs": [],
   "source": [
    "model.summary()"
   ]
  },
  {
   "cell_type": "code",
   "execution_count": null,
   "metadata": {},
   "outputs": [],
   "source": []
  }
 ],
 "metadata": {
  "kernelspec": {
   "display_name": "dope (Python 311)",
   "language": "python",
   "name": "dope"
  },
  "language_info": {
   "codemirror_mode": {
    "name": "ipython",
    "version": 3
   },
   "file_extension": ".py",
   "mimetype": "text/x-python",
   "name": "python",
   "nbconvert_exporter": "python",
   "pygments_lexer": "ipython3",
   "version": "3.11.2"
  },
  "orig_nbformat": 4
 },
 "nbformat": 4,
 "nbformat_minor": 2
}
