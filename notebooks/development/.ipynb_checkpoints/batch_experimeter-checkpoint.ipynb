{
 "cells": [
  {
   "cell_type": "code",
   "execution_count": 69,
   "metadata": {},
   "outputs": [
    {
     "name": "stdout",
     "output_type": "stream",
     "text": [
      "The autoreload extension is already loaded. To reload it, use:\n",
      "  %reload_ext autoreload\n"
     ]
    }
   ],
   "source": [
    "%load_ext autoreload\n",
    "%autoreload 2"
   ]
  },
  {
   "cell_type": "code",
   "execution_count": 71,
   "metadata": {},
   "outputs": [],
   "source": [
    "import multiprocessing as mp\n",
    "from src.data_processing.model_analyzers.experimenters.batch_experimenters import BatchExperimeter, XGBRegBatchExperimenter, XGBNormRegBatchExperimenter\n",
    "from dataclasses import dataclass\n",
    "from typing import Dict, List\n",
    "import logging\n",
    "\n",
    "\n",
    "@dataclass\n",
    "class BatchExperimentMetaData:\n",
    "    main_path: str\n",
    "    number_of_runs: int\n",
    "    experiment_conditions: Dict[str, List[str]]\n",
    "    filter_keys: List[str] = None\n",
    "\n",
    "\n",
    "def batch_experiment(exp_data: BatchExperimentMetaData, experimenter: BatchExperimeter = XGBRegBatchExperimenter):\n",
    "    print(\"batch_experiment\")\n",
    "    batch_experimenter = experimenter(\n",
    "        exp_data.main_path, exp_data)\n",
    "    print(batch_experimenter.experiment_conditions)\n",
    "\n",
    "    experiment_directories = batch_experimenter.get_experiment_directories(\n",
    "        exp_data.filter_keys)\n",
    "\n",
    "    experimenters = batch_experimenter.set_up_experimenters(\n",
    "        experiment_directories)\n",
    "    batch_experimenter.run_experiments(experimenters, exp_data.number_of_runs)\n",
    "\n",
    "\n",
    "def main():\n",
    "    print(\"main\")\n",
    "    NUMBER_OF_RUNS = 30\n",
    "    MAIN_PATH = \"/projects/p31961/ENIGMA/results/experiments/endpoint_experiments/xgb_regression_da_normalzied_tune\"\n",
    "    EXPERIMENMT_CONDITIONS = {\n",
    "        \"with_day\": [\"mouse_id\"],\n",
    "        \"without_day\": [\"mouse_id\", \"day\"]\n",
    "    }\n",
    "    # FILTER_KEYS = ['tune']\n",
    "\n",
    "    experiment_data = BatchExperimentMetaData(\n",
    "        main_path=MAIN_PATH,\n",
    "        number_of_runs=NUMBER_OF_RUNS,\n",
    "        experiment_conditions=EXPERIMENMT_CONDITIONS\n",
    "    )\n",
    "        # filter_keys=FILTER_KEYS)\n",
    "\n",
    "    batch_experiment(experiment_data, experimenter=XGBNormRegBatchExperimenter)\n",
    "\n",
    "\n",
    "if __name__ == '__main__':\n",
    "    main()"
   ]
  },
  {
   "cell_type": "code",
   "execution_count": 5,
   "metadata": {},
   "outputs": [],
   "source": []
  },
  {
   "cell_type": "code",
   "execution_count": 72,
   "metadata": {},
   "outputs": [],
   "source": [
    "from src.data_processing.model_analyzers.xgb_analyzers.XGBRegAnalyzer import *\n",
    "\n",
    "from src.data_processing.model_analyzers.xgb_analyzers.XGBRegrResults import *\n"
   ]
  },
  {
   "cell_type": "code",
   "execution_count": 73,
   "metadata": {},
   "outputs": [],
   "source": [
    "results_path = \"/projects/p31961/ENIGMA/results/experiments/endpoint_experiments/xgb_regression_da_normalzied_tune\"\n",
    "results_reader = XGBRegrResults\n",
    "analyzer = XGBNormRegAnalyzer"
   ]
  },
  {
   "cell_type": "code",
   "execution_count": 75,
   "metadata": {},
   "outputs": [],
   "source": [
    "exerpiemter = XGBNormRegExperimenter(path = results_path, \n",
    "                                     results_reader = results_reader, \n",
    "                                     analyzer = analyzer)"
   ]
  },
  {
   "cell_type": "code",
   "execution_count": 39,
   "metadata": {},
   "outputs": [
    {
     "name": "stderr",
     "output_type": "stream",
     "text": [
      "The default value of numeric_only in DataFrameGroupBy.mean is deprecated. In a future version, numeric_only will default to False. Either specify numeric_only or select only columns which should be valid for the function.\n"
     ]
    }
   ],
   "source": []
  },
  {
   "cell_type": "code",
   "execution_count": null,
   "metadata": {},
   "outputs": [],
   "source": []
  }
 ],
 "metadata": {
  "kernelspec": {
   "display_name": "enigma_xgbuser",
   "language": "python",
   "name": "enigma_xgbuser"
  },
  "language_info": {
   "codemirror_mode": {
    "name": "ipython",
    "version": 3
   },
   "file_extension": ".py",
   "mimetype": "text/x-python",
   "name": "python",
   "nbconvert_exporter": "python",
   "pygments_lexer": "ipython3",
   "version": "3.11.2"
  }
 },
 "nbformat": 4,
 "nbformat_minor": 4
}
