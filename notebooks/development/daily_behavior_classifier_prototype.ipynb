{
 "cells": [
  {
   "cell_type": "code",
   "execution_count": 1,
   "metadata": {},
   "outputs": [],
   "source": [
    "%load_ext autoreload\n",
    "%autoreload 2 "
   ]
  },
  {
   "cell_type": "code",
   "execution_count": 3,
   "metadata": {},
   "outputs": [
    {
     "name": "stderr",
     "output_type": "stream",
     "text": [
      "2023-08-31 14:37:50.018183: I tensorflow/core/util/port.cc:110] oneDNN custom operations are on. You may see slightly different numerical results due to floating-point round-off errors from different computation orders. To turn them off, set the environment variable `TF_ENABLE_ONEDNN_OPTS=0`.\n",
      "2023-08-31 14:37:51.116319: I tensorflow/core/platform/cpu_feature_guard.cc:182] This TensorFlow binary is optimized to use available CPU instructions in performance-critical operations.\n",
      "To enable the following instructions: AVX2 AVX512F AVX512_VNNI FMA, in other operations, rebuild TensorFlow with the appropriate compiler flags.\n",
      "2023-08-31 14:38:29.090406: W tensorflow/compiler/tf2tensorrt/utils/py_utils.cc:38] TF-TRT Warning: Could not find TensorRT\n"
     ]
    }
   ],
   "source": [
    "import pandas as pd\n",
    "import numpy as np\n",
    "import matplotlib.pyplot as plt \n",
    "import seaborn as sns\n",
    "\n",
    "from src.data_processing.pipelines.ClassifierPipe import ClassifierPipe\n",
    "\n",
    "import tensorflow as tf"
   ]
  },
  {
   "cell_type": "code",
   "execution_count": 6,
   "metadata": {},
   "outputs": [
    {
     "name": "stdout",
     "output_type": "stream",
     "text": [
      "Number of GPUs available: 2\n"
     ]
    }
   ],
   "source": [
    "# print gpu available to tensorflow\n",
    "print(f\"Number of GPUs available: {len(tf.config.list_physical_devices('GPU'))}\")"
   ]
  },
  {
   "cell_type": "code",
   "execution_count": null,
   "metadata": {},
   "outputs": [],
   "source": [
    "DATA_PATH = '/projects/p31961/gaby_data/aggregated_data/raw_data/datasets/raw_data_raw_data.parquet.gzip'"
   ]
  },
  {
   "cell_type": "code",
   "execution_count": 4,
   "metadata": {},
   "outputs": [],
   "source": [
    "processor_pipe = (ClassifierPipe(DATA_PATH)\n",
    "             .read_raw_data()\n",
    "             .calculate_max_min_signal()\n",
    "             .calculate_percent_avoid()\n",
    "             .drop_columns([\"event\", \"action\", \"trial\", \"trial_count\", \"num_avoids\", \"max_trial\"])\n",
    "             .split_data(test_size=0.3,\n",
    "                test_dev_size=0.5, \n",
    "                split_group = \"mouse_id\", \n",
    "                stratify_group = \"sex\", \n",
    "                target='ratio_avoid',\n",
    "                save_subject_ids=False)\n",
    "                # path_to_save =os.path.dirname(raw_path)\n",
    "            .transorm_data()\n",
    ")\n"
   ]
  },
  {
   "cell_type": "code",
   "execution_count": null,
   "metadata": {},
   "outputs": [],
   "source": [
    "model = tf.keras.models.Sequential([\n",
    "    tf.keras.layers.Dense(10, activation='sigmoid'),\n",
    "    tf.keras.layers.Dense(10, activation='sigmoid'),\n",
    "    tf.keras.layers.Dense(10, activation='sigmoid'),\n",
    "    tf.keras.layers.Dense(10, activation='sigmoid'),\n",
    "    tf.keras.layers.Dense(1)])\n",
    "optimizer = tf.keras.optimizers.Adam(learning_rate=0.001)\n",
    "model.compile(optimizer=optimizer, loss='mse')\n",
    "model.fit(processor_pipe.X_train, processor_pipe.y_train, validation_data=(processor_pipe.X_dev, processor_pipe.y_dev),epochs=100)\n"
   ]
  },
  {
   "cell_type": "code",
   "execution_count": null,
   "metadata": {},
   "outputs": [],
   "source": [
    "plt.plot(model.history.history['loss'])\n",
    "plt.plot(model.history.history['val_loss'])"
   ]
  },
  {
   "cell_type": "code",
   "execution_count": 9,
   "metadata": {},
   "outputs": [
    {
     "ename": "NameError",
     "evalue": "name 'model' is not defined",
     "output_type": "error",
     "traceback": [
      "\u001b[0;31m---------------------------------------------------------------------------\u001b[0m",
      "\u001b[0;31mNameError\u001b[0m                                 Traceback (most recent call last)",
      "Cell \u001b[0;32mIn[9], line 6\u001b[0m\n\u001b[1;32m      2\u001b[0m cat_cols \u001b[39m=\u001b[39m processor_pipe\u001b[39m.\u001b[39mprocessor\u001b[39m.\u001b[39mnamed_transformers_[\u001b[39m\"\u001b[39m\u001b[39mcat\u001b[39m\u001b[39m\"\u001b[39m]\u001b[39m.\u001b[39mget_feature_names_out()\u001b[39m.\u001b[39mtolist()\n\u001b[1;32m      3\u001b[0m cols \u001b[39m=\u001b[39m num_cols \u001b[39m+\u001b[39m cat_cols\n\u001b[1;32m      5\u001b[0m testing_df \u001b[39m=\u001b[39m (pd\u001b[39m.\u001b[39mDataFrame(processor_pipe\u001b[39m.\u001b[39mX_test, columns\u001b[39m=\u001b[39mcols)\n\u001b[0;32m----> 6\u001b[0m               \u001b[39m.\u001b[39massign(predicted_avoid_ratio \u001b[39m=\u001b[39m model\u001b[39m.\u001b[39mpredict(processor_pipe\u001b[39m.\u001b[39mX_test), \n\u001b[1;32m      7\u001b[0m                 \u001b[39m#       true_avoid_ratio = processor_pipe.y_test.values.reshape(-1,1)\u001b[39;00m\n\u001b[1;32m      8\u001b[0m                       )\n\u001b[1;32m      9\u001b[0m )\n\u001b[1;32m     10\u001b[0m dopamine \u001b[39m=\u001b[39m testing_df\u001b[39m.\u001b[39mquery(\u001b[39m\"\u001b[39m\u001b[39msensor_DA ==1\u001b[39m\u001b[39m\"\u001b[39m)\u001b[39m.\u001b[39mdrop(columns \u001b[39m=\u001b[39m [\u001b[39m\"\u001b[39m\u001b[39msex_M\u001b[39m\u001b[39m\"\u001b[39m])\u001b[39m.\u001b[39mdrop_duplicates(subset \u001b[39m=\u001b[39m [\u001b[39m\"\u001b[39m\u001b[39mmouse_id\u001b[39m\u001b[39m\"\u001b[39m, \u001b[39m\"\u001b[39m\u001b[39mday\u001b[39m\u001b[39m\"\u001b[39m])\n\u001b[1;32m     11\u001b[0m sns\u001b[39m.\u001b[39mscatterplot(data\u001b[39m=\u001b[39mdopamine, x\u001b[39m=\u001b[39m\u001b[39m\"\u001b[39m\u001b[39mday\u001b[39m\u001b[39m\"\u001b[39m, y\u001b[39m=\u001b[39m\u001b[39m\"\u001b[39m\u001b[39mtrue_avoid_ratio\u001b[39m\u001b[39m\"\u001b[39m)\n",
      "\u001b[0;31mNameError\u001b[0m: name 'model' is not defined"
     ]
    }
   ],
   "source": [
    "num_cols = processor_pipe.processor.named_transformers_[\"num\"].get_feature_names_out().tolist()\n",
    "cat_cols = processor_pipe.processor.named_transformers_[\"cat\"].get_feature_names_out().tolist()\n",
    "cols = num_cols + cat_cols\n",
    "\n",
    "testing_df = (pd.DataFrame(processor_pipe.X_test, columns=cols)\n",
    "              .assign(predicted_avoid_ratio = model.predict(processor_pipe.X_test), \n",
    "                #       true_avoid_ratio = processor_pipe.y_test.values.reshape(-1,1)\n",
    "                      )\n",
    ")\n",
    "dopamine = testing_df.query(\"sensor_DA ==1\").drop(columns = [\"sex_M\"]).drop_duplicates(subset = [\"mouse_id\", \"day\"])\n",
    "sns.scatterplot(data=dopamine, x=\"day\", y=\"true_avoid_ratio\")\n",
    "sns.scatterplot(data=dopamine, x=\"day\", y=\"predicted_avoid_ratio\", alpha=0.3)"
   ]
  },
  {
   "cell_type": "code",
   "execution_count": 25,
   "metadata": {},
   "outputs": [
    {
     "name": "stdout",
     "output_type": "stream",
     "text": [
      "[16:41:51] WARNING: ../src/learner.cc:767: \n",
      "Parameters: { \"max_leaf_nodes\" } are not used.\n",
      "\n",
      "[0]\tvalidation_0-rmse:0.19440\tvalidation_0-mae:0.14454\n",
      "[1]\tvalidation_0-rmse:0.18833\tvalidation_0-mae:0.14406\n",
      "[2]\tvalidation_0-rmse:0.18636\tvalidation_0-mae:0.14615\n",
      "[3]\tvalidation_0-rmse:0.18900\tvalidation_0-mae:0.15413\n",
      "[4]\tvalidation_0-rmse:0.19213\tvalidation_0-mae:0.16361\n",
      "[5]\tvalidation_0-rmse:0.19831\tvalidation_0-mae:0.17453\n",
      "[6]\tvalidation_0-rmse:0.20462\tvalidation_0-mae:0.18333\n",
      "[7]\tvalidation_0-rmse:0.21159\tvalidation_0-mae:0.19313\n",
      "[8]\tvalidation_0-rmse:0.21847\tvalidation_0-mae:0.20171\n",
      "[9]\tvalidation_0-rmse:0.22564\tvalidation_0-mae:0.21004\n",
      "[10]\tvalidation_0-rmse:0.23227\tvalidation_0-mae:0.21721\n",
      "[11]\tvalidation_0-rmse:0.23793\tvalidation_0-mae:0.22294\n",
      "[12]\tvalidation_0-rmse:0.24341\tvalidation_0-mae:0.22844\n",
      "[13]\tvalidation_0-rmse:0.24845\tvalidation_0-mae:0.23347\n",
      "[14]\tvalidation_0-rmse:0.25345\tvalidation_0-mae:0.23817\n",
      "[15]\tvalidation_0-rmse:0.25826\tvalidation_0-mae:0.24249\n",
      "[16]\tvalidation_0-rmse:0.26208\tvalidation_0-mae:0.24597\n",
      "[17]\tvalidation_0-rmse:0.26658\tvalidation_0-mae:0.24987\n",
      "[18]\tvalidation_0-rmse:0.27003\tvalidation_0-mae:0.25283\n",
      "[19]\tvalidation_0-rmse:0.27320\tvalidation_0-mae:0.25559\n",
      "[20]\tvalidation_0-rmse:0.27622\tvalidation_0-mae:0.25824\n",
      "[21]\tvalidation_0-rmse:0.27906\tvalidation_0-mae:0.26055\n",
      "[22]\tvalidation_0-rmse:0.28154\tvalidation_0-mae:0.26260\n",
      "[23]\tvalidation_0-rmse:0.28400\tvalidation_0-mae:0.26468\n",
      "[24]\tvalidation_0-rmse:0.28534\tvalidation_0-mae:0.26573\n",
      "[25]\tvalidation_0-rmse:0.28631\tvalidation_0-mae:0.26656\n",
      "[26]\tvalidation_0-rmse:0.28837\tvalidation_0-mae:0.26825\n",
      "[27]\tvalidation_0-rmse:0.28983\tvalidation_0-mae:0.26943\n",
      "[28]\tvalidation_0-rmse:0.29070\tvalidation_0-mae:0.27009\n",
      "[29]\tvalidation_0-rmse:0.29212\tvalidation_0-mae:0.27120\n",
      "[30]\tvalidation_0-rmse:0.29323\tvalidation_0-mae:0.27209\n",
      "[31]\tvalidation_0-rmse:0.29417\tvalidation_0-mae:0.27280\n",
      "[32]\tvalidation_0-rmse:0.29508\tvalidation_0-mae:0.27352\n",
      "[33]\tvalidation_0-rmse:0.29592\tvalidation_0-mae:0.27418\n",
      "[34]\tvalidation_0-rmse:0.29649\tvalidation_0-mae:0.27465\n",
      "[35]\tvalidation_0-rmse:0.29723\tvalidation_0-mae:0.27520\n",
      "[36]\tvalidation_0-rmse:0.29783\tvalidation_0-mae:0.27565\n",
      "[37]\tvalidation_0-rmse:0.29817\tvalidation_0-mae:0.27595\n",
      "[38]\tvalidation_0-rmse:0.29848\tvalidation_0-mae:0.27622\n",
      "[39]\tvalidation_0-rmse:0.29876\tvalidation_0-mae:0.27647\n",
      "[40]\tvalidation_0-rmse:0.29901\tvalidation_0-mae:0.27666\n",
      "[41]\tvalidation_0-rmse:0.29923\tvalidation_0-mae:0.27683\n",
      "[42]\tvalidation_0-rmse:0.29948\tvalidation_0-mae:0.27702\n",
      "[43]\tvalidation_0-rmse:0.29970\tvalidation_0-mae:0.27719\n",
      "[44]\tvalidation_0-rmse:0.30005\tvalidation_0-mae:0.27744\n",
      "[45]\tvalidation_0-rmse:0.30030\tvalidation_0-mae:0.27764\n",
      "[46]\tvalidation_0-rmse:0.30058\tvalidation_0-mae:0.27783\n",
      "[47]\tvalidation_0-rmse:0.30085\tvalidation_0-mae:0.27802\n",
      "[48]\tvalidation_0-rmse:0.30109\tvalidation_0-mae:0.27816\n",
      "[49]\tvalidation_0-rmse:0.30137\tvalidation_0-mae:0.27835\n",
      "[50]\tvalidation_0-rmse:0.30157\tvalidation_0-mae:0.27846\n",
      "[51]\tvalidation_0-rmse:0.30168\tvalidation_0-mae:0.27855\n",
      "[52]\tvalidation_0-rmse:0.30181\tvalidation_0-mae:0.27864\n",
      "[53]\tvalidation_0-rmse:0.30193\tvalidation_0-mae:0.27873\n",
      "[54]\tvalidation_0-rmse:0.30209\tvalidation_0-mae:0.27884\n",
      "[55]\tvalidation_0-rmse:0.30222\tvalidation_0-mae:0.27893\n",
      "[56]\tvalidation_0-rmse:0.30237\tvalidation_0-mae:0.27905\n",
      "[57]\tvalidation_0-rmse:0.30245\tvalidation_0-mae:0.27911\n",
      "[58]\tvalidation_0-rmse:0.30252\tvalidation_0-mae:0.27915\n",
      "[59]\tvalidation_0-rmse:0.30267\tvalidation_0-mae:0.27928\n"
     ]
    }
   ],
   "source": [
    "import xgboost as xgb\n",
    "from sklearn.metrics import mean_squared_error\n",
    "\n",
    "xgb_model = xgb.XGBRegressor(objective='reg:squarederror', \n",
    "                             n_estimators=60, max_depth = 6,\n",
    "                             learning_rate = 0.1,\n",
    "                             max_leaf_nodes = 3, \n",
    "                             eval_metric=['rmse', 'mae'])\n",
    "xgb_model.fit(processor_pipe.X_train, processor_pipe.y_train, eval_set = [(processor_pipe.X_dev, processor_pipe.y_dev)])\n",
    "xg_pred = xgb_model.predict(processor_pipe.X_test)\n",
    "\n"
   ]
  },
  {
   "cell_type": "code",
   "execution_count": 22,
   "metadata": {},
   "outputs": [
    {
     "data": {
      "text/plain": [
       "0.4418642245338793"
      ]
     },
     "execution_count": 22,
     "metadata": {},
     "output_type": "execute_result"
    }
   ],
   "source": [
    "xgb_model.score(processor_pipe.X_test, processor_pipe.y_test)"
   ]
  },
  {
   "cell_type": "code",
   "execution_count": 30,
   "metadata": {},
   "outputs": [
    {
     "data": {
      "text/plain": [
       "dict_keys(['validation_0'])"
      ]
     },
     "execution_count": 30,
     "metadata": {},
     "output_type": "execute_result"
    }
   ],
   "source": [
    "metrics = xgb_model.evals_result()\n",
    "metrics.keys()\n",
    "# plt.plot(rmse)"
   ]
  },
  {
   "cell_type": "code",
   "execution_count": null,
   "metadata": {},
   "outputs": [],
   "source": [
    "testing_df = testing_df.assign(xg_pred_avoid_ratio = xg_pred)\n",
    "dopamine = testing_df.query(\"sensor_DA ==1\").drop(columns = [\"sex_M\"]).drop_duplicates(subset = [\"mouse_id\", \"day\"])\n",
    "sns.scatterplot(data=testing_df, x=\"day\", y=\"true_avoid_ratio\")\n",
    "sns.scatterplot(data=testing_df, x=\"day\", y=\"xg_pred_avoid_ratio\", alpha=0.1)"
   ]
  },
  {
   "cell_type": "code",
   "execution_count": null,
   "metadata": {},
   "outputs": [],
   "source": []
  },
  {
   "cell_type": "code",
   "execution_count": null,
   "metadata": {},
   "outputs": [],
   "source": [
    "from hyperopt import fmin, tpe, hp, STATUS_OK, Trials, space_eval"
   ]
  },
  {
   "cell_type": "code",
   "execution_count": null,
   "metadata": {},
   "outputs": [],
   "source": [
    "space = {\n",
    "    'max_depth': hp.quniform('max_depth', 3, 10, 1),\n",
    "\n",
    "}\n",
    "trials = Trials()\n",
    "def obejective(params):\n",
    "    max_depth = params['max_depth']\n",
    "    # n_estimators = params['n_estimators']\n",
    "    # learning_rate = params['learning_rate']\n",
    "    # min_child_weight = params['min_child_weight']\n",
    "    \n",
    "    xg_model = xgb.XGBRegressor(objective='reg:squarederror', n_estimators=100, max_depth = max_depth, eval_metric=['rmse', 'mae'])\n",
    "    model = xg_model.fit(processor_pipe.X_train, processor_pipe.y_train)\n",
    "    return mean_squared_error(processor_pipe.y_test, model.predict(processor_pipe.X_test))\n",
    "\n",
    "fmin(obejective, space, algo=tpe.suggest, max_evals=100, trials=trials)\n",
    "\n"
   ]
  },
  {
   "cell_type": "code",
   "execution_count": null,
   "metadata": {},
   "outputs": [],
   "source": []
  }
 ],
 "metadata": {
  "kernelspec": {
   "display_name": "enigma_xgbuser",
   "language": "python",
   "name": "enigma_xgbuser"
  },
  "orig_nbformat": 4
 },
 "nbformat": 4,
 "nbformat_minor": 2
}
