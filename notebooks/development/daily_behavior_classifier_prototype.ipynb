{
 "cells": [
  {
   "cell_type": "code",
   "execution_count": 1,
   "metadata": {},
   "outputs": [],
   "source": [
    "%load_ext autoreload\n",
    "%autoreload 2 "
   ]
  },
  {
   "cell_type": "code",
   "execution_count": 3,
   "metadata": {},
   "outputs": [
    {
     "name": "stderr",
     "output_type": "stream",
     "text": [
      "2023-08-29 11:56:16.379612: I tensorflow/core/util/port.cc:110] oneDNN custom operations are on. You may see slightly different numerical results due to floating-point round-off errors from different computation orders. To turn them off, set the environment variable `TF_ENABLE_ONEDNN_OPTS=0`.\n",
      "2023-08-29 11:56:24.368479: I tensorflow/core/platform/cpu_feature_guard.cc:182] This TensorFlow binary is optimized to use available CPU instructions in performance-critical operations.\n",
      "To enable the following instructions: AVX2 AVX512F AVX512_VNNI FMA, in other operations, rebuild TensorFlow with the appropriate compiler flags.\n",
      "2023-08-29 11:56:47.198011: W tensorflow/compiler/tf2tensorrt/utils/py_utils.cc:38] TF-TRT Warning: Could not find TensorRT\n"
     ]
    }
   ],
   "source": [
    "import pandas as pd\n",
    "import numpy as np\n",
    "import matplotlib.pyplot as plt \n",
    "import seaborn as sns\n",
    "\n",
    "from src.data_processing.pipelines.ClassifierPipe import ClassifierPipe\n",
    "\n",
    "import tensorflow as tf"
   ]
  },
  {
   "cell_type": "code",
   "execution_count": 14,
   "metadata": {},
   "outputs": [
    {
     "name": "stdout",
     "output_type": "stream",
     "text": [
      "[PhysicalDevice(name='/physical_device:GPU:0', device_type='GPU'), PhysicalDevice(name='/physical_device:GPU:1', device_type='GPU')]\n"
     ]
    }
   ],
   "source": [
    "# print gpu available to tensorflow\n",
    "print(tf.config.list_physical_devices('GPU'))"
   ]
  },
  {
   "cell_type": "code",
   "execution_count": 4,
   "metadata": {},
   "outputs": [],
   "source": [
    "DATA_PATH = '/projects/p31961/gaby_data/aggregated_data/raw_data/datasets/raw_data_raw_data.parquet.gzip'"
   ]
  },
  {
   "cell_type": "code",
   "execution_count": null,
   "metadata": {},
   "outputs": [],
   "source": [
    "da_query = \"event == 'cue' & sensor=='DA'\"\n",
    "da_data = processor.processed_data.query(da_query)\n",
    "da_data = da_data.assign(max_min_ration = da_data.signal_max / da_data.signal_min,\n",
    "                         signal_range = da_data.signal_max - da_data.signal_min)\n",
    "da_data"
   ]
  },
  {
   "cell_type": "code",
   "execution_count": 7,
   "metadata": {},
   "outputs": [
    {
     "data": {
      "text/plain": [
       "4705     0.035714\n",
       "4706     0.035714\n",
       "4707     0.035714\n",
       "4708     0.035714\n",
       "4709     0.035714\n",
       "           ...   \n",
       "11503    0.928571\n",
       "11504    0.928571\n",
       "11505    0.928571\n",
       "11506    0.928571\n",
       "11507    0.928571\n",
       "Name: ratio_avoid, Length: 2623, dtype: float64"
      ]
     },
     "execution_count": 7,
     "metadata": {},
     "output_type": "execute_result"
    }
   ],
   "source": [
    "processor_pipe = (ClassifierPipe(DATA_PATH)\n",
    "             .read_raw_data()\n",
    "             .calculate_max_min_signal()\n",
    "             .calculate_percent_avoid()\n",
    "             .drop_columns([\"event\", \"action\", \"trial\", \"trial_count\", \"num_avoids\", \"max_trial\"])\n",
    "             .split_data(test_size=0.3,\n",
    "                test_dev_size=0.5, \n",
    "                split_group = \"mouse_id\", \n",
    "                stratify_group = \"sex\", \n",
    "                target='ratio_avoid',\n",
    "                save_subject_ids=False)\n",
    "                # path_to_save =os.path.dirname(raw_path)\n",
    "            .transorm_data()\n",
    ")\n"
   ]
  },
  {
   "cell_type": "code",
   "execution_count": 8,
   "metadata": {},
   "outputs": [
    {
     "name": "stderr",
     "output_type": "stream",
     "text": [
      "2023-08-29 11:58:39.400965: I tensorflow/core/common_runtime/gpu/gpu_device.cc:1635] Created device /job:localhost/replica:0/task:0/device:GPU:0 with 38222 MB memory:  -> device: 0, name: NVIDIA A100-PCIE-40GB, pci bus id: 0000:06:00.0, compute capability: 8.0\n",
      "2023-08-29 11:58:39.402788: I tensorflow/core/common_runtime/gpu/gpu_device.cc:1635] Created device /job:localhost/replica:0/task:0/device:GPU:1 with 38222 MB memory:  -> device: 1, name: NVIDIA A100-PCIE-40GB, pci bus id: 0000:2f:00.0, compute capability: 8.0\n"
     ]
    },
    {
     "name": "stdout",
     "output_type": "stream",
     "text": [
      "Epoch 1/10\n"
     ]
    },
    {
     "name": "stderr",
     "output_type": "stream",
     "text": [
      "2023-08-29 11:58:46.791881: I tensorflow/compiler/xla/stream_executor/cuda/cuda_blas.cc:637] TensorFloat-32 will be used for the matrix multiplication. This will only be logged once.\n",
      "2023-08-29 11:58:47.604239: I tensorflow/compiler/xla/service/service.cc:169] XLA service 0x2b2bbc227360 initialized for platform CUDA (this does not guarantee that XLA will be used). Devices:\n",
      "2023-08-29 11:58:47.604309: I tensorflow/compiler/xla/service/service.cc:177]   StreamExecutor device (0): NVIDIA A100-PCIE-40GB, Compute Capability 8.0\n",
      "2023-08-29 11:58:47.604330: I tensorflow/compiler/xla/service/service.cc:177]   StreamExecutor device (1): NVIDIA A100-PCIE-40GB, Compute Capability 8.0\n",
      "2023-08-29 11:58:47.620188: I tensorflow/compiler/mlir/tensorflow/utils/dump_mlir_util.cc:269] disabling MLIR crash reproducer, set env var `MLIR_CRASH_REPRODUCER_DIRECTORY` to enable.\n",
      "2023-08-29 11:58:48.900871: I tensorflow/compiler/xla/stream_executor/cuda/cuda_dnn.cc:424] Loaded cuDNN version 8600\n",
      "2023-08-29 11:58:49.508714: I ./tensorflow/compiler/jit/device_compiler.h:180] Compiled cluster using XLA!  This line is logged at most once for the lifetime of the process.\n"
     ]
    },
    {
     "name": "stdout",
     "output_type": "stream",
     "text": [
      "124/124 [==============================] - 11s 5ms/step - loss: 0.1375 - val_loss: 0.0626\n",
      "Epoch 2/10\n",
      "124/124 [==============================] - 0s 4ms/step - loss: 0.0415 - val_loss: 0.0548\n",
      "Epoch 3/10\n",
      "124/124 [==============================] - 0s 4ms/step - loss: 0.0300 - val_loss: 0.0389\n",
      "Epoch 4/10\n",
      "124/124 [==============================] - 0s 4ms/step - loss: 0.0228 - val_loss: 0.0359\n",
      "Epoch 5/10\n",
      "124/124 [==============================] - 0s 4ms/step - loss: 0.0186 - val_loss: 0.0371\n",
      "Epoch 6/10\n",
      "124/124 [==============================] - 0s 4ms/step - loss: 0.0164 - val_loss: 0.0367\n",
      "Epoch 7/10\n",
      "124/124 [==============================] - 0s 4ms/step - loss: 0.0150 - val_loss: 0.0307\n",
      "Epoch 8/10\n",
      "124/124 [==============================] - 0s 4ms/step - loss: 0.0134 - val_loss: 0.0363\n",
      "Epoch 9/10\n",
      "124/124 [==============================] - 0s 4ms/step - loss: 0.0131 - val_loss: 0.0360\n",
      "Epoch 10/10\n",
      "124/124 [==============================] - 0s 4ms/step - loss: 0.0117 - val_loss: 0.0397\n"
     ]
    },
    {
     "data": {
      "text/plain": [
       "<keras.callbacks.History at 0x2b1fdc5a7310>"
      ]
     },
     "execution_count": 8,
     "metadata": {},
     "output_type": "execute_result"
    }
   ],
   "source": [
    "model = tf.keras.models.Sequential([\n",
    "    tf.keras.layers.Dense(10, activation='relu'),\n",
    "    tf.keras.layers.Dense(10, activation='relu'),\n",
    "    tf.keras.layers.Dense(10, activation='relu'),\n",
    "    tf.keras.layers.Dense(10, activation='relu'),\n",
    "    tf.keras.layers.Dense(10, activation='relu'),\n",
    "    tf.keras.layers.Dropout(0.2),\n",
    "    tf.keras.layers.Dense(10, activation='relu'),\n",
    "    tf.keras.layers.Dense(10, activation='relu'),\n",
    "    tf.keras.layers.Dense(10, activation='relu'),\n",
    "    tf.keras.layers.Dense(10, activation='relu'),\n",
    "    tf.keras.layers.Dense(10, activation='relu'),\n",
    "    # tf.keras.layers.Dense(256, activation='relu'),\n",
    "    # tf.keras.layers.Dense(128, activation='relu'),\n",
    "    # tf.keras.layers.Dense(64, activation='relu'),\n",
    "    # tf.keras.layers.Dense(32, activation='relu'),\n",
    "    # tf.keras.layers.Dense(16, activation='relu'),\n",
    "    tf.keras.layers.Dense(1)])\n",
    "optimizer = tf.keras.optimizers.Adam(learning_rate=0.001)\n",
    "model.compile(optimizer=optimizer, loss='mse')\n",
    "model.fit(processor_pipe.X_train, processor_pipe.y_train, validation_data=(processor_pipe.X_dev, processor_pipe.y_dev),epochs=10)\n"
   ]
  },
  {
   "cell_type": "code",
   "execution_count": 9,
   "metadata": {},
   "outputs": [
    {
     "data": {
      "text/plain": [
       "[<matplotlib.lines.Line2D at 0x2b1ffee75dd0>]"
      ]
     },
     "execution_count": 9,
     "metadata": {},
     "output_type": "execute_result"
    },
    {
     "data": {
      "image/png": "[encoded data removed]",
      "text/plain": [
       "<Figure size 640x480 with 1 Axes>"
      ]
     },
     "metadata": {},
     "output_type": "display_data"
    }
   ],
   "source": [
    "plt.plot(model.history.history['loss'])\n",
    "plt.plot(model.history.history['val_loss'])"
   ]
  },
  {
   "cell_type": "code",
   "execution_count": 13,
   "metadata": {},
   "outputs": [
    {
     "name": "stdout",
     "output_type": "stream",
     "text": [
      "82/82 [==============================] - 0s 1ms/step\n"
     ]
    }
   ],
   "source": [
    "predicted_signal = model.predict(processor_pipe.X_test)"
   ]
  },
  {
   "cell_type": "code",
   "execution_count": 17,
   "metadata": {},
   "outputs": [
    {
     "data": {
      "text/plain": [
       "<Axes: xlabel='day', ylabel='true_avoid_ratio'>"
      ]
     },
     "execution_count": 17,
     "metadata": {},
     "output_type": "execute_result"
    },
    {
     "data": {
      "image/png": "[encoded data removed]",
      "text/plain": [
       "<Figure size 640x480 with 1 Axes>"
      ]
     },
     "metadata": {},
     "output_type": "display_data"
    }
   ],
   "source": [
    "num_cols = processor_pipe.processor.named_transformers_[\"num\"].get_feature_names_out().tolist()\n",
    "cat_cols = processor_pipe.processor.named_transformers_[\"cat\"].get_feature_names_out().tolist()\n",
    "cols = num_cols + cat_cols\n",
    "\n",
    "testing_df = (pd.DataFrame(processor_pipe.X_test, columns=cols)\n",
    "              .assign(predicted_avoid_ratio = predicted_signal, \n",
    "                      true_avoid_ratio = processor_pipe.y_test.values.reshape(-1,1)\n",
    "                      )\n",
    ")\n",
    "dopamine = testing_df.query(\"sensor_DA ==1\").drop(columns = [\"sex_M\"]).drop_duplicates(subset = [\"mouse_id\", \"day\"])\n",
    "sns.scatterplot(data=dopamine, x=\"day\", y=\"true_avoid_ratio\")\n",
    "sns.scatterplot(data=dopamine, x=\"day\", y=\"predicted_avoid_ratio\", alpha=0.3)"
   ]
  },
  {
   "cell_type": "code",
   "execution_count": 18,
   "metadata": {},
   "outputs": [
    {
     "data": {
      "text/html": [
       "<div>\n",
       "<style scoped>\n",
       "    .dataframe tbody tr th:only-of-type {\n",
       "        vertical-align: middle;\n",
       "    }\n",
       "\n",
       "    .dataframe tbody tr th {\n",
       "        vertical-align: top;\n",
       "    }\n",
       "\n",
       "    .dataframe thead th {\n",
       "        text-align: right;\n",
       "    }\n",
       "</style>\n",
       "<table border=\"1\" class=\"dataframe\">\n",
       "  <thead>\n",
       "    <tr style=\"text-align: right;\">\n",
       "      <th></th>\n",
       "      <th>mouse_id</th>\n",
       "      <th>day</th>\n",
       "      <th>signal_max</th>\n",
       "      <th>signal_min</th>\n",
       "      <th>sensor_D1</th>\n",
       "      <th>sensor_D2</th>\n",
       "      <th>sensor_DA</th>\n",
       "      <th>sex_F</th>\n",
       "      <th>sex_M</th>\n",
       "      <th>predicted_avoid_ratio</th>\n",
       "      <th>true_avoid_ratio</th>\n",
       "    </tr>\n",
       "  </thead>\n",
       "  <tbody>\n",
       "    <tr>\n",
       "      <th>0</th>\n",
       "      <td>-0.230806</td>\n",
       "      <td>-1.435297</td>\n",
       "      <td>-0.315324</td>\n",
       "      <td>0.160673</td>\n",
       "      <td>1.0</td>\n",
       "      <td>0.0</td>\n",
       "      <td>0.0</td>\n",
       "      <td>0.0</td>\n",
       "      <td>1.0</td>\n",
       "      <td>0.232309</td>\n",
       "      <td>0.035714</td>\n",
       "    </tr>\n",
       "    <tr>\n",
       "      <th>1</th>\n",
       "      <td>-0.230806</td>\n",
       "      <td>-1.435297</td>\n",
       "      <td>0.488197</td>\n",
       "      <td>-0.097494</td>\n",
       "      <td>0.0</td>\n",
       "      <td>0.0</td>\n",
       "      <td>1.0</td>\n",
       "      <td>0.0</td>\n",
       "      <td>1.0</td>\n",
       "      <td>0.199767</td>\n",
       "      <td>0.035714</td>\n",
       "    </tr>\n",
       "    <tr>\n",
       "      <th>2</th>\n",
       "      <td>-0.230806</td>\n",
       "      <td>-1.435297</td>\n",
       "      <td>0.143361</td>\n",
       "      <td>-0.221332</td>\n",
       "      <td>1.0</td>\n",
       "      <td>0.0</td>\n",
       "      <td>0.0</td>\n",
       "      <td>0.0</td>\n",
       "      <td>1.0</td>\n",
       "      <td>0.224795</td>\n",
       "      <td>0.035714</td>\n",
       "    </tr>\n",
       "    <tr>\n",
       "      <th>3</th>\n",
       "      <td>-0.230806</td>\n",
       "      <td>-1.435297</td>\n",
       "      <td>3.621173</td>\n",
       "      <td>-0.252239</td>\n",
       "      <td>0.0</td>\n",
       "      <td>0.0</td>\n",
       "      <td>1.0</td>\n",
       "      <td>0.0</td>\n",
       "      <td>1.0</td>\n",
       "      <td>0.373585</td>\n",
       "      <td>0.035714</td>\n",
       "    </tr>\n",
       "    <tr>\n",
       "      <th>4</th>\n",
       "      <td>-0.230806</td>\n",
       "      <td>-1.435297</td>\n",
       "      <td>0.966162</td>\n",
       "      <td>1.119450</td>\n",
       "      <td>1.0</td>\n",
       "      <td>0.0</td>\n",
       "      <td>0.0</td>\n",
       "      <td>0.0</td>\n",
       "      <td>1.0</td>\n",
       "      <td>0.220474</td>\n",
       "      <td>0.035714</td>\n",
       "    </tr>\n",
       "    <tr>\n",
       "      <th>...</th>\n",
       "      <td>...</td>\n",
       "      <td>...</td>\n",
       "      <td>...</td>\n",
       "      <td>...</td>\n",
       "      <td>...</td>\n",
       "      <td>...</td>\n",
       "      <td>...</td>\n",
       "      <td>...</td>\n",
       "      <td>...</td>\n",
       "      <td>...</td>\n",
       "      <td>...</td>\n",
       "    </tr>\n",
       "    <tr>\n",
       "      <th>2618</th>\n",
       "      <td>1.615772</td>\n",
       "      <td>1.525890</td>\n",
       "      <td>0.556783</td>\n",
       "      <td>0.054046</td>\n",
       "      <td>0.0</td>\n",
       "      <td>0.0</td>\n",
       "      <td>1.0</td>\n",
       "      <td>1.0</td>\n",
       "      <td>0.0</td>\n",
       "      <td>0.918386</td>\n",
       "      <td>0.928571</td>\n",
       "    </tr>\n",
       "    <tr>\n",
       "      <th>2619</th>\n",
       "      <td>1.615772</td>\n",
       "      <td>1.525890</td>\n",
       "      <td>-1.296870</td>\n",
       "      <td>-0.477033</td>\n",
       "      <td>0.0</td>\n",
       "      <td>1.0</td>\n",
       "      <td>0.0</td>\n",
       "      <td>1.0</td>\n",
       "      <td>0.0</td>\n",
       "      <td>0.810485</td>\n",
       "      <td>0.928571</td>\n",
       "    </tr>\n",
       "    <tr>\n",
       "      <th>2620</th>\n",
       "      <td>1.615772</td>\n",
       "      <td>1.525890</td>\n",
       "      <td>-0.532616</td>\n",
       "      <td>-2.636332</td>\n",
       "      <td>0.0</td>\n",
       "      <td>0.0</td>\n",
       "      <td>1.0</td>\n",
       "      <td>1.0</td>\n",
       "      <td>0.0</td>\n",
       "      <td>0.960208</td>\n",
       "      <td>0.928571</td>\n",
       "    </tr>\n",
       "    <tr>\n",
       "      <th>2621</th>\n",
       "      <td>1.615772</td>\n",
       "      <td>1.525890</td>\n",
       "      <td>-1.096782</td>\n",
       "      <td>-0.474686</td>\n",
       "      <td>0.0</td>\n",
       "      <td>1.0</td>\n",
       "      <td>0.0</td>\n",
       "      <td>1.0</td>\n",
       "      <td>0.0</td>\n",
       "      <td>0.820321</td>\n",
       "      <td>0.928571</td>\n",
       "    </tr>\n",
       "    <tr>\n",
       "      <th>2622</th>\n",
       "      <td>1.615772</td>\n",
       "      <td>1.525890</td>\n",
       "      <td>0.525936</td>\n",
       "      <td>0.014447</td>\n",
       "      <td>0.0</td>\n",
       "      <td>0.0</td>\n",
       "      <td>1.0</td>\n",
       "      <td>1.0</td>\n",
       "      <td>0.0</td>\n",
       "      <td>0.919531</td>\n",
       "      <td>0.928571</td>\n",
       "    </tr>\n",
       "  </tbody>\n",
       "</table>\n",
       "<p>2623 rows × 11 columns</p>\n",
       "</div>"
      ],
      "text/plain": [
       "      mouse_id       day  signal_max  signal_min  sensor_D1  sensor_D2  \\\n",
       "0    -0.230806 -1.435297   -0.315324    0.160673        1.0        0.0   \n",
       "1    -0.230806 -1.435297    0.488197   -0.097494        0.0        0.0   \n",
       "2    -0.230806 -1.435297    0.143361   -0.221332        1.0        0.0   \n",
       "3    -0.230806 -1.435297    3.621173   -0.252239        0.0        0.0   \n",
       "4    -0.230806 -1.435297    0.966162    1.119450        1.0        0.0   \n",
       "...        ...       ...         ...         ...        ...        ...   \n",
       "2618  1.615772  1.525890    0.556783    0.054046        0.0        0.0   \n",
       "2619  1.615772  1.525890   -1.296870   -0.477033        0.0        1.0   \n",
       "2620  1.615772  1.525890   -0.532616   -2.636332        0.0        0.0   \n",
       "2621  1.615772  1.525890   -1.096782   -0.474686        0.0        1.0   \n",
       "2622  1.615772  1.525890    0.525936    0.014447        0.0        0.0   \n",
       "\n",
       "      sensor_DA  sex_F  sex_M  predicted_avoid_ratio  true_avoid_ratio  \n",
       "0           0.0    0.0    1.0               0.232309          0.035714  \n",
       "1           1.0    0.0    1.0               0.199767          0.035714  \n",
       "2           0.0    0.0    1.0               0.224795          0.035714  \n",
       "3           1.0    0.0    1.0               0.373585          0.035714  \n",
       "4           0.0    0.0    1.0               0.220474          0.035714  \n",
       "...         ...    ...    ...                    ...               ...  \n",
       "2618        1.0    1.0    0.0               0.918386          0.928571  \n",
       "2619        0.0    1.0    0.0               0.810485          0.928571  \n",
       "2620        1.0    1.0    0.0               0.960208          0.928571  \n",
       "2621        0.0    1.0    0.0               0.820321          0.928571  \n",
       "2622        1.0    1.0    0.0               0.919531          0.928571  \n",
       "\n",
       "[2623 rows x 11 columns]"
      ]
     },
     "execution_count": 18,
     "metadata": {},
     "output_type": "execute_result"
    }
   ],
   "source": [
    "testing_df"
   ]
  },
  {
   "cell_type": "code",
   "execution_count": 59,
   "metadata": {},
   "outputs": [
    {
     "name": "stdout",
     "output_type": "stream",
     "text": [
      "[0]\tvalidation_0-rmse:0.19440\n",
      "[1]\tvalidation_0-rmse:0.18833\n",
      "[2]\tvalidation_0-rmse:0.18636\n",
      "[3]\tvalidation_0-rmse:0.18900\n",
      "[4]\tvalidation_0-rmse:0.19213\n",
      "[5]\tvalidation_0-rmse:0.19831\n",
      "[6]\tvalidation_0-rmse:0.20462\n",
      "[7]\tvalidation_0-rmse:0.21159\n",
      "[8]\tvalidation_0-rmse:0.21847\n",
      "[9]\tvalidation_0-rmse:0.22564\n",
      "[10]\tvalidation_0-rmse:0.23227\n",
      "[11]\tvalidation_0-rmse:0.23793\n",
      "[12]\tvalidation_0-rmse:0.24341\n",
      "[13]\tvalidation_0-rmse:0.24845\n",
      "[14]\tvalidation_0-rmse:0.25345\n",
      "[15]\tvalidation_0-rmse:0.25826\n",
      "[16]\tvalidation_0-rmse:0.26208\n",
      "[17]\tvalidation_0-rmse:0.26658\n",
      "[18]\tvalidation_0-rmse:0.27003\n",
      "[19]\tvalidation_0-rmse:0.27320\n",
      "[20]\tvalidation_0-rmse:0.27622\n",
      "[21]\tvalidation_0-rmse:0.27906\n",
      "[22]\tvalidation_0-rmse:0.28154\n",
      "[23]\tvalidation_0-rmse:0.28400\n",
      "[24]\tvalidation_0-rmse:0.28534\n",
      "[25]\tvalidation_0-rmse:0.28631\n",
      "[26]\tvalidation_0-rmse:0.28837\n",
      "[27]\tvalidation_0-rmse:0.28983\n",
      "[28]\tvalidation_0-rmse:0.29070\n",
      "[29]\tvalidation_0-rmse:0.29212\n",
      "[30]\tvalidation_0-rmse:0.29323\n",
      "[31]\tvalidation_0-rmse:0.29417\n",
      "[32]\tvalidation_0-rmse:0.29508\n",
      "[33]\tvalidation_0-rmse:0.29592\n",
      "[34]\tvalidation_0-rmse:0.29649\n",
      "[35]\tvalidation_0-rmse:0.29723\n",
      "[36]\tvalidation_0-rmse:0.29783\n",
      "[37]\tvalidation_0-rmse:0.29817\n",
      "[38]\tvalidation_0-rmse:0.29848\n",
      "[39]\tvalidation_0-rmse:0.29876\n",
      "[40]\tvalidation_0-rmse:0.29901\n",
      "[41]\tvalidation_0-rmse:0.29923\n",
      "[42]\tvalidation_0-rmse:0.29948\n",
      "[43]\tvalidation_0-rmse:0.29970\n",
      "[44]\tvalidation_0-rmse:0.30005\n",
      "[45]\tvalidation_0-rmse:0.30030\n",
      "[46]\tvalidation_0-rmse:0.30058\n",
      "[47]\tvalidation_0-rmse:0.30085\n",
      "[48]\tvalidation_0-rmse:0.30109\n",
      "[49]\tvalidation_0-rmse:0.30137\n",
      "[50]\tvalidation_0-rmse:0.30157\n",
      "[51]\tvalidation_0-rmse:0.30168\n",
      "[52]\tvalidation_0-rmse:0.30181\n",
      "[53]\tvalidation_0-rmse:0.30193\n",
      "[54]\tvalidation_0-rmse:0.30209\n",
      "[55]\tvalidation_0-rmse:0.30222\n",
      "[56]\tvalidation_0-rmse:0.30237\n",
      "[57]\tvalidation_0-rmse:0.30245\n",
      "[58]\tvalidation_0-rmse:0.30252\n",
      "[59]\tvalidation_0-rmse:0.30267\n",
      "[60]\tvalidation_0-rmse:0.30277\n",
      "[61]\tvalidation_0-rmse:0.30283\n",
      "[62]\tvalidation_0-rmse:0.30290\n",
      "[63]\tvalidation_0-rmse:0.30292\n",
      "[64]\tvalidation_0-rmse:0.30291\n",
      "[65]\tvalidation_0-rmse:0.30296\n",
      "[66]\tvalidation_0-rmse:0.30299\n",
      "[67]\tvalidation_0-rmse:0.30300\n",
      "[68]\tvalidation_0-rmse:0.30303\n",
      "[69]\tvalidation_0-rmse:0.30308\n",
      "[70]\tvalidation_0-rmse:0.30308\n",
      "[71]\tvalidation_0-rmse:0.30307\n",
      "[72]\tvalidation_0-rmse:0.30308\n",
      "[73]\tvalidation_0-rmse:0.30309\n",
      "[74]\tvalidation_0-rmse:0.30309\n",
      "[75]\tvalidation_0-rmse:0.30310\n",
      "[76]\tvalidation_0-rmse:0.30311\n",
      "[77]\tvalidation_0-rmse:0.30309\n",
      "[78]\tvalidation_0-rmse:0.30308\n",
      "[79]\tvalidation_0-rmse:0.30308\n",
      "[80]\tvalidation_0-rmse:0.30310\n",
      "[81]\tvalidation_0-rmse:0.30312\n",
      "[82]\tvalidation_0-rmse:0.30315\n",
      "[83]\tvalidation_0-rmse:0.30314\n",
      "[84]\tvalidation_0-rmse:0.30314\n",
      "[85]\tvalidation_0-rmse:0.30315\n",
      "[86]\tvalidation_0-rmse:0.30315\n",
      "[87]\tvalidation_0-rmse:0.30313\n",
      "[88]\tvalidation_0-rmse:0.30310\n",
      "[89]\tvalidation_0-rmse:0.30311\n",
      "[90]\tvalidation_0-rmse:0.30309\n",
      "[91]\tvalidation_0-rmse:0.30309\n",
      "[92]\tvalidation_0-rmse:0.30310\n",
      "[93]\tvalidation_0-rmse:0.30309\n",
      "[94]\tvalidation_0-rmse:0.30308\n",
      "[95]\tvalidation_0-rmse:0.30308\n",
      "[96]\tvalidation_0-rmse:0.30308\n",
      "[97]\tvalidation_0-rmse:0.30308\n",
      "[98]\tvalidation_0-rmse:0.30306\n",
      "[99]\tvalidation_0-rmse:0.30305\n"
     ]
    }
   ],
   "source": [
    "import xgboost as xgb\n",
    "from sklearn.metrics import mean_squared_error\n",
    "\n",
    "xgb_model = xgb.XGBRegressor(objective='reg:squarederror', n_estimators=100, max_depth = 6, learning_rate = 0.1, eval_metric='rmse')\n",
    "xgb_model.fit(processor_pipe.X_train, processor_pipe.y_train, eval_set = [(processor_pipe.X_dev, processor_pipe.y_dev)])\n",
    "xg_pred = xgb_model.predict(processor_pipe.X_test)\n",
    "# xgb.score(processor_pipe.X_test, processor_pipe.y_test)\n"
   ]
  },
  {
   "cell_type": "code",
   "execution_count": 44,
   "metadata": {},
   "outputs": [
    {
     "data": {
      "text/plain": [
       "<Axes: xlabel='day', ylabel='true_avoid_ratio'>"
      ]
     },
     "execution_count": 44,
     "metadata": {},
     "output_type": "execute_result"
    },
    {
     "data": {
      "image/png": "[encoded data removed]",
      "text/plain": [
       "<Figure size 640x480 with 1 Axes>"
      ]
     },
     "metadata": {},
     "output_type": "display_data"
    }
   ],
   "source": [
    "testing_df = testing_df.assign(xg_pred_avoid_ratio = xg_pred)\n",
    "dopamine = testing_df.query(\"sensor_DA ==1\").drop(columns = [\"sex_M\"]).drop_duplicates(subset = [\"mouse_id\", \"day\"])\n",
    "sns.scatterplot(data=testing_df, x=\"day\", y=\"true_avoid_ratio\")\n",
    "\n",
    "\n",
    "sns.scatterplot(data=testing_df, x=\"day\", y=\"xg_pred_avoid_ratio\", alpha=0.3)"
   ]
  },
  {
   "cell_type": "code",
   "execution_count": 52,
   "metadata": {},
   "outputs": [],
   "source": [
    "from hyperopt import fmin, tpe, hp, STATUS_OK, Trials, space_eval"
   ]
  },
  {
   "cell_type": "code",
   "execution_count": 61,
   "metadata": {},
   "outputs": [
    {
     "name": "stdout",
     "output_type": "stream",
     "text": [
      "  0%|                                                                                                             | 0/100 [00:00<?, ?trial/s, best loss=?]"
     ]
    },
    {
     "name": "stderr",
     "output_type": "stream",
     "text": [
      "job exception: 'float' object cannot be interpreted as an integer\n",
      "\n"
     ]
    },
    {
     "name": "stdout",
     "output_type": "stream",
     "text": [
      "  0%|                                                                                                             | 0/100 [00:00<?, ?trial/s, best loss=?]\n"
     ]
    },
    {
     "ename": "TypeError",
     "evalue": "'float' object cannot be interpreted as an integer",
     "output_type": "error",
     "traceback": [
      "\u001b[0;31m---------------------------------------------------------------------------\u001b[0m",
      "\u001b[0;31mTypeError\u001b[0m                                 Traceback (most recent call last)",
      "Cell \u001b[0;32mIn[61], line 19\u001b[0m\n\u001b[1;32m     16\u001b[0m     model \u001b[39m=\u001b[39m xg_model\u001b[39m.\u001b[39mfit(processor_pipe\u001b[39m.\u001b[39mX_train, processor_pipe\u001b[39m.\u001b[39my_train)\n\u001b[1;32m     17\u001b[0m     \u001b[39mreturn\u001b[39;00m mean_squared_error(processor_pipe\u001b[39m.\u001b[39my_test, model\u001b[39m.\u001b[39mpredict(processor_pipe\u001b[39m.\u001b[39mX_test))\n\u001b[0;32m---> 19\u001b[0m fmin(obejective, space, algo\u001b[39m=\u001b[39mtpe\u001b[39m.\u001b[39msuggest, max_evals\u001b[39m=\u001b[39m\u001b[39m100\u001b[39m, trials\u001b[39m=\u001b[39mtrials)\n",
      "File \u001b[0;32m~/.conda/envs/enigma_xgb/lib/python3.11/site-packages/hyperopt/fmin.py:540\u001b[0m, in \u001b[0;36mfmin\u001b[0;34m(fn, space, algo, max_evals, timeout, loss_threshold, trials, rstate, allow_trials_fmin, pass_expr_memo_ctrl, catch_eval_exceptions, verbose, return_argmin, points_to_evaluate, max_queue_len, show_progressbar, early_stop_fn, trials_save_file)\u001b[0m\n\u001b[1;32m    537\u001b[0m     fn \u001b[39m=\u001b[39m __objective_fmin_wrapper(fn)\n\u001b[1;32m    539\u001b[0m \u001b[39mif\u001b[39;00m allow_trials_fmin \u001b[39mand\u001b[39;00m \u001b[39mhasattr\u001b[39m(trials, \u001b[39m\"\u001b[39m\u001b[39mfmin\u001b[39m\u001b[39m\"\u001b[39m):\n\u001b[0;32m--> 540\u001b[0m     \u001b[39mreturn\u001b[39;00m trials\u001b[39m.\u001b[39mfmin(\n\u001b[1;32m    541\u001b[0m         fn,\n\u001b[1;32m    542\u001b[0m         space,\n\u001b[1;32m    543\u001b[0m         algo\u001b[39m=\u001b[39malgo,\n\u001b[1;32m    544\u001b[0m         max_evals\u001b[39m=\u001b[39mmax_evals,\n\u001b[1;32m    545\u001b[0m         timeout\u001b[39m=\u001b[39mtimeout,\n\u001b[1;32m    546\u001b[0m         loss_threshold\u001b[39m=\u001b[39mloss_threshold,\n\u001b[1;32m    547\u001b[0m         max_queue_len\u001b[39m=\u001b[39mmax_queue_len,\n\u001b[1;32m    548\u001b[0m         rstate\u001b[39m=\u001b[39mrstate,\n\u001b[1;32m    549\u001b[0m         pass_expr_memo_ctrl\u001b[39m=\u001b[39mpass_expr_memo_ctrl,\n\u001b[1;32m    550\u001b[0m         verbose\u001b[39m=\u001b[39mverbose,\n\u001b[1;32m    551\u001b[0m         catch_eval_exceptions\u001b[39m=\u001b[39mcatch_eval_exceptions,\n\u001b[1;32m    552\u001b[0m         return_argmin\u001b[39m=\u001b[39mreturn_argmin,\n\u001b[1;32m    553\u001b[0m         show_progressbar\u001b[39m=\u001b[39mshow_progressbar,\n\u001b[1;32m    554\u001b[0m         early_stop_fn\u001b[39m=\u001b[39mearly_stop_fn,\n\u001b[1;32m    555\u001b[0m         trials_save_file\u001b[39m=\u001b[39mtrials_save_file,\n\u001b[1;32m    556\u001b[0m     )\n\u001b[1;32m    558\u001b[0m \u001b[39mif\u001b[39;00m trials \u001b[39mis\u001b[39;00m \u001b[39mNone\u001b[39;00m:\n\u001b[1;32m    559\u001b[0m     \u001b[39mif\u001b[39;00m os\u001b[39m.\u001b[39mpath\u001b[39m.\u001b[39mexists(trials_save_file):\n",
      "File \u001b[0;32m~/.conda/envs/enigma_xgb/lib/python3.11/site-packages/hyperopt/base.py:671\u001b[0m, in \u001b[0;36mTrials.fmin\u001b[0;34m(self, fn, space, algo, max_evals, timeout, loss_threshold, max_queue_len, rstate, verbose, pass_expr_memo_ctrl, catch_eval_exceptions, return_argmin, show_progressbar, early_stop_fn, trials_save_file)\u001b[0m\n\u001b[1;32m    666\u001b[0m \u001b[39m# -- Stop-gap implementation!\u001b[39;00m\n\u001b[1;32m    667\u001b[0m \u001b[39m#    fmin should have been a Trials method in the first place\u001b[39;00m\n\u001b[1;32m    668\u001b[0m \u001b[39m#    but for now it's still sitting in another file.\u001b[39;00m\n\u001b[1;32m    669\u001b[0m \u001b[39mfrom\u001b[39;00m \u001b[39m.\u001b[39;00m\u001b[39mfmin\u001b[39;00m \u001b[39mimport\u001b[39;00m fmin\n\u001b[0;32m--> 671\u001b[0m \u001b[39mreturn\u001b[39;00m fmin(\n\u001b[1;32m    672\u001b[0m     fn,\n\u001b[1;32m    673\u001b[0m     space,\n\u001b[1;32m    674\u001b[0m     algo\u001b[39m=\u001b[39malgo,\n\u001b[1;32m    675\u001b[0m     max_evals\u001b[39m=\u001b[39mmax_evals,\n\u001b[1;32m    676\u001b[0m     timeout\u001b[39m=\u001b[39mtimeout,\n\u001b[1;32m    677\u001b[0m     loss_threshold\u001b[39m=\u001b[39mloss_threshold,\n\u001b[1;32m    678\u001b[0m     trials\u001b[39m=\u001b[39m\u001b[39mself\u001b[39m,\n\u001b[1;32m    679\u001b[0m     rstate\u001b[39m=\u001b[39mrstate,\n\u001b[1;32m    680\u001b[0m     verbose\u001b[39m=\u001b[39mverbose,\n\u001b[1;32m    681\u001b[0m     max_queue_len\u001b[39m=\u001b[39mmax_queue_len,\n\u001b[1;32m    682\u001b[0m     allow_trials_fmin\u001b[39m=\u001b[39m\u001b[39mFalse\u001b[39;00m,  \u001b[39m# -- prevent recursion\u001b[39;00m\n\u001b[1;32m    683\u001b[0m     pass_expr_memo_ctrl\u001b[39m=\u001b[39mpass_expr_memo_ctrl,\n\u001b[1;32m    684\u001b[0m     catch_eval_exceptions\u001b[39m=\u001b[39mcatch_eval_exceptions,\n\u001b[1;32m    685\u001b[0m     return_argmin\u001b[39m=\u001b[39mreturn_argmin,\n\u001b[1;32m    686\u001b[0m     show_progressbar\u001b[39m=\u001b[39mshow_progressbar,\n\u001b[1;32m    687\u001b[0m     early_stop_fn\u001b[39m=\u001b[39mearly_stop_fn,\n\u001b[1;32m    688\u001b[0m     trials_save_file\u001b[39m=\u001b[39mtrials_save_file,\n\u001b[1;32m    689\u001b[0m )\n",
      "File \u001b[0;32m~/.conda/envs/enigma_xgb/lib/python3.11/site-packages/hyperopt/fmin.py:586\u001b[0m, in \u001b[0;36mfmin\u001b[0;34m(fn, space, algo, max_evals, timeout, loss_threshold, trials, rstate, allow_trials_fmin, pass_expr_memo_ctrl, catch_eval_exceptions, verbose, return_argmin, points_to_evaluate, max_queue_len, show_progressbar, early_stop_fn, trials_save_file)\u001b[0m\n\u001b[1;32m    583\u001b[0m rval\u001b[39m.\u001b[39mcatch_eval_exceptions \u001b[39m=\u001b[39m catch_eval_exceptions\n\u001b[1;32m    585\u001b[0m \u001b[39m# next line is where the fmin is actually executed\u001b[39;00m\n\u001b[0;32m--> 586\u001b[0m rval\u001b[39m.\u001b[39mexhaust()\n\u001b[1;32m    588\u001b[0m \u001b[39mif\u001b[39;00m return_argmin:\n\u001b[1;32m    589\u001b[0m     \u001b[39mif\u001b[39;00m \u001b[39mlen\u001b[39m(trials\u001b[39m.\u001b[39mtrials) \u001b[39m==\u001b[39m \u001b[39m0\u001b[39m:\n",
      "File \u001b[0;32m~/.conda/envs/enigma_xgb/lib/python3.11/site-packages/hyperopt/fmin.py:364\u001b[0m, in \u001b[0;36mFMinIter.exhaust\u001b[0;34m(self)\u001b[0m\n\u001b[1;32m    362\u001b[0m \u001b[39mdef\u001b[39;00m \u001b[39mexhaust\u001b[39m(\u001b[39mself\u001b[39m):\n\u001b[1;32m    363\u001b[0m     n_done \u001b[39m=\u001b[39m \u001b[39mlen\u001b[39m(\u001b[39mself\u001b[39m\u001b[39m.\u001b[39mtrials)\n\u001b[0;32m--> 364\u001b[0m     \u001b[39mself\u001b[39m\u001b[39m.\u001b[39mrun(\u001b[39mself\u001b[39m\u001b[39m.\u001b[39mmax_evals \u001b[39m-\u001b[39m n_done, block_until_done\u001b[39m=\u001b[39m\u001b[39mself\u001b[39m\u001b[39m.\u001b[39masynchronous)\n\u001b[1;32m    365\u001b[0m     \u001b[39mself\u001b[39m\u001b[39m.\u001b[39mtrials\u001b[39m.\u001b[39mrefresh()\n\u001b[1;32m    366\u001b[0m     \u001b[39mreturn\u001b[39;00m \u001b[39mself\u001b[39m\n",
      "File \u001b[0;32m~/.conda/envs/enigma_xgb/lib/python3.11/site-packages/hyperopt/fmin.py:300\u001b[0m, in \u001b[0;36mFMinIter.run\u001b[0;34m(self, N, block_until_done)\u001b[0m\n\u001b[1;32m    297\u001b[0m     time\u001b[39m.\u001b[39msleep(\u001b[39mself\u001b[39m\u001b[39m.\u001b[39mpoll_interval_secs)\n\u001b[1;32m    298\u001b[0m \u001b[39melse\u001b[39;00m:\n\u001b[1;32m    299\u001b[0m     \u001b[39m# -- loop over trials and do the jobs directly\u001b[39;00m\n\u001b[0;32m--> 300\u001b[0m     \u001b[39mself\u001b[39m\u001b[39m.\u001b[39mserial_evaluate()\n\u001b[1;32m    302\u001b[0m \u001b[39mself\u001b[39m\u001b[39m.\u001b[39mtrials\u001b[39m.\u001b[39mrefresh()\n\u001b[1;32m    303\u001b[0m \u001b[39mif\u001b[39;00m \u001b[39mself\u001b[39m\u001b[39m.\u001b[39mtrials_save_file \u001b[39m!=\u001b[39m \u001b[39m\"\u001b[39m\u001b[39m\"\u001b[39m:\n",
      "File \u001b[0;32m~/.conda/envs/enigma_xgb/lib/python3.11/site-packages/hyperopt/fmin.py:178\u001b[0m, in \u001b[0;36mFMinIter.serial_evaluate\u001b[0;34m(self, N)\u001b[0m\n\u001b[1;32m    176\u001b[0m ctrl \u001b[39m=\u001b[39m base\u001b[39m.\u001b[39mCtrl(\u001b[39mself\u001b[39m\u001b[39m.\u001b[39mtrials, current_trial\u001b[39m=\u001b[39mtrial)\n\u001b[1;32m    177\u001b[0m \u001b[39mtry\u001b[39;00m:\n\u001b[0;32m--> 178\u001b[0m     result \u001b[39m=\u001b[39m \u001b[39mself\u001b[39m\u001b[39m.\u001b[39mdomain\u001b[39m.\u001b[39mevaluate(spec, ctrl)\n\u001b[1;32m    179\u001b[0m \u001b[39mexcept\u001b[39;00m \u001b[39mException\u001b[39;00m \u001b[39mas\u001b[39;00m e:\n\u001b[1;32m    180\u001b[0m     logger\u001b[39m.\u001b[39merror(\u001b[39m\"\u001b[39m\u001b[39mjob exception: \u001b[39m\u001b[39m%s\u001b[39;00m\u001b[39m\"\u001b[39m \u001b[39m%\u001b[39m \u001b[39mstr\u001b[39m(e))\n",
      "File \u001b[0;32m~/.conda/envs/enigma_xgb/lib/python3.11/site-packages/hyperopt/base.py:892\u001b[0m, in \u001b[0;36mDomain.evaluate\u001b[0;34m(self, config, ctrl, attach_attachments)\u001b[0m\n\u001b[1;32m    883\u001b[0m \u001b[39melse\u001b[39;00m:\n\u001b[1;32m    884\u001b[0m     \u001b[39m# -- the \"work\" of evaluating `config` can be written\u001b[39;00m\n\u001b[1;32m    885\u001b[0m     \u001b[39m#    either into the pyll part (self.expr)\u001b[39;00m\n\u001b[1;32m    886\u001b[0m     \u001b[39m#    or the normal Python part (self.fn)\u001b[39;00m\n\u001b[1;32m    887\u001b[0m     pyll_rval \u001b[39m=\u001b[39m pyll\u001b[39m.\u001b[39mrec_eval(\n\u001b[1;32m    888\u001b[0m         \u001b[39mself\u001b[39m\u001b[39m.\u001b[39mexpr,\n\u001b[1;32m    889\u001b[0m         memo\u001b[39m=\u001b[39mmemo,\n\u001b[1;32m    890\u001b[0m         print_node_on_error\u001b[39m=\u001b[39m\u001b[39mself\u001b[39m\u001b[39m.\u001b[39mrec_eval_print_node_on_error,\n\u001b[1;32m    891\u001b[0m     )\n\u001b[0;32m--> 892\u001b[0m     rval \u001b[39m=\u001b[39m \u001b[39mself\u001b[39m\u001b[39m.\u001b[39mfn(pyll_rval)\n\u001b[1;32m    894\u001b[0m \u001b[39mif\u001b[39;00m \u001b[39misinstance\u001b[39m(rval, (\u001b[39mfloat\u001b[39m, \u001b[39mint\u001b[39m, np\u001b[39m.\u001b[39mnumber)):\n\u001b[1;32m    895\u001b[0m     dict_rval \u001b[39m=\u001b[39m {\u001b[39m\"\u001b[39m\u001b[39mloss\u001b[39m\u001b[39m\"\u001b[39m: \u001b[39mfloat\u001b[39m(rval), \u001b[39m\"\u001b[39m\u001b[39mstatus\u001b[39m\u001b[39m\"\u001b[39m: STATUS_OK}\n",
      "Cell \u001b[0;32mIn[61], line 16\u001b[0m, in \u001b[0;36mobejective\u001b[0;34m(params)\u001b[0m\n\u001b[1;32m     13\u001b[0m min_child_weight \u001b[39m=\u001b[39m params[\u001b[39m'\u001b[39m\u001b[39mmin_child_weight\u001b[39m\u001b[39m'\u001b[39m]\n\u001b[1;32m     15\u001b[0m xg_model \u001b[39m=\u001b[39m xgb\u001b[39m.\u001b[39mXGBRegressor(objective\u001b[39m=\u001b[39m\u001b[39m'\u001b[39m\u001b[39mreg:squarederror\u001b[39m\u001b[39m'\u001b[39m, n_estimators\u001b[39m=\u001b[39mn_estimators, max_depth \u001b[39m=\u001b[39m max_depth, learning_rate \u001b[39m=\u001b[39m learning_rate, min_child_weight \u001b[39m=\u001b[39m min_child_weight, eval_metric\u001b[39m=\u001b[39m\u001b[39m'\u001b[39m\u001b[39mmse\u001b[39m\u001b[39m'\u001b[39m)\n\u001b[0;32m---> 16\u001b[0m model \u001b[39m=\u001b[39m xg_model\u001b[39m.\u001b[39mfit(processor_pipe\u001b[39m.\u001b[39mX_train, processor_pipe\u001b[39m.\u001b[39my_train)\n\u001b[1;32m     17\u001b[0m \u001b[39mreturn\u001b[39;00m mean_squared_error(processor_pipe\u001b[39m.\u001b[39my_test, model\u001b[39m.\u001b[39mpredict(processor_pipe\u001b[39m.\u001b[39mX_test))\n",
      "File \u001b[0;32m~/.conda/envs/enigma_xgb/lib/python3.11/site-packages/xgboost/core.py:620\u001b[0m, in \u001b[0;36mrequire_keyword_args.<locals>.throw_if.<locals>.inner_f\u001b[0;34m(*args, **kwargs)\u001b[0m\n\u001b[1;32m    618\u001b[0m \u001b[39mfor\u001b[39;00m k, arg \u001b[39min\u001b[39;00m \u001b[39mzip\u001b[39m(sig\u001b[39m.\u001b[39mparameters, args):\n\u001b[1;32m    619\u001b[0m     kwargs[k] \u001b[39m=\u001b[39m arg\n\u001b[0;32m--> 620\u001b[0m \u001b[39mreturn\u001b[39;00m func(\u001b[39m*\u001b[39m\u001b[39m*\u001b[39mkwargs)\n",
      "File \u001b[0;32m~/.conda/envs/enigma_xgb/lib/python3.11/site-packages/xgboost/sklearn.py:1025\u001b[0m, in \u001b[0;36mXGBModel.fit\u001b[0;34m(self, X, y, sample_weight, base_margin, eval_set, eval_metric, early_stopping_rounds, verbose, xgb_model, sample_weight_eval_set, base_margin_eval_set, feature_weights, callbacks)\u001b[0m\n\u001b[1;32m   1014\u001b[0m     obj \u001b[39m=\u001b[39m \u001b[39mNone\u001b[39;00m\n\u001b[1;32m   1016\u001b[0m (\n\u001b[1;32m   1017\u001b[0m     model,\n\u001b[1;32m   1018\u001b[0m     metric,\n\u001b[0;32m   (...)\u001b[0m\n\u001b[1;32m   1023\u001b[0m     xgb_model, eval_metric, params, early_stopping_rounds, callbacks\n\u001b[1;32m   1024\u001b[0m )\n\u001b[0;32m-> 1025\u001b[0m \u001b[39mself\u001b[39m\u001b[39m.\u001b[39m_Booster \u001b[39m=\u001b[39m train(\n\u001b[1;32m   1026\u001b[0m     params,\n\u001b[1;32m   1027\u001b[0m     train_dmatrix,\n\u001b[1;32m   1028\u001b[0m     \u001b[39mself\u001b[39m\u001b[39m.\u001b[39mget_num_boosting_rounds(),\n\u001b[1;32m   1029\u001b[0m     evals\u001b[39m=\u001b[39mevals,\n\u001b[1;32m   1030\u001b[0m     early_stopping_rounds\u001b[39m=\u001b[39mearly_stopping_rounds,\n\u001b[1;32m   1031\u001b[0m     evals_result\u001b[39m=\u001b[39mevals_result,\n\u001b[1;32m   1032\u001b[0m     obj\u001b[39m=\u001b[39mobj,\n\u001b[1;32m   1033\u001b[0m     custom_metric\u001b[39m=\u001b[39mmetric,\n\u001b[1;32m   1034\u001b[0m     verbose_eval\u001b[39m=\u001b[39mverbose,\n\u001b[1;32m   1035\u001b[0m     xgb_model\u001b[39m=\u001b[39mmodel,\n\u001b[1;32m   1036\u001b[0m     callbacks\u001b[39m=\u001b[39mcallbacks,\n\u001b[1;32m   1037\u001b[0m )\n\u001b[1;32m   1039\u001b[0m \u001b[39mself\u001b[39m\u001b[39m.\u001b[39m_set_evaluation_result(evals_result)\n\u001b[1;32m   1040\u001b[0m \u001b[39mreturn\u001b[39;00m \u001b[39mself\u001b[39m\n",
      "File \u001b[0;32m~/.conda/envs/enigma_xgb/lib/python3.11/site-packages/xgboost/core.py:620\u001b[0m, in \u001b[0;36mrequire_keyword_args.<locals>.throw_if.<locals>.inner_f\u001b[0;34m(*args, **kwargs)\u001b[0m\n\u001b[1;32m    618\u001b[0m \u001b[39mfor\u001b[39;00m k, arg \u001b[39min\u001b[39;00m \u001b[39mzip\u001b[39m(sig\u001b[39m.\u001b[39mparameters, args):\n\u001b[1;32m    619\u001b[0m     kwargs[k] \u001b[39m=\u001b[39m arg\n\u001b[0;32m--> 620\u001b[0m \u001b[39mreturn\u001b[39;00m func(\u001b[39m*\u001b[39m\u001b[39m*\u001b[39mkwargs)\n",
      "File \u001b[0;32m~/.conda/envs/enigma_xgb/lib/python3.11/site-packages/xgboost/training.py:182\u001b[0m, in \u001b[0;36mtrain\u001b[0;34m(params, dtrain, num_boost_round, evals, obj, feval, maximize, early_stopping_rounds, evals_result, verbose_eval, xgb_model, callbacks, custom_metric)\u001b[0m\n\u001b[1;32m    171\u001b[0m cb_container \u001b[39m=\u001b[39m CallbackContainer(\n\u001b[1;32m    172\u001b[0m     callbacks,\n\u001b[1;32m    173\u001b[0m     metric\u001b[39m=\u001b[39mmetric_fn,\n\u001b[0;32m   (...)\u001b[0m\n\u001b[1;32m    177\u001b[0m     output_margin\u001b[39m=\u001b[39m\u001b[39mcallable\u001b[39m(obj) \u001b[39mor\u001b[39;00m metric_fn \u001b[39mis\u001b[39;00m feval,\n\u001b[1;32m    178\u001b[0m )\n\u001b[1;32m    180\u001b[0m bst \u001b[39m=\u001b[39m cb_container\u001b[39m.\u001b[39mbefore_training(bst)\n\u001b[0;32m--> 182\u001b[0m \u001b[39mfor\u001b[39;00m i \u001b[39min\u001b[39;00m \u001b[39mrange\u001b[39m(start_iteration, num_boost_round):\n\u001b[1;32m    183\u001b[0m     \u001b[39mif\u001b[39;00m cb_container\u001b[39m.\u001b[39mbefore_iteration(bst, i, dtrain, evals):\n\u001b[1;32m    184\u001b[0m         \u001b[39mbreak\u001b[39;00m\n",
      "\u001b[0;31mTypeError\u001b[0m: 'float' object cannot be interpreted as an integer"
     ]
    }
   ],
   "source": [
    "space = {\n",
    "    'max_depth': hp.quniform('max_depth', 3, 10, 1),\n",
    "    'n_estimators': hp.quniform('n_estimators', 100, 1000, 10),\n",
    "    'learning_rate': hp.uniform('learning_rate', 0.001, 0.1),\n",
    "    'min_child_weight': hp.quniform('min_child_weight', 1, 10, 1),\n",
    "    \n",
    "}\n",
    "trials = Trials()\n",
    "def obejective(params):\n",
    "    max_depth = params['max_depth']\n",
    "    n_estimators = params['n_estimators']\n",
    "    learning_rate = params['learning_rate']\n",
    "    min_child_weight = params['min_child_weight']\n",
    "    \n",
    "    xg_model = xgb.XGBRegressor(objective='reg:squarederror', n_estimators=n_estimators, max_depth = max_depth, learning_rate = learning_rate, min_child_weight = min_child_weight, eval_metric='mse')\n",
    "    model = xg_model.fit(processor_pipe.X_train, processor_pipe.y_train)\n",
    "    return mean_squared_error(processor_pipe.y_test, model.predict(processor_pipe.X_test))\n",
    "\n",
    "fmin(obejective, space, algo=tpe.suggest, max_evals=100, trials=trials)\n",
    "\n"
   ]
  },
  {
   "cell_type": "code",
   "execution_count": null,
   "metadata": {},
   "outputs": [],
   "source": []
  }
 ],
 "metadata": {
  "kernelspec": {
   "display_name": "enigma_xgbuser",
   "language": "python",
   "name": "enigma_xgbuser"
  },
  "language_info": {
   "codemirror_mode": {
    "name": "ipython",
    "version": 3
   },
   "file_extension": ".py",
   "mimetype": "text/x-python",
   "name": "python",
   "nbconvert_exporter": "python",
   "pygments_lexer": "ipython3",
   "version": "3.11.2"
  },
  "orig_nbformat": 4
 },
 "nbformat": 4,
 "nbformat_minor": 2
}
