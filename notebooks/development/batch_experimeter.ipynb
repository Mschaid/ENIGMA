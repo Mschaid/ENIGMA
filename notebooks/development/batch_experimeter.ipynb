{
 "cells": [
  {
   "cell_type": "code",
   "execution_count": 76,
   "metadata": {},
   "outputs": [
    {
     "name": "stdout",
     "output_type": "stream",
     "text": [
      "The autoreload extension is already loaded. To reload it, use:\n",
      "  %reload_ext autoreload\n"
     ]
    }
   ],
   "source": [
    "%load_ext autoreload\n",
    "%autoreload 2"
   ]
  },
  {
   "cell_type": "code",
   "execution_count": 78,
   "metadata": {},
   "outputs": [
    {
     "name": "stdout",
     "output_type": "stream",
     "text": [
      "main\n",
      "/projects/p31961/ENIGMA/results/experiments/endpoint_experiments\n",
      "{'with_day': ['mouse_id']}\n",
      "['normalzied']\n",
      "running batch experiment\n"
     ]
    },
    {
     "name": "stderr",
     "output_type": "stream",
     "text": [
      "The default value of numeric_only in DataFrameGroupBy.mean is deprecated. In a future version, numeric_only will default to False. Either specify numeric_only or select only columns which should be valid for the function.\n"
     ]
    },
    {
     "ename": "ValueError",
     "evalue": "All arrays must be of the same length",
     "output_type": "error",
     "traceback": [
      "\u001b[0;31m---------------------------------------------------------------------------\u001b[0m",
      "\u001b[0;31mValueError\u001b[0m                                Traceback (most recent call last)",
      "Cell \u001b[0;32mIn[78], line 52\u001b[0m\n\u001b[1;32m     49\u001b[0m     \u001b[38;5;28mprint\u001b[39m(\u001b[38;5;124m\"\u001b[39m\u001b[38;5;124mdone\u001b[39m\u001b[38;5;124m\"\u001b[39m)\n\u001b[1;32m     51\u001b[0m \u001b[38;5;28;01mif\u001b[39;00m \u001b[38;5;18m__name__\u001b[39m \u001b[38;5;241m==\u001b[39m \u001b[38;5;124m'\u001b[39m\u001b[38;5;124m__main__\u001b[39m\u001b[38;5;124m'\u001b[39m:\n\u001b[0;32m---> 52\u001b[0m     main()\n",
      "Cell \u001b[0;32mIn[78], line 48\u001b[0m, in \u001b[0;36mmain\u001b[0;34m()\u001b[0m\n\u001b[1;32m     45\u001b[0m \u001b[38;5;28mprint\u001b[39m(experiment_data\u001b[38;5;241m.\u001b[39mfilter_keys)\n\u001b[1;32m     47\u001b[0m \u001b[38;5;28mprint\u001b[39m(\u001b[38;5;124m\"\u001b[39m\u001b[38;5;124mrunning batch experiment\u001b[39m\u001b[38;5;124m\"\u001b[39m)\n\u001b[0;32m---> 48\u001b[0m batch_experiment(experiment_data, experimenter\u001b[38;5;241m=\u001b[39mXGBNormRegBatchExperimenter)\n\u001b[1;32m     49\u001b[0m \u001b[38;5;28mprint\u001b[39m(\u001b[38;5;124m\"\u001b[39m\u001b[38;5;124mdone\u001b[39m\u001b[38;5;124m\"\u001b[39m)\n",
      "Cell \u001b[0;32mIn[78], line 25\u001b[0m, in \u001b[0;36mbatch_experiment\u001b[0;34m(exp_data, experimenter)\u001b[0m\n\u001b[1;32m     20\u001b[0m experiment_directories \u001b[38;5;241m=\u001b[39m batch_experimenter\u001b[38;5;241m.\u001b[39mget_experiment_directories(\n\u001b[1;32m     21\u001b[0m     exp_data\u001b[38;5;241m.\u001b[39mfilter_keys)\n\u001b[1;32m     23\u001b[0m experimenters \u001b[38;5;241m=\u001b[39m batch_experimenter\u001b[38;5;241m.\u001b[39mset_up_experimenters(\n\u001b[1;32m     24\u001b[0m     experiment_directories)\n\u001b[0;32m---> 25\u001b[0m batch_experimenter\u001b[38;5;241m.\u001b[39mrun_experiments(experimenters, exp_data\u001b[38;5;241m.\u001b[39mnumber_of_runs)\n",
      "File \u001b[0;32m/projects/p31961/ENIGMA/src/data_processing/model_analyzers/experimenters/batch_experimenters.py:85\u001b[0m, in \u001b[0;36mXGBNormRegBatchExperimenter.run_experiments\u001b[0;34m(self, experimenters, number_of_runs)\u001b[0m\n\u001b[1;32m     83\u001b[0m \u001b[38;5;28;01mfor\u001b[39;00m exp \u001b[38;5;129;01min\u001b[39;00m experimenters:\n\u001b[1;32m     84\u001b[0m     \u001b[38;5;28;01mfor\u001b[39;00m condition_name, cls_to_drop \u001b[38;5;129;01min\u001b[39;00m \u001b[38;5;28mself\u001b[39m\u001b[38;5;241m.\u001b[39mexperiment_conditions\u001b[38;5;241m.\u001b[39mexperiment_conditions\u001b[38;5;241m.\u001b[39mitems():\n\u001b[0;32m---> 85\u001b[0m         exp\u001b[38;5;241m.\u001b[39mrun_experiment(number_of_runs, cls_to_drop)\n\u001b[1;32m     86\u001b[0m         exp\u001b[38;5;241m.\u001b[39msave_results(condition_name)\n",
      "File \u001b[0;32m/projects/p31961/ENIGMA/src/data_processing/model_analyzers/experimenters/experimenters.py:127\u001b[0m, in \u001b[0;36mXGBNormRegExperimenter.run_experiment\u001b[0;34m(self, number_of_runs, cls_to_drop)\u001b[0m\n\u001b[1;32m    124\u001b[0m analyzer\u001b[38;5;241m.\u001b[39mfit_best_xgb_model()\n\u001b[1;32m    125\u001b[0m run_metric_results \u001b[38;5;241m=\u001b[39m pd\u001b[38;5;241m.\u001b[39mDataFrame(analyzer\u001b[38;5;241m.\u001b[39mmetrics_results)\n\u001b[1;32m    126\u001b[0m run_feature_importance \u001b[38;5;241m=\u001b[39m pd\u001b[38;5;241m.\u001b[39mDataFrame(\n\u001b[0;32m--> 127\u001b[0m     analyzer\u001b[38;5;241m.\u001b[39mfeature_importance_df)\n\u001b[1;32m    129\u001b[0m \u001b[38;5;66;03m# keep track of metrics dataframes\u001b[39;00m\n\u001b[1;32m    130\u001b[0m metric_runs\u001b[38;5;241m.\u001b[39mappend(run_metric_results)\n",
      "File \u001b[0;32m/projects/p31961/ENIGMA/src/data_processing/model_analyzers/xgb_analyzers/XGBRegAnalyzer.py:373\u001b[0m, in \u001b[0;36mXGBNormRegAnalyzer.feature_importance_df\u001b[0;34m(self)\u001b[0m\n\u001b[1;32m    370\u001b[0m \u001b[38;5;129m@property\u001b[39m\n\u001b[1;32m    371\u001b[0m \u001b[38;5;28;01mdef\u001b[39;00m \u001b[38;5;21mfeature_importance_df\u001b[39m(\u001b[38;5;28mself\u001b[39m) \u001b[38;5;241m-\u001b[39m\u001b[38;5;241m>\u001b[39m pd\u001b[38;5;241m.\u001b[39mDataFrame:\n\u001b[1;32m    372\u001b[0m     \u001b[38;5;28;01mif\u001b[39;00m \u001b[38;5;28mself\u001b[39m\u001b[38;5;241m.\u001b[39m_feature_importance_df \u001b[38;5;129;01mis\u001b[39;00m \u001b[38;5;28;01mNone\u001b[39;00m:\n\u001b[0;32m--> 373\u001b[0m         \u001b[38;5;28mself\u001b[39m\u001b[38;5;241m.\u001b[39m_feature_importance_df \u001b[38;5;241m=\u001b[39m (pd\u001b[38;5;241m.\u001b[39mDataFrame({\u001b[38;5;124m'\u001b[39m\u001b[38;5;124mfeature\u001b[39m\u001b[38;5;124m'\u001b[39m: \u001b[38;5;28mself\u001b[39m\u001b[38;5;241m.\u001b[39m_feature_names,\n\u001b[1;32m    374\u001b[0m                                                     \u001b[38;5;124m'\u001b[39m\u001b[38;5;124mimportance\u001b[39m\u001b[38;5;124m'\u001b[39m: \u001b[38;5;28mself\u001b[39m\u001b[38;5;241m.\u001b[39mbest_xgb_model\u001b[38;5;241m.\u001b[39mfeature_importances_})\n\u001b[1;32m    375\u001b[0m                                        \u001b[38;5;241m.\u001b[39msort_values(\u001b[38;5;124m'\u001b[39m\u001b[38;5;124mimportance\u001b[39m\u001b[38;5;124m'\u001b[39m, ascending\u001b[38;5;241m=\u001b[39m\u001b[38;5;28;01mTrue\u001b[39;00m)\n\u001b[1;32m    376\u001b[0m                                        )\n\u001b[1;32m    377\u001b[0m     \u001b[38;5;28;01mreturn\u001b[39;00m \u001b[38;5;28mself\u001b[39m\u001b[38;5;241m.\u001b[39m_feature_importance_df\n",
      "File \u001b[0;32m~/.conda/envs/enigma_xgb/lib/python3.11/site-packages/pandas/core/frame.py:664\u001b[0m, in \u001b[0;36mDataFrame.__init__\u001b[0;34m(self, data, index, columns, dtype, copy)\u001b[0m\n\u001b[1;32m    658\u001b[0m     mgr \u001b[38;5;241m=\u001b[39m \u001b[38;5;28mself\u001b[39m\u001b[38;5;241m.\u001b[39m_init_mgr(\n\u001b[1;32m    659\u001b[0m         data, axes\u001b[38;5;241m=\u001b[39m{\u001b[38;5;124m\"\u001b[39m\u001b[38;5;124mindex\u001b[39m\u001b[38;5;124m\"\u001b[39m: index, \u001b[38;5;124m\"\u001b[39m\u001b[38;5;124mcolumns\u001b[39m\u001b[38;5;124m\"\u001b[39m: columns}, dtype\u001b[38;5;241m=\u001b[39mdtype, copy\u001b[38;5;241m=\u001b[39mcopy\n\u001b[1;32m    660\u001b[0m     )\n\u001b[1;32m    662\u001b[0m \u001b[38;5;28;01melif\u001b[39;00m \u001b[38;5;28misinstance\u001b[39m(data, \u001b[38;5;28mdict\u001b[39m):\n\u001b[1;32m    663\u001b[0m     \u001b[38;5;66;03m# GH#38939 de facto copy defaults to False only in non-dict cases\u001b[39;00m\n\u001b[0;32m--> 664\u001b[0m     mgr \u001b[38;5;241m=\u001b[39m dict_to_mgr(data, index, columns, dtype\u001b[38;5;241m=\u001b[39mdtype, copy\u001b[38;5;241m=\u001b[39mcopy, typ\u001b[38;5;241m=\u001b[39mmanager)\n\u001b[1;32m    665\u001b[0m \u001b[38;5;28;01melif\u001b[39;00m \u001b[38;5;28misinstance\u001b[39m(data, ma\u001b[38;5;241m.\u001b[39mMaskedArray):\n\u001b[1;32m    666\u001b[0m     \u001b[38;5;28;01mimport\u001b[39;00m \u001b[38;5;21;01mnumpy\u001b[39;00m\u001b[38;5;21;01m.\u001b[39;00m\u001b[38;5;21;01mma\u001b[39;00m\u001b[38;5;21;01m.\u001b[39;00m\u001b[38;5;21;01mmrecords\u001b[39;00m \u001b[38;5;28;01mas\u001b[39;00m \u001b[38;5;21;01mmrecords\u001b[39;00m\n",
      "File \u001b[0;32m~/.conda/envs/enigma_xgb/lib/python3.11/site-packages/pandas/core/internals/construction.py:493\u001b[0m, in \u001b[0;36mdict_to_mgr\u001b[0;34m(data, index, columns, dtype, typ, copy)\u001b[0m\n\u001b[1;32m    489\u001b[0m     \u001b[38;5;28;01melse\u001b[39;00m:\n\u001b[1;32m    490\u001b[0m         \u001b[38;5;66;03m# dtype check to exclude e.g. range objects, scalars\u001b[39;00m\n\u001b[1;32m    491\u001b[0m         arrays \u001b[38;5;241m=\u001b[39m [x\u001b[38;5;241m.\u001b[39mcopy() \u001b[38;5;28;01mif\u001b[39;00m \u001b[38;5;28mhasattr\u001b[39m(x, \u001b[38;5;124m\"\u001b[39m\u001b[38;5;124mdtype\u001b[39m\u001b[38;5;124m\"\u001b[39m) \u001b[38;5;28;01melse\u001b[39;00m x \u001b[38;5;28;01mfor\u001b[39;00m x \u001b[38;5;129;01min\u001b[39;00m arrays]\n\u001b[0;32m--> 493\u001b[0m \u001b[38;5;28;01mreturn\u001b[39;00m arrays_to_mgr(arrays, columns, index, dtype\u001b[38;5;241m=\u001b[39mdtype, typ\u001b[38;5;241m=\u001b[39mtyp, consolidate\u001b[38;5;241m=\u001b[39mcopy)\n",
      "File \u001b[0;32m~/.conda/envs/enigma_xgb/lib/python3.11/site-packages/pandas/core/internals/construction.py:118\u001b[0m, in \u001b[0;36marrays_to_mgr\u001b[0;34m(arrays, columns, index, dtype, verify_integrity, typ, consolidate)\u001b[0m\n\u001b[1;32m    115\u001b[0m \u001b[38;5;28;01mif\u001b[39;00m verify_integrity:\n\u001b[1;32m    116\u001b[0m     \u001b[38;5;66;03m# figure out the index, if necessary\u001b[39;00m\n\u001b[1;32m    117\u001b[0m     \u001b[38;5;28;01mif\u001b[39;00m index \u001b[38;5;129;01mis\u001b[39;00m \u001b[38;5;28;01mNone\u001b[39;00m:\n\u001b[0;32m--> 118\u001b[0m         index \u001b[38;5;241m=\u001b[39m _extract_index(arrays)\n\u001b[1;32m    119\u001b[0m     \u001b[38;5;28;01melse\u001b[39;00m:\n\u001b[1;32m    120\u001b[0m         index \u001b[38;5;241m=\u001b[39m ensure_index(index)\n",
      "File \u001b[0;32m~/.conda/envs/enigma_xgb/lib/python3.11/site-packages/pandas/core/internals/construction.py:666\u001b[0m, in \u001b[0;36m_extract_index\u001b[0;34m(data)\u001b[0m\n\u001b[1;32m    664\u001b[0m lengths \u001b[38;5;241m=\u001b[39m \u001b[38;5;28mlist\u001b[39m(\u001b[38;5;28mset\u001b[39m(raw_lengths))\n\u001b[1;32m    665\u001b[0m \u001b[38;5;28;01mif\u001b[39;00m \u001b[38;5;28mlen\u001b[39m(lengths) \u001b[38;5;241m>\u001b[39m \u001b[38;5;241m1\u001b[39m:\n\u001b[0;32m--> 666\u001b[0m     \u001b[38;5;28;01mraise\u001b[39;00m \u001b[38;5;167;01mValueError\u001b[39;00m(\u001b[38;5;124m\"\u001b[39m\u001b[38;5;124mAll arrays must be of the same length\u001b[39m\u001b[38;5;124m\"\u001b[39m)\n\u001b[1;32m    668\u001b[0m \u001b[38;5;28;01mif\u001b[39;00m have_dicts:\n\u001b[1;32m    669\u001b[0m     \u001b[38;5;28;01mraise\u001b[39;00m \u001b[38;5;167;01mValueError\u001b[39;00m(\n\u001b[1;32m    670\u001b[0m         \u001b[38;5;124m\"\u001b[39m\u001b[38;5;124mMixing dicts with non-Series may lead to ambiguous ordering.\u001b[39m\u001b[38;5;124m\"\u001b[39m\n\u001b[1;32m    671\u001b[0m     )\n",
      "\u001b[0;31mValueError\u001b[0m: All arrays must be of the same length"
     ]
    }
   ],
   "source": [
    "import multiprocessing as mp\n",
    "from src.data_processing.model_analyzers.experimenters.batch_experimenters import BatchExperimeter, XGBRegBatchExperimenter, XGBNormRegBatchExperimenter\n",
    "from dataclasses import dataclass\n",
    "from typing import Dict, List\n",
    "import logging\n",
    "\n",
    "\n",
    "@dataclass\n",
    "class BatchExperimentMetaData:\n",
    "    main_path: str\n",
    "    number_of_runs: int\n",
    "    experiment_conditions: Dict[str, List[str]]\n",
    "    filter_keys: List[str] = None\n",
    "\n",
    "\n",
    "def batch_experiment(exp_data: BatchExperimentMetaData, experimenter: BatchExperimeter = XGBRegBatchExperimenter):\n",
    "    batch_experimenter = experimenter(\n",
    "        exp_data.main_path, exp_data)\n",
    "\n",
    "    experiment_directories = batch_experimenter.get_experiment_directories(\n",
    "        exp_data.filter_keys)\n",
    "\n",
    "    experimenters = batch_experimenter.set_up_experimenters(\n",
    "        experiment_directories)\n",
    "    batch_experimenter.run_experiments(experimenters, exp_data.number_of_runs)\n",
    "\n",
    "\n",
    "def main():\n",
    "    print(\"main\")\n",
    "    NUMBER_OF_RUNS = 30\n",
    "    MAIN_PATH = \"/projects/p31961/ENIGMA/results/experiments/endpoint_experiments\"\n",
    "    EXPERIMENMT_CONDITIONS = {\n",
    "        \"with_day\": [\"mouse_id\"]\n",
    "        # \"without_day\": [\"mouse_id\", \"day\"]\n",
    "    }\n",
    "    FILTER_KEYS = ['normalzied']\n",
    "\n",
    "    experiment_data = BatchExperimentMetaData(\n",
    "        main_path=MAIN_PATH,\n",
    "        number_of_runs=NUMBER_OF_RUNS,\n",
    "        experiment_conditions=EXPERIMENMT_CONDITIONS,\n",
    "        filter_keys=FILTER_KEYS)\n",
    "    print(experiment_data.main_path)\n",
    "    print(experiment_data.experiment_conditions)\n",
    "    print(experiment_data.filter_keys)\n",
    "    \n",
    "    print(\"running batch experiment\")\n",
    "    batch_experiment(experiment_data, experimenter=XGBNormRegBatchExperimenter)\n",
    "    print(\"done\")\n",
    "\n",
    "if __name__ == '__main__':\n",
    "    main()\n"
   ]
  },
  {
   "cell_type": "code",
   "execution_count": null,
   "metadata": {},
   "outputs": [],
   "source": []
  }
 ],
 "metadata": {
  "kernelspec": {
   "display_name": "enigma_xgbuser",
   "language": "python",
   "name": "enigma_xgbuser"
  },
  "language_info": {
   "codemirror_mode": {
    "name": "ipython",
    "version": 3
   },
   "file_extension": ".py",
   "mimetype": "text/x-python",
   "name": "python",
   "nbconvert_exporter": "python",
   "pygments_lexer": "ipython3",
   "version": "3.11.2"
  }
 },
 "nbformat": 4,
 "nbformat_minor": 4
}
