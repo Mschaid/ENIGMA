{
 "cells": [
  {
   "cell_type": "code",
   "execution_count": 199,
   "metadata": {},
   "outputs": [
    {
     "name": "stdout",
     "output_type": "stream",
     "text": [
      "The autoreload extension is already loaded. To reload it, use:\n",
      "  %reload_ext autoreload\n"
     ]
    }
   ],
   "source": [
    "%load_ext autoreload\n",
    "%autoreload 2"
   ]
  },
  {
   "cell_type": "code",
   "execution_count": 201,
   "metadata": {},
   "outputs": [
    {
     "name": "stdout",
     "output_type": "stream",
     "text": [
      "main\n",
      "/projects/p31961/ENIGMA/results/experiments/endpoint_experiments\n",
      "{'with_day': ['mouse_id'], 'without_day': ['mouse_id', 'day']}\n",
      "['normalzied']\n",
      "running batch experiment\n",
      "norm experimenter\n",
      "number of runs: 30\n",
      "cols to drop: ['mouse_id']\n",
      "metric runs []\n",
      "feature importance runs: []\n"
     ]
    },
    {
     "name": "stderr",
     "output_type": "stream",
     "text": [
      "The default value of numeric_only in DataFrameGroupBy.mean is deprecated. In a future version, numeric_only will default to False. Either specify numeric_only or select only columns which should be valid for the function.\n",
      "pivot_table dropped a column because it failed to aggregate. This behavior is deprecated and will raise in a future version of pandas. Select only the columns that can be aggregated.\n",
      "The default value of numeric_only in DataFrameGroupBy.mean is deprecated. In a future version, numeric_only will default to False. Either specify numeric_only or select only columns which should be valid for the function.\n",
      "pivot_table dropped a column because it failed to aggregate. This behavior is deprecated and will raise in a future version of pandas. Select only the columns that can be aggregated.\n",
      "The default value of numeric_only in DataFrameGroupBy.mean is deprecated. In a future version, numeric_only will default to False. Either specify numeric_only or select only columns which should be valid for the function.\n",
      "pivot_table dropped a column because it failed to aggregate. This behavior is deprecated and will raise in a future version of pandas. Select only the columns that can be aggregated.\n",
      "The default value of numeric_only in DataFrameGroupBy.mean is deprecated. In a future version, numeric_only will default to False. Either specify numeric_only or select only columns which should be valid for the function.\n",
      "pivot_table dropped a column because it failed to aggregate. This behavior is deprecated and will raise in a future version of pandas. Select only the columns that can be aggregated.\n"
     ]
    },
    {
     "ename": "KeyboardInterrupt",
     "evalue": "",
     "output_type": "error",
     "traceback": [
      "\u001b[0;31m---------------------------------------------------------------------------\u001b[0m",
      "\u001b[0;31mKeyboardInterrupt\u001b[0m                         Traceback (most recent call last)",
      "Cell \u001b[0;32mIn[201], line 52\u001b[0m\n\u001b[1;32m     49\u001b[0m     \u001b[38;5;28mprint\u001b[39m(\u001b[38;5;124m\"\u001b[39m\u001b[38;5;124mdone\u001b[39m\u001b[38;5;124m\"\u001b[39m)\n\u001b[1;32m     51\u001b[0m \u001b[38;5;28;01mif\u001b[39;00m \u001b[38;5;18m__name__\u001b[39m \u001b[38;5;241m==\u001b[39m \u001b[38;5;124m'\u001b[39m\u001b[38;5;124m__main__\u001b[39m\u001b[38;5;124m'\u001b[39m:\n\u001b[0;32m---> 52\u001b[0m     main()\n",
      "Cell \u001b[0;32mIn[201], line 48\u001b[0m, in \u001b[0;36mmain\u001b[0;34m()\u001b[0m\n\u001b[1;32m     45\u001b[0m \u001b[38;5;28mprint\u001b[39m(experiment_data\u001b[38;5;241m.\u001b[39mfilter_keys)\n\u001b[1;32m     47\u001b[0m \u001b[38;5;28mprint\u001b[39m(\u001b[38;5;124m\"\u001b[39m\u001b[38;5;124mrunning batch experiment\u001b[39m\u001b[38;5;124m\"\u001b[39m)\n\u001b[0;32m---> 48\u001b[0m batch_experiment(experiment_data, experimenter\u001b[38;5;241m=\u001b[39mXGBNormRegBatchExperimenter)\n\u001b[1;32m     49\u001b[0m \u001b[38;5;28mprint\u001b[39m(\u001b[38;5;124m\"\u001b[39m\u001b[38;5;124mdone\u001b[39m\u001b[38;5;124m\"\u001b[39m)\n",
      "Cell \u001b[0;32mIn[201], line 25\u001b[0m, in \u001b[0;36mbatch_experiment\u001b[0;34m(exp_data, experimenter)\u001b[0m\n\u001b[1;32m     20\u001b[0m experiment_directories \u001b[38;5;241m=\u001b[39m batch_experimenter\u001b[38;5;241m.\u001b[39mget_experiment_directories(\n\u001b[1;32m     21\u001b[0m     exp_data\u001b[38;5;241m.\u001b[39mfilter_keys)\n\u001b[1;32m     23\u001b[0m experimenters \u001b[38;5;241m=\u001b[39m batch_experimenter\u001b[38;5;241m.\u001b[39mset_up_experimenters(\n\u001b[1;32m     24\u001b[0m     experiment_directories)\n\u001b[0;32m---> 25\u001b[0m batch_experimenter\u001b[38;5;241m.\u001b[39mrun_experiments(experimenters, exp_data\u001b[38;5;241m.\u001b[39mnumber_of_runs)\n",
      "File \u001b[0;32m/projects/p31961/ENIGMA/src/data_processing/model_analyzers/experimenters/batch_experimenters.py:85\u001b[0m, in \u001b[0;36mXGBNormRegBatchExperimenter.run_experiments\u001b[0;34m(self, experimenters, number_of_runs)\u001b[0m\n\u001b[1;32m     83\u001b[0m \u001b[38;5;28;01mfor\u001b[39;00m exp \u001b[38;5;129;01min\u001b[39;00m experimenters:\n\u001b[1;32m     84\u001b[0m     \u001b[38;5;28;01mfor\u001b[39;00m condition_name, cls_to_drop \u001b[38;5;129;01min\u001b[39;00m \u001b[38;5;28mself\u001b[39m\u001b[38;5;241m.\u001b[39mexperiment_conditions\u001b[38;5;241m.\u001b[39mexperiment_conditions\u001b[38;5;241m.\u001b[39mitems():\n\u001b[0;32m---> 85\u001b[0m         exp\u001b[38;5;241m.\u001b[39mrun_experiment(number_of_runs, cls_to_drop)\n\u001b[1;32m     86\u001b[0m         exp\u001b[38;5;241m.\u001b[39msave_results(condition_name)\n",
      "File \u001b[0;32m/projects/p31961/ENIGMA/src/data_processing/model_analyzers/experimenters/experimenters.py:127\u001b[0m, in \u001b[0;36mXGBNormRegExperimenter.run_experiment\u001b[0;34m(self, number_of_runs, cls_to_drop)\u001b[0m\n\u001b[1;32m    125\u001b[0m \u001b[38;5;28;01mfor\u001b[39;00m _ \u001b[38;5;129;01min\u001b[39;00m \u001b[38;5;28mrange\u001b[39m(number_of_runs):\n\u001b[1;32m    126\u001b[0m     analyzer \u001b[38;5;241m=\u001b[39m \u001b[38;5;28mself\u001b[39m\u001b[38;5;241m.\u001b[39manalyzer(\u001b[38;5;28mself\u001b[39m\u001b[38;5;241m.\u001b[39mresults)\n\u001b[0;32m--> 127\u001b[0m     analyzer\u001b[38;5;241m.\u001b[39mcreate_pipeline(cls_to_drop\u001b[38;5;241m=\u001b[39mcls_to_drop)\n\u001b[1;32m    128\u001b[0m     \u001b[38;5;28mself\u001b[39m\u001b[38;5;241m.\u001b[39manalyzer_runs\u001b[38;5;241m.\u001b[39mappend(analyzer)  \u001b[38;5;66;03m# keep track of runs\u001b[39;00m\n\u001b[1;32m    129\u001b[0m     analyzer\u001b[38;5;241m.\u001b[39mfit_best_xgb_model()\n",
      "File \u001b[0;32m/projects/p31961/ENIGMA/src/data_processing/model_analyzers/xgb_analyzers/XGBRegAnalyzer.py:287\u001b[0m, in \u001b[0;36mXGBNormRegAnalyzer.create_pipeline\u001b[0;34m(self, cls_to_drop, random_seed, shuffle)\u001b[0m\n\u001b[1;32m    280\u001b[0m df_processor \u001b[38;5;241m=\u001b[39m partial(final_experiment_preprocessor,\n\u001b[1;32m    281\u001b[0m                        baseline_normalizer\u001b[38;5;241m=\u001b[39mnormalize_by_baseline,\n\u001b[1;32m    282\u001b[0m                        cols_to_drop\u001b[38;5;241m=\u001b[39mcls_to_drop,\n\u001b[1;32m    283\u001b[0m                        query\u001b[38;5;241m=\u001b[39m\u001b[38;5;28mself\u001b[39m\u001b[38;5;241m.\u001b[39mresults\u001b[38;5;241m.\u001b[39mexperiment_query)\n\u001b[1;32m    284\u001b[0m \u001b[38;5;28;01mif\u001b[39;00m \u001b[38;5;129;01mnot\u001b[39;00m \u001b[38;5;28mself\u001b[39m\u001b[38;5;241m.\u001b[39m_pipeline:\n\u001b[1;32m    285\u001b[0m     \u001b[38;5;28mself\u001b[39m\u001b[38;5;241m.\u001b[39m_pipeline \u001b[38;5;241m=\u001b[39m (ClassifierPipe(\u001b[38;5;28mself\u001b[39m\u001b[38;5;241m.\u001b[39mresults\u001b[38;5;241m.\u001b[39mdata_path)\n\u001b[1;32m    286\u001b[0m                       \u001b[38;5;241m.\u001b[39mread_raw_data()\n\u001b[0;32m--> 287\u001b[0m                       \u001b[38;5;241m.\u001b[39mpandas_pipe(df_processor)\n\u001b[1;32m    288\u001b[0m                       \u001b[38;5;241m.\u001b[39msplit_by_ratio(target\u001b[38;5;241m=\u001b[39m\u001b[38;5;124m'\u001b[39m\u001b[38;5;124mratio_avoid\u001b[39m\u001b[38;5;124m'\u001b[39m, random_seed\u001b[38;5;241m=\u001b[39mrandom_seed, shuffle\u001b[38;5;241m=\u001b[39mshuffle)\n\u001b[1;32m    289\u001b[0m                       \u001b[38;5;241m.\u001b[39mtransform_data()\n\u001b[1;32m    290\u001b[0m                       )\n\u001b[1;32m    291\u001b[0m \u001b[38;5;28;01mif\u001b[39;00m \u001b[38;5;129;01mnot\u001b[39;00m \u001b[38;5;28mself\u001b[39m\u001b[38;5;241m.\u001b[39m_feature_names:\n\u001b[1;32m    292\u001b[0m     \u001b[38;5;28mself\u001b[39m\u001b[38;5;241m.\u001b[39m_feature_names \u001b[38;5;241m=\u001b[39m \u001b[38;5;28mself\u001b[39m\u001b[38;5;241m.\u001b[39mpipeline\u001b[38;5;241m.\u001b[39mprocessor\u001b[38;5;241m.\u001b[39mnamed_transformers_[\n\u001b[1;32m    293\u001b[0m         \u001b[38;5;124m\"\u001b[39m\u001b[38;5;124mnum\u001b[39m\u001b[38;5;124m\"\u001b[39m]\u001b[38;5;241m.\u001b[39mget_feature_names_out()\u001b[38;5;241m.\u001b[39mtolist()\n",
      "File \u001b[0;32m/projects/p31961/ENIGMA/src/data_processing/pipelines/ClassifierPipe.py:164\u001b[0m, in \u001b[0;36mClassifierPipe.pandas_pipe\u001b[0;34m(self, custom_function)\u001b[0m\n\u001b[1;32m    163\u001b[0m \u001b[38;5;28;01mdef\u001b[39;00m \u001b[38;5;21mpandas_pipe\u001b[39m(\u001b[38;5;28mself\u001b[39m, custom_function,):\n\u001b[0;32m--> 164\u001b[0m     \u001b[38;5;28mself\u001b[39m\u001b[38;5;241m.\u001b[39mprocessed_data \u001b[38;5;241m=\u001b[39m custom_function(\u001b[38;5;28mself\u001b[39m\u001b[38;5;241m.\u001b[39mprocessed_data)\n\u001b[1;32m    165\u001b[0m     \u001b[38;5;28;01mreturn\u001b[39;00m \u001b[38;5;28mself\u001b[39m\n",
      "File \u001b[0;32m/projects/p31961/ENIGMA/src/data_processing/preprocessing/pandas_preprocessors.py:188\u001b[0m, in \u001b[0;36mfinal_experiment_preprocessor\u001b[0;34m(df, baseline_normalizer, query, cols_to_drop)\u001b[0m\n\u001b[1;32m    183\u001b[0m \u001b[38;5;28;01mif\u001b[39;00m \u001b[38;5;129;01mnot\u001b[39;00m cols_to_drop:\n\u001b[1;32m    184\u001b[0m     cols_to_drop \u001b[38;5;241m=\u001b[39m [\u001b[38;5;124m'\u001b[39m\u001b[38;5;124mmouse_id\u001b[39m\u001b[38;5;124m'\u001b[39m]\n\u001b[1;32m    185\u001b[0m df_ \u001b[38;5;241m=\u001b[39m (\n\u001b[1;32m    186\u001b[0m     df\n\u001b[1;32m    187\u001b[0m     \u001b[38;5;241m.\u001b[39mquery(query)\n\u001b[0;32m--> 188\u001b[0m     \u001b[38;5;241m.\u001b[39mpipe(baseline_normalizer)\n\u001b[1;32m    189\u001b[0m     \u001b[38;5;241m.\u001b[39mpipe(calculate_max_min_signal)\n\u001b[1;32m    190\u001b[0m     \u001b[38;5;241m.\u001b[39mpipe(calculate_percent_avoid)\n\u001b[1;32m    191\u001b[0m     \u001b[38;5;241m.\u001b[39mdrop(columns\u001b[38;5;241m=\u001b[39mconstant_cols_to_drop)\n\u001b[1;32m    192\u001b[0m     \u001b[38;5;241m.\u001b[39massign(event\u001b[38;5;241m=\u001b[39m\u001b[38;5;28;01mlambda\u001b[39;00m df_: df_\u001b[38;5;241m.\u001b[39mevent\u001b[38;5;241m.\u001b[39mreplace({\u001b[38;5;124m\"\u001b[39m\u001b[38;5;124mavoid\u001b[39m\u001b[38;5;124m\"\u001b[39m: \u001b[38;5;124m\"\u001b[39m\u001b[38;5;124mcross\u001b[39m\u001b[38;5;124m\"\u001b[39m, \u001b[38;5;124m\"\u001b[39m\u001b[38;5;124mescape\u001b[39m\u001b[38;5;124m\"\u001b[39m: \u001b[38;5;124m\"\u001b[39m\u001b[38;5;124mcross\u001b[39m\u001b[38;5;124m\"\u001b[39m}))\n\u001b[1;32m    193\u001b[0m     \u001b[38;5;241m.\u001b[39mpipe(expand_df)\n\u001b[1;32m    194\u001b[0m     \u001b[38;5;241m.\u001b[39mdrop(columns\u001b[38;5;241m=\u001b[39mcols_to_drop)\n\u001b[1;32m    195\u001b[0m \u001b[38;5;66;03m#         df_ = (\u001b[39;00m\n\u001b[1;32m    196\u001b[0m \u001b[38;5;66;03m#     df\u001b[39;00m\n\u001b[1;32m    197\u001b[0m \u001b[38;5;66;03m#     .query(query)\u001b[39;00m\n\u001b[1;32m    198\u001b[0m \u001b[38;5;66;03m#     .pipe(calculate_max_min_signal)\u001b[39;00m\n\u001b[1;32m    199\u001b[0m \u001b[38;5;66;03m#     .pipe(calculate_percent_avoid)\u001b[39;00m\n\u001b[1;32m    200\u001b[0m \u001b[38;5;66;03m#     .drop(columns=drop_columns)\u001b[39;00m\n\u001b[1;32m    201\u001b[0m \u001b[38;5;66;03m#     .pipe(expand_df)\u001b[39;00m\n\u001b[1;32m    202\u001b[0m \u001b[38;5;66;03m#     .drop(columns=cls_to_drop)\u001b[39;00m\n\u001b[1;32m    203\u001b[0m \u001b[38;5;66;03m# )\u001b[39;00m\n\u001b[1;32m    204\u001b[0m )\n\u001b[1;32m    205\u001b[0m \u001b[38;5;28;01mreturn\u001b[39;00m df_\n",
      "File \u001b[0;32m~/.conda/envs/enigma_xgb/lib/python3.11/site-packages/pandas/core/generic.py:5839\u001b[0m, in \u001b[0;36mNDFrame.pipe\u001b[0;34m(self, func, *args, **kwargs)\u001b[0m\n\u001b[1;32m   5781\u001b[0m \u001b[38;5;129m@final\u001b[39m\n\u001b[1;32m   5782\u001b[0m \u001b[38;5;129m@doc\u001b[39m(klass\u001b[38;5;241m=\u001b[39m_shared_doc_kwargs[\u001b[38;5;124m\"\u001b[39m\u001b[38;5;124mklass\u001b[39m\u001b[38;5;124m\"\u001b[39m])\n\u001b[1;32m   5783\u001b[0m \u001b[38;5;28;01mdef\u001b[39;00m \u001b[38;5;21mpipe\u001b[39m(\n\u001b[0;32m   (...)\u001b[0m\n\u001b[1;32m   5787\u001b[0m     \u001b[38;5;241m*\u001b[39m\u001b[38;5;241m*\u001b[39mkwargs,\n\u001b[1;32m   5788\u001b[0m ) \u001b[38;5;241m-\u001b[39m\u001b[38;5;241m>\u001b[39m T:\n\u001b[1;32m   5789\u001b[0m \u001b[38;5;250m    \u001b[39m\u001b[38;5;124mr\u001b[39m\u001b[38;5;124;03m\"\"\"\u001b[39;00m\n\u001b[1;32m   5790\u001b[0m \u001b[38;5;124;03m    Apply chainable functions that expect Series or DataFrames.\u001b[39;00m\n\u001b[1;32m   5791\u001b[0m \n\u001b[0;32m   (...)\u001b[0m\n\u001b[1;32m   5837\u001b[0m \u001b[38;5;124;03m    ...  )  # doctest: +SKIP\u001b[39;00m\n\u001b[1;32m   5838\u001b[0m \u001b[38;5;124;03m    \"\"\"\u001b[39;00m\n\u001b[0;32m-> 5839\u001b[0m     \u001b[38;5;28;01mreturn\u001b[39;00m com\u001b[38;5;241m.\u001b[39mpipe(\u001b[38;5;28mself\u001b[39m, func, \u001b[38;5;241m*\u001b[39margs, \u001b[38;5;241m*\u001b[39m\u001b[38;5;241m*\u001b[39mkwargs)\n",
      "File \u001b[0;32m~/.conda/envs/enigma_xgb/lib/python3.11/site-packages/pandas/core/common.py:513\u001b[0m, in \u001b[0;36mpipe\u001b[0;34m(obj, func, *args, **kwargs)\u001b[0m\n\u001b[1;32m    511\u001b[0m     \u001b[38;5;28;01mreturn\u001b[39;00m func(\u001b[38;5;241m*\u001b[39margs, \u001b[38;5;241m*\u001b[39m\u001b[38;5;241m*\u001b[39mkwargs)\n\u001b[1;32m    512\u001b[0m \u001b[38;5;28;01melse\u001b[39;00m:\n\u001b[0;32m--> 513\u001b[0m     \u001b[38;5;28;01mreturn\u001b[39;00m func(obj, \u001b[38;5;241m*\u001b[39margs, \u001b[38;5;241m*\u001b[39m\u001b[38;5;241m*\u001b[39mkwargs)\n",
      "File \u001b[0;32m/projects/p31961/ENIGMA/src/data_processing/preprocessing/pandas_preprocessors.py:168\u001b[0m, in \u001b[0;36mnormalize_by_baseline\u001b[0;34m(df, baseline_window, time_query)\u001b[0m\n\u001b[1;32m    152\u001b[0m group_by_columns \u001b[38;5;241m=\u001b[39m [col \u001b[38;5;28;01mfor\u001b[39;00m col \u001b[38;5;129;01min\u001b[39;00m df\u001b[38;5;241m.\u001b[39mcolumns \u001b[38;5;28;01mif\u001b[39;00m col \u001b[38;5;129;01mnot\u001b[39;00m \u001b[38;5;129;01min\u001b[39;00m [\u001b[38;5;124m\"\u001b[39m\u001b[38;5;124msignal\u001b[39m\u001b[38;5;124m\"\u001b[39m]]\n\u001b[1;32m    153\u001b[0m normalized_values \u001b[38;5;241m=\u001b[39m (\n\u001b[1;32m    154\u001b[0m     df\n\u001b[1;32m    155\u001b[0m     \u001b[38;5;241m.\u001b[39mquery(baseline_window)\n\u001b[0;32m   (...)\u001b[0m\n\u001b[1;32m    159\u001b[0m     \u001b[38;5;241m.\u001b[39mdrop(columns\u001b[38;5;241m=\u001b[39m[\u001b[38;5;124m'\u001b[39m\u001b[38;5;124mtime\u001b[39m\u001b[38;5;124m'\u001b[39m, \u001b[38;5;124m'\u001b[39m\u001b[38;5;124msignal\u001b[39m\u001b[38;5;124m'\u001b[39m])\n\u001b[1;32m    160\u001b[0m )\n\u001b[1;32m    162\u001b[0m normalzied_data \u001b[38;5;241m=\u001b[39m (pd\n\u001b[1;32m    163\u001b[0m                    \u001b[38;5;241m.\u001b[39mmerge(df, normalized_values, on\u001b[38;5;241m=\u001b[39m[\n\u001b[1;32m    164\u001b[0m                        \u001b[38;5;124m'\u001b[39m\u001b[38;5;124mmouse_id\u001b[39m\u001b[38;5;124m'\u001b[39m, \u001b[38;5;124m'\u001b[39m\u001b[38;5;124mday\u001b[39m\u001b[38;5;124m'\u001b[39m, \u001b[38;5;124m'\u001b[39m\u001b[38;5;124mevent\u001b[39m\u001b[38;5;124m'\u001b[39m, \u001b[38;5;124m'\u001b[39m\u001b[38;5;124msensor\u001b[39m\u001b[38;5;124m'\u001b[39m, \u001b[38;5;124m'\u001b[39m\u001b[38;5;124mtrial_count\u001b[39m\u001b[38;5;124m'\u001b[39m,], how\u001b[38;5;241m=\u001b[39m\u001b[38;5;124m'\u001b[39m\u001b[38;5;124mleft\u001b[39m\u001b[38;5;124m'\u001b[39m)\n\u001b[1;32m    165\u001b[0m                    \u001b[38;5;241m.\u001b[39massign(signal\u001b[38;5;241m=\u001b[39m\u001b[38;5;28;01mlambda\u001b[39;00m df_: df_\u001b[38;5;241m.\u001b[39msignal \u001b[38;5;241m-\u001b[39m df_\u001b[38;5;241m.\u001b[39mmean_signal,\n\u001b[1;32m    166\u001b[0m                            trial\u001b[38;5;241m=\u001b[39m\u001b[38;5;28;01mlambda\u001b[39;00m df_: df_\u001b[38;5;241m.\u001b[39mtrial_x,\n\u001b[1;32m    167\u001b[0m                            action\u001b[38;5;241m=\u001b[39m\u001b[38;5;28;01mlambda\u001b[39;00m df_: df_\u001b[38;5;241m.\u001b[39maction_x)\n\u001b[0;32m--> 168\u001b[0m                    \u001b[38;5;241m.\u001b[39mdrop(columns\u001b[38;5;241m=\u001b[39m[\u001b[38;5;124m\"\u001b[39m\u001b[38;5;124mmean_signal\u001b[39m\u001b[38;5;124m\"\u001b[39m, \u001b[38;5;124m\"\u001b[39m\u001b[38;5;124mtrial_x\u001b[39m\u001b[38;5;124m\"\u001b[39m, \u001b[38;5;124m\"\u001b[39m\u001b[38;5;124mtrial_y\u001b[39m\u001b[38;5;124m\"\u001b[39m, \u001b[38;5;124m\"\u001b[39m\u001b[38;5;124maction_x\u001b[39m\u001b[38;5;124m\"\u001b[39m, \u001b[38;5;124m\"\u001b[39m\u001b[38;5;124maction_y\u001b[39m\u001b[38;5;124m\"\u001b[39m])\n\u001b[1;32m    169\u001b[0m                    \u001b[38;5;241m.\u001b[39mquery(time_query)\n\u001b[1;32m    170\u001b[0m                    )\n\u001b[1;32m    171\u001b[0m \u001b[38;5;28;01mreturn\u001b[39;00m normalzied_data\n",
      "File \u001b[0;32m~/.conda/envs/enigma_xgb/lib/python3.11/site-packages/pandas/util/_decorators.py:331\u001b[0m, in \u001b[0;36mdeprecate_nonkeyword_arguments.<locals>.decorate.<locals>.wrapper\u001b[0;34m(*args, **kwargs)\u001b[0m\n\u001b[1;32m    325\u001b[0m \u001b[38;5;28;01mif\u001b[39;00m \u001b[38;5;28mlen\u001b[39m(args) \u001b[38;5;241m>\u001b[39m num_allow_args:\n\u001b[1;32m    326\u001b[0m     warnings\u001b[38;5;241m.\u001b[39mwarn(\n\u001b[1;32m    327\u001b[0m         msg\u001b[38;5;241m.\u001b[39mformat(arguments\u001b[38;5;241m=\u001b[39m_format_argument_list(allow_args)),\n\u001b[1;32m    328\u001b[0m         \u001b[38;5;167;01mFutureWarning\u001b[39;00m,\n\u001b[1;32m    329\u001b[0m         stacklevel\u001b[38;5;241m=\u001b[39mfind_stack_level(),\n\u001b[1;32m    330\u001b[0m     )\n\u001b[0;32m--> 331\u001b[0m \u001b[38;5;28;01mreturn\u001b[39;00m func(\u001b[38;5;241m*\u001b[39margs, \u001b[38;5;241m*\u001b[39m\u001b[38;5;241m*\u001b[39mkwargs)\n",
      "File \u001b[0;32m~/.conda/envs/enigma_xgb/lib/python3.11/site-packages/pandas/core/frame.py:5399\u001b[0m, in \u001b[0;36mDataFrame.drop\u001b[0;34m(self, labels, axis, index, columns, level, inplace, errors)\u001b[0m\n\u001b[1;32m   5251\u001b[0m \u001b[38;5;129m@deprecate_nonkeyword_arguments\u001b[39m(version\u001b[38;5;241m=\u001b[39m\u001b[38;5;28;01mNone\u001b[39;00m, allowed_args\u001b[38;5;241m=\u001b[39m[\u001b[38;5;124m\"\u001b[39m\u001b[38;5;124mself\u001b[39m\u001b[38;5;124m\"\u001b[39m, \u001b[38;5;124m\"\u001b[39m\u001b[38;5;124mlabels\u001b[39m\u001b[38;5;124m\"\u001b[39m])\n\u001b[1;32m   5252\u001b[0m \u001b[38;5;28;01mdef\u001b[39;00m \u001b[38;5;21mdrop\u001b[39m(  \u001b[38;5;66;03m# type: ignore[override]\u001b[39;00m\n\u001b[1;32m   5253\u001b[0m     \u001b[38;5;28mself\u001b[39m,\n\u001b[0;32m   (...)\u001b[0m\n\u001b[1;32m   5260\u001b[0m     errors: IgnoreRaise \u001b[38;5;241m=\u001b[39m \u001b[38;5;124m\"\u001b[39m\u001b[38;5;124mraise\u001b[39m\u001b[38;5;124m\"\u001b[39m,\n\u001b[1;32m   5261\u001b[0m ) \u001b[38;5;241m-\u001b[39m\u001b[38;5;241m>\u001b[39m DataFrame \u001b[38;5;241m|\u001b[39m \u001b[38;5;28;01mNone\u001b[39;00m:\n\u001b[1;32m   5262\u001b[0m \u001b[38;5;250m    \u001b[39m\u001b[38;5;124;03m\"\"\"\u001b[39;00m\n\u001b[1;32m   5263\u001b[0m \u001b[38;5;124;03m    Drop specified labels from rows or columns.\u001b[39;00m\n\u001b[1;32m   5264\u001b[0m \n\u001b[0;32m   (...)\u001b[0m\n\u001b[1;32m   5397\u001b[0m \u001b[38;5;124;03m            weight  1.0     0.8\u001b[39;00m\n\u001b[1;32m   5398\u001b[0m \u001b[38;5;124;03m    \"\"\"\u001b[39;00m\n\u001b[0;32m-> 5399\u001b[0m     \u001b[38;5;28;01mreturn\u001b[39;00m \u001b[38;5;28msuper\u001b[39m()\u001b[38;5;241m.\u001b[39mdrop(\n\u001b[1;32m   5400\u001b[0m         labels\u001b[38;5;241m=\u001b[39mlabels,\n\u001b[1;32m   5401\u001b[0m         axis\u001b[38;5;241m=\u001b[39maxis,\n\u001b[1;32m   5402\u001b[0m         index\u001b[38;5;241m=\u001b[39mindex,\n\u001b[1;32m   5403\u001b[0m         columns\u001b[38;5;241m=\u001b[39mcolumns,\n\u001b[1;32m   5404\u001b[0m         level\u001b[38;5;241m=\u001b[39mlevel,\n\u001b[1;32m   5405\u001b[0m         inplace\u001b[38;5;241m=\u001b[39minplace,\n\u001b[1;32m   5406\u001b[0m         errors\u001b[38;5;241m=\u001b[39merrors,\n\u001b[1;32m   5407\u001b[0m     )\n",
      "File \u001b[0;32m~/.conda/envs/enigma_xgb/lib/python3.11/site-packages/pandas/util/_decorators.py:331\u001b[0m, in \u001b[0;36mdeprecate_nonkeyword_arguments.<locals>.decorate.<locals>.wrapper\u001b[0;34m(*args, **kwargs)\u001b[0m\n\u001b[1;32m    325\u001b[0m \u001b[38;5;28;01mif\u001b[39;00m \u001b[38;5;28mlen\u001b[39m(args) \u001b[38;5;241m>\u001b[39m num_allow_args:\n\u001b[1;32m    326\u001b[0m     warnings\u001b[38;5;241m.\u001b[39mwarn(\n\u001b[1;32m    327\u001b[0m         msg\u001b[38;5;241m.\u001b[39mformat(arguments\u001b[38;5;241m=\u001b[39m_format_argument_list(allow_args)),\n\u001b[1;32m    328\u001b[0m         \u001b[38;5;167;01mFutureWarning\u001b[39;00m,\n\u001b[1;32m    329\u001b[0m         stacklevel\u001b[38;5;241m=\u001b[39mfind_stack_level(),\n\u001b[1;32m    330\u001b[0m     )\n\u001b[0;32m--> 331\u001b[0m \u001b[38;5;28;01mreturn\u001b[39;00m func(\u001b[38;5;241m*\u001b[39margs, \u001b[38;5;241m*\u001b[39m\u001b[38;5;241m*\u001b[39mkwargs)\n",
      "File \u001b[0;32m~/.conda/envs/enigma_xgb/lib/python3.11/site-packages/pandas/core/generic.py:4505\u001b[0m, in \u001b[0;36mNDFrame.drop\u001b[0;34m(self, labels, axis, index, columns, level, inplace, errors)\u001b[0m\n\u001b[1;32m   4503\u001b[0m \u001b[38;5;28;01mfor\u001b[39;00m axis, labels \u001b[38;5;129;01min\u001b[39;00m axes\u001b[38;5;241m.\u001b[39mitems():\n\u001b[1;32m   4504\u001b[0m     \u001b[38;5;28;01mif\u001b[39;00m labels \u001b[38;5;129;01mis\u001b[39;00m \u001b[38;5;129;01mnot\u001b[39;00m \u001b[38;5;28;01mNone\u001b[39;00m:\n\u001b[0;32m-> 4505\u001b[0m         obj \u001b[38;5;241m=\u001b[39m obj\u001b[38;5;241m.\u001b[39m_drop_axis(labels, axis, level\u001b[38;5;241m=\u001b[39mlevel, errors\u001b[38;5;241m=\u001b[39merrors)\n\u001b[1;32m   4507\u001b[0m \u001b[38;5;28;01mif\u001b[39;00m inplace:\n\u001b[1;32m   4508\u001b[0m     \u001b[38;5;28mself\u001b[39m\u001b[38;5;241m.\u001b[39m_update_inplace(obj)\n",
      "File \u001b[0;32m~/.conda/envs/enigma_xgb/lib/python3.11/site-packages/pandas/core/generic.py:4585\u001b[0m, in \u001b[0;36mNDFrame._drop_axis\u001b[0;34m(self, labels, axis, level, errors, only_slice)\u001b[0m\n\u001b[1;32m   4582\u001b[0m     new_axis \u001b[38;5;241m=\u001b[39m axis\u001b[38;5;241m.\u001b[39mtake(indexer)\n\u001b[1;32m   4584\u001b[0m bm_axis \u001b[38;5;241m=\u001b[39m \u001b[38;5;28mself\u001b[39m\u001b[38;5;241m.\u001b[39mndim \u001b[38;5;241m-\u001b[39m axis_num \u001b[38;5;241m-\u001b[39m \u001b[38;5;241m1\u001b[39m\n\u001b[0;32m-> 4585\u001b[0m new_mgr \u001b[38;5;241m=\u001b[39m \u001b[38;5;28mself\u001b[39m\u001b[38;5;241m.\u001b[39m_mgr\u001b[38;5;241m.\u001b[39mreindex_indexer(\n\u001b[1;32m   4586\u001b[0m     new_axis,\n\u001b[1;32m   4587\u001b[0m     indexer,\n\u001b[1;32m   4588\u001b[0m     axis\u001b[38;5;241m=\u001b[39mbm_axis,\n\u001b[1;32m   4589\u001b[0m     allow_dups\u001b[38;5;241m=\u001b[39m\u001b[38;5;28;01mTrue\u001b[39;00m,\n\u001b[1;32m   4590\u001b[0m     only_slice\u001b[38;5;241m=\u001b[39monly_slice,\n\u001b[1;32m   4591\u001b[0m )\n\u001b[1;32m   4592\u001b[0m result \u001b[38;5;241m=\u001b[39m \u001b[38;5;28mself\u001b[39m\u001b[38;5;241m.\u001b[39m_constructor(new_mgr)\n\u001b[1;32m   4593\u001b[0m \u001b[38;5;28;01mif\u001b[39;00m \u001b[38;5;28mself\u001b[39m\u001b[38;5;241m.\u001b[39mndim \u001b[38;5;241m==\u001b[39m \u001b[38;5;241m1\u001b[39m:\n",
      "File \u001b[0;32m~/.conda/envs/enigma_xgb/lib/python3.11/site-packages/pandas/core/internals/managers.py:743\u001b[0m, in \u001b[0;36mBaseBlockManager.reindex_indexer\u001b[0;34m(self, new_axis, indexer, axis, fill_value, allow_dups, copy, only_slice, use_na_proxy)\u001b[0m\n\u001b[1;32m    740\u001b[0m     \u001b[38;5;28;01mraise\u001b[39;00m \u001b[38;5;167;01mIndexError\u001b[39;00m(\u001b[38;5;124m\"\u001b[39m\u001b[38;5;124mRequested axis not found in manager\u001b[39m\u001b[38;5;124m\"\u001b[39m)\n\u001b[1;32m    742\u001b[0m \u001b[38;5;28;01mif\u001b[39;00m axis \u001b[38;5;241m==\u001b[39m \u001b[38;5;241m0\u001b[39m:\n\u001b[0;32m--> 743\u001b[0m     new_blocks, new_refs \u001b[38;5;241m=\u001b[39m \u001b[38;5;28mself\u001b[39m\u001b[38;5;241m.\u001b[39m_slice_take_blocks_ax0(\n\u001b[1;32m    744\u001b[0m         indexer,\n\u001b[1;32m    745\u001b[0m         fill_value\u001b[38;5;241m=\u001b[39mfill_value,\n\u001b[1;32m    746\u001b[0m         only_slice\u001b[38;5;241m=\u001b[39monly_slice,\n\u001b[1;32m    747\u001b[0m         use_na_proxy\u001b[38;5;241m=\u001b[39muse_na_proxy,\n\u001b[1;32m    748\u001b[0m     )\n\u001b[1;32m    749\u001b[0m     parent \u001b[38;5;241m=\u001b[39m \u001b[38;5;28;01mNone\u001b[39;00m \u001b[38;5;28;01mif\u001b[39;00m com\u001b[38;5;241m.\u001b[39mall_none(\u001b[38;5;241m*\u001b[39mnew_refs) \u001b[38;5;28;01melse\u001b[39;00m \u001b[38;5;28mself\u001b[39m\n\u001b[1;32m    750\u001b[0m \u001b[38;5;28;01melse\u001b[39;00m:\n",
      "File \u001b[0;32m~/.conda/envs/enigma_xgb/lib/python3.11/site-packages/pandas/core/internals/managers.py:912\u001b[0m, in \u001b[0;36mBaseBlockManager._slice_take_blocks_ax0\u001b[0;34m(self, slice_or_indexer, fill_value, only_slice, use_na_proxy)\u001b[0m\n\u001b[1;32m    910\u001b[0m         refs\u001b[38;5;241m.\u001b[39mappend(weakref\u001b[38;5;241m.\u001b[39mref(blk))\n\u001b[1;32m    911\u001b[0m \u001b[38;5;28;01melse\u001b[39;00m:\n\u001b[0;32m--> 912\u001b[0m     nb \u001b[38;5;241m=\u001b[39m blk\u001b[38;5;241m.\u001b[39mtake_nd(taker, axis\u001b[38;5;241m=\u001b[39m\u001b[38;5;241m0\u001b[39m, new_mgr_locs\u001b[38;5;241m=\u001b[39mmgr_locs)\n\u001b[1;32m    913\u001b[0m     blocks\u001b[38;5;241m.\u001b[39mappend(nb)\n\u001b[1;32m    914\u001b[0m     refs\u001b[38;5;241m.\u001b[39mappend(\u001b[38;5;28;01mNone\u001b[39;00m)\n",
      "File \u001b[0;32m~/.conda/envs/enigma_xgb/lib/python3.11/site-packages/pandas/core/internals/blocks.py:880\u001b[0m, in \u001b[0;36mBlock.take_nd\u001b[0;34m(self, indexer, axis, new_mgr_locs, fill_value)\u001b[0m\n\u001b[1;32m    877\u001b[0m     allow_fill \u001b[38;5;241m=\u001b[39m \u001b[38;5;28;01mTrue\u001b[39;00m\n\u001b[1;32m    879\u001b[0m \u001b[38;5;66;03m# Note: algos.take_nd has upcast logic similar to coerce_to_target_dtype\u001b[39;00m\n\u001b[0;32m--> 880\u001b[0m new_values \u001b[38;5;241m=\u001b[39m algos\u001b[38;5;241m.\u001b[39mtake_nd(\n\u001b[1;32m    881\u001b[0m     values, indexer, axis\u001b[38;5;241m=\u001b[39maxis, allow_fill\u001b[38;5;241m=\u001b[39mallow_fill, fill_value\u001b[38;5;241m=\u001b[39mfill_value\n\u001b[1;32m    882\u001b[0m )\n\u001b[1;32m    884\u001b[0m \u001b[38;5;66;03m# Called from three places in managers, all of which satisfy\u001b[39;00m\n\u001b[1;32m    885\u001b[0m \u001b[38;5;66;03m#  this assertion\u001b[39;00m\n\u001b[1;32m    886\u001b[0m \u001b[38;5;28;01massert\u001b[39;00m \u001b[38;5;129;01mnot\u001b[39;00m (axis \u001b[38;5;241m==\u001b[39m \u001b[38;5;241m0\u001b[39m \u001b[38;5;129;01mand\u001b[39;00m new_mgr_locs \u001b[38;5;129;01mis\u001b[39;00m \u001b[38;5;28;01mNone\u001b[39;00m)\n",
      "File \u001b[0;32m~/.conda/envs/enigma_xgb/lib/python3.11/site-packages/pandas/core/array_algos/take.py:117\u001b[0m, in \u001b[0;36mtake_nd\u001b[0;34m(arr, indexer, axis, fill_value, allow_fill)\u001b[0m\n\u001b[1;32m    114\u001b[0m     \u001b[38;5;28;01mreturn\u001b[39;00m arr\u001b[38;5;241m.\u001b[39mtake(indexer, fill_value\u001b[38;5;241m=\u001b[39mfill_value, allow_fill\u001b[38;5;241m=\u001b[39mallow_fill)\n\u001b[1;32m    116\u001b[0m arr \u001b[38;5;241m=\u001b[39m np\u001b[38;5;241m.\u001b[39masarray(arr)\n\u001b[0;32m--> 117\u001b[0m \u001b[38;5;28;01mreturn\u001b[39;00m _take_nd_ndarray(arr, indexer, axis, fill_value, allow_fill)\n",
      "File \u001b[0;32m~/.conda/envs/enigma_xgb/lib/python3.11/site-packages/pandas/core/array_algos/take.py:158\u001b[0m, in \u001b[0;36m_take_nd_ndarray\u001b[0;34m(arr, indexer, axis, fill_value, allow_fill)\u001b[0m\n\u001b[1;32m    156\u001b[0m     out \u001b[38;5;241m=\u001b[39m np\u001b[38;5;241m.\u001b[39mempty(out_shape, dtype\u001b[38;5;241m=\u001b[39mdtype, order\u001b[38;5;241m=\u001b[39m\u001b[38;5;124m\"\u001b[39m\u001b[38;5;124mF\u001b[39m\u001b[38;5;124m\"\u001b[39m)\n\u001b[1;32m    157\u001b[0m \u001b[38;5;28;01melse\u001b[39;00m:\n\u001b[0;32m--> 158\u001b[0m     out \u001b[38;5;241m=\u001b[39m np\u001b[38;5;241m.\u001b[39mempty(out_shape, dtype\u001b[38;5;241m=\u001b[39mdtype)\n\u001b[1;32m    160\u001b[0m func \u001b[38;5;241m=\u001b[39m _get_take_nd_function(\n\u001b[1;32m    161\u001b[0m     arr\u001b[38;5;241m.\u001b[39mndim, arr\u001b[38;5;241m.\u001b[39mdtype, out\u001b[38;5;241m.\u001b[39mdtype, axis\u001b[38;5;241m=\u001b[39maxis, mask_info\u001b[38;5;241m=\u001b[39mmask_info\n\u001b[1;32m    162\u001b[0m )\n\u001b[1;32m    163\u001b[0m func(arr, indexer, out, fill_value)\n",
      "\u001b[0;31mKeyboardInterrupt\u001b[0m: "
     ]
    }
   ],
   "source": [
    "import multiprocessing as mp\n",
    "from src.data_processing.model_analyzers.experimenters.batch_experimenters import BatchExperimeter, XGBRegBatchExperimenter, XGBNormRegBatchExperimenter\n",
    "from dataclasses import dataclass\n",
    "from typing import Dict, List\n",
    "import logging\n",
    "\n",
    "\n",
    "@dataclass\n",
    "class BatchExperimentMetaData:\n",
    "    main_path: str\n",
    "    number_of_runs: int\n",
    "    experiment_conditions: Dict[str, List[str]]\n",
    "    filter_keys: List[str] = None\n",
    "\n",
    "\n",
    "def batch_experiment(exp_data: BatchExperimentMetaData, experimenter: BatchExperimeter = XGBRegBatchExperimenter):\n",
    "    batch_experimenter = experimenter(\n",
    "        exp_data.main_path, exp_data)\n",
    "\n",
    "    experiment_directories = batch_experimenter.get_experiment_directories(\n",
    "        exp_data.filter_keys)\n",
    "\n",
    "    experimenters = batch_experimenter.set_up_experimenters(\n",
    "        experiment_directories)\n",
    "    batch_experimenter.run_experiments(experimenters, exp_data.number_of_runs)\n",
    "\n",
    "\n",
    "def main():\n",
    "    print(\"main\")\n",
    "    NUMBER_OF_RUNS = 30\n",
    "    MAIN_PATH = \"/projects/p31961/ENIGMA/results/experiments/endpoint_experiments\"\n",
    "    EXPERIMENMT_CONDITIONS = {\n",
    "        \"with_day\": [\"mouse_id\"],\n",
    "        \"without_day\": [\"mouse_id\", \"day\"]\n",
    "    }\n",
    "    FILTER_KEYS = ['normalzied']\n",
    "\n",
    "    experiment_data = BatchExperimentMetaData(\n",
    "        main_path=MAIN_PATH,\n",
    "        number_of_runs=NUMBER_OF_RUNS,\n",
    "        experiment_conditions=EXPERIMENMT_CONDITIONS,\n",
    "        filter_keys=FILTER_KEYS)\n",
    "    print(experiment_data.main_path)\n",
    "    print(experiment_data.experiment_conditions)\n",
    "    print(experiment_data.filter_keys)\n",
    "    \n",
    "    print(\"running batch experiment\")\n",
    "    batch_experiment(experiment_data, experimenter=XGBNormRegBatchExperimenter)\n",
    "    print(\"done\")\n",
    "\n",
    "if __name__ == '__main__':\n",
    "    main()\n"
   ]
  },
  {
   "cell_type": "code",
   "execution_count": 181,
   "metadata": {},
   "outputs": [],
   "source": [
    "from src.data_processing.model_analyzers.experimenters.experimenters import XGBRegExperimenter\n",
    "from src.data_processing.model_analyzers.xgb_analyzers.XGBRegrResults import XGBRegrResults\n",
    "from src.data_processing.model_analyzers.xgb_analyzers.XGBRegAnalyzer import XGBNormRegAnalyzer, XGBRegAnalyzer\n"
   ]
  },
  {
   "cell_type": "code",
   "execution_count": 182,
   "metadata": {},
   "outputs": [],
   "source": [
    "path = \"/projects/p31961/ENIGMA/results/experiments/endpoint_experiments/xgb_regression_da_normalzied_tune\""
   ]
  },
  {
   "cell_type": "code",
   "execution_count": 188,
   "metadata": {},
   "outputs": [
    {
     "data": {
      "text/plain": [
       "PosixPath('/projects/p31961/gaby_data/aggregated_data/raw_data/datasets/raw_data_raw_data.parquet.gzip')"
      ]
     },
     "execution_count": 188,
     "metadata": {},
     "output_type": "execute_result"
    }
   ],
   "source": [
    "results = XGBRegrResults(path)\n",
    "results.data_path"
   ]
  },
  {
   "cell_type": "code",
   "execution_count": 184,
   "metadata": {},
   "outputs": [
    {
     "data": {
      "text/plain": [
       "\"sensor == 'DA'\""
      ]
     },
     "execution_count": 184,
     "metadata": {},
     "output_type": "execute_result"
    }
   ],
   "source": [
    "analyzer = XGBNormRegAnalyzer(results)\n",
    "# analyzer = XGBRegAnalyzer(results)\n",
    "analyzer.results.experiment_query"
   ]
  },
  {
   "cell_type": "code",
   "execution_count": 185,
   "metadata": {},
   "outputs": [
    {
     "name": "stderr",
     "output_type": "stream",
     "text": [
      "The default value of numeric_only in DataFrameGroupBy.mean is deprecated. In a future version, numeric_only will default to False. Either specify numeric_only or select only columns which should be valid for the function.\n"
     ]
    },
    {
     "ename": "KeyError",
     "evalue": "\"['sex'] not found in axis\"",
     "output_type": "error",
     "traceback": [
      "\u001b[0;31m---------------------------------------------------------------------------\u001b[0m",
      "\u001b[0;31mKeyError\u001b[0m                                  Traceback (most recent call last)",
      "Cell \u001b[0;32mIn[185], line 1\u001b[0m\n\u001b[0;32m----> 1\u001b[0m analyzer\u001b[38;5;241m.\u001b[39mcreate_pipeline()\n",
      "File \u001b[0;32m/projects/p31961/ENIGMA/src/data_processing/model_analyzers/xgb_analyzers/XGBRegAnalyzer.py:287\u001b[0m, in \u001b[0;36mXGBNormRegAnalyzer.create_pipeline\u001b[0;34m(self, cls_to_drop, random_seed, shuffle)\u001b[0m\n\u001b[1;32m    280\u001b[0m df_processor \u001b[38;5;241m=\u001b[39m partial(final_experiment_preprocessor,\n\u001b[1;32m    281\u001b[0m                        baseline_normalizer\u001b[38;5;241m=\u001b[39mnormalize_by_baseline,\n\u001b[1;32m    282\u001b[0m                        cols_to_drop\u001b[38;5;241m=\u001b[39mcls_to_drop,\n\u001b[1;32m    283\u001b[0m                        query\u001b[38;5;241m=\u001b[39m\u001b[38;5;28mself\u001b[39m\u001b[38;5;241m.\u001b[39mresults\u001b[38;5;241m.\u001b[39mexperiment_query)\n\u001b[1;32m    284\u001b[0m \u001b[38;5;28;01mif\u001b[39;00m \u001b[38;5;129;01mnot\u001b[39;00m \u001b[38;5;28mself\u001b[39m\u001b[38;5;241m.\u001b[39m_pipeline:\n\u001b[1;32m    285\u001b[0m     \u001b[38;5;28mself\u001b[39m\u001b[38;5;241m.\u001b[39m_pipeline \u001b[38;5;241m=\u001b[39m (ClassifierPipe(\u001b[38;5;28mself\u001b[39m\u001b[38;5;241m.\u001b[39mresults\u001b[38;5;241m.\u001b[39mdata_path)\n\u001b[1;32m    286\u001b[0m                       \u001b[38;5;241m.\u001b[39mread_raw_data()\n\u001b[0;32m--> 287\u001b[0m                       \u001b[38;5;241m.\u001b[39mpandas_pipe(df_processor)\n\u001b[1;32m    288\u001b[0m                       \u001b[38;5;241m.\u001b[39msplit_by_ratio(target\u001b[38;5;241m=\u001b[39m\u001b[38;5;124m'\u001b[39m\u001b[38;5;124mratio_avoid\u001b[39m\u001b[38;5;124m'\u001b[39m, random_seed\u001b[38;5;241m=\u001b[39mrandom_seed, shuffle\u001b[38;5;241m=\u001b[39mshuffle)\n\u001b[1;32m    289\u001b[0m                       \u001b[38;5;241m.\u001b[39mtransform_data()\n\u001b[1;32m    290\u001b[0m                       )\n\u001b[1;32m    291\u001b[0m \u001b[38;5;28;01mif\u001b[39;00m \u001b[38;5;129;01mnot\u001b[39;00m \u001b[38;5;28mself\u001b[39m\u001b[38;5;241m.\u001b[39m_feature_names:\n\u001b[1;32m    292\u001b[0m     \u001b[38;5;28mself\u001b[39m\u001b[38;5;241m.\u001b[39m_feature_names \u001b[38;5;241m=\u001b[39m \u001b[38;5;28mself\u001b[39m\u001b[38;5;241m.\u001b[39mpipeline\u001b[38;5;241m.\u001b[39mprocessor\u001b[38;5;241m.\u001b[39mnamed_transformers_[\n\u001b[1;32m    293\u001b[0m         \u001b[38;5;124m\"\u001b[39m\u001b[38;5;124mnum\u001b[39m\u001b[38;5;124m\"\u001b[39m]\u001b[38;5;241m.\u001b[39mget_feature_names_out()\u001b[38;5;241m.\u001b[39mtolist()\n",
      "File \u001b[0;32m/projects/p31961/ENIGMA/src/data_processing/pipelines/ClassifierPipe.py:164\u001b[0m, in \u001b[0;36mClassifierPipe.pandas_pipe\u001b[0;34m(self, custom_function)\u001b[0m\n\u001b[1;32m    163\u001b[0m \u001b[38;5;28;01mdef\u001b[39;00m \u001b[38;5;21mpandas_pipe\u001b[39m(\u001b[38;5;28mself\u001b[39m, custom_function,):\n\u001b[0;32m--> 164\u001b[0m     \u001b[38;5;28mself\u001b[39m\u001b[38;5;241m.\u001b[39mprocessed_data \u001b[38;5;241m=\u001b[39m custom_function(\u001b[38;5;28mself\u001b[39m\u001b[38;5;241m.\u001b[39mprocessed_data)\n\u001b[1;32m    165\u001b[0m     \u001b[38;5;28;01mreturn\u001b[39;00m \u001b[38;5;28mself\u001b[39m\n",
      "File \u001b[0;32m/projects/p31961/ENIGMA/src/data_processing/preprocessing/pandas_preprocessors.py:191\u001b[0m, in \u001b[0;36mfinal_experiment_preprocessor\u001b[0;34m(df, baseline_normalizer, query, cols_to_drop)\u001b[0m\n\u001b[1;32m    178\u001b[0m constant_features_to_drop = [\"sex',\" \"action\", \"trial\", \"trial_count\"]\n\u001b[1;32m    179\u001b[0m constant_cols_to_drop = check_for_columns_to_drop(\n\u001b[1;32m    180\u001b[0m     df, constant_features_to_drop)\n\u001b[1;32m    182\u001b[0m df_ = (\n\u001b[1;32m    183\u001b[0m     df\n\u001b[1;32m    184\u001b[0m     .query(query)\n\u001b[1;32m    185\u001b[0m     .pipe(baseline_normalizer)\n\u001b[1;32m    186\u001b[0m     .pipe(calculate_max_min_signal)\n\u001b[1;32m    187\u001b[0m     .drop(columns=constant_cols_to_drop)\n\u001b[1;32m    188\u001b[0m     .pipe(calculate_percent_avoid)\n\u001b[1;32m    189\u001b[0m     .assign(event=lambda df_: df_.event.replace({\"avoid\": \"cross\", \"escape\": \"cross\"}))\n\u001b[1;32m    190\u001b[0m     .drop(columns=cols_to_drop)\n\u001b[0;32m--> 191\u001b[0m )\n\u001b[1;32m    192\u001b[0m return df_\n",
      "File \u001b[0;32m~/.conda/envs/enigma_xgb/lib/python3.11/site-packages/pandas/util/_decorators.py:331\u001b[0m, in \u001b[0;36mdeprecate_nonkeyword_arguments.<locals>.decorate.<locals>.wrapper\u001b[0;34m(*args, **kwargs)\u001b[0m\n\u001b[1;32m    325\u001b[0m \u001b[38;5;28;01mif\u001b[39;00m \u001b[38;5;28mlen\u001b[39m(args) \u001b[38;5;241m>\u001b[39m num_allow_args:\n\u001b[1;32m    326\u001b[0m     warnings\u001b[38;5;241m.\u001b[39mwarn(\n\u001b[1;32m    327\u001b[0m         msg\u001b[38;5;241m.\u001b[39mformat(arguments\u001b[38;5;241m=\u001b[39m_format_argument_list(allow_args)),\n\u001b[1;32m    328\u001b[0m         \u001b[38;5;167;01mFutureWarning\u001b[39;00m,\n\u001b[1;32m    329\u001b[0m         stacklevel\u001b[38;5;241m=\u001b[39mfind_stack_level(),\n\u001b[1;32m    330\u001b[0m     )\n\u001b[0;32m--> 331\u001b[0m \u001b[38;5;28;01mreturn\u001b[39;00m func(\u001b[38;5;241m*\u001b[39margs, \u001b[38;5;241m*\u001b[39m\u001b[38;5;241m*\u001b[39mkwargs)\n",
      "File \u001b[0;32m~/.conda/envs/enigma_xgb/lib/python3.11/site-packages/pandas/core/frame.py:5399\u001b[0m, in \u001b[0;36mDataFrame.drop\u001b[0;34m(self, labels, axis, index, columns, level, inplace, errors)\u001b[0m\n\u001b[1;32m   5251\u001b[0m \u001b[38;5;129m@deprecate_nonkeyword_arguments\u001b[39m(version\u001b[38;5;241m=\u001b[39m\u001b[38;5;28;01mNone\u001b[39;00m, allowed_args\u001b[38;5;241m=\u001b[39m[\u001b[38;5;124m\"\u001b[39m\u001b[38;5;124mself\u001b[39m\u001b[38;5;124m\"\u001b[39m, \u001b[38;5;124m\"\u001b[39m\u001b[38;5;124mlabels\u001b[39m\u001b[38;5;124m\"\u001b[39m])\n\u001b[1;32m   5252\u001b[0m \u001b[38;5;28;01mdef\u001b[39;00m \u001b[38;5;21mdrop\u001b[39m(  \u001b[38;5;66;03m# type: ignore[override]\u001b[39;00m\n\u001b[1;32m   5253\u001b[0m     \u001b[38;5;28mself\u001b[39m,\n\u001b[0;32m   (...)\u001b[0m\n\u001b[1;32m   5260\u001b[0m     errors: IgnoreRaise \u001b[38;5;241m=\u001b[39m \u001b[38;5;124m\"\u001b[39m\u001b[38;5;124mraise\u001b[39m\u001b[38;5;124m\"\u001b[39m,\n\u001b[1;32m   5261\u001b[0m ) \u001b[38;5;241m-\u001b[39m\u001b[38;5;241m>\u001b[39m DataFrame \u001b[38;5;241m|\u001b[39m \u001b[38;5;28;01mNone\u001b[39;00m:\n\u001b[1;32m   5262\u001b[0m \u001b[38;5;250m    \u001b[39m\u001b[38;5;124;03m\"\"\"\u001b[39;00m\n\u001b[1;32m   5263\u001b[0m \u001b[38;5;124;03m    Drop specified labels from rows or columns.\u001b[39;00m\n\u001b[1;32m   5264\u001b[0m \n\u001b[0;32m   (...)\u001b[0m\n\u001b[1;32m   5397\u001b[0m \u001b[38;5;124;03m            weight  1.0     0.8\u001b[39;00m\n\u001b[1;32m   5398\u001b[0m \u001b[38;5;124;03m    \"\"\"\u001b[39;00m\n\u001b[0;32m-> 5399\u001b[0m     \u001b[38;5;28;01mreturn\u001b[39;00m \u001b[38;5;28msuper\u001b[39m()\u001b[38;5;241m.\u001b[39mdrop(\n\u001b[1;32m   5400\u001b[0m         labels\u001b[38;5;241m=\u001b[39mlabels,\n\u001b[1;32m   5401\u001b[0m         axis\u001b[38;5;241m=\u001b[39maxis,\n\u001b[1;32m   5402\u001b[0m         index\u001b[38;5;241m=\u001b[39mindex,\n\u001b[1;32m   5403\u001b[0m         columns\u001b[38;5;241m=\u001b[39mcolumns,\n\u001b[1;32m   5404\u001b[0m         level\u001b[38;5;241m=\u001b[39mlevel,\n\u001b[1;32m   5405\u001b[0m         inplace\u001b[38;5;241m=\u001b[39minplace,\n\u001b[1;32m   5406\u001b[0m         errors\u001b[38;5;241m=\u001b[39merrors,\n\u001b[1;32m   5407\u001b[0m     )\n",
      "File \u001b[0;32m~/.conda/envs/enigma_xgb/lib/python3.11/site-packages/pandas/util/_decorators.py:331\u001b[0m, in \u001b[0;36mdeprecate_nonkeyword_arguments.<locals>.decorate.<locals>.wrapper\u001b[0;34m(*args, **kwargs)\u001b[0m\n\u001b[1;32m    325\u001b[0m \u001b[38;5;28;01mif\u001b[39;00m \u001b[38;5;28mlen\u001b[39m(args) \u001b[38;5;241m>\u001b[39m num_allow_args:\n\u001b[1;32m    326\u001b[0m     warnings\u001b[38;5;241m.\u001b[39mwarn(\n\u001b[1;32m    327\u001b[0m         msg\u001b[38;5;241m.\u001b[39mformat(arguments\u001b[38;5;241m=\u001b[39m_format_argument_list(allow_args)),\n\u001b[1;32m    328\u001b[0m         \u001b[38;5;167;01mFutureWarning\u001b[39;00m,\n\u001b[1;32m    329\u001b[0m         stacklevel\u001b[38;5;241m=\u001b[39mfind_stack_level(),\n\u001b[1;32m    330\u001b[0m     )\n\u001b[0;32m--> 331\u001b[0m \u001b[38;5;28;01mreturn\u001b[39;00m func(\u001b[38;5;241m*\u001b[39margs, \u001b[38;5;241m*\u001b[39m\u001b[38;5;241m*\u001b[39mkwargs)\n",
      "File \u001b[0;32m~/.conda/envs/enigma_xgb/lib/python3.11/site-packages/pandas/core/generic.py:4505\u001b[0m, in \u001b[0;36mNDFrame.drop\u001b[0;34m(self, labels, axis, index, columns, level, inplace, errors)\u001b[0m\n\u001b[1;32m   4503\u001b[0m \u001b[38;5;28;01mfor\u001b[39;00m axis, labels \u001b[38;5;129;01min\u001b[39;00m axes\u001b[38;5;241m.\u001b[39mitems():\n\u001b[1;32m   4504\u001b[0m     \u001b[38;5;28;01mif\u001b[39;00m labels \u001b[38;5;129;01mis\u001b[39;00m \u001b[38;5;129;01mnot\u001b[39;00m \u001b[38;5;28;01mNone\u001b[39;00m:\n\u001b[0;32m-> 4505\u001b[0m         obj \u001b[38;5;241m=\u001b[39m obj\u001b[38;5;241m.\u001b[39m_drop_axis(labels, axis, level\u001b[38;5;241m=\u001b[39mlevel, errors\u001b[38;5;241m=\u001b[39merrors)\n\u001b[1;32m   4507\u001b[0m \u001b[38;5;28;01mif\u001b[39;00m inplace:\n\u001b[1;32m   4508\u001b[0m     \u001b[38;5;28mself\u001b[39m\u001b[38;5;241m.\u001b[39m_update_inplace(obj)\n",
      "File \u001b[0;32m~/.conda/envs/enigma_xgb/lib/python3.11/site-packages/pandas/core/generic.py:4546\u001b[0m, in \u001b[0;36mNDFrame._drop_axis\u001b[0;34m(self, labels, axis, level, errors, only_slice)\u001b[0m\n\u001b[1;32m   4544\u001b[0m         new_axis \u001b[38;5;241m=\u001b[39m axis\u001b[38;5;241m.\u001b[39mdrop(labels, level\u001b[38;5;241m=\u001b[39mlevel, errors\u001b[38;5;241m=\u001b[39merrors)\n\u001b[1;32m   4545\u001b[0m     \u001b[38;5;28;01melse\u001b[39;00m:\n\u001b[0;32m-> 4546\u001b[0m         new_axis \u001b[38;5;241m=\u001b[39m axis\u001b[38;5;241m.\u001b[39mdrop(labels, errors\u001b[38;5;241m=\u001b[39merrors)\n\u001b[1;32m   4547\u001b[0m     indexer \u001b[38;5;241m=\u001b[39m axis\u001b[38;5;241m.\u001b[39mget_indexer(new_axis)\n\u001b[1;32m   4549\u001b[0m \u001b[38;5;66;03m# Case for non-unique axis\u001b[39;00m\n\u001b[1;32m   4550\u001b[0m \u001b[38;5;28;01melse\u001b[39;00m:\n",
      "File \u001b[0;32m~/.conda/envs/enigma_xgb/lib/python3.11/site-packages/pandas/core/indexes/base.py:6934\u001b[0m, in \u001b[0;36mIndex.drop\u001b[0;34m(self, labels, errors)\u001b[0m\n\u001b[1;32m   6932\u001b[0m \u001b[38;5;28;01mif\u001b[39;00m mask\u001b[38;5;241m.\u001b[39many():\n\u001b[1;32m   6933\u001b[0m     \u001b[38;5;28;01mif\u001b[39;00m errors \u001b[38;5;241m!=\u001b[39m \u001b[38;5;124m\"\u001b[39m\u001b[38;5;124mignore\u001b[39m\u001b[38;5;124m\"\u001b[39m:\n\u001b[0;32m-> 6934\u001b[0m         \u001b[38;5;28;01mraise\u001b[39;00m \u001b[38;5;167;01mKeyError\u001b[39;00m(\u001b[38;5;124mf\u001b[39m\u001b[38;5;124m\"\u001b[39m\u001b[38;5;132;01m{\u001b[39;00m\u001b[38;5;28mlist\u001b[39m(labels[mask])\u001b[38;5;132;01m}\u001b[39;00m\u001b[38;5;124m not found in axis\u001b[39m\u001b[38;5;124m\"\u001b[39m)\n\u001b[1;32m   6935\u001b[0m     indexer \u001b[38;5;241m=\u001b[39m indexer[\u001b[38;5;241m~\u001b[39mmask]\n\u001b[1;32m   6936\u001b[0m \u001b[38;5;28;01mreturn\u001b[39;00m \u001b[38;5;28mself\u001b[39m\u001b[38;5;241m.\u001b[39mdelete(indexer)\n",
      "\u001b[0;31mKeyError\u001b[0m: \"['sex'] not found in axis\""
     ]
    }
   ],
   "source": [
    "analyzer.create_pipeline()"
   ]
  },
  {
   "cell_type": "code",
   "execution_count": 170,
   "metadata": {},
   "outputs": [],
   "source": [
    "analyzer.fit_best_xgb_model()"
   ]
  },
  {
   "cell_type": "code",
   "execution_count": 173,
   "metadata": {},
   "outputs": [
    {
     "data": {
      "text/plain": [
       "['day',\n",
       " 'neg_signal_trapz_DA_cross',\n",
       " 'neg_signal_trapz_DA_cue',\n",
       " 'neg_signal_trapz_DA_shock',\n",
       " 'pos_signal_trapz_DA_cross',\n",
       " 'pos_signal_trapz_DA_cue',\n",
       " 'pos_signal_trapz_DA_shock',\n",
       " 'signal_max_DA_cross',\n",
       " 'signal_max_DA_cue',\n",
       " 'signal_max_DA_shock',\n",
       " 'signal_min_DA_cross',\n",
       " 'signal_min_DA_cue',\n",
       " 'signal_min_DA_shock',\n",
       " 'signal_trapz_DA_cross',\n",
       " 'signal_trapz_DA_cue',\n",
       " 'signal_trapz_DA_shock']"
      ]
     },
     "execution_count": 173,
     "metadata": {},
     "output_type": "execute_result"
    }
   ],
   "source": [
    "analyzer._feature_names"
   ]
  },
  {
   "cell_type": "code",
   "execution_count": 172,
   "metadata": {},
   "outputs": [
    {
     "data": {
      "text/plain": [
       "16"
      ]
     },
     "execution_count": 172,
     "metadata": {},
     "output_type": "execute_result"
    }
   ],
   "source": [
    "len(analyzer.pipeline.processor.get_feature_names_out())"
   ]
  },
  {
   "cell_type": "code",
   "execution_count": 194,
   "metadata": {},
   "outputs": [
    {
     "data": {
      "text/html": [
       "<div>\n",
       "<style scoped>\n",
       "    .dataframe tbody tr th:only-of-type {\n",
       "        vertical-align: middle;\n",
       "    }\n",
       "\n",
       "    .dataframe tbody tr th {\n",
       "        vertical-align: top;\n",
       "    }\n",
       "\n",
       "    .dataframe thead th {\n",
       "        text-align: right;\n",
       "    }\n",
       "</style>\n",
       "<table border=\"1\" class=\"dataframe\">\n",
       "  <thead>\n",
       "    <tr style=\"text-align: right;\">\n",
       "      <th></th>\n",
       "      <th>mouse_id</th>\n",
       "      <th>day</th>\n",
       "      <th>event</th>\n",
       "      <th>sensor</th>\n",
       "      <th>time</th>\n",
       "      <th>trial</th>\n",
       "      <th>signal</th>\n",
       "      <th>action</th>\n",
       "      <th>latency</th>\n",
       "      <th>sex</th>\n",
       "      <th>learning_phase</th>\n",
       "      <th>trial_count</th>\n",
       "    </tr>\n",
       "  </thead>\n",
       "  <tbody>\n",
       "    <tr>\n",
       "      <th>0</th>\n",
       "      <td>12</td>\n",
       "      <td>5</td>\n",
       "      <td>cue</td>\n",
       "      <td>D2</td>\n",
       "      <td>-25.000000</td>\n",
       "      <td>0</td>\n",
       "      <td>-0.155359</td>\n",
       "      <td>escape</td>\n",
       "      <td>0.00</td>\n",
       "      <td>F</td>\n",
       "      <td>0</td>\n",
       "      <td>115</td>\n",
       "    </tr>\n",
       "    <tr>\n",
       "      <th>1</th>\n",
       "      <td>12</td>\n",
       "      <td>5</td>\n",
       "      <td>cue</td>\n",
       "      <td>D2</td>\n",
       "      <td>-24.901531</td>\n",
       "      <td>0</td>\n",
       "      <td>-0.420553</td>\n",
       "      <td>escape</td>\n",
       "      <td>0.00</td>\n",
       "      <td>F</td>\n",
       "      <td>0</td>\n",
       "      <td>115</td>\n",
       "    </tr>\n",
       "    <tr>\n",
       "      <th>2</th>\n",
       "      <td>12</td>\n",
       "      <td>5</td>\n",
       "      <td>cue</td>\n",
       "      <td>D2</td>\n",
       "      <td>-24.803064</td>\n",
       "      <td>0</td>\n",
       "      <td>-1.592294</td>\n",
       "      <td>escape</td>\n",
       "      <td>0.00</td>\n",
       "      <td>F</td>\n",
       "      <td>0</td>\n",
       "      <td>115</td>\n",
       "    </tr>\n",
       "    <tr>\n",
       "      <th>3</th>\n",
       "      <td>12</td>\n",
       "      <td>5</td>\n",
       "      <td>cue</td>\n",
       "      <td>D2</td>\n",
       "      <td>-24.704596</td>\n",
       "      <td>0</td>\n",
       "      <td>-1.268734</td>\n",
       "      <td>escape</td>\n",
       "      <td>0.00</td>\n",
       "      <td>F</td>\n",
       "      <td>0</td>\n",
       "      <td>115</td>\n",
       "    </tr>\n",
       "    <tr>\n",
       "      <th>4</th>\n",
       "      <td>12</td>\n",
       "      <td>5</td>\n",
       "      <td>cue</td>\n",
       "      <td>D2</td>\n",
       "      <td>-24.606127</td>\n",
       "      <td>0</td>\n",
       "      <td>-0.210176</td>\n",
       "      <td>escape</td>\n",
       "      <td>0.00</td>\n",
       "      <td>F</td>\n",
       "      <td>0</td>\n",
       "      <td>115</td>\n",
       "    </tr>\n",
       "    <tr>\n",
       "      <th>...</th>\n",
       "      <td>...</td>\n",
       "      <td>...</td>\n",
       "      <td>...</td>\n",
       "      <td>...</td>\n",
       "      <td>...</td>\n",
       "      <td>...</td>\n",
       "      <td>...</td>\n",
       "      <td>...</td>\n",
       "      <td>...</td>\n",
       "      <td>...</td>\n",
       "      <td>...</td>\n",
       "      <td>...</td>\n",
       "    </tr>\n",
       "    <tr>\n",
       "      <th>5860105</th>\n",
       "      <td>1</td>\n",
       "      <td>4</td>\n",
       "      <td>escape</td>\n",
       "      <td>D1</td>\n",
       "      <td>19.606127</td>\n",
       "      <td>1</td>\n",
       "      <td>0.299603</td>\n",
       "      <td>avoid</td>\n",
       "      <td>7.54</td>\n",
       "      <td>F</td>\n",
       "      <td>0</td>\n",
       "      <td>87</td>\n",
       "    </tr>\n",
       "    <tr>\n",
       "      <th>5860106</th>\n",
       "      <td>1</td>\n",
       "      <td>4</td>\n",
       "      <td>escape</td>\n",
       "      <td>D1</td>\n",
       "      <td>19.704596</td>\n",
       "      <td>1</td>\n",
       "      <td>-0.249408</td>\n",
       "      <td>avoid</td>\n",
       "      <td>7.54</td>\n",
       "      <td>F</td>\n",
       "      <td>0</td>\n",
       "      <td>87</td>\n",
       "    </tr>\n",
       "    <tr>\n",
       "      <th>5860107</th>\n",
       "      <td>1</td>\n",
       "      <td>4</td>\n",
       "      <td>escape</td>\n",
       "      <td>D1</td>\n",
       "      <td>19.803064</td>\n",
       "      <td>1</td>\n",
       "      <td>-0.486369</td>\n",
       "      <td>avoid</td>\n",
       "      <td>7.54</td>\n",
       "      <td>F</td>\n",
       "      <td>0</td>\n",
       "      <td>87</td>\n",
       "    </tr>\n",
       "    <tr>\n",
       "      <th>5860108</th>\n",
       "      <td>1</td>\n",
       "      <td>4</td>\n",
       "      <td>escape</td>\n",
       "      <td>D1</td>\n",
       "      <td>19.901531</td>\n",
       "      <td>1</td>\n",
       "      <td>-0.146374</td>\n",
       "      <td>avoid</td>\n",
       "      <td>7.54</td>\n",
       "      <td>F</td>\n",
       "      <td>0</td>\n",
       "      <td>87</td>\n",
       "    </tr>\n",
       "    <tr>\n",
       "      <th>5860109</th>\n",
       "      <td>1</td>\n",
       "      <td>4</td>\n",
       "      <td>escape</td>\n",
       "      <td>D1</td>\n",
       "      <td>20.000000</td>\n",
       "      <td>1</td>\n",
       "      <td>0.068169</td>\n",
       "      <td>avoid</td>\n",
       "      <td>7.54</td>\n",
       "      <td>F</td>\n",
       "      <td>0</td>\n",
       "      <td>87</td>\n",
       "    </tr>\n",
       "  </tbody>\n",
       "</table>\n",
       "<p>5860110 rows × 12 columns</p>\n",
       "</div>"
      ],
      "text/plain": [
       "         mouse_id  day   event sensor       time  trial    signal  action  \\\n",
       "0              12    5     cue     D2 -25.000000      0 -0.155359  escape   \n",
       "1              12    5     cue     D2 -24.901531      0 -0.420553  escape   \n",
       "2              12    5     cue     D2 -24.803064      0 -1.592294  escape   \n",
       "3              12    5     cue     D2 -24.704596      0 -1.268734  escape   \n",
       "4              12    5     cue     D2 -24.606127      0 -0.210176  escape   \n",
       "...           ...  ...     ...    ...        ...    ...       ...     ...   \n",
       "5860105         1    4  escape     D1  19.606127      1  0.299603   avoid   \n",
       "5860106         1    4  escape     D1  19.704596      1 -0.249408   avoid   \n",
       "5860107         1    4  escape     D1  19.803064      1 -0.486369   avoid   \n",
       "5860108         1    4  escape     D1  19.901531      1 -0.146374   avoid   \n",
       "5860109         1    4  escape     D1  20.000000      1  0.068169   avoid   \n",
       "\n",
       "         latency sex  learning_phase  trial_count  \n",
       "0           0.00   F               0          115  \n",
       "1           0.00   F               0          115  \n",
       "2           0.00   F               0          115  \n",
       "3           0.00   F               0          115  \n",
       "4           0.00   F               0          115  \n",
       "...          ...  ..             ...          ...  \n",
       "5860105     7.54   F               0           87  \n",
       "5860106     7.54   F               0           87  \n",
       "5860107     7.54   F               0           87  \n",
       "5860108     7.54   F               0           87  \n",
       "5860109     7.54   F               0           87  \n",
       "\n",
       "[5860110 rows x 12 columns]"
      ]
     },
     "execution_count": 194,
     "metadata": {},
     "output_type": "execute_result"
    }
   ],
   "source": [
    "import pandas as pd\n",
    "from src.data_processing.preprocessing.pandas_preprocessors import xgb_reg_signal_params_only_pd_preprocessor, normalize_by_baseline, final_experiment_preprocessor\n",
    "data = pd.read_parquet(results.data_path)\n",
    "data"
   ]
  },
  {
   "cell_type": "code",
   "execution_count": 196,
   "metadata": {},
   "outputs": [
    {
     "name": "stderr",
     "output_type": "stream",
     "text": [
      "The default value of numeric_only in DataFrameGroupBy.mean is deprecated. In a future version, numeric_only will default to False. Either specify numeric_only or select only columns which should be valid for the function.\n",
      "pivot_table dropped a column because it failed to aggregate. This behavior is deprecated and will raise in a future version of pandas. Select only the columns that can be aggregated.\n"
     ]
    }
   ],
   "source": [
    "processed_data = final_experiment_preprocessor(df = data, baseline_normalizer = normalize_by_baseline, query = results.experiment_query)"
   ]
  },
  {
   "cell_type": "code",
   "execution_count": 198,
   "metadata": {},
   "outputs": [
    {
     "data": {
      "text/plain": [
       "array([0.        , 0.03571429, 0.08333333, 0.09090909, 0.11764706,\n",
       "       0.12      , 0.125     , 0.13043478, 0.15      , 0.16666667,\n",
       "       0.17391304, 0.20833333, 0.2173913 , 0.22222222, 0.22727273,\n",
       "       0.23076923, 0.23529412, 0.25      , 0.27777778, 0.28571429,\n",
       "       0.33333333, 0.375     , 0.38461538, 0.4       , 0.42857143,\n",
       "       0.44444444, 0.47619048, 0.5       , 0.54545455, 0.6       ,\n",
       "       0.625     , 0.66666667, 0.71428571, 0.75      , 0.8       ,\n",
       "       0.83333333, 0.88888889, 1.        ])"
      ]
     },
     "execution_count": 198,
     "metadata": {},
     "output_type": "execute_result"
    }
   ],
   "source": [
    "processed_data.ratio_avoid.unique()"
   ]
  },
  {
   "cell_type": "code",
   "execution_count": null,
   "metadata": {},
   "outputs": [],
   "source": []
  }
 ],
 "metadata": {
  "kernelspec": {
   "display_name": "enigma_xgbuser",
   "language": "python",
   "name": "enigma_xgbuser"
  },
  "language_info": {
   "codemirror_mode": {
    "name": "ipython",
    "version": 3
   },
   "file_extension": ".py",
   "mimetype": "text/x-python",
   "name": "python",
   "nbconvert_exporter": "python",
   "pygments_lexer": "ipython3",
   "version": "3.11.2"
  }
 },
 "nbformat": 4,
 "nbformat_minor": 4
}
