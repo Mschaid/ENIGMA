{
 "cells": [
  {
   "cell_type": "code",
   "execution_count": 6,
   "metadata": {},
   "outputs": [
    {
     "name": "stdout",
     "output_type": "stream",
     "text": [
      "The autoreload extension is already loaded. To reload it, use:\n",
      "  %reload_ext autoreload\n"
     ]
    }
   ],
   "source": [
    "%load_ext autoreload\n",
    "%autoreload 2"
   ]
  },
  {
   "cell_type": "code",
   "execution_count": 25,
   "metadata": {},
   "outputs": [],
   "source": [
    "import multiprocessing as mp\n",
    "from src.data_processing.model_analyzers.experimenters.batch_experimenters import BatchExperimeter, XGBRegBatchExperimenter, XGBNormRegBatchExperimenter\n",
    "from dataclasses import dataclass\n",
    "from typing import Dict, List\n",
    "import logging\n",
    "from pathlib import Path\n",
    "\n",
    "@dataclass\n",
    "class BatchExperimentMetaData:\n",
    "    main_path: str\n",
    "    number_of_runs: int\n",
    "    experiment_conditions: Dict[str, List[str]]\n",
    "    filter_keys: List[str] = None\n",
    "\n",
    "\n",
    "def batch_experiment(exp_data: BatchExperimentMetaData, experimenter: BatchExperimeter = XGBRegBatchExperimenter):\n",
    "    batch_experimenter = experimenter(\n",
    "        exp_data.main_path, exp_data)\n",
    "\n",
    "    experiment_directories = batch_experimenter.get_experiment_directories(\n",
    "        exp_data.filter_keys)\n",
    "    print(f\"directories found: {experiment_directories}\")\n",
    "\n",
    "    # experimenters = batch_experimenter.set_up_experimenters(\n",
    "    #     experiment_directories)\n",
    "    # batch_experimenter.run_experiments(experimenters, exp_data.number_of_runs)\n",
    "\n",
    "\n",
    "# def main():\n",
    "#     print(\"main\")\n",
    "#     NUMBER_OF_RUNS = 30\n",
    "#     MAIN_PATH = \"results/experiments/endpoint_experiments/xgb_regression_da_normalzied_tune\"\n",
    "#     EXPERIMENMT_CONDITIONS = {\n",
    "#         \"with_day\": None,\n",
    "#         \"without_day\": [\"day\"]\n",
    "#     }\n",
    "#     FILTER_KEYS = ['norm_elastic_net']\n",
    "\n",
    "#     experiment_data = BatchExperimentMetaData(\n",
    "#         main_path=MAIN_PATH,\n",
    "#         number_of_runs=NUMBER_OF_RUNS,\n",
    "#         experiment_conditions=EXPERIMENMT_CONDITIONS,\n",
    "#         filter_keys=FILTER_KEYS)\n",
    "\n",
    "#     print(\"running batch experiment\")\n",
    "#     batch_experiment(experiment_data, experimenter=XGBNormRegBatchExperimenter)\n",
    "#     print(\"done\")\n",
    "\n",
    "# if __name__ == '__main__':\n",
    "#     main()\n"
   ]
  },
  {
   "cell_type": "code",
   "execution_count": 43,
   "metadata": {},
   "outputs": [
    {
     "name": "stdout",
     "output_type": "stream",
     "text": [
      "directories found: [PosixPath('/projects/p31961/ENIGMA/results/experiments/endpoint_experiments/xgb_regression_da_normalzied_tune/norm_elastic_net')]\n"
     ]
    }
   ],
   "source": [
    "NUMBER_OF_RUNS = 30\n",
    "MAIN_PATH = \"/projects/p31961/ENIGMA/results/experiments/endpoint_experiments/xgb_regression_da_normalzied_tune\"\n",
    "EXPERIMENMT_CONDITIONS = {\n",
    "    \"with_day\": None,\n",
    "    \"without_day\": [\"day\"]\n",
    "}\n",
    "filter_keywords = ['net']\n",
    "\n",
    "experiment_data = BatchExperimentMetaData(\n",
    "    main_path=MAIN_PATH,\n",
    "    number_of_runs=NUMBER_OF_RUNS,\n",
    "    experiment_conditions=EXPERIMENMT_CONDITIONS,\n",
    "    filter_keys=FILTER_KEYS)\n",
    "\n",
    "batch_experiment(experiment_data, experimenter = XGBNormRegBatchExperimenter)"
   ]
  },
  {
   "cell_type": "code",
   "execution_count": 40,
   "metadata": {},
   "outputs": [
    {
     "ename": "NameError",
     "evalue": "name 'filter_keywords' is not defined",
     "output_type": "error",
     "traceback": [
      "\u001b[0;31m---------------------------------------------------------------------------\u001b[0m",
      "\u001b[0;31mNameError\u001b[0m                                 Traceback (most recent call last)",
      "Cell \u001b[0;32mIn[40], line 2\u001b[0m\n\u001b[1;32m      1\u001b[0m path \u001b[38;5;241m=\u001b[39m Path(MAIN_PATH)\n\u001b[0;32m----> 2\u001b[0m directories \u001b[38;5;241m=\u001b[39m  [d \u001b[38;5;28;01mfor\u001b[39;00m d \u001b[38;5;129;01min\u001b[39;00m path\u001b[38;5;241m.\u001b[39mrglob(\u001b[38;5;124m'\u001b[39m\u001b[38;5;124m*\u001b[39m\u001b[38;5;124m'\u001b[39m) \u001b[38;5;28;01mif\u001b[39;00m d\u001b[38;5;241m.\u001b[39mis_dir() \u001b[38;5;129;01mand\u001b[39;00m \u001b[38;5;129;01mnot\u001b[39;00m d\u001b[38;5;241m.\u001b[39mname\u001b[38;5;241m.\u001b[39mstartswith(\u001b[38;5;124m'\u001b[39m\u001b[38;5;124m.\u001b[39m\u001b[38;5;124m'\u001b[39m) \u001b[38;5;129;01mand\u001b[39;00m \u001b[38;5;28many\u001b[39m(keyword \u001b[38;5;129;01min\u001b[39;00m d\u001b[38;5;241m.\u001b[39mname \u001b[38;5;28;01mfor\u001b[39;00m keyword \u001b[38;5;129;01min\u001b[39;00m filter_keywords)]\n",
      "Cell \u001b[0;32mIn[40], line 2\u001b[0m, in \u001b[0;36m<listcomp>\u001b[0;34m(.0)\u001b[0m\n\u001b[1;32m      1\u001b[0m path \u001b[38;5;241m=\u001b[39m Path(MAIN_PATH)\n\u001b[0;32m----> 2\u001b[0m directories \u001b[38;5;241m=\u001b[39m  [d \u001b[38;5;28;01mfor\u001b[39;00m d \u001b[38;5;129;01min\u001b[39;00m path\u001b[38;5;241m.\u001b[39mrglob(\u001b[38;5;124m'\u001b[39m\u001b[38;5;124m*\u001b[39m\u001b[38;5;124m'\u001b[39m) \u001b[38;5;28;01mif\u001b[39;00m d\u001b[38;5;241m.\u001b[39mis_dir() \u001b[38;5;129;01mand\u001b[39;00m \u001b[38;5;129;01mnot\u001b[39;00m d\u001b[38;5;241m.\u001b[39mname\u001b[38;5;241m.\u001b[39mstartswith(\u001b[38;5;124m'\u001b[39m\u001b[38;5;124m.\u001b[39m\u001b[38;5;124m'\u001b[39m) \u001b[38;5;129;01mand\u001b[39;00m \u001b[38;5;28many\u001b[39m(keyword \u001b[38;5;129;01min\u001b[39;00m d\u001b[38;5;241m.\u001b[39mname \u001b[38;5;28;01mfor\u001b[39;00m keyword \u001b[38;5;129;01min\u001b[39;00m filter_keywords)]\n",
      "\u001b[0;31mNameError\u001b[0m: name 'filter_keywords' is not defined"
     ]
    }
   ],
   "source": [
    "\n"
   ]
  },
  {
   "cell_type": "code",
   "execution_count": 41,
   "metadata": {},
   "outputs": [
    {
     "name": "stdout",
     "output_type": "stream",
     "text": [
      "xgb_regression_da_normalzied_tune\n",
      "xgb_regression_da_and_d2_only_hyperopt_tune_no_reg\n",
      ".DS_Store\n",
      "xgb_regression_da_and_d1_only_hyperopt_tune_no_reg\n",
      "xgb_regression_da_only_hyperopt_tune_no_reg\n",
      "hyper_opt_results.parquet\n",
      ".ipynb_checkpoints\n",
      "norm_exper_hp_tuning_hyperopt.log\n",
      "norm_elastic_net\n",
      ".hydra\n",
      "params.yaml\n",
      "norm_exper_hp_tuning_hyperopt-checkpoint.log\n",
      "hyper_opt_results.parquet\n",
      "norm_elastic_net_hyperopt_tune.log\n",
      ".hydra\n",
      "params.yaml\n",
      "config.yaml\n",
      "overrides.yaml\n",
      "hydra.yaml\n",
      "config.yaml\n",
      "overrides.yaml\n",
      "hydra.yaml\n",
      "with_day_experiment_results\n",
      "hyper_opt_results.parquet\n",
      "xgb_regression_da_and_d2_elastic_net\n",
      ".hydra\n",
      "xgb_regression_signal_params_only_hyperopt_tune_no_reg.log\n",
      "params.yaml\n",
      "feature_importance_results.parquet\n",
      "metric_results.parquet\n",
      "with_day_experiment_results\n",
      "hyper_opt_results.parquet\n",
      "without_day_experiment_results\n",
      "elastic_net_reg_hyperopt_tune.log\n",
      ".hydra\n",
      "params.yaml\n",
      "feature_importance_results.parquet\n",
      "metric_results.parquet\n",
      "feature_importance_results.parquet\n",
      "metric_results.parquet\n",
      "config.yaml\n",
      "overrides.yaml\n",
      "hydra.yaml\n",
      "config.yaml\n",
      "overrides.yaml\n",
      "hydra.yaml\n",
      "with_day_experiment_results\n",
      "hyper_opt_results.parquet\n",
      "xgb_regression_da_and_d1_elastic_net\n",
      ".hydra\n",
      "xgb_regression_signal_params_only_hyperopt_tune_no_reg.log\n",
      "params.yaml\n",
      "feature_importance_results.parquet\n",
      "metric_results.parquet\n",
      "with_day_experiment_results\n",
      "hyper_opt_results.parquet\n",
      "without_day_experiment_results\n",
      "elastic_net_reg_hyperopt_tune.log\n",
      ".hydra\n",
      "params.yaml\n",
      "feature_importance_results.parquet\n",
      "metric_results.parquet\n",
      "feature_importance_results.parquet\n",
      "metric_results.parquet\n",
      "config.yaml\n",
      "overrides.yaml\n",
      "hydra.yaml\n",
      "config.yaml\n",
      "overrides.yaml\n",
      "hydra.yaml\n",
      "with_day_experiment_results\n",
      "hyper_opt_results.parquet\n",
      "xgb_regression_da_only_hyperopt_elastic_net\n",
      ".hydra\n",
      "xgb_regression_signal_params_only_hyperopt_tune_no_reg.log\n",
      "params.yaml\n",
      "feature_importance_results.parquet\n",
      "metric_results.parquet\n",
      "with_day_experiment_results\n",
      "hyper_opt_results.parquet\n",
      "without_day_experiment_results\n",
      "elastic_net_reg_hyperopt_tune.log\n",
      ".hydra\n",
      "params.yaml\n",
      "feature_importance_results.parquet\n",
      "metric_results.parquet\n",
      "feature_importance_results.parquet\n",
      "metric_results.parquet\n",
      "config.yaml\n",
      "overrides.yaml\n",
      "hydra.yaml\n",
      "config.yaml\n",
      "overrides.yaml\n",
      "hydra.yaml\n"
     ]
    }
   ],
   "source": [
    "for d in path.rglob('*'):\n",
    "    print(d.name)"
   ]
  },
  {
   "cell_type": "code",
   "execution_count": null,
   "metadata": {},
   "outputs": [],
   "source": []
  }
 ],
 "metadata": {
  "kernelspec": {
   "display_name": "enigma_xgbuser",
   "language": "python",
   "name": "enigma_xgbuser"
  },
  "language_info": {
   "codemirror_mode": {
    "name": "ipython",
    "version": 3
   },
   "file_extension": ".py",
   "mimetype": "text/x-python",
   "name": "python",
   "nbconvert_exporter": "python",
   "pygments_lexer": "ipython3",
   "version": "3.11.2"
  }
 },
 "nbformat": 4,
 "nbformat_minor": 4
}
