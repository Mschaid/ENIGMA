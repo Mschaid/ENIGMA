{
 "cells": [
  {
   "cell_type": "code",
   "execution_count": null,
   "metadata": {},
   "outputs": [
    {
     "ename": "",
     "evalue": "",
     "output_type": "error",
     "traceback": [
      "\u001b[1;31mFailed to connect to the remote Jupyter Server 'http://localhost:8333/'. Verify the server is running and reachable. (Failed to connect to the remote Jupyter Server 'http://localhost:8333/'. Verify the server is running and reachable. (request to http://localhost:8333/api/kernels?1707320666757 failed, reason: connect ECONNREFUSED 127.0.0.1:8333).)."
     ]
    }
   ],
   "source": [
    "%load_ext autoreload\n",
    "%autoreload 2"
   ]
  },
  {
   "cell_type": "code",
   "execution_count": 29,
   "metadata": {},
   "outputs": [
    {
     "name": "stdout",
     "output_type": "stream",
     "text": [
      "main\n",
      "batch_experiment\n",
      "XGBNormRegBatchExperimenter\n",
      "BatchExperimentMetaData(main_path='/projects/p31961/ENIGMA/results/experiments/endpoint_experiments', number_of_runs=30, experiment_conditions={'with_day': ['mouse_id'], 'without_day': ['mouse_id', 'day']}, filter_keys=None)\n"
     ]
    },
    {
     "ename": "AttributeError",
     "evalue": "property 'results' of 'XGBNormRegExperimenter' object has no setter",
     "output_type": "error",
     "traceback": [
      "\u001b[0;31m---------------------------------------------------------------------------\u001b[0m",
      "\u001b[0;31mAttributeError\u001b[0m                            Traceback (most recent call last)",
      "Cell \u001b[0;32mIn[29], line 51\u001b[0m\n\u001b[1;32m     47\u001b[0m     batch_experiment(experiment_data, experimenter\u001b[38;5;241m=\u001b[39mXGBNormRegBatchExperimenter)\n\u001b[1;32m     50\u001b[0m \u001b[38;5;28;01mif\u001b[39;00m \u001b[38;5;18m__name__\u001b[39m \u001b[38;5;241m==\u001b[39m \u001b[38;5;124m'\u001b[39m\u001b[38;5;124m__main__\u001b[39m\u001b[38;5;124m'\u001b[39m:\n\u001b[0;32m---> 51\u001b[0m     main()\n",
      "Cell \u001b[0;32mIn[29], line 47\u001b[0m, in \u001b[0;36mmain\u001b[0;34m()\u001b[0m\n\u001b[1;32m     40\u001b[0m experiment_data \u001b[38;5;241m=\u001b[39m BatchExperimentMetaData(\n\u001b[1;32m     41\u001b[0m     main_path\u001b[38;5;241m=\u001b[39mMAIN_PATH,\n\u001b[1;32m     42\u001b[0m     number_of_runs\u001b[38;5;241m=\u001b[39mNUMBER_OF_RUNS,\n\u001b[1;32m     43\u001b[0m     experiment_conditions\u001b[38;5;241m=\u001b[39mEXPERIMENMT_CONDITIONS\n\u001b[1;32m     44\u001b[0m )\n\u001b[1;32m     45\u001b[0m     \u001b[38;5;66;03m# filter_keys=FILTER_KEYS)\u001b[39;00m\n\u001b[0;32m---> 47\u001b[0m batch_experiment(experiment_data, experimenter\u001b[38;5;241m=\u001b[39mXGBNormRegBatchExperimenter)\n",
      "Cell \u001b[0;32mIn[29], line 25\u001b[0m, in \u001b[0;36mbatch_experiment\u001b[0;34m(exp_data, experimenter)\u001b[0m\n\u001b[1;32m     20\u001b[0m \u001b[38;5;28mprint\u001b[39m(batch_experimenter\u001b[38;5;241m.\u001b[39mexperiment_conditions)\n\u001b[1;32m     22\u001b[0m experiment_directories \u001b[38;5;241m=\u001b[39m batch_experimenter\u001b[38;5;241m.\u001b[39mget_experiment_directories(\n\u001b[1;32m     23\u001b[0m     exp_data\u001b[38;5;241m.\u001b[39mfilter_keys)\n\u001b[0;32m---> 25\u001b[0m experimenters \u001b[38;5;241m=\u001b[39m batch_experimenter\u001b[38;5;241m.\u001b[39mset_up_experimenters(\n\u001b[1;32m     26\u001b[0m     experiment_directories)\n\u001b[1;32m     27\u001b[0m batch_experimenter\u001b[38;5;241m.\u001b[39mrun_experiments(experimenters, exp_data\u001b[38;5;241m.\u001b[39mnumber_of_runs)\n",
      "File \u001b[0;32m/projects/p31961/ENIGMA/src/data_processing/model_analyzers/experimenters/batch_experimenters.py:79\u001b[0m, in \u001b[0;36mXGBNormRegBatchExperimenter.set_up_experimenters\u001b[0;34m(self, directories)\u001b[0m\n\u001b[1;32m     78\u001b[0m \u001b[38;5;28;01mdef\u001b[39;00m \u001b[38;5;21mset_up_experimenters\u001b[39m(\u001b[38;5;28mself\u001b[39m, directories: List[Path]):\n\u001b[0;32m---> 79\u001b[0m     experimenters \u001b[38;5;241m=\u001b[39m [\u001b[38;5;28mself\u001b[39m\u001b[38;5;241m.\u001b[39mexperimenter_factory(\n\u001b[1;32m     80\u001b[0m         d)\u001b[38;5;241m.\u001b[39mcreate_experimenter()\u001b[38;5;28;01mfor\u001b[39;00m d \u001b[38;5;129;01min\u001b[39;00m directories]\n\u001b[1;32m     81\u001b[0m     \u001b[38;5;28;01mreturn\u001b[39;00m experimenters\n",
      "File \u001b[0;32m/projects/p31961/ENIGMA/src/data_processing/model_analyzers/experimenters/batch_experimenters.py:80\u001b[0m, in \u001b[0;36m<listcomp>\u001b[0;34m(.0)\u001b[0m\n\u001b[1;32m     78\u001b[0m \u001b[38;5;28;01mdef\u001b[39;00m \u001b[38;5;21mset_up_experimenters\u001b[39m(\u001b[38;5;28mself\u001b[39m, directories: List[Path]):\n\u001b[1;32m     79\u001b[0m     experimenters \u001b[38;5;241m=\u001b[39m [\u001b[38;5;28mself\u001b[39m\u001b[38;5;241m.\u001b[39mexperimenter_factory(\n\u001b[0;32m---> 80\u001b[0m         d)\u001b[38;5;241m.\u001b[39mcreate_experimenter()\u001b[38;5;28;01mfor\u001b[39;00m d \u001b[38;5;129;01min\u001b[39;00m directories]\n\u001b[1;32m     81\u001b[0m     \u001b[38;5;28;01mreturn\u001b[39;00m experimenters\n",
      "File \u001b[0;32m/projects/p31961/ENIGMA/src/data_processing/model_analyzers/experimenters/experimenters.py:157\u001b[0m, in \u001b[0;36mXGBNormRegExperimenterFactory.create_experimenter\u001b[0;34m(self)\u001b[0m\n\u001b[1;32m    156\u001b[0m \u001b[38;5;28;01mdef\u001b[39;00m \u001b[38;5;21mcreate_experimenter\u001b[39m(\u001b[38;5;28mself\u001b[39m) \u001b[38;5;241m-\u001b[39m\u001b[38;5;241m>\u001b[39m XGBNormRegExperimenter:\n\u001b[0;32m--> 157\u001b[0m     \u001b[38;5;28;01mreturn\u001b[39;00m XGBNormRegExperimenter(\u001b[38;5;28mself\u001b[39m\u001b[38;5;241m.\u001b[39mpath, \u001b[38;5;28mself\u001b[39m\u001b[38;5;241m.\u001b[39manalyzer, \u001b[38;5;28mself\u001b[39m\u001b[38;5;241m.\u001b[39mresults)\n",
      "File \u001b[0;32m/projects/p31961/ENIGMA/src/data_processing/model_analyzers/experimenters/experimenters.py:111\u001b[0m, in \u001b[0;36mXGBNormRegExperimenter.__init__\u001b[0;34m(self, path, analyzer, results_reader)\u001b[0m\n\u001b[1;32m    109\u001b[0m \u001b[38;5;28;01mdef\u001b[39;00m \u001b[38;5;21m__init__\u001b[39m(\u001b[38;5;28mself\u001b[39m, path, analyzer, results):\n\u001b[1;32m    110\u001b[0m     \u001b[38;5;28mself\u001b[39m\u001b[38;5;241m.\u001b[39mpath \u001b[38;5;241m=\u001b[39m Path(path)\n\u001b[0;32m--> 111\u001b[0m     \u001b[38;5;28mself\u001b[39m\u001b[38;5;241m.\u001b[39mresults \u001b[38;5;241m=\u001b[39m results(path)\n\u001b[1;32m    112\u001b[0m     \u001b[38;5;28mself\u001b[39m\u001b[38;5;241m.\u001b[39manalyzer \u001b[38;5;241m=\u001b[39m analyzer\n\u001b[1;32m    113\u001b[0m     \u001b[38;5;28mself\u001b[39m\u001b[38;5;241m.\u001b[39m_experiment_metric_results \u001b[38;5;241m=\u001b[39m \u001b[38;5;28;01mNone\u001b[39;00m\n",
      "\u001b[0;31mAttributeError\u001b[0m: property 'results' of 'XGBNormRegExperimenter' object has no setter"
     ]
    }
   ],
   "source": [
    "import multiprocessing as mp\n",
    "from src.data_processing.model_analyzers.experimenters.batch_experimenters import BatchExperimeter, XGBRegBatchExperimenter, XGBNormRegBatchExperimenter\n",
    "from dataclasses import dataclass\n",
    "from typing import Dict, List\n",
    "import logging\n",
    "\n",
    "\n",
    "@dataclass\n",
    "class BatchExperimentMetaData:\n",
    "    main_path: str\n",
    "    number_of_runs: int\n",
    "    experiment_conditions: Dict[str, List[str]]\n",
    "    filter_keys: List[str] = None\n",
    "\n",
    "\n",
    "def batch_experiment(exp_data: BatchExperimentMetaData, experimenter: BatchExperimeter = XGBRegBatchExperimenter):\n",
    "    print(\"batch_experiment\")\n",
    "    batch_experimenter = experimenter(\n",
    "        exp_data.main_path, exp_data)\n",
    "    print(batch_experimenter.experiment_conditions)\n",
    "\n",
    "    experiment_directories = batch_experimenter.get_experiment_directories(\n",
    "        exp_data.filter_keys)\n",
    "\n",
    "    experimenters = batch_experimenter.set_up_experimenters(\n",
    "        experiment_directories)\n",
    "    batch_experimenter.run_experiments(experimenters, exp_data.number_of_runs)\n",
    "\n",
    "\n",
    "def main():\n",
    "    print(\"main\")\n",
    "    NUMBER_OF_RUNS = 30\n",
    "    MAIN_PATH = \"/projects/p31961/ENIGMA/results/experiments/endpoint_experiments\"\n",
    "    EXPERIMENMT_CONDITIONS = {\n",
    "        \"with_day\": [\"mouse_id\"],\n",
    "        \"without_day\": [\"mouse_id\", \"day\"]\n",
    "    }\n",
    "    # FILTER_KEYS = ['tune']\n",
    "\n",
    "    experiment_data = BatchExperimentMetaData(\n",
    "        main_path=MAIN_PATH,\n",
    "        number_of_runs=NUMBER_OF_RUNS,\n",
    "        experiment_conditions=EXPERIMENMT_CONDITIONS\n",
    "    )\n",
    "        # filter_keys=FILTER_KEYS)\n",
    "\n",
    "    batch_experiment(experiment_data, experimenter=XGBNormRegBatchExperimenter)\n",
    "\n",
    "\n",
    "if __name__ == '__main__':\n",
    "    main()"
   ]
  },
  {
   "cell_type": "code",
   "execution_count": 5,
   "metadata": {},
   "outputs": [],
   "source": []
  },
  {
   "cell_type": "code",
   "execution_count": 3,
   "metadata": {},
   "outputs": [
    {
     "name": "stdout",
     "output_type": "stream",
     "text": [
      "config.json\t images    notebooks\t     scripts\t   system_design\n",
      "data\t\t jobs\t   README.md\t     setup.py\t   tests\n",
      "documentation\t LICENSE   requirements.txt  src\n",
      "environment.yml  modeling  results\t     src.egg-info\n"
     ]
    }
   ],
   "source": [
    "!ls"
   ]
  },
  {
   "cell_type": "code",
   "execution_count": null,
   "metadata": {},
   "outputs": [],
   "source": []
  }
 ],
 "metadata": {
  "kernelspec": {
   "display_name": "enigma_xgbuser",
   "language": "python",
   "name": "enigma_xgbuser"
  },
  "language_info": {
   "codemirror_mode": {
    "name": "ipython",
    "version": 3
   },
   "file_extension": ".py",
   "mimetype": "text/x-python",
   "name": "python",
   "nbconvert_exporter": "python",
   "pygments_lexer": "ipython3",
   "version": "3.11.2"
  }
 },
 "nbformat": 4,
 "nbformat_minor": 2
}
