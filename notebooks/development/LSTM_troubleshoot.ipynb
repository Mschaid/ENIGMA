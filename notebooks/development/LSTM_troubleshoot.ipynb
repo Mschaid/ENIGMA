{
 "cells": [
  {
   "cell_type": "code",
   "execution_count": null,
   "metadata": {},
   "outputs": [],
   "source": [
    "import numpy as np\n",
    "import pandas as pd\n",
    "import tensorflow as tf\n",
    "from tensorflow.keras import Sequential\n",
    "from tensorflow.keras.layers import Dense, LSTM, Lambda\n",
    "\n",
    "from src.modeling.experiments.prototyping.lstm_protype_simple import (\n",
    "                                                          set_tensorboard,\n",
    "                                                          train_model,\n",
    "                                                          evaluate_model,\n",
    "                                                          validated_tf,\n",
    "                                                          inference\n",
    "                                                          )\n",
    "\n",
    "from src.modeling.experiments.prototyping.lstm_simple_initial_training import (build_path, read_data_from_paths)"
   ]
  },
  {
   "attachments": {},
   "cell_type": "markdown",
   "metadata": {},
   "source": [
    "# Troubleshooting differnce in training loss between inital prototype and model objevts\n"
   ]
  },
  {
   "cell_type": "code",
   "execution_count": null,
   "metadata": {},
   "outputs": [],
   "source": [
    "PATH_TO_DATA = '/projects/p31961/gaby_data/aggregated_data/data_pipeline_downsampled/datasets'\n",
    "\n",
    "MODEL_ID = 'LSTM_03_simple_downsampled'\n",
    "MODEL_PATH_TO_SAVE = '/projects/p31961/dopamine_modeling/results/models/'\n",
    "\n",
    "TENSORBOARD_CALLBACK = set_tensorboard(MODEL_ID)\n",
    "\n",
    "X_train_path = build_path(PATH_TO_DATA, 'X_train')\n",
    "y_train_path = build_path(PATH_TO_DATA, 'y_train')\n",
    "X_test_path = build_path(PATH_TO_DATA, 'X_test')\n",
    "y_test_path = build_path(PATH_TO_DATA, 'y_test')\n",
    "\n",
    "# # read data from parquet files\n",
    "X_train = pd.read_parquet(X_train_path)\n",
    "y_train = pd.read_parquet(y_train_path)\n",
    "X_test = pd.read_parquet(X_test_path)\n",
    "y_test = pd.read_parquet(y_test_path)\n",
    "\n",
    "X_train = X_train[::500]\n",
    "X_test = X_test[::500]\n",
    "y_train = y_train[::500] \n",
    "y_test = y_test[::500]\n",
    "\n",
    "\n"
   ]
  },
  {
   "cell_type": "code",
   "execution_count": null,
   "metadata": {},
   "outputs": [],
   "source": [
    "\n",
    "# # #build lodel\n",
    "def experiment_01():\n",
    "    \n",
    "    def build_lstm(sequence_length, input_dimentions, units):\n",
    "\n",
    "        input_shape = (sequence_length, input_dimentions)\n",
    "        ltsm_model = Sequential([\n",
    "            Lambda(lambda x: tf.expand_dims(x, axis=-1), input_shape=[None]),\n",
    "            LSTM(units, input_shape=input_shape),\n",
    "            Dense(1)\n",
    "        ])\n",
    "        return ltsm_model\n",
    "\n",
    "    for units in range(32, 128, 32):\n",
    "        model = build_lstm(sequence_length=90, input_dimentions=X_train.shape[1],units = units) \n",
    "        train_model(model, X_train, y_train, TENSORBOARD_CALLBACK)\n"
   ]
  },
  {
   "cell_type": "code",
   "execution_count": null,
   "metadata": {},
   "outputs": [],
   "source": [
    "experiment_01()"
   ]
  },
  {
   "cell_type": "code",
   "execution_count": null,
   "metadata": {},
   "outputs": [],
   "source": [
    "from src.models.SimpleLSTM import SimpleLSTM\n",
    "\n",
    "def experiment_02():\n",
    "    \n",
    "    for units in range(32, 128, 32):\n",
    "        model = SimpleLSTM(lstm_1_units = units, sequence_length=90, num_features=X_train.shape[1])\n",
    "        model.compile(optimizer = 'adam', loss = 'mean_squared_error')\n",
    "        model.fit(X_train, y_train, epochs = 50)\n",
    "        \n",
    "experiment_02()\n",
    "        \n",
    "    \n",
    "    "
   ]
  },
  {
   "cell_type": "code",
   "execution_count": null,
   "metadata": {},
   "outputs": [],
   "source": [
    "from src.models.StackedLSTM import StackedLSTM\n",
    "\n",
    "def experiment_03():\n",
    "    \n",
    "    for units in range(32, 128, 32):\n",
    "        model = StackedLSTM(lstm_1_units = units, sequence_length=90, num_features=X_train.shape[1])\n",
    "        model.compile(optimizer = 'adam', loss = 'mean_squared_error')\n",
    "        model.fit(X_train, y_train, epochs = 50)\n",
    "        \n",
    "experiment_03()"
   ]
  },
  {
   "attachments": {},
   "cell_type": "markdown",
   "metadata": {},
   "source": [
    "# RESOLVED: I had the wrong activation in the dense output for both Simple and StackLSTM. Was relu, is now default 'None- so linear is applied'"
   ]
  },
  {
   "cell_type": "code",
   "execution_count": null,
   "metadata": {},
   "outputs": [],
   "source": []
  }
 ],
 "metadata": {
  "language_info": {
   "name": "python"
  },
  "orig_nbformat": 4
 },
 "nbformat": 4,
 "nbformat_minor": 2
}
