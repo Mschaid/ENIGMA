{
 "cells": [
  {
   "cell_type": "code",
   "execution_count": 13,
   "metadata": {},
   "outputs": [],
   "source": [
    "import pandas as pd\n",
    "import polars as pl\n",
    "import numpy as np\n",
    "\n",
    "PATH_TO_DATA = r'/projects/p31961/gaby_data/aggregated_data/downsampled_aggregated_data.parquet.gzp'\n",
    "PATH_TO_LATENCY_DATA = \"/projects/p31961/gaby_all_raw_data/AA_Latencies.xlsx\"\n",
    "PATH_TO_SEX_DATA = \"/projects/p31961/gaby_all_raw_data/AA_ListofSex.xlsx\""
   ]
  },
  {
   "cell_type": "code",
   "execution_count": 88,
   "metadata": {},
   "outputs": [
    {
     "name": "stdout",
     "output_type": "stream",
     "text": [
      "CPU times: user 6 µs, sys: 1 µs, total: 7 µs\n",
      "Wall time: 14.3 µs\n"
     ]
    }
   ],
   "source": [
    "%time\n",
    "data = pl.read_parquet(PATH_TO_DATA)\n",
    "sex_data = pl.read_excel(PATH_TO_SEX_DATA)\n",
    "lat_data = pl.read_excel(PATH_TO_LATENCY_DATA)\n"
   ]
  },
  {
   "cell_type": "code",
   "execution_count": 90,
   "metadata": {},
   "outputs": [
    {
     "data": {
      "text/html": [
       "<div><style>\n",
       ".dataframe > thead > tr > th,\n",
       ".dataframe > tbody > tr > td {\n",
       "  text-align: right;\n",
       "}\n",
       "</style>\n",
       "<small>shape: (2_940, 5)</small><table border=\"1\" class=\"dataframe\"><thead><tr><th>mouse_id</th><th>day</th><th>trial</th><th>latency</th><th>event</th></tr><tr><td>str</td><td>i64</td><td>i64</td><td>f64</td><td>str</td></tr></thead><tbody><tr><td>&quot;309_910&quot;</td><td>1</td><td>1</td><td>5.69</td><td>&quot;escape&quot;</td></tr><tr><td>&quot;309_910&quot;</td><td>1</td><td>2</td><td>6.07</td><td>&quot;escape&quot;</td></tr><tr><td>&quot;309_910&quot;</td><td>1</td><td>3</td><td>9.65</td><td>&quot;escape&quot;</td></tr><tr><td>&quot;309_910&quot;</td><td>1</td><td>4</td><td>12.62</td><td>&quot;escape&quot;</td></tr><tr><td>&quot;309_910&quot;</td><td>1</td><td>5</td><td>6.7</td><td>&quot;escape&quot;</td></tr><tr><td>&quot;309_910&quot;</td><td>1</td><td>6</td><td>7.39</td><td>&quot;escape&quot;</td></tr><tr><td>&quot;309_910&quot;</td><td>1</td><td>7</td><td>7.43</td><td>&quot;escape&quot;</td></tr><tr><td>&quot;309_910&quot;</td><td>1</td><td>8</td><td>7.09</td><td>&quot;escape&quot;</td></tr><tr><td>&quot;309_910&quot;</td><td>1</td><td>9</td><td>6.95</td><td>&quot;escape&quot;</td></tr><tr><td>&quot;309_910&quot;</td><td>1</td><td>10</td><td>6.66</td><td>&quot;escape&quot;</td></tr><tr><td>&quot;309_910&quot;</td><td>1</td><td>11</td><td>6.54</td><td>&quot;escape&quot;</td></tr><tr><td>&quot;309_910&quot;</td><td>1</td><td>12</td><td>5.66</td><td>&quot;escape&quot;</td></tr><tr><td>&hellip;</td><td>&hellip;</td><td>&hellip;</td><td>&hellip;</td><td>&hellip;</td></tr><tr><td>&quot;152_071&quot;</td><td>7</td><td>19</td><td>2.48</td><td>&quot;avoid&quot;</td></tr><tr><td>&quot;152_071&quot;</td><td>7</td><td>20</td><td>2.88</td><td>&quot;avoid&quot;</td></tr><tr><td>&quot;152_071&quot;</td><td>7</td><td>21</td><td>2.82</td><td>&quot;avoid&quot;</td></tr><tr><td>&quot;152_071&quot;</td><td>7</td><td>22</td><td>2.19</td><td>&quot;avoid&quot;</td></tr><tr><td>&quot;152_071&quot;</td><td>7</td><td>23</td><td>3.6</td><td>&quot;avoid&quot;</td></tr><tr><td>&quot;152_071&quot;</td><td>7</td><td>24</td><td>3.31</td><td>&quot;avoid&quot;</td></tr><tr><td>&quot;152_071&quot;</td><td>7</td><td>25</td><td>2.35</td><td>&quot;avoid&quot;</td></tr><tr><td>&quot;152_071&quot;</td><td>7</td><td>26</td><td>2.78</td><td>&quot;avoid&quot;</td></tr><tr><td>&quot;152_071&quot;</td><td>7</td><td>27</td><td>4.8</td><td>&quot;avoid&quot;</td></tr><tr><td>&quot;152_071&quot;</td><td>7</td><td>28</td><td>1.89</td><td>&quot;avoid&quot;</td></tr><tr><td>&quot;152_071&quot;</td><td>7</td><td>29</td><td>3.64</td><td>&quot;avoid&quot;</td></tr><tr><td>&quot;152_071&quot;</td><td>7</td><td>30</td><td>3.48</td><td>&quot;avoid&quot;</td></tr></tbody></table></div>"
      ],
      "text/plain": [
       "shape: (2_940, 5)\n",
       "┌──────────┬─────┬───────┬─────────┬────────┐\n",
       "│ mouse_id ┆ day ┆ trial ┆ latency ┆ event  │\n",
       "│ ---      ┆ --- ┆ ---   ┆ ---     ┆ ---    │\n",
       "│ str      ┆ i64 ┆ i64   ┆ f64     ┆ str    │\n",
       "╞══════════╪═════╪═══════╪═════════╪════════╡\n",
       "│ 309_910  ┆ 1   ┆ 1     ┆ 5.69    ┆ escape │\n",
       "│ 309_910  ┆ 1   ┆ 2     ┆ 6.07    ┆ escape │\n",
       "│ 309_910  ┆ 1   ┆ 3     ┆ 9.65    ┆ escape │\n",
       "│ 309_910  ┆ 1   ┆ 4     ┆ 12.62   ┆ escape │\n",
       "│ …        ┆ …   ┆ …     ┆ …       ┆ …      │\n",
       "│ 152_071  ┆ 7   ┆ 27    ┆ 4.8     ┆ avoid  │\n",
       "│ 152_071  ┆ 7   ┆ 28    ┆ 1.89    ┆ avoid  │\n",
       "│ 152_071  ┆ 7   ┆ 29    ┆ 3.64    ┆ avoid  │\n",
       "│ 152_071  ┆ 7   ┆ 30    ┆ 3.48    ┆ avoid  │\n",
       "└──────────┴─────┴───────┴─────────┴────────┘"
      ]
     },
     "execution_count": 90,
     "metadata": {},
     "output_type": "execute_result"
    }
   ],
   "source": [
    "def tweak_lat_data(df):\n",
    "\n",
    "    return (\n",
    "        df\n",
    "        .rename({c: c.replace(' ', '_').lower() for c in df.columns})\n",
    "        .rename({'mouse_': 'mouse_id'})\n",
    "        .with_columns([\n",
    "            pl.col('mouse_id').str.replace(\"-\", \"_\"),\n",
    "            pl.col('event').str.to_lowercase()\n",
    "            ])\n",
    ")\n",
    "    \n",
    "lat_data_tweaked = tweak_lat_data(lat_data)\n",
    "lat_data_tweaked"
   ]
  },
  {
   "cell_type": "code",
   "execution_count": 95,
   "metadata": {},
   "outputs": [
    {
     "data": {
      "text/html": [
       "<div><style>\n",
       ".dataframe > thead > tr > th,\n",
       ".dataframe > tbody > tr > td {\n",
       "  text-align: right;\n",
       "}\n",
       "</style>\n",
       "<small>shape: (14, 2)</small><table border=\"1\" class=\"dataframe\"><thead><tr><th>mouse_id</th><th>sex</th></tr><tr><td>str</td><td>str</td></tr></thead><tbody><tr><td>&quot;309_910&quot;</td><td>&quot;M&quot;</td></tr><tr><td>&quot;309_911&quot;</td><td>&quot;M&quot;</td></tr><tr><td>&quot;310_907&quot;</td><td>&quot;M&quot;</td></tr><tr><td>&quot;310_908&quot;</td><td>&quot;M&quot;</td></tr><tr><td>&quot;310_909&quot;</td><td>&quot;M&quot;</td></tr><tr><td>&quot;312_257&quot;</td><td>&quot;F&quot;</td></tr><tr><td>&quot;313_255&quot;</td><td>&quot;M&quot;</td></tr><tr><td>&quot;142_237&quot;</td><td>&quot;F&quot;</td></tr><tr><td>&quot;142_238&quot;</td><td>&quot;F&quot;</td></tr><tr><td>&quot;144_234&quot;</td><td>&quot;F&quot;</td></tr><tr><td>&quot;145_232&quot;</td><td>&quot;M&quot;</td></tr><tr><td>&quot;150_671&quot;</td><td>&quot;M&quot;</td></tr><tr><td>&quot;150_672&quot;</td><td>&quot;M&quot;</td></tr><tr><td>&quot;152_071&quot;</td><td>&quot;F&quot;</td></tr></tbody></table></div>"
      ],
      "text/plain": [
       "shape: (14, 2)\n",
       "┌──────────┬─────┐\n",
       "│ mouse_id ┆ sex │\n",
       "│ ---      ┆ --- │\n",
       "│ str      ┆ str │\n",
       "╞══════════╪═════╡\n",
       "│ 309_910  ┆ M   │\n",
       "│ 309_911  ┆ M   │\n",
       "│ 310_907  ┆ M   │\n",
       "│ 310_908  ┆ M   │\n",
       "│ …        ┆ …   │\n",
       "│ 145_232  ┆ M   │\n",
       "│ 150_671  ┆ M   │\n",
       "│ 150_672  ┆ M   │\n",
       "│ 152_071  ┆ F   │\n",
       "└──────────┴─────┘"
      ]
     },
     "execution_count": 95,
     "metadata": {},
     "output_type": "execute_result"
    }
   ],
   "source": [
    "def tweak_sex_data(df):\n",
    "    return (\n",
    "        df\n",
    "        .rename({c: c.replace(' ', '').lower() for c in df.columns})\n",
    "        .rename({'mouseid': 'mouse_id'})\n",
    "        .with_columns([pl.col('mouse_id').str.replace(\"-\", \"_\")])\n",
    "    )\n",
    "    \n",
    "tweak_sex_df = tweak_sex_data(sex_data)\n",
    "tweak_sex_df"
   ]
  },
  {
   "cell_type": "code",
   "execution_count": null,
   "metadata": {},
   "outputs": [],
   "source": []
  }
 ],
 "metadata": {
  "kernelspec": {
   "display_name": "enigma",
   "language": "python",
   "name": "enignma"
  },
  "language_info": {
   "codemirror_mode": {
    "name": "ipython",
    "version": 3
   },
   "file_extension": ".py",
   "mimetype": "text/x-python",
   "name": "python",
   "nbconvert_exporter": "python",
   "pygments_lexer": "ipython3",
   "version": "3.11.2"
  },
  "orig_nbformat": 4
 },
 "nbformat": 4,
 "nbformat_minor": 2
}
