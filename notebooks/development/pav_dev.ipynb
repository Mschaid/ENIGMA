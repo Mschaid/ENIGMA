{
 "cells": [
  {
   "cell_type": "code",
   "execution_count": 1,
   "metadata": {},
   "outputs": [],
   "source": [
    "%load_ext autoreload\n",
    "%autoreload 2"
   ]
  },
  {
   "cell_type": "code",
   "execution_count": 2,
   "metadata": {},
   "outputs": [],
   "source": [
    "import pandas as pd\n",
    "from src.data_processing.processors.guppy_processors.experimental_metadata import ExperimentMetaData, MetaDataFactory\n",
    "from src.data_processing.processors.guppy_processors.config_loader import ConfigLoader\n",
    "from src.data_processing.processors.guppy_processors.data_preprocessor import BatchPreprocessor\n",
    "from src.data_processing.processors.guppy_processors.processing_strategies import ProcessingStrategy, BehaviorProcessingStrategy\n",
    "from src.data_processing.processors.guppy_processors.aggregators import BehaviorAggregationStrategy, aggregate_data\n",
    "\n",
    "\n",
    "EXPERIMENTAL_CONFIGS = '/Volumes/fsmresfiles/Basic_Sciences/Phys/Lerner_Lab_tnl2633/Mike/LHA_dopamine/LH_NAC_Headfix_FP/Photometry/Pav Training/claire_cohort/conf/config.yaml'\n",
    "configs = ConfigLoader(EXPERIMENTAL_CONFIGS)\n",
    "meta_data_factory = MetaDataFactory(configs)"
   ]
  },
  {
   "cell_type": "code",
   "execution_count": 3,
   "metadata": {},
   "outputs": [
    {
     "data": {
      "text/plain": [
       "PosixPath('/Volumes/fsmresfiles/Basic_Sciences/Phys/Lerner_Lab_tnl2633/Mike/LHA_dopamine/LH_NAC_Headfix_FP/Photometry/Pav Training/claire_cohort/analyzed_data')"
      ]
     },
     "execution_count": 3,
     "metadata": {},
     "output_type": "execute_result"
    }
   ],
   "source": [
    "configs.data_path"
   ]
  },
  {
   "cell_type": "code",
   "execution_count": 4,
   "metadata": {},
   "outputs": [],
   "source": [
    "behavior_strategy_params={\n",
    "    'config_key': 'behavioral_events',\n",
    "    'time_window': (-10, 20),\n",
    "    'events': (('cue', 'lick'), ('cue', 'encoder'))\n",
    "\n",
    "}\n",
    "meta_data_factory = MetaDataFactory(configs)\n",
    "behavior_strategy = BehaviorProcessingStrategy(**behavior_strategy_params)\n",
    "batch_preprocessor = BatchPreprocessor(meta_data_factory, behavior_strategy)\n"
   ]
  },
  {
   "cell_type": "code",
   "execution_count": 27,
   "metadata": {},
   "outputs": [
    {
     "data": {
      "text/plain": [
       "(-10, 20)"
      ]
     },
     "execution_count": 27,
     "metadata": {},
     "output_type": "execute_result"
    }
   ],
   "source": [
    "behavior_strategy.time_window"
   ]
  },
  {
   "cell_type": "code",
   "execution_count": 6,
   "metadata": {},
   "outputs": [],
   "source": [
    "batch_preprocessor.process_data(num_processors=4)\n"
   ]
  },
  {
   "cell_type": "code",
   "execution_count": 7,
   "metadata": {},
   "outputs": [],
   "source": [
    "files = configs.data_path.rglob('*processed_data.parquet')"
   ]
  },
  {
   "cell_type": "code",
   "execution_count": 8,
   "metadata": {},
   "outputs": [],
   "source": [
    "from src.data_processing.processors.guppy_processors.aggregators import BehaviorAggregationStrategy, aggregate_data\n",
    "aggregate_data(configs, BehaviorAggregationStrategy)"
   ]
  },
  {
   "cell_type": "code",
   "execution_count": 9,
   "metadata": {},
   "outputs": [],
   "source": [
    "df = pd.read_parquet('/Volumes/fsmresfiles/Basic_Sciences/Phys/Lerner_Lab_tnl2633/Mike/LHA_dopamine/LH_NAC_Headfix_FP/Photometry/Pav Training/claire_cohort/analyzed_data/aggregated_data/aggregated_behavior_data.parquet')\n"
   ]
  },
  {
   "cell_type": "code",
   "execution_count": 24,
   "metadata": {},
   "outputs": [
    {
     "data": {
      "text/plain": [
       "41"
      ]
     },
     "execution_count": 24,
     "metadata": {},
     "output_type": "execute_result"
    }
   ],
   "source": [
    "df.time.nunique()"
   ]
  },
  {
   "cell_type": "code",
   "execution_count": 16,
   "metadata": {},
   "outputs": [
    {
     "data": {
      "text/html": [
       "<div>\n",
       "<style scoped>\n",
       "    .dataframe tbody tr th:only-of-type {\n",
       "        vertical-align: middle;\n",
       "    }\n",
       "\n",
       "    .dataframe tbody tr th {\n",
       "        vertical-align: top;\n",
       "    }\n",
       "\n",
       "    .dataframe thead th {\n",
       "        text-align: right;\n",
       "    }\n",
       "</style>\n",
       "<table border=\"1\" class=\"dataframe\">\n",
       "  <thead>\n",
       "    <tr style=\"text-align: right;\">\n",
       "      <th></th>\n",
       "      <th>lick_aligned_to_cue</th>\n",
       "      <th>encoder_aligned_to_cue</th>\n",
       "      <th>subject</th>\n",
       "      <th>user</th>\n",
       "      <th>date</th>\n",
       "      <th>time</th>\n",
       "    </tr>\n",
       "  </thead>\n",
       "  <tbody>\n",
       "    <tr>\n",
       "      <th>0</th>\n",
       "      <td>0.172414</td>\n",
       "      <td>4.137931</td>\n",
       "      <td>3816.0</td>\n",
       "      <td>User</td>\n",
       "      <td>2024-02-06</td>\n",
       "      <td>21.0</td>\n",
       "    </tr>\n",
       "    <tr>\n",
       "      <th>1</th>\n",
       "      <td>0.172414</td>\n",
       "      <td>1.724138</td>\n",
       "      <td>3816.0</td>\n",
       "      <td>User</td>\n",
       "      <td>2024-02-06</td>\n",
       "      <td>21.0</td>\n",
       "    </tr>\n",
       "    <tr>\n",
       "      <th>2</th>\n",
       "      <td>0.172414</td>\n",
       "      <td>3.620690</td>\n",
       "      <td>3816.0</td>\n",
       "      <td>User</td>\n",
       "      <td>2024-02-06</td>\n",
       "      <td>21.0</td>\n",
       "    </tr>\n",
       "    <tr>\n",
       "      <th>3</th>\n",
       "      <td>0.344828</td>\n",
       "      <td>4.482759</td>\n",
       "      <td>3816.0</td>\n",
       "      <td>User</td>\n",
       "      <td>2024-02-06</td>\n",
       "      <td>21.0</td>\n",
       "    </tr>\n",
       "    <tr>\n",
       "      <th>4</th>\n",
       "      <td>0.000000</td>\n",
       "      <td>1.379310</td>\n",
       "      <td>3816.0</td>\n",
       "      <td>User</td>\n",
       "      <td>2024-02-06</td>\n",
       "      <td>21.0</td>\n",
       "    </tr>\n",
       "    <tr>\n",
       "      <th>...</th>\n",
       "      <td>...</td>\n",
       "      <td>...</td>\n",
       "      <td>...</td>\n",
       "      <td>...</td>\n",
       "      <td>...</td>\n",
       "      <td>...</td>\n",
       "    </tr>\n",
       "    <tr>\n",
       "      <th>150</th>\n",
       "      <td>0.689655</td>\n",
       "      <td>3.275862</td>\n",
       "      <td>3816.0</td>\n",
       "      <td>User</td>\n",
       "      <td>2024-02-06</td>\n",
       "      <td>21.0</td>\n",
       "    </tr>\n",
       "    <tr>\n",
       "      <th>151</th>\n",
       "      <td>0.344828</td>\n",
       "      <td>4.827586</td>\n",
       "      <td>3816.0</td>\n",
       "      <td>User</td>\n",
       "      <td>2024-02-06</td>\n",
       "      <td>21.0</td>\n",
       "    </tr>\n",
       "    <tr>\n",
       "      <th>152</th>\n",
       "      <td>0.344828</td>\n",
       "      <td>3.275862</td>\n",
       "      <td>3816.0</td>\n",
       "      <td>User</td>\n",
       "      <td>2024-02-06</td>\n",
       "      <td>21.0</td>\n",
       "    </tr>\n",
       "    <tr>\n",
       "      <th>153</th>\n",
       "      <td>0.000000</td>\n",
       "      <td>4.482759</td>\n",
       "      <td>3816.0</td>\n",
       "      <td>User</td>\n",
       "      <td>2024-02-06</td>\n",
       "      <td>21.0</td>\n",
       "    </tr>\n",
       "    <tr>\n",
       "      <th>154</th>\n",
       "      <td>0.344828</td>\n",
       "      <td>3.448276</td>\n",
       "      <td>3816.0</td>\n",
       "      <td>User</td>\n",
       "      <td>2024-02-06</td>\n",
       "      <td>21.0</td>\n",
       "    </tr>\n",
       "  </tbody>\n",
       "</table>\n",
       "<p>155 rows × 6 columns</p>\n",
       "</div>"
      ],
      "text/plain": [
       "     lick_aligned_to_cue  encoder_aligned_to_cue  subject  user       date  \\\n",
       "0               0.172414                4.137931   3816.0  User 2024-02-06   \n",
       "1               0.172414                1.724138   3816.0  User 2024-02-06   \n",
       "2               0.172414                3.620690   3816.0  User 2024-02-06   \n",
       "3               0.344828                4.482759   3816.0  User 2024-02-06   \n",
       "4               0.000000                1.379310   3816.0  User 2024-02-06   \n",
       "..                   ...                     ...      ...   ...        ...   \n",
       "150             0.689655                3.275862   3816.0  User 2024-02-06   \n",
       "151             0.344828                4.827586   3816.0  User 2024-02-06   \n",
       "152             0.344828                3.275862   3816.0  User 2024-02-06   \n",
       "153             0.000000                4.482759   3816.0  User 2024-02-06   \n",
       "154             0.344828                3.448276   3816.0  User 2024-02-06   \n",
       "\n",
       "     time  \n",
       "0    21.0  \n",
       "1    21.0  \n",
       "2    21.0  \n",
       "3    21.0  \n",
       "4    21.0  \n",
       "..    ...  \n",
       "150  21.0  \n",
       "151  21.0  \n",
       "152  21.0  \n",
       "153  21.0  \n",
       "154  21.0  \n",
       "\n",
       "[155 rows x 6 columns]"
      ]
     },
     "execution_count": 16,
     "metadata": {},
     "output_type": "execute_result"
    }
   ],
   "source": [
    "test_df = df.reset_index(drop = True).query(\"subject == 3816 & date == '2024-02-06'\")\n",
    "test_df"
   ]
  },
  {
   "cell_type": "code",
   "execution_count": 22,
   "metadata": {},
   "outputs": [
    {
     "data": {
      "text/plain": [
       "[<matplotlib.lines.Line2D at 0x289d3d390>]"
      ]
     },
     "execution_count": 22,
     "metadata": {},
     "output_type": "execute_result"
    },
    {
     "data": {
      "image/png": "[encoded data removed]",
      "text/plain": [
       "<Figure size 640x480 with 1 Axes>"
      ]
     },
     "metadata": {},
     "output_type": "display_data"
    }
   ],
   "source": [
    "import matplotlib.pyplot as plt\n",
    "import numpy as np\n",
    "plt.plot(np.linspace(-10, 20, 155), test_df['lick_aligned_to_cue'],)"
   ]
  },
  {
   "cell_type": "code",
   "execution_count": null,
   "metadata": {},
   "outputs": [],
   "source": []
  }
 ],
 "metadata": {
  "kernelspec": {
   "display_name": "enigma",
   "language": "python",
   "name": "python3"
  },
  "language_info": {
   "codemirror_mode": {
    "name": "ipython",
    "version": 3
   },
   "file_extension": ".py",
   "mimetype": "text/x-python",
   "name": "python",
   "nbconvert_exporter": "python",
   "pygments_lexer": "ipython3",
   "version": "3.11.2"
  }
 },
 "nbformat": 4,
 "nbformat_minor": 2
}
