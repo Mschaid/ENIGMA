{
 "cells": [
  {
   "cell_type": "code",
   "execution_count": 8,
   "metadata": {},
   "outputs": [
    {
     "name": "stdout",
     "output_type": "stream",
     "text": [
      "The autoreload extension is already loaded. To reload it, use:\n",
      "  %reload_ext autoreload\n"
     ]
    }
   ],
   "source": [
    "%load_ext autoreload\n",
    "%autoreload 2"
   ]
  },
  {
   "cell_type": "code",
   "execution_count": 9,
   "metadata": {},
   "outputs": [
    {
     "name": "stdout",
     "output_type": "stream",
     "text": [
      "Total number of cores: 12\n"
     ]
    }
   ],
   "source": [
    "import pandas as pd\n",
    "import seaborn as sns\n",
    "import multiprocessing as mp\n",
    "from src.data_processing.processors.guppy_processors.experimental_metadata import ExperimentMetaData, MetaDataFactory\n",
    "from src.data_processing.processors.guppy_processors.config_loader import ConfigLoader\n",
    "from src.data_processing.processors.guppy_processors.processing_strategies import ProcessingStrategy, BehaviorProcessingStrategy, PhotometryProcessingStrategy\n",
    "from src.data_processing.processors.guppy_processors.aggregators import BehaviorAggregationStrategy, PhotometryAggregationStrategy, aggregate_data\n",
    "from src.data_processing.processors.guppy_processors.batch_data_processors import BatchBehaviorDataPreprocessor, BatchPhotometryDataPreprocessor\n",
    "total_cores = mp.cpu_count()\n",
    "print(f\"Total number of cores: {total_cores}\")\n",
    "\n",
    "\n",
    "EXPERIMENTAL_CONFIGS = '/Volumes/fsmresfiles/Basic_Sciences/Phys/Lerner_Lab_tnl2633/Mike/LHA_dopamine/LH_NAC_Headfix_FP/Photometry/Pav_Training/claire_cohort/conf/config.yaml'\n",
    "configs = ConfigLoader(EXPERIMENTAL_CONFIGS)\n",
    "meta_data_factory = MetaDataFactory(configs)"
   ]
  },
  {
   "cell_type": "code",
   "execution_count": null,
   "metadata": {},
   "outputs": [],
   "source": [
    "#behavior batch processing\n",
    "behavior_strategy_params={\n",
    "    'config_key': 'behavioral_events',\n",
    "    'time_window': (-10, 20),\n",
    "    'events': (('cue', 'lick'), \n",
    "               ('cue', 'encoder'),\n",
    "               ('reward', 'lick'),\n",
    "               ('reward', 'encoder')\n",
    "               )\n",
    "\n",
    "}\n",
    "\n",
    "\n",
    "behavior_strategy = BehaviorProcessingStrategy(**behavior_strategy_params)\n",
    "batch_behavior_preprocessor = BatchBehaviorDataPreprocessor(\n",
    "    meta_data_factory, behavior_strategy)\n",
    "\n",
    "batch_behavior_preprocessor.process_data(num_processors=10)\n",
    "aggregate_data(configs, BehaviorAggregationStrategy)"
   ]
  },
  {
   "cell_type": "code",
   "execution_count": 10,
   "metadata": {},
   "outputs": [
    {
     "name": "stderr",
     "output_type": "stream",
     "text": [
      "sys:1: UserWarning: Local categoricals have different encodings, expensive re-encoding is done to perform this merge operation. Consider using a StringCache or an Enum type if the categories are known in advance\n"
     ]
    }
   ],
   "source": [
    "\n",
    "\n",
    "# photometry_processing_params = {\n",
    "#     'signal_correction': 'z_score',\n",
    "#     'events_to_exclude': ['encoder', 'lick'],\n",
    "#     'save_bool': True,\n",
    "#     'return_df_bool': False\n",
    "# }\n",
    "# photometry_processing_strategy = PhotometryProcessingStrategy(\n",
    "#     **photometry_processing_params)\n",
    "\n",
    "# batch_photometry_preprocessor = BatchPhotometryDataPreprocessor(\n",
    "#     meta_data_factory, photometry_processing_strategy)\n",
    "\n",
    "# batch_photometry_preprocessor.process_data(num_processors=10)\n",
    "aggregate_data(configs =configs, aggregation_strategy=PhotometryAggregationStrategy)"
   ]
  },
  {
   "cell_type": "code",
   "execution_count": null,
   "metadata": {},
   "outputs": [],
   "source": []
  },
  {
   "cell_type": "code",
   "execution_count": null,
   "metadata": {},
   "outputs": [],
   "source": [
    "df = pd.read_parquet('/Volumes/fsmresfiles/Basic_Sciences/Phys/Lerner_Lab_tnl2633/Mike/LHA_dopamine/LH_NAC_Headfix_FP/Photometry/Pav_Training/claire_cohort/analyzed_data/aggregated_data/aggregated_behavior_data.parquet').sort_values(by = 'date')"
   ]
  },
  {
   "cell_type": "code",
   "execution_count": null,
   "metadata": {},
   "outputs": [],
   "source": [
    "facet = sns.FacetGrid(data=df, col = 'date', hue='subject', height=5, col_wrap=5, aspect=1)\n",
    "facet.map(sns.lineplot,  \"time\", \"lick_aligned_to_cue\", errorbar='se')"
   ]
  },
  {
   "cell_type": "code",
   "execution_count": null,
   "metadata": {},
   "outputs": [],
   "source": [
    "facet = sns.FacetGrid(data=df, col='date')\n",
    "facet.map(sns.lineplot,  \"time\", \"encoder_aligned_to_cue\", errorbar='se')"
   ]
  },
  {
   "cell_type": "code",
   "execution_count": null,
   "metadata": {},
   "outputs": [],
   "source": [
    "from matplotlib import pyplot as plt\n",
    "\n",
    "facet = sns.FacetGrid(data=data.filter(pl.col('behavioral_events') == 'cue'),\n",
    "                      col='structures', \n",
    "                      height=5, \n",
    "                      aspect=1, \n",
    "                      row_order=['LHA', 'NAC'], \n",
    "                      hue='structures')\n",
    "facet = facet.map(sns.lineplot,  \"timestamps\", \"z_score\", errorbar='se')\n",
    "facet.map(plt.axvline, x=0, color='grey', linewidth=0.5)"
   ]
  }
 ],
 "metadata": {
  "kernelspec": {
   "display_name": "enigma",
   "language": "python",
   "name": "python3"
  },
  "language_info": {
   "codemirror_mode": {
    "name": "ipython",
    "version": 3
   },
   "file_extension": ".py",
   "mimetype": "text/x-python",
   "name": "python",
   "nbconvert_exporter": "python",
   "pygments_lexer": "ipython3",
   "version": "3.11.2"
  }
 },
 "nbformat": 4,
 "nbformat_minor": 2
}
