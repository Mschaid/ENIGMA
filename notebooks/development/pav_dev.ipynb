{
 "cells": [
  {
   "cell_type": "code",
   "execution_count": 3,
   "metadata": {},
   "outputs": [],
   "source": [
    "%load_ext autoreload\n",
    "%autoreload 2"
   ]
  },
  {
   "cell_type": "code",
   "execution_count": 4,
   "metadata": {},
   "outputs": [],
   "source": [
    "import matplotlib.pyplot as plt\n",
    "import numpy as np\n",
    "import pandas as pd\n",
    "\n",
    "from src.data_processing.processors.guppy_processors.experimental_metadata import ExperimentMetaData, MetaDataFactory\n",
    "\n",
    "from pathlib import Path\n",
    "\n",
    "# def run_analysis():\n",
    "EXPERIMENTAL_CONFIGS = '/Volumes/fsmresfiles/Basic_Sciences/Phys/Lerner_Lab_tnl2633/Shudi/LHA_dopamine/conf/config.yaml'\n",
    "experiment_path = '/Volumes/fsmresfiles/Basic_Sciences/Phys/Lerner_Lab_tnl2633/Shudi/LHA_dopamine/analyzed_photometry/cohort_1/4756-231109-111759'\n",
    "configs = ConfigLoader(EXPERIMENTAL_CONFIGS)\n"
   ]
  },
  {
   "cell_type": "code",
   "execution_count": 5,
   "metadata": {},
   "outputs": [],
   "source": [
    "\n",
    "all_meta_data = MetaDataFactory(configs).all_meta_data\n",
    "\n",
    "# def processor_data(**kwargs):\n",
    "#     pl_df = preprocessor.generate_df_from_config_dict(\n",
    "#         config_key='behavioral_events')\n",
    "#     mean_dict = preprocessor.batch_calculate_mean_event_frequency(\n",
    "#         pl_df, (-10, 20), ('cue', 'lick'), ('cue', 'encoder'))\n",
    "#     preprocessor.aggreate_processed_results(mean_dict, return_df=False)\n",
    "#     preprocessor.processed_data_df"
   ]
  },
  {
   "cell_type": "code",
   "execution_count": 7,
   "metadata": {},
   "outputs": [],
   "source": [
    "from pathlib import Path\n",
    "from src.data_processing.processors.guppy_processors.config_loader import ConfigLoader\n",
    "from src.data_processing.processors.guppy_processors.data_preprocessor import BatchPreprocessor\n",
    "from src.data_processing.processors.guppy_processors.processing_strategies import ProcessingStrategy, BehaviorProcessingStrategy\n",
    "\n",
    "EXPERIMENTAL_CONFIGS = '/Volumes/fsmresfiles/Basic_Sciences/Phys/Lerner_Lab_tnl2633/Shudi/LHA_dopamine/conf/config.yaml'\n",
    "configs = ConfigLoader(EXPERIMENTAL_CONFIGS)\n",
    "meta_data_factory = MetaDataFactory(configs)\n",
    "\n",
    "behavior_strategy = BehaviorProcessingStrategy(config_key='behavioral_events',\n",
    "                                               time_window=(-10, 20),\n",
    "                                               events =(('cue', 'lick'), ('cue', 'encoder'))\n",
    "                                               )"
   ]
  },
  {
   "cell_type": "code",
   "execution_count": 38,
   "metadata": {},
   "outputs": [
    {
     "name": "stdout",
     "output_type": "stream",
     "text": [
      "event ('cue', 'lick') not found for 4755-231110-104321 \n"
     ]
    },
    {
     "data": {
      "text/html": [
       "<div>\n",
       "<style scoped>\n",
       "    .dataframe tbody tr th:only-of-type {\n",
       "        vertical-align: middle;\n",
       "    }\n",
       "\n",
       "    .dataframe tbody tr th {\n",
       "        vertical-align: top;\n",
       "    }\n",
       "\n",
       "    .dataframe thead th {\n",
       "        text-align: right;\n",
       "    }\n",
       "</style>\n",
       "<table border=\"1\" class=\"dataframe\">\n",
       "  <thead>\n",
       "    <tr style=\"text-align: right;\">\n",
       "      <th></th>\n",
       "      <th>encoder_aligned_to_cue</th>\n",
       "      <th>subject</th>\n",
       "      <th>user</th>\n",
       "      <th>date</th>\n",
       "      <th>time</th>\n",
       "    </tr>\n",
       "  </thead>\n",
       "  <tbody>\n",
       "    <tr>\n",
       "      <th>0</th>\n",
       "      <td>0.322581</td>\n",
       "      <td>4755.0</td>\n",
       "      <td>User</td>\n",
       "      <td>2023-11-10</td>\n",
       "      <td>2023-12-14 10:43:25</td>\n",
       "    </tr>\n",
       "    <tr>\n",
       "      <th>1</th>\n",
       "      <td>0.161290</td>\n",
       "      <td>4755.0</td>\n",
       "      <td>User</td>\n",
       "      <td>2023-11-10</td>\n",
       "      <td>2023-12-14 10:43:25</td>\n",
       "    </tr>\n",
       "    <tr>\n",
       "      <th>2</th>\n",
       "      <td>0.161290</td>\n",
       "      <td>4755.0</td>\n",
       "      <td>User</td>\n",
       "      <td>2023-11-10</td>\n",
       "      <td>2023-12-14 10:43:25</td>\n",
       "    </tr>\n",
       "    <tr>\n",
       "      <th>3</th>\n",
       "      <td>0.161290</td>\n",
       "      <td>4755.0</td>\n",
       "      <td>User</td>\n",
       "      <td>2023-11-10</td>\n",
       "      <td>2023-12-14 10:43:25</td>\n",
       "    </tr>\n",
       "    <tr>\n",
       "      <th>4</th>\n",
       "      <td>0.483871</td>\n",
       "      <td>4755.0</td>\n",
       "      <td>User</td>\n",
       "      <td>2023-11-10</td>\n",
       "      <td>2023-12-14 10:43:25</td>\n",
       "    </tr>\n",
       "    <tr>\n",
       "      <th>...</th>\n",
       "      <td>...</td>\n",
       "      <td>...</td>\n",
       "      <td>...</td>\n",
       "      <td>...</td>\n",
       "      <td>...</td>\n",
       "    </tr>\n",
       "    <tr>\n",
       "      <th>150</th>\n",
       "      <td>1.935484</td>\n",
       "      <td>4755.0</td>\n",
       "      <td>User</td>\n",
       "      <td>2023-11-10</td>\n",
       "      <td>2023-12-14 10:43:25</td>\n",
       "    </tr>\n",
       "    <tr>\n",
       "      <th>151</th>\n",
       "      <td>1.612903</td>\n",
       "      <td>4755.0</td>\n",
       "      <td>User</td>\n",
       "      <td>2023-11-10</td>\n",
       "      <td>2023-12-14 10:43:25</td>\n",
       "    </tr>\n",
       "    <tr>\n",
       "      <th>152</th>\n",
       "      <td>0.967742</td>\n",
       "      <td>4755.0</td>\n",
       "      <td>User</td>\n",
       "      <td>2023-11-10</td>\n",
       "      <td>2023-12-14 10:43:25</td>\n",
       "    </tr>\n",
       "    <tr>\n",
       "      <th>153</th>\n",
       "      <td>1.290323</td>\n",
       "      <td>4755.0</td>\n",
       "      <td>User</td>\n",
       "      <td>2023-11-10</td>\n",
       "      <td>2023-12-14 10:43:25</td>\n",
       "    </tr>\n",
       "    <tr>\n",
       "      <th>154</th>\n",
       "      <td>0.967742</td>\n",
       "      <td>4755.0</td>\n",
       "      <td>User</td>\n",
       "      <td>2023-11-10</td>\n",
       "      <td>2023-12-14 10:43:25</td>\n",
       "    </tr>\n",
       "  </tbody>\n",
       "</table>\n",
       "<p>155 rows × 5 columns</p>\n",
       "</div>"
      ],
      "text/plain": [
       "     encoder_aligned_to_cue  subject  user       date                time\n",
       "0                  0.322581   4755.0  User 2023-11-10 2023-12-14 10:43:25\n",
       "1                  0.161290   4755.0  User 2023-11-10 2023-12-14 10:43:25\n",
       "2                  0.161290   4755.0  User 2023-11-10 2023-12-14 10:43:25\n",
       "3                  0.161290   4755.0  User 2023-11-10 2023-12-14 10:43:25\n",
       "4                  0.483871   4755.0  User 2023-11-10 2023-12-14 10:43:25\n",
       "..                      ...      ...   ...        ...                 ...\n",
       "150                1.935484   4755.0  User 2023-11-10 2023-12-14 10:43:25\n",
       "151                1.612903   4755.0  User 2023-11-10 2023-12-14 10:43:25\n",
       "152                0.967742   4755.0  User 2023-11-10 2023-12-14 10:43:25\n",
       "153                1.290323   4755.0  User 2023-11-10 2023-12-14 10:43:25\n",
       "154                0.967742   4755.0  User 2023-11-10 2023-12-14 10:43:25\n",
       "\n",
       "[155 rows x 5 columns]"
      ]
     },
     "execution_count": 38,
     "metadata": {},
     "output_type": "execute_result"
    }
   ],
   "source": [
    "test = meta_data_factory.all_meta_data[1]\n",
    "from src.data_processing.processors.guppy_processors.data_preprocessor import DataPreprocessor\n",
    "\n",
    "preprocessor = DataPreprocessor(test)\n",
    "preprocessor\n",
    "pl_df = preprocessor.generate_df_from_config_dict(\n",
    "    config_key='behavioral_events')\n",
    "mean_dict = preprocessor.batch_calculate_mean_event_frequency(\n",
    "    pl_df, (-10, 20), ('cue', 'lick'), ('cue', 'encoder'))\n",
    "preprocessor.aggreate_processed_results(mean_dict, return_df=False)\n",
    "preprocessor.processed_data_df"
   ]
  },
  {
   "cell_type": "code",
   "execution_count": 8,
   "metadata": {},
   "outputs": [],
   "source": [
    "batch_preprocessor = BatchPreprocessor(meta_data_factory, behavior_strategy)"
   ]
  },
  {
   "cell_type": "code",
   "execution_count": 9,
   "metadata": {},
   "outputs": [
    {
     "name": "stdout",
     "output_type": "stream",
     "text": [
      "event ('cue', 'lick') not found for 4755-231110-104321 \n",
      "event ('cue', 'lick') not found for 4758-231102-120848 \n",
      "event ('cue', 'lick') not found for 4755-231116-095551 \n",
      "event ('cue', 'lick') not found for 4758-231031-142543 \n",
      "event ('cue', 'lick') not found for 4755-231109-103518 \n",
      "event ('cue', 'lick') not found for 4758-231205-114434 \n",
      "event ('cue', 'lick') not found for 4758-231109-120106 \n",
      "event ('cue', 'lick') not found for 4758-231121-111532 \n",
      "event ('cue', 'lick') not found for 4755-231114-130836 \n"
     ]
    }
   ],
   "source": [
    "batch_preprocessor.process_data()"
   ]
  },
  {
   "cell_type": "code",
   "execution_count": 27,
   "metadata": {},
   "outputs": [
    {
     "data": {
      "text/plain": [
       "{'data_path': '/Volumes/fsmresfiles/Basic_Sciences/Phys/Lerner_Lab_tnl2633/Shudi/LHA_dopamine/analyzed_photometry/cohort_1',\n",
       " 'structures': {'LHA': 'LHA', 'NAC': 'NAC'},\n",
       " 'behavioral_events': {'Cuet': 'cue',\n",
       "  'Lick': 'lick',\n",
       "  'Rwrp': 'reward',\n",
       "  'endr': 'encoder'},\n",
       " 'sucrose_start_date': '10-31-2023',\n",
       " 'sucrlose_start_date': '12-04-2023'}"
      ]
     },
     "execution_count": 27,
     "metadata": {},
     "output_type": "execute_result"
    }
   ],
   "source": [
    "configs.config_data"
   ]
  },
  {
   "cell_type": "code",
   "execution_count": null,
   "metadata": {},
   "outputs": [],
   "source": []
  }
 ],
 "metadata": {
  "kernelspec": {
   "display_name": "enigma",
   "language": "python",
   "name": "python3"
  },
  "language_info": {
   "codemirror_mode": {
    "name": "ipython",
    "version": 3
   },
   "file_extension": ".py",
   "mimetype": "text/x-python",
   "name": "python",
   "nbconvert_exporter": "python",
   "pygments_lexer": "ipython3",
   "version": "3.11.2"
  }
 },
 "nbformat": 4,
 "nbformat_minor": 2
}
