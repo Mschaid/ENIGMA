{
 "cells": [
  {
   "cell_type": "code",
   "execution_count": 101,
   "metadata": {},
   "outputs": [
    {
     "name": "stdout",
     "output_type": "stream",
     "text": [
      "The autoreload extension is already loaded. To reload it, use:\n",
      "  %reload_ext autoreload\n"
     ]
    }
   ],
   "source": [
    "%load_ext autoreload\n",
    "%autoreload 2"
   ]
  },
  {
   "cell_type": "code",
   "execution_count": 114,
   "metadata": {},
   "outputs": [
    {
     "data": {
      "text/plain": [
       "<src.data_processing.processors.pavlovian_processors.DataLoader.DataLoader at 0x169291490>"
      ]
     },
     "execution_count": 114,
     "metadata": {},
     "output_type": "execute_result"
    }
   ],
   "source": [
    "import pandas as pd\n",
    "from src.data_processing.processors.guppy_processors.DataLoader import DataLoader\n",
    "from src.data_processing.processors.guppy_processors.PavProcessor import PavProcessor\n",
    "from src.data_processing.processors.guppy_processors.PavVisualizer import PavVisualizer\n",
    "from src.data_processing.processors.guppy_processors.ExperimentMetaData import ExperimentMetaData\n",
    "\n",
    "# def run_analysis():\n",
    "# CONFIG_PATH = '/Volumes/fsmresfiles/Basic_Sciences/Phys/Lerner_Lab_tnl2633/Shudi/LHA_dopamine/conf/config.yaml'\n",
    "# data_loader = DataLoader(CONFIG_PATH)\n",
    "# pav_processor = PavProcessor(meta_data)\n",
    "data_loader"
   ]
  },
  {
   "cell_type": "code",
   "execution_count": 115,
   "metadata": {},
   "outputs": [],
   "source": [
    "experiment_path = '/Volumes/fsmresfiles/Basic_Sciences/Phys/Lerner_Lab_tnl2633/Shudi/LHA_dopamine/analyzed_photometry/cohort_1/4756-231201-122549'\n",
    "gup = ExperimentMetaData(experiment_path)"
   ]
  },
  {
   "cell_type": "code",
   "execution_count": 125,
   "metadata": {},
   "outputs": [
    {
     "data": {
      "text/html": [
       "<div>\n",
       "<style scoped>\n",
       "    .dataframe tbody tr th:only-of-type {\n",
       "        vertical-align: middle;\n",
       "    }\n",
       "\n",
       "    .dataframe tbody tr th {\n",
       "        vertical-align: top;\n",
       "    }\n",
       "\n",
       "    .dataframe thead th {\n",
       "        text-align: right;\n",
       "    }\n",
       "</style>\n",
       "<table border=\"1\" class=\"dataframe\">\n",
       "  <thead>\n",
       "    <tr style=\"text-align: right;\">\n",
       "      <th></th>\n",
       "      <th>405A</th>\n",
       "      <th>405C</th>\n",
       "      <th>465A</th>\n",
       "      <th>465C</th>\n",
       "      <th>Cuet</th>\n",
       "      <th>Lick</th>\n",
       "      <th>Rwrp</th>\n",
       "      <th>endr</th>\n",
       "    </tr>\n",
       "  </thead>\n",
       "  <tbody>\n",
       "    <tr>\n",
       "      <th>0</th>\n",
       "      <td>control_NAC</td>\n",
       "      <td>control_LHA</td>\n",
       "      <td>signal_NAC</td>\n",
       "      <td>signal_LHA</td>\n",
       "      <td>cue</td>\n",
       "      <td>lick</td>\n",
       "      <td>reward</td>\n",
       "      <td>encoder</td>\n",
       "    </tr>\n",
       "  </tbody>\n",
       "</table>\n",
       "</div>"
      ],
      "text/plain": [
       "          405A         405C        465A        465C Cuet  Lick    Rwrp  \\\n",
       "0  control_NAC  control_LHA  signal_NAC  signal_LHA  cue  lick  reward   \n",
       "\n",
       "      endr  \n",
       "0  encoder  "
      ]
     },
     "execution_count": 125,
     "metadata": {},
     "output_type": "execute_result"
    }
   ],
   "source": [
    "gup.stores_lists_as_frame['output_1']"
   ]
  },
  {
   "cell_type": "code",
   "execution_count": 130,
   "metadata": {},
   "outputs": [
    {
     "data": {
      "text/plain": [
       "[PosixPath('/Volumes/fsmresfiles/Basic_Sciences/Phys/Lerner_Lab_tnl2633/Shudi/LHA_dopamine/analyzed_photometry/cohort_1/4756-231201-122549/4756-231201-122549_output_1/cue_NAC.hdf5'),\n",
       " PosixPath('/Volumes/fsmresfiles/Basic_Sciences/Phys/Lerner_Lab_tnl2633/Shudi/LHA_dopamine/analyzed_photometry/cohort_1/4756-231201-122549/4756-231201-122549_output_1/465C.hdf5'),\n",
       " PosixPath('/Volumes/fsmresfiles/Basic_Sciences/Phys/Lerner_Lab_tnl2633/Shudi/LHA_dopamine/analyzed_photometry/cohort_1/4756-231201-122549/4756-231201-122549_output_1/lick_LHA.hdf5'),\n",
       " PosixPath('/Volumes/fsmresfiles/Basic_Sciences/Phys/Lerner_Lab_tnl2633/Shudi/LHA_dopamine/analyzed_photometry/cohort_1/4756-231201-122549/4756-231201-122549_output_1/reward_NAC.hdf5'),\n",
       " PosixPath('/Volumes/fsmresfiles/Basic_Sciences/Phys/Lerner_Lab_tnl2633/Shudi/LHA_dopamine/analyzed_photometry/cohort_1/4756-231201-122549/4756-231201-122549_output_1/405A.hdf5'),\n",
       " PosixPath('/Volumes/fsmresfiles/Basic_Sciences/Phys/Lerner_Lab_tnl2633/Shudi/LHA_dopamine/analyzed_photometry/cohort_1/4756-231201-122549/4756-231201-122549_output_1/lick_NAC.hdf5'),\n",
       " PosixPath('/Volumes/fsmresfiles/Basic_Sciences/Phys/Lerner_Lab_tnl2633/Shudi/LHA_dopamine/analyzed_photometry/cohort_1/4756-231201-122549/4756-231201-122549_output_1/encoder_NAC.hdf5'),\n",
       " PosixPath('/Volumes/fsmresfiles/Basic_Sciences/Phys/Lerner_Lab_tnl2633/Shudi/LHA_dopamine/analyzed_photometry/cohort_1/4756-231201-122549/4756-231201-122549_output_1/signal_LHA.hdf5'),\n",
       " PosixPath('/Volumes/fsmresfiles/Basic_Sciences/Phys/Lerner_Lab_tnl2633/Shudi/LHA_dopamine/analyzed_photometry/cohort_1/4756-231201-122549/4756-231201-122549_output_1/cue_LHA.hdf5'),\n",
       " PosixPath('/Volumes/fsmresfiles/Basic_Sciences/Phys/Lerner_Lab_tnl2633/Shudi/LHA_dopamine/analyzed_photometry/cohort_1/4756-231201-122549/4756-231201-122549_output_1/cntrl_sig_fit_LHA.hdf5'),\n",
       " PosixPath('/Volumes/fsmresfiles/Basic_Sciences/Phys/Lerner_Lab_tnl2633/Shudi/LHA_dopamine/analyzed_photometry/cohort_1/4756-231201-122549/4756-231201-122549_output_1/z_score_LHA.hdf5'),\n",
       " PosixPath('/Volumes/fsmresfiles/Basic_Sciences/Phys/Lerner_Lab_tnl2633/Shudi/LHA_dopamine/analyzed_photometry/cohort_1/4756-231201-122549/4756-231201-122549_output_1/Rwrp.hdf5'),\n",
       " PosixPath('/Volumes/fsmresfiles/Basic_Sciences/Phys/Lerner_Lab_tnl2633/Shudi/LHA_dopamine/analyzed_photometry/cohort_1/4756-231201-122549/4756-231201-122549_output_1/dff_NAC.hdf5'),\n",
       " PosixPath('/Volumes/fsmresfiles/Basic_Sciences/Phys/Lerner_Lab_tnl2633/Shudi/LHA_dopamine/analyzed_photometry/cohort_1/4756-231201-122549/4756-231201-122549_output_1/encoder_LHA.hdf5'),\n",
       " PosixPath('/Volumes/fsmresfiles/Basic_Sciences/Phys/Lerner_Lab_tnl2633/Shudi/LHA_dopamine/analyzed_photometry/cohort_1/4756-231201-122549/4756-231201-122549_output_1/timeCorrection_NAC.hdf5'),\n",
       " PosixPath('/Volumes/fsmresfiles/Basic_Sciences/Phys/Lerner_Lab_tnl2633/Shudi/LHA_dopamine/analyzed_photometry/cohort_1/4756-231201-122549/4756-231201-122549_output_1/dff_LHA.hdf5'),\n",
       " PosixPath('/Volumes/fsmresfiles/Basic_Sciences/Phys/Lerner_Lab_tnl2633/Shudi/LHA_dopamine/analyzed_photometry/cohort_1/4756-231201-122549/4756-231201-122549_output_1/control_NAC.hdf5'),\n",
       " PosixPath('/Volumes/fsmresfiles/Basic_Sciences/Phys/Lerner_Lab_tnl2633/Shudi/LHA_dopamine/analyzed_photometry/cohort_1/4756-231201-122549/4756-231201-122549_output_1/timeCorrection_LHA.hdf5'),\n",
       " PosixPath('/Volumes/fsmresfiles/Basic_Sciences/Phys/Lerner_Lab_tnl2633/Shudi/LHA_dopamine/analyzed_photometry/cohort_1/4756-231201-122549/4756-231201-122549_output_1/z_score_NAC.hdf5'),\n",
       " PosixPath('/Volumes/fsmresfiles/Basic_Sciences/Phys/Lerner_Lab_tnl2633/Shudi/LHA_dopamine/analyzed_photometry/cohort_1/4756-231201-122549/4756-231201-122549_output_1/Lick.hdf5'),\n",
       " PosixPath('/Volumes/fsmresfiles/Basic_Sciences/Phys/Lerner_Lab_tnl2633/Shudi/LHA_dopamine/analyzed_photometry/cohort_1/4756-231201-122549/4756-231201-122549_output_1/405C.hdf5'),\n",
       " PosixPath('/Volumes/fsmresfiles/Basic_Sciences/Phys/Lerner_Lab_tnl2633/Shudi/LHA_dopamine/analyzed_photometry/cohort_1/4756-231201-122549/4756-231201-122549_output_1/signal_NAC.hdf5'),\n",
       " PosixPath('/Volumes/fsmresfiles/Basic_Sciences/Phys/Lerner_Lab_tnl2633/Shudi/LHA_dopamine/analyzed_photometry/cohort_1/4756-231201-122549/4756-231201-122549_output_1/endr.hdf5'),\n",
       " PosixPath('/Volumes/fsmresfiles/Basic_Sciences/Phys/Lerner_Lab_tnl2633/Shudi/LHA_dopamine/analyzed_photometry/cohort_1/4756-231201-122549/4756-231201-122549_output_1/cntrl_sig_fit_NAC.hdf5'),\n",
       " PosixPath('/Volumes/fsmresfiles/Basic_Sciences/Phys/Lerner_Lab_tnl2633/Shudi/LHA_dopamine/analyzed_photometry/cohort_1/4756-231201-122549/4756-231201-122549_output_1/465A.hdf5'),\n",
       " PosixPath('/Volumes/fsmresfiles/Basic_Sciences/Phys/Lerner_Lab_tnl2633/Shudi/LHA_dopamine/analyzed_photometry/cohort_1/4756-231201-122549/4756-231201-122549_output_1/Cuet.hdf5'),\n",
       " PosixPath('/Volumes/fsmresfiles/Basic_Sciences/Phys/Lerner_Lab_tnl2633/Shudi/LHA_dopamine/analyzed_photometry/cohort_1/4756-231201-122549/4756-231201-122549_output_1/reward_LHA.hdf5'),\n",
       " PosixPath('/Volumes/fsmresfiles/Basic_Sciences/Phys/Lerner_Lab_tnl2633/Shudi/LHA_dopamine/analyzed_photometry/cohort_1/4756-231201-122549/4756-231201-122549_output_1/control_LHA.hdf5')]"
      ]
     },
     "execution_count": 130,
     "metadata": {},
     "output_type": "execute_result"
    }
   ],
   "source": [
    "hdf5_files = list(f for f in gup.guppy_paths['output_paths'][0].iterdir() if 'hdf5' in f.name)\n"
   ]
  },
  {
   "cell_type": "code",
   "execution_count": 151,
   "metadata": {},
   "outputs": [],
   "source": [
    "encoder_path = Path('/Volumes/fsmresfiles/Basic_Sciences/Phys/Lerner_Lab_tnl2633/Shudi/LHA_dopamine/analyzed_photometry/cohort_1/4755-231031-125328/4755-231031-125328_output_1/encoder_NAC.hdf5')"
   ]
  },
  {
   "cell_type": "code",
   "execution_count": 155,
   "metadata": {},
   "outputs": [
    {
     "name": "stdout",
     "output_type": "stream",
     "text": [
      "['ts']\n"
     ]
    }
   ],
   "source": [
    "import h5py\n",
    "with h5py.File(encoder_path, 'r') as f:\n",
    "    print(list(f.keys()))"
   ]
  },
  {
   "cell_type": "code",
   "execution_count": 156,
   "metadata": {},
   "outputs": [
    {
     "ename": "TypeError",
     "evalue": "cannot create a storer if the object is not existing nor a value are passed",
     "output_type": "error",
     "traceback": [
      "\u001b[0;31m---------------------------------------------------------------------------\u001b[0m",
      "\u001b[0;31mTypeError\u001b[0m                                 Traceback (most recent call last)",
      "\u001b[1;32m/Users/mds8301/Development/ENIGMA/notebooks/development/pav_dev.ipynb Cell 8\u001b[0m line \u001b[0;36m1\n\u001b[0;32m----> <a href='vscode-notebook-cell:/Users/mds8301/Development/ENIGMA/notebooks/development/pav_dev.ipynb#X23sZmlsZQ%3D%3D?line=0'>1</a>\u001b[0m df \u001b[39m=\u001b[39m pd\u001b[39m.\u001b[39;49mread_hdf(encoder_path, key \u001b[39m=\u001b[39;49m \u001b[39m'\u001b[39;49m\u001b[39mts\u001b[39;49m\u001b[39m'\u001b[39;49m)\n\u001b[1;32m      <a href='vscode-notebook-cell:/Users/mds8301/Development/ENIGMA/notebooks/development/pav_dev.ipynb#X23sZmlsZQ%3D%3D?line=1'>2</a>\u001b[0m df\n",
      "File \u001b[0;32m~/anaconda3/envs/enigma/lib/python3.11/site-packages/pandas/io/pytables.py:446\u001b[0m, in \u001b[0;36mread_hdf\u001b[0;34m(path_or_buf, key, mode, errors, where, start, stop, columns, iterator, chunksize, **kwargs)\u001b[0m\n\u001b[1;32m    441\u001b[0m                 \u001b[39mraise\u001b[39;00m \u001b[39mValueError\u001b[39;00m(\n\u001b[1;32m    442\u001b[0m                     \u001b[39m\"\u001b[39m\u001b[39mkey must be provided when HDF5 \u001b[39m\u001b[39m\"\u001b[39m\n\u001b[1;32m    443\u001b[0m                     \u001b[39m\"\u001b[39m\u001b[39mfile contains multiple datasets.\u001b[39m\u001b[39m\"\u001b[39m\n\u001b[1;32m    444\u001b[0m                 )\n\u001b[1;32m    445\u001b[0m         key \u001b[39m=\u001b[39m candidate_only_group\u001b[39m.\u001b[39m_v_pathname\n\u001b[0;32m--> 446\u001b[0m     \u001b[39mreturn\u001b[39;00m store\u001b[39m.\u001b[39;49mselect(\n\u001b[1;32m    447\u001b[0m         key,\n\u001b[1;32m    448\u001b[0m         where\u001b[39m=\u001b[39;49mwhere,\n\u001b[1;32m    449\u001b[0m         start\u001b[39m=\u001b[39;49mstart,\n\u001b[1;32m    450\u001b[0m         stop\u001b[39m=\u001b[39;49mstop,\n\u001b[1;32m    451\u001b[0m         columns\u001b[39m=\u001b[39;49mcolumns,\n\u001b[1;32m    452\u001b[0m         iterator\u001b[39m=\u001b[39;49miterator,\n\u001b[1;32m    453\u001b[0m         chunksize\u001b[39m=\u001b[39;49mchunksize,\n\u001b[1;32m    454\u001b[0m         auto_close\u001b[39m=\u001b[39;49mauto_close,\n\u001b[1;32m    455\u001b[0m     )\n\u001b[1;32m    456\u001b[0m \u001b[39mexcept\u001b[39;00m (\u001b[39mValueError\u001b[39;00m, \u001b[39mTypeError\u001b[39;00m, \u001b[39mKeyError\u001b[39;00m):\n\u001b[1;32m    457\u001b[0m     \u001b[39mif\u001b[39;00m \u001b[39mnot\u001b[39;00m \u001b[39misinstance\u001b[39m(path_or_buf, HDFStore):\n\u001b[1;32m    458\u001b[0m         \u001b[39m# if there is an error, close the store if we opened it.\u001b[39;00m\n",
      "File \u001b[0;32m~/anaconda3/envs/enigma/lib/python3.11/site-packages/pandas/io/pytables.py:845\u001b[0m, in \u001b[0;36mHDFStore.select\u001b[0;34m(self, key, where, start, stop, columns, iterator, chunksize, auto_close)\u001b[0m\n\u001b[1;32m    843\u001b[0m \u001b[39m# create the storer and axes\u001b[39;00m\n\u001b[1;32m    844\u001b[0m where \u001b[39m=\u001b[39m _ensure_term(where, scope_level\u001b[39m=\u001b[39m\u001b[39m1\u001b[39m)\n\u001b[0;32m--> 845\u001b[0m s \u001b[39m=\u001b[39m \u001b[39mself\u001b[39;49m\u001b[39m.\u001b[39;49m_create_storer(group)\n\u001b[1;32m    846\u001b[0m s\u001b[39m.\u001b[39minfer_axes()\n\u001b[1;32m    848\u001b[0m \u001b[39m# function to call on iteration\u001b[39;00m\n",
      "File \u001b[0;32m~/anaconda3/envs/enigma/lib/python3.11/site-packages/pandas/io/pytables.py:1660\u001b[0m, in \u001b[0;36mHDFStore._create_storer\u001b[0;34m(self, group, format, value, encoding, errors)\u001b[0m\n\u001b[1;32m   1658\u001b[0m         tt \u001b[39m=\u001b[39m \u001b[39m\"\u001b[39m\u001b[39mgeneric_table\u001b[39m\u001b[39m\"\u001b[39m\n\u001b[1;32m   1659\u001b[0m     \u001b[39melse\u001b[39;00m:\n\u001b[0;32m-> 1660\u001b[0m         \u001b[39mraise\u001b[39;00m \u001b[39mTypeError\u001b[39;00m(\n\u001b[1;32m   1661\u001b[0m             \u001b[39m\"\u001b[39m\u001b[39mcannot create a storer if the object is not existing \u001b[39m\u001b[39m\"\u001b[39m\n\u001b[1;32m   1662\u001b[0m             \u001b[39m\"\u001b[39m\u001b[39mnor a value are passed\u001b[39m\u001b[39m\"\u001b[39m\n\u001b[1;32m   1663\u001b[0m         )\n\u001b[1;32m   1664\u001b[0m \u001b[39melse\u001b[39;00m:\n\u001b[1;32m   1665\u001b[0m     \u001b[39mif\u001b[39;00m \u001b[39misinstance\u001b[39m(value, Series):\n",
      "\u001b[0;31mTypeError\u001b[0m: cannot create a storer if the object is not existing nor a value are passed"
     ]
    }
   ],
   "source": [
    "df = pd.read_hdf(encoder_path, key = 'ts')\n",
    "df"
   ]
  },
  {
   "cell_type": "code",
   "execution_count": null,
   "metadata": {},
   "outputs": [],
   "source": []
  }
 ],
 "metadata": {
  "kernelspec": {
   "display_name": "enigma",
   "language": "python",
   "name": "python3"
  },
  "language_info": {
   "codemirror_mode": {
    "name": "ipython",
    "version": 3
   },
   "file_extension": ".py",
   "mimetype": "text/x-python",
   "name": "python",
   "nbconvert_exporter": "python",
   "pygments_lexer": "ipython3",
   "version": "3.11.2"
  }
 },
 "nbformat": 4,
 "nbformat_minor": 2
}
