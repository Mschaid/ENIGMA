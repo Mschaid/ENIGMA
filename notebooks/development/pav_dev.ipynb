{
 "cells": [
  {
   "cell_type": "code",
   "execution_count": 14,
   "metadata": {},
   "outputs": [
    {
     "name": "stdout",
     "output_type": "stream",
     "text": [
      "The autoreload extension is already loaded. To reload it, use:\n",
      "  %reload_ext autoreload\n"
     ]
    }
   ],
   "source": [
    "%load_ext autoreload\n",
    "%autoreload 2"
   ]
  },
  {
   "cell_type": "code",
   "execution_count": 23,
   "metadata": {},
   "outputs": [],
   "source": [
    "\n",
    "from src.data_processing.processors.guppy_processors.experimental_metadata import ExperimentMetaData, MetaDataFactory\n",
    "from src.data_processing.processors.guppy_processors.config_loader import ConfigLoader\n",
    "from src.data_processing.processors.guppy_processors.data_preprocessor import BatchPreprocessor\n",
    "from src.data_processing.processors.guppy_processors.processing_strategies import ProcessingStrategy, BehaviorProcessingStrategy\n",
    "\n",
    "\n",
    "\n",
    "EXPERIMENTAL_CONFIGS = '/Volumes/fsmresfiles/Basic_Sciences/Phys/Lerner_Lab_tnl2633/Shudi/LHA_dopamine/conf/config.yaml'\n",
    "configs = ConfigLoader(EXPERIMENTAL_CONFIGS)\n",
    "meta_data_factory = MetaDataFactory(configs)"
   ]
  },
  {
   "cell_type": "code",
   "execution_count": 24,
   "metadata": {},
   "outputs": [
    {
     "data": {
      "text/plain": [
       "PosixPath('/Volumes/fsmresfiles/Basic_Sciences/Phys/Lerner_Lab_tnl2633/Shudi/LHA_dopamine/analyzed_photometry/cohort_1')"
      ]
     },
     "execution_count": 24,
     "metadata": {},
     "output_type": "execute_result"
    }
   ],
   "source": [
    "configs.data_path"
   ]
  },
  {
   "cell_type": "code",
   "execution_count": 16,
   "metadata": {},
   "outputs": [],
   "source": [
    "behavior_strategy_params={\n",
    "    'config_key': 'behavioral_events',\n",
    "    'time_window': (-10, 20),\n",
    "    'events': (('cue', 'lick'), ('cue', 'encoder'))\n",
    "\n",
    "}\n",
    "meta_data_factory = MetaDataFactory(configs)\n",
    "behavior_strategy = BehaviorProcessingStrategy(**behavior_strategy_params)\n",
    "batch_preprocessor = BatchPreprocessor(meta_data_factory, behavior_strategy)"
   ]
  },
  {
   "cell_type": "code",
   "execution_count": 18,
   "metadata": {},
   "outputs": [
    {
     "name": "stdout",
     "output_type": "stream",
     "text": [
      "event ('cue', 'lick') not found for 4758-231109-120106 \n",
      "event ('cue', 'lick') not found for 4758-231031-142543 \n",
      "event ('cue', 'lick') not found for 4755-231109-103518 \n",
      "event ('cue', 'lick') not found for 4755-231110-104321 \n",
      "event ('cue', 'lick') not found for 4758-231102-120848 \n",
      "event ('cue', 'lick') not found for 4758-231121-111532 \n",
      "event ('cue', 'lick') not found for 4758-231205-114434 \n",
      "event ('cue', 'lick') not found for 4755-231116-095551 \n",
      "event ('cue', 'lick') not found for 4755-231205-102542 \n",
      "event ('cue', 'lick') not found for 4755-231114-130836 \n",
      "event ('cue', 'lick') not found for 4755-231130-115612 \n",
      "event ('cue', 'lick') not found for 4755-231103-120816 \n",
      "event ('cue', 'lick') not found for 4758-231201-130514 \n",
      "event ('cue', 'lick') not found for 4758-231114-142535 \n",
      "event ('cue', 'encoder') not found for 4758-231114-142535 \n",
      "event ('cue', 'lick') not found for 4755-231117-114252 \n",
      "event ('cue', 'lick') not found for 4758-231130-131542 \n",
      "event ('cue', 'lick') not found for 4758-231117-130112 \n",
      "event ('cue', 'lick') not found for 4756-231121-103533 \n",
      "event ('cue', 'lick') not found for 4755-231102-104637 \n",
      "event ('cue', 'lick') not found for 4758-231107-142119 \n",
      "event ('cue', 'lick') not found for 4758-231116-112502 \n",
      "event ('cue', 'lick') not found for 4755-231204-100201 \n",
      "event ('cue', 'lick') not found for 4756-231116-104247 \n"
     ]
    }
   ],
   "source": [
    "batch_preprocessor.process_data(num_processors=4)\n"
   ]
  },
  {
   "cell_type": "code",
   "execution_count": 54,
   "metadata": {},
   "outputs": [],
   "source": [
    "files = configs.data_path.rglob('*processed_data.parquet')"
   ]
  },
  {
   "cell_type": "code",
   "execution_count": 74,
   "metadata": {},
   "outputs": [],
   "source": [
    "from src.data_processing.processors.guppy_processors.aggregators import BehaviorAggregationStrategy, aggregate_data\n",
    "aggregate_data(configs, BehaviorAggregationStrategy)"
   ]
  },
  {
   "cell_type": "code",
   "execution_count": 130,
   "metadata": {},
   "outputs": [
    {
     "data": {
      "text/html": [
       "<div>\n",
       "<style scoped>\n",
       "    .dataframe tbody tr th:only-of-type {\n",
       "        vertical-align: middle;\n",
       "    }\n",
       "\n",
       "    .dataframe tbody tr th {\n",
       "        vertical-align: top;\n",
       "    }\n",
       "\n",
       "    .dataframe thead th {\n",
       "        text-align: right;\n",
       "    }\n",
       "</style>\n",
       "<table border=\"1\" class=\"dataframe\">\n",
       "  <thead>\n",
       "    <tr style=\"text-align: right;\">\n",
       "      <th></th>\n",
       "      <th>lick_aligned_to_cue</th>\n",
       "      <th>encoder_aligned_to_cue</th>\n",
       "      <th>subject</th>\n",
       "      <th>user</th>\n",
       "      <th>date</th>\n",
       "      <th>time</th>\n",
       "    </tr>\n",
       "  </thead>\n",
       "  <tbody>\n",
       "    <tr>\n",
       "      <th>0</th>\n",
       "      <td>0.151515</td>\n",
       "      <td>35.000000</td>\n",
       "      <td>4756.0</td>\n",
       "      <td>User</td>\n",
       "      <td>2023-11-22</td>\n",
       "      <td>2023-12-15 12:10:00</td>\n",
       "    </tr>\n",
       "    <tr>\n",
       "      <th>1</th>\n",
       "      <td>0.000000</td>\n",
       "      <td>36.666667</td>\n",
       "      <td>4756.0</td>\n",
       "      <td>User</td>\n",
       "      <td>2023-11-22</td>\n",
       "      <td>2023-12-15 12:10:00</td>\n",
       "    </tr>\n",
       "    <tr>\n",
       "      <th>2</th>\n",
       "      <td>0.000000</td>\n",
       "      <td>41.666667</td>\n",
       "      <td>4756.0</td>\n",
       "      <td>User</td>\n",
       "      <td>2023-11-22</td>\n",
       "      <td>2023-12-15 12:10:00</td>\n",
       "    </tr>\n",
       "    <tr>\n",
       "      <th>3</th>\n",
       "      <td>0.000000</td>\n",
       "      <td>36.969697</td>\n",
       "      <td>4756.0</td>\n",
       "      <td>User</td>\n",
       "      <td>2023-11-22</td>\n",
       "      <td>2023-12-15 12:10:00</td>\n",
       "    </tr>\n",
       "    <tr>\n",
       "      <th>4</th>\n",
       "      <td>0.000000</td>\n",
       "      <td>37.878788</td>\n",
       "      <td>4756.0</td>\n",
       "      <td>User</td>\n",
       "      <td>2023-11-22</td>\n",
       "      <td>2023-12-15 12:10:00</td>\n",
       "    </tr>\n",
       "    <tr>\n",
       "      <th>...</th>\n",
       "      <td>...</td>\n",
       "      <td>...</td>\n",
       "      <td>...</td>\n",
       "      <td>...</td>\n",
       "      <td>...</td>\n",
       "      <td>...</td>\n",
       "    </tr>\n",
       "    <tr>\n",
       "      <th>150</th>\n",
       "      <td>NaN</td>\n",
       "      <td>6.896552</td>\n",
       "      <td>4758.0</td>\n",
       "      <td>User</td>\n",
       "      <td>2023-11-16</td>\n",
       "      <td>2023-12-15 11:25:06</td>\n",
       "    </tr>\n",
       "    <tr>\n",
       "      <th>151</th>\n",
       "      <td>NaN</td>\n",
       "      <td>7.931034</td>\n",
       "      <td>4758.0</td>\n",
       "      <td>User</td>\n",
       "      <td>2023-11-16</td>\n",
       "      <td>2023-12-15 11:25:06</td>\n",
       "    </tr>\n",
       "    <tr>\n",
       "      <th>152</th>\n",
       "      <td>NaN</td>\n",
       "      <td>6.206897</td>\n",
       "      <td>4758.0</td>\n",
       "      <td>User</td>\n",
       "      <td>2023-11-16</td>\n",
       "      <td>2023-12-15 11:25:06</td>\n",
       "    </tr>\n",
       "    <tr>\n",
       "      <th>153</th>\n",
       "      <td>NaN</td>\n",
       "      <td>6.551724</td>\n",
       "      <td>4758.0</td>\n",
       "      <td>User</td>\n",
       "      <td>2023-11-16</td>\n",
       "      <td>2023-12-15 11:25:06</td>\n",
       "    </tr>\n",
       "    <tr>\n",
       "      <th>154</th>\n",
       "      <td>NaN</td>\n",
       "      <td>8.793103</td>\n",
       "      <td>4758.0</td>\n",
       "      <td>User</td>\n",
       "      <td>2023-11-16</td>\n",
       "      <td>2023-12-15 11:25:06</td>\n",
       "    </tr>\n",
       "  </tbody>\n",
       "</table>\n",
       "<p>8216 rows × 6 columns</p>\n",
       "</div>"
      ],
      "text/plain": [
       "     lick_aligned_to_cue  encoder_aligned_to_cue  subject  user       date  \\\n",
       "0               0.151515               35.000000   4756.0  User 2023-11-22   \n",
       "1               0.000000               36.666667   4756.0  User 2023-11-22   \n",
       "2               0.000000               41.666667   4756.0  User 2023-11-22   \n",
       "3               0.000000               36.969697   4756.0  User 2023-11-22   \n",
       "4               0.000000               37.878788   4756.0  User 2023-11-22   \n",
       "..                   ...                     ...      ...   ...        ...   \n",
       "150                  NaN                6.896552   4758.0  User 2023-11-16   \n",
       "151                  NaN                7.931034   4758.0  User 2023-11-16   \n",
       "152                  NaN                6.206897   4758.0  User 2023-11-16   \n",
       "153                  NaN                6.551724   4758.0  User 2023-11-16   \n",
       "154                  NaN                8.793103   4758.0  User 2023-11-16   \n",
       "\n",
       "                   time  \n",
       "0   2023-12-15 12:10:00  \n",
       "1   2023-12-15 12:10:00  \n",
       "2   2023-12-15 12:10:00  \n",
       "3   2023-12-15 12:10:00  \n",
       "4   2023-12-15 12:10:00  \n",
       "..                  ...  \n",
       "150 2023-12-15 11:25:06  \n",
       "151 2023-12-15 11:25:06  \n",
       "152 2023-12-15 11:25:06  \n",
       "153 2023-12-15 11:25:06  \n",
       "154 2023-12-15 11:25:06  \n",
       "\n",
       "[8216 rows x 6 columns]"
      ]
     },
     "execution_count": 130,
     "metadata": {},
     "output_type": "execute_result"
    }
   ],
   "source": [
    "df = pd.read_parquet(\n",
    "    '/Volumes/fsmresfiles/Basic_Sciences/Phys/Lerner_Lab_tnl2633/Shudi/LHA_dopamine/analyzed_photometry/cohort_1/aggregated_data/aggregated_behavior_data.parquet')\n",
    "df"
   ]
  },
  {
   "cell_type": "code",
   "execution_count": null,
   "metadata": {},
   "outputs": [],
   "source": []
  }
 ],
 "metadata": {
  "kernelspec": {
   "display_name": "enigma",
   "language": "python",
   "name": "python3"
  },
  "language_info": {
   "codemirror_mode": {
    "name": "ipython",
    "version": 3
   },
   "file_extension": ".py",
   "mimetype": "text/x-python",
   "name": "python",
   "nbconvert_exporter": "python",
   "pygments_lexer": "ipython3",
   "version": "3.11.2"
  }
 },
 "nbformat": 4,
 "nbformat_minor": 2
}
