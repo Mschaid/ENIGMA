{
 "cells": [
  {
   "cell_type": "code",
   "execution_count": 3,
   "metadata": {},
   "outputs": [
    {
     "name": "stdout",
     "output_type": "stream",
     "text": [
      "The autoreload extension is already loaded. To reload it, use:\n",
      "  %reload_ext autoreload\n"
     ]
    }
   ],
   "source": [
    "%load_ext autoreload \n",
    "%autoreload 2 "
   ]
  },
  {
   "cell_type": "code",
   "execution_count": 4,
   "metadata": {},
   "outputs": [],
   "source": [
    "import boto3\n",
    "from src.data_processing.processors.ServerScraper import ServerScraper\n",
    "from src.data_processing.aws_sdk.S3Manager import S3Manager\n"
   ]
  },
  {
   "cell_type": "code",
   "execution_count": 41,
   "metadata": {},
   "outputs": [
    {
     "name": "stdout",
     "output_type": "stream",
     "text": [
      "fp-upload-bucket\n"
     ]
    }
   ],
   "source": [
    "s3 = boto3.client('s3')\n",
    "try:\n",
    "    buckets = s3.list_buckets()\n",
    "    for bucket in buckets['Buckets']:\n",
    "        print(bucket['Name'])\n",
    "except Exception as e:\n",
    "            print(f\"Error: {e}\")\n"
   ]
  },
  {
   "cell_type": "code",
   "execution_count": 42,
   "metadata": {},
   "outputs": [
    {
     "name": "stdout",
     "output_type": "stream",
     "text": [
      "Existing buckets:\n",
      "  fp-upload-bucket\n"
     ]
    }
   ],
   "source": [
    "# Retrieve the list of existing buckets\n",
    "s3 = boto3.client('s3')\n",
    "response = s3.list_buckets()\n",
    "\n",
    "# Output the bucket names\n",
    "print('Existing buckets:')\n",
    "for bucket in response['Buckets']:\n",
    "    print(f'  {bucket[\"Name\"]}')"
   ]
  },
  {
   "cell_type": "code",
   "execution_count": 45,
   "metadata": {},
   "outputs": [
    {
     "data": {
      "text/plain": [
       "dict_keys(['ResponseMetadata', 'Buckets', 'Owner'])"
      ]
     },
     "execution_count": 45,
     "metadata": {},
     "output_type": "execute_result"
    }
   ],
   "source": [
    "response.keys()"
   ]
  },
  {
   "cell_type": "code",
   "execution_count": 64,
   "metadata": {},
   "outputs": [],
   "source": []
  },
  {
   "cell_type": "code",
   "execution_count": 134,
   "metadata": {},
   "outputs": [],
   "source": [
    "scraper = ServerScraper()\n"
   ]
  },
  {
   "cell_type": "code",
   "execution_count": 127,
   "metadata": {},
   "outputs": [
    {
     "data": {
      "text/plain": [
       "['/Users/mds8301/iterm_data_storage/.DS_Store',\n",
       " '/Users/mds8301/iterm_data_storage/subjects_by_category.json',\n",
       " '/Users/mds8301/iterm_data_storage/raw_data_raw_data.parquet.gzip',\n",
       " '/Users/mds8301/iterm_data_storage/subjects.json',\n",
       " '/Users/mds8301/iterm_data_storage/full_dataset.parquet.gzip',\n",
       " '/Users/mds8301/iterm_data_storage/base_classifier_tuning/results.json',\n",
       " '/Users/mds8301/iterm_data_storage/base_classifier_tuning/best_params.json']"
      ]
     },
     "execution_count": 127,
     "metadata": {},
     "output_type": "execute_result"
    }
   ],
   "source": []
  },
  {
   "cell_type": "code",
   "execution_count": 124,
   "metadata": {},
   "outputs": [
    {
     "data": {
      "text/plain": [
       "'/Users/mds8301/iterm_data_storage'"
      ]
     },
     "execution_count": 124,
     "metadata": {},
     "output_type": "execute_result"
    }
   ],
   "source": [
    "scraper.directory"
   ]
  },
  {
   "cell_type": "code",
   "execution_count": 135,
   "metadata": {},
   "outputs": [
    {
     "name": "stderr",
     "output_type": "stream",
     "text": [
      "ic| Error: Failed to access the underlying source code for analysis. Was ic() invoked in a REPL (e.g. from the command line), a frozen application (e.g. packaged with PyInstaller), or did the underlying source code change during execution?\n"
     ]
    }
   ],
   "source": [
    "\n",
    "\n",
    "scraper.filter_files_by_extention(\".gzip\")\n",
    "# scraper.file_names"
   ]
  },
  {
   "cell_type": "code",
   "execution_count": 119,
   "metadata": {},
   "outputs": [
    {
     "name": "stdout",
     "output_type": "stream",
     "text": [
      "No files found with the specified keywords(s).\n"
     ]
    },
    {
     "data": {
      "text/plain": [
       "['/Users/mds8301/iterm_data_storage/.DS_Store',\n",
       " '/Users/mds8301/iterm_data_storage/subjects_by_category.json',\n",
       " '/Users/mds8301/iterm_data_storage/raw_data_raw_data.parquet.gzip',\n",
       " '/Users/mds8301/iterm_data_storage/subjects.json',\n",
       " '/Users/mds8301/iterm_data_storage/full_dataset.parquet.gzip',\n",
       " '/Users/mds8301/iterm_data_storage/base_classifier_tuning/results.json',\n",
       " '/Users/mds8301/iterm_data_storage/base_classifier_tuning/best_params.json']"
      ]
     },
     "execution_count": 119,
     "metadata": {},
     "output_type": "execute_result"
    }
   ],
   "source": [
    "scraper.filter_files_by_keywords(\"test\")\n",
    "# scraper.filter_files_by_extention(\".gzip\")"
   ]
  },
  {
   "cell_type": "code",
   "execution_count": null,
   "metadata": {},
   "outputs": [],
   "source": []
  }
 ],
 "metadata": {
  "kernelspec": {
   "display_name": "enigma",
   "language": "python",
   "name": "python3"
  },
  "language_info": {
   "codemirror_mode": {
    "name": "ipython",
    "version": 3
   },
   "file_extension": ".py",
   "mimetype": "text/x-python",
   "name": "python",
   "nbconvert_exporter": "python",
   "pygments_lexer": "ipython3",
   "version": "3.11.2"
  },
  "orig_nbformat": 4
 },
 "nbformat": 4,
 "nbformat_minor": 2
}
