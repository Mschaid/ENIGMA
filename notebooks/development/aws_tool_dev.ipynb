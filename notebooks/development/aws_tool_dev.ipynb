{
 "cells": [
  {
   "cell_type": "code",
   "execution_count": 246,
   "metadata": {},
   "outputs": [
    {
     "name": "stdout",
     "output_type": "stream",
     "text": [
      "The autoreload extension is already loaded. To reload it, use:\n",
      "  %reload_ext autoreload\n"
     ]
    }
   ],
   "source": [
    "%load_ext autoreload \n",
    "%autoreload 2 "
   ]
  },
  {
   "cell_type": "code",
   "execution_count": 519,
   "metadata": {},
   "outputs": [],
   "source": [
    "import boto3\n",
    "from src.data_processing.processors.FileScraper import FileScraper\n",
    "from src.data_processing.aws_sdk.S3Manager import S3Manager\n"
   ]
  },
  {
   "cell_type": "code",
   "execution_count": 521,
   "metadata": {},
   "outputs": [
    {
     "ename": "TypeError",
     "evalue": "'NoneType' object is not iterable",
     "output_type": "error",
     "traceback": [
      "\u001b[0;31m---------------------------------------------------------------------------\u001b[0m",
      "\u001b[0;31mTypeError\u001b[0m                                 Traceback (most recent call last)",
      "\u001b[1;32m/Users/mds8301/Development/ENIGMA/notebooks/development/aws_tool_dev.ipynb Cell 3\u001b[0m line \u001b[0;36m3\n\u001b[1;32m      <a href='vscode-notebook-cell:/Users/mds8301/Development/ENIGMA/notebooks/development/aws_tool_dev.ipynb#W3sZmlsZQ%3D%3D?line=0'>1</a>\u001b[0m scraper \u001b[39m=\u001b[39m FileScraper()\n\u001b[0;32m----> <a href='vscode-notebook-cell:/Users/mds8301/Development/ENIGMA/notebooks/development/aws_tool_dev.ipynb#W3sZmlsZQ%3D%3D?line=2'>3</a>\u001b[0m scraper\u001b[39m.\u001b[39;49mscrape_directoy(file_extensions\u001b[39m=\u001b[39;49m\u001b[39m\"\u001b[39;49m\u001b[39mtest, json\u001b[39;49m\u001b[39m\"\u001b[39;49m, keywords \u001b[39m=\u001b[39;49m \u001b[39m\"\u001b[39;49m\u001b[39msubject\u001b[39;49m\u001b[39m\"\u001b[39;49m)\n\u001b[1;32m      <a href='vscode-notebook-cell:/Users/mds8301/Development/ENIGMA/notebooks/development/aws_tool_dev.ipynb#W3sZmlsZQ%3D%3D?line=3'>4</a>\u001b[0m scraper\u001b[39m.\u001b[39msearch_results\n",
      "File \u001b[0;32m~/Development/enigma/src/data_processing/processors/FileScraper.py:278\u001b[0m, in \u001b[0;36mFileScraper.scrape_directoy\u001b[0;34m(self, directory, file_extensions, keywords)\u001b[0m\n\u001b[1;32m    275\u001b[0m     \u001b[39mself\u001b[39m\u001b[39m.\u001b[39mdirectory \u001b[39m=\u001b[39m directory\n\u001b[1;32m    277\u001b[0m formatted_extensions \u001b[39m=\u001b[39m \u001b[39mself\u001b[39m\u001b[39m.\u001b[39mformat_user_input(file_extensions)\n\u001b[0;32m--> 278\u001b[0m \u001b[39mself\u001b[39;49m\u001b[39m.\u001b[39;49mfilter_files_by_extention(\u001b[39m*\u001b[39;49mformatted_extensions)\n\u001b[1;32m    280\u001b[0m formatted_keywords \u001b[39m=\u001b[39m \u001b[39mself\u001b[39m\u001b[39m.\u001b[39mformat_user_input(keywords)\n\u001b[1;32m    281\u001b[0m \u001b[39mself\u001b[39m\u001b[39m.\u001b[39mfilter_files_by_keywords(\u001b[39m*\u001b[39mformatted_keywords)\n",
      "File \u001b[0;32m~/Development/enigma/src/data_processing/processors/FileScraper.py:135\u001b[0m, in \u001b[0;36mFileScraper.filter_files_by_extention\u001b[0;34m(self, *extensions)\u001b[0m\n\u001b[1;32m    131\u001b[0m formatted_extensions \u001b[39m=\u001b[39m [\n\u001b[1;32m    132\u001b[0m     \u001b[39mself\u001b[39m\u001b[39m.\u001b[39mformat_input(ext) \u001b[39mfor\u001b[39;00m ext \u001b[39min\u001b[39;00m extensions]\n\u001b[1;32m    134\u001b[0m \u001b[39m# filters files by extension in in the stored file names of the directory\u001b[39;00m\n\u001b[0;32m--> 135\u001b[0m filtered_files \u001b[39m=\u001b[39m [\n\u001b[1;32m    136\u001b[0m     file \u001b[39mfor\u001b[39;00m file\n\u001b[1;32m    137\u001b[0m     \u001b[39min\u001b[39;00m \u001b[39mself\u001b[39m\u001b[39m.\u001b[39mall_files\n\u001b[1;32m    138\u001b[0m     \u001b[39mif\u001b[39;00m \u001b[39many\u001b[39m(file\u001b[39m.\u001b[39mendswith(ext) \u001b[39mfor\u001b[39;00m ext \u001b[39min\u001b[39;00m formatted_extensions\n\u001b[1;32m    139\u001b[0m            \u001b[39m# if any(ext in file for ext in formatted_extensions\u001b[39;00m\n\u001b[1;32m    140\u001b[0m            )\n\u001b[1;32m    141\u001b[0m ]\n\u001b[1;32m    143\u001b[0m extensions_found \u001b[39m=\u001b[39m [ext \u001b[39mfor\u001b[39;00m ext\n\u001b[1;32m    144\u001b[0m                     \u001b[39min\u001b[39;00m formatted_extensions\n\u001b[1;32m    145\u001b[0m                     \u001b[39mif\u001b[39;00m \u001b[39many\u001b[39m(ext \u001b[39min\u001b[39;00m file \u001b[39mfor\u001b[39;00m file \u001b[39min\u001b[39;00m filtered_files)\n\u001b[1;32m    146\u001b[0m                     ]\n\u001b[1;32m    148\u001b[0m extensions_not_found \u001b[39m=\u001b[39m [ext \u001b[39mfor\u001b[39;00m ext\n\u001b[1;32m    149\u001b[0m                         \u001b[39min\u001b[39;00m formatted_extensions\n\u001b[1;32m    150\u001b[0m                         \u001b[39mif\u001b[39;00m ext \u001b[39mnot\u001b[39;00m \u001b[39min\u001b[39;00m extensions_found\n\u001b[1;32m    151\u001b[0m                         ]\n",
      "\u001b[0;31mTypeError\u001b[0m: 'NoneType' object is not iterable"
     ]
    }
   ],
   "source": [
    "\n",
    "\n",
    "scraper = FileScraper()\n",
    "\n",
    "scraper.scrape_directoy(file_extensions=\"test, json\", keywords = \"subject\")\n",
    "scraper.search_results\n"
   ]
  },
  {
   "cell_type": "code",
   "execution_count": 378,
   "metadata": {},
   "outputs": [
    {
     "data": {
      "text/plain": [
       "{'directory': '/Users/mds8301/iterm_data_storage',\n",
       " 'file_search_results': ['/Users/mds8301/iterm_data_storage/.DS_Store',\n",
       "  '/Users/mds8301/iterm_data_storage/subjects_by_category.json',\n",
       "  '/Users/mds8301/iterm_data_storage/raw_data_raw_data.parquet.gzip',\n",
       "  '/Users/mds8301/iterm_data_storage/subjects.json',\n",
       "  '/Users/mds8301/iterm_data_storage/full_dataset.parquet.gzip',\n",
       "  '/Users/mds8301/iterm_data_storage/base_classifier_tuning/results.json',\n",
       "  '/Users/mds8301/iterm_data_storage/base_classifier_tuning/best_params.json'],\n",
       " 'extensions_found': [],\n",
       " 'extensions_not_found': [],\n",
       " 'keywords_found': [],\n",
       " 'keywords_not_found': []}"
      ]
     },
     "execution_count": 378,
     "metadata": {},
     "output_type": "execute_result"
    }
   ],
   "source": []
  },
  {
   "cell_type": "code",
   "execution_count": null,
   "metadata": {},
   "outputs": [],
   "source": []
  }
 ],
 "metadata": {
  "kernelspec": {
   "display_name": "enigma",
   "language": "python",
   "name": "python3"
  },
  "language_info": {
   "codemirror_mode": {
    "name": "ipython",
    "version": 3
   },
   "file_extension": ".py",
   "mimetype": "text/x-python",
   "name": "python",
   "nbconvert_exporter": "python",
   "pygments_lexer": "ipython3",
   "version": "3.11.2"
  },
  "orig_nbformat": 4
 },
 "nbformat": 4,
 "nbformat_minor": 2
}
