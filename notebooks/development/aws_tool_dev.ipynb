{
 "cells": [
  {
   "cell_type": "code",
   "execution_count": 1,
   "metadata": {},
   "outputs": [],
   "source": [
    "%load_ext autoreload \n",
    "%autoreload 2 "
   ]
  },
  {
   "cell_type": "code",
   "execution_count": 51,
   "metadata": {},
   "outputs": [],
   "source": [
    "import boto3\n",
    "from src.data_processing.processors.FileScraper import FileScraper\n",
    "from src.data_processing.aws_sdk.S3Manager import S3Manager\n"
   ]
  },
  {
   "cell_type": "code",
   "execution_count": 52,
   "metadata": {},
   "outputs": [],
   "source": [
    "# scraper = FileScraper()\n",
    "# PATH = \"/Users/mds8301/iterm_data_storage\"\n",
    "# scraper.set_directory(PATH)\n",
    "\n",
    "# scraper.file_names\n",
    "# EXTENSIONS = (\"gzip\", \"json\", \"txt\")\n",
    "# KEY_WORDS = (\"full\", \"subjects\")\n",
    "# scraper.filter_files_by_extention(*EXTENSIONS)\n",
    "# # scraper.filter_files_by_keywords(*KEY_WORDS)\n",
    "# scraper.file_names\n"
   ]
  },
  {
   "cell_type": "code",
   "execution_count": 169,
   "metadata": {},
   "outputs": [
    {
     "name": "stderr",
     "output_type": "stream",
     "text": [
      "2023-10-02 16:47:03.562 | INFO     | src.data_processing.processors.FileScraper:filter_files_by_extention:90 - Files filtered by extensions found: ['/Users/mds8301/iterm_data_storage/subjects_by_category.json', '/Users/mds8301/iterm_data_storage/raw_data_raw_data.parquet.gzip', '/Users/mds8301/iterm_data_storage/subjects.json', '/Users/mds8301/iterm_data_storage/full_dataset.parquet.gzip', '/Users/mds8301/iterm_data_storage/base_classifier_tuning/results.json', '/Users/mds8301/iterm_data_storage/base_classifier_tuning/best_params.json']\n",
      "2023-10-02 16:47:03.563 | INFO     | src.data_processing.processors.FileScraper:filter_files_by_extention:94 - Files of extension type: ['.csv'] not found.\n",
      "2023-10-02 16:47:03.563 | INFO     | src.data_processing.processors.FileScraper:filter_files_by_keywords:137 - Files filtered by keywords found: ['/Users/mds8301/iterm_data_storage/full_dataset.parquet.gzip']\n"
     ]
    },
    {
     "name": "stdout",
     "output_type": "stream",
     "text": [
      "['full']\n"
     ]
    },
    {
     "data": {
      "text/plain": [
       "['/Users/mds8301/iterm_data_storage/full_dataset.parquet.gzip']"
      ]
     },
     "execution_count": 169,
     "metadata": {},
     "output_type": "execute_result"
    }
   ],
   "source": [
    "manager = S3Manager()\n",
    "PATH = \"/Users/mds8301/iterm_data_storage\"\n",
    "scraper = FileScraper(PATH)\n",
    "scraper.file_names\n",
    "scraper.filter_files_by_extention(\"json\",'parquet', \"csv\")\n",
    "scraper.filter_files_by_keywords(\"full\")\n",
    "scraper.file_names\n"
   ]
  },
  {
   "cell_type": "code",
   "execution_count": 174,
   "metadata": {},
   "outputs": [
    {
     "name": "stdout",
     "output_type": "stream",
     "text": [
      "fp-upload-bucket\n"
     ]
    }
   ],
   "source": [
    "\n",
    "manager.get_available_buckets()"
   ]
  },
  {
   "cell_type": "code",
   "execution_count": null,
   "metadata": {},
   "outputs": [],
   "source": []
  }
 ],
 "metadata": {
  "kernelspec": {
   "display_name": "enigma",
   "language": "python",
   "name": "python3"
  },
  "language_info": {
   "codemirror_mode": {
    "name": "ipython",
    "version": 3
   },
   "file_extension": ".py",
   "mimetype": "text/x-python",
   "name": "python",
   "nbconvert_exporter": "python",
   "pygments_lexer": "ipython3",
   "version": "3.11.2"
  },
  "orig_nbformat": 4
 },
 "nbformat": 4,
 "nbformat_minor": 2
}
