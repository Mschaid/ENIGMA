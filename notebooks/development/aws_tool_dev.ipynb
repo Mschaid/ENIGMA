{
 "cells": [
  {
   "cell_type": "code",
   "execution_count": 1,
   "metadata": {},
   "outputs": [],
   "source": [
    "%load_ext autoreload \n",
    "%autoreload 2 "
   ]
  },
  {
   "cell_type": "code",
   "execution_count": 62,
   "metadata": {},
   "outputs": [],
   "source": [
    "import boto3\n",
    "from src.data_processing.processors.FileScraper import FileScraper\n",
    "from src.data_processing.aws_sdk.S3Manager import S3Manager\n"
   ]
  },
  {
   "cell_type": "code",
   "execution_count": 63,
   "metadata": {},
   "outputs": [
    {
     "name": "stderr",
     "output_type": "stream",
     "text": [
      "2023-09-28 12:32:52.690 | INFO     | src.data_processing.processors.FileScraper:filter_files_by_extention:60 - files found: ['/Users/mds8301/iterm_data_storage/subjects_by_category.json', '/Users/mds8301/iterm_data_storage/raw_data_raw_data.parquet.gzip', '/Users/mds8301/iterm_data_storage/subjects.json', '/Users/mds8301/iterm_data_storage/full_dataset.parquet.gzip', '/Users/mds8301/iterm_data_storage/base_classifier_tuning/results.json', '/Users/mds8301/iterm_data_storage/base_classifier_tuning/best_params.json']\n",
      "2023-09-28 12:32:52.691 | INFO     | src.data_processing.processors.FileScraper:filter_files_by_keywords:72 - files found: ['/Users/mds8301/iterm_data_storage/subjects_by_category.json', '/Users/mds8301/iterm_data_storage/subjects.json', '/Users/mds8301/iterm_data_storage/full_dataset.parquet.gzip']\n"
     ]
    },
    {
     "data": {
      "text/plain": [
       "['/Users/mds8301/iterm_data_storage/subjects_by_category.json',\n",
       " '/Users/mds8301/iterm_data_storage/subjects.json',\n",
       " '/Users/mds8301/iterm_data_storage/full_dataset.parquet.gzip']"
      ]
     },
     "execution_count": 63,
     "metadata": {},
     "output_type": "execute_result"
    }
   ],
   "source": [
    "scraper = FileScraper()\n",
    "PATH = \"/Users/mds8301/iterm_data_storage\"\n",
    "scraper.set_directory(PATH)\n",
    "\n",
    "scraper.file_names\n",
    "EXTENSIONS = (\"gzip\", \"json\", \"txt\")\n",
    "KEY_WORDS = (\"full\", \"subjects\")\n",
    "scraper.filter_files_by_extention(*EXTENSIONS)\n",
    "scraper.filter_files_by_keywords(*KEY_WORDS)\n",
    "scraper.file_names\n"
   ]
  },
  {
   "cell_type": "code",
   "execution_count": null,
   "metadata": {},
   "outputs": [],
   "source": []
  }
 ],
 "metadata": {
  "kernelspec": {
   "display_name": "enigma",
   "language": "python",
   "name": "python3"
  },
  "language_info": {
   "codemirror_mode": {
    "name": "ipython",
    "version": 3
   },
   "file_extension": ".py",
   "mimetype": "text/x-python",
   "name": "python",
   "nbconvert_exporter": "python",
   "pygments_lexer": "ipython3",
   "version": "3.11.2"
  },
  "orig_nbformat": 4
 },
 "nbformat": 4,
 "nbformat_minor": 2
}
