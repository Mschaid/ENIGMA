{
 "cells": [
  {
   "cell_type": "code",
   "execution_count": 1,
   "metadata": {},
   "outputs": [],
   "source": [
    "%load_ext autoreload \n",
    "%autoreload 2"
   ]
  },
  {
   "cell_type": "code",
   "execution_count": 2,
   "metadata": {},
   "outputs": [
    {
     "name": "stderr",
     "output_type": "stream",
     "text": [
      "2023-04-07 17:06:41.637082: I tensorflow/core/platform/cpu_feature_guard.cc:182] This TensorFlow binary is optimized to use available CPU instructions in performance-critical operations.\n",
      "To enable the following instructions: AVX2 FMA, in other operations, rebuild TensorFlow with the appropriate compiler flags.\n"
     ]
    }
   ],
   "source": [
    "import pandas as pd\n",
    "import numpy as np\n",
    "import tensorflow as tf\n",
    "from src.processors.Preprocessor import Preprocessor"
   ]
  },
  {
   "cell_type": "code",
   "execution_count": 4,
   "metadata": {},
   "outputs": [],
   "source": [
    "PATH = r'/Users/michaelschaid/GitHub/dopamine_modeling/data/gaby_test/aggregated_data.parquet.gzp'"
   ]
  },
  {
   "cell_type": "code",
   "execution_count": 9,
   "metadata": {},
   "outputs": [
    {
     "ename": "TypeError",
     "evalue": "string indices must be integers, not 'str'",
     "output_type": "error",
     "traceback": [
      "\u001b[0;31m---------------------------------------------------------------------------\u001b[0m",
      "\u001b[0;31mTypeError\u001b[0m                                 Traceback (most recent call last)",
      "Cell \u001b[0;32mIn[9], line 3\u001b[0m\n\u001b[1;32m      1\u001b[0m preprocessor  \u001b[39m=\u001b[39m Preprocessor(PATH)\n\u001b[1;32m      2\u001b[0m preprocessor\u001b[39m.\u001b[39mload_data()\n\u001b[0;32m----> 3\u001b[0m preprocessor\u001b[39m.\u001b[39;49mone_hot_encode(\u001b[39m*\u001b[39;49m[\u001b[39m'\u001b[39;49m\u001b[39mevent\u001b[39;49m\u001b[39m'\u001b[39;49m, \u001b[39m'\u001b[39;49m\u001b[39msensor\u001b[39;49m\u001b[39m'\u001b[39;49m])\n\u001b[1;32m      4\u001b[0m preprocessor\u001b[39m.\u001b[39mdummy_data\n",
      "File \u001b[0;32m~/GitHub/dopamine_modeling/src/processors/Preprocessor.py:18\u001b[0m, in \u001b[0;36mPreprocessor.one_hot_encode\u001b[0;34m(self, df, *labels)\u001b[0m\n\u001b[1;32m     15\u001b[0m \u001b[39mif\u001b[39;00m df \u001b[39m==\u001b[39m \u001b[39mNone\u001b[39;00m:\n\u001b[1;32m     16\u001b[0m     df \u001b[39m=\u001b[39m \u001b[39mself\u001b[39m\u001b[39m.\u001b[39mdata\n\u001b[0;32m---> 18\u001b[0m dataframes_w_dummies \u001b[39m=\u001b[39m [pd\u001b[39m.\u001b[39;49mget_dummies(\n\u001b[1;32m     19\u001b[0m     df[label], prefix\u001b[39m=\u001b[39;49mlabel) \u001b[39mfor\u001b[39;49;00m label \u001b[39min\u001b[39;49;00m labels]\n\u001b[1;32m     20\u001b[0m concat_df \u001b[39m=\u001b[39m pd\u001b[39m.\u001b[39mconcat([df, \u001b[39m*\u001b[39mdataframes_w_dummies], axis\u001b[39m=\u001b[39m\u001b[39m1\u001b[39m)\n\u001b[1;32m     21\u001b[0m packed_labels \u001b[39m=\u001b[39m \u001b[39mlist\u001b[39m(labels)\n",
      "File \u001b[0;32m~/GitHub/dopamine_modeling/src/processors/Preprocessor.py:19\u001b[0m, in \u001b[0;36m<listcomp>\u001b[0;34m(.0)\u001b[0m\n\u001b[1;32m     15\u001b[0m \u001b[39mif\u001b[39;00m df \u001b[39m==\u001b[39m \u001b[39mNone\u001b[39;00m:\n\u001b[1;32m     16\u001b[0m     df \u001b[39m=\u001b[39m \u001b[39mself\u001b[39m\u001b[39m.\u001b[39mdata\n\u001b[1;32m     18\u001b[0m dataframes_w_dummies \u001b[39m=\u001b[39m [pd\u001b[39m.\u001b[39mget_dummies(\n\u001b[0;32m---> 19\u001b[0m     df[label], prefix\u001b[39m=\u001b[39mlabel) \u001b[39mfor\u001b[39;00m label \u001b[39min\u001b[39;00m labels]\n\u001b[1;32m     20\u001b[0m concat_df \u001b[39m=\u001b[39m pd\u001b[39m.\u001b[39mconcat([df, \u001b[39m*\u001b[39mdataframes_w_dummies], axis\u001b[39m=\u001b[39m\u001b[39m1\u001b[39m)\n\u001b[1;32m     21\u001b[0m packed_labels \u001b[39m=\u001b[39m \u001b[39mlist\u001b[39m(labels)\n",
      "\u001b[0;31mTypeError\u001b[0m: string indices must be integers, not 'str'"
     ]
    }
   ],
   "source": [
    "preprocessor  = Preprocessor(PATH)\n",
    "preprocessor.load_data()\n",
    "preprocessor.one_hot_encode(*['event', 'sensor'])\n",
    "preprocessor.dummy_data"
   ]
  },
  {
   "cell_type": "code",
   "execution_count": 15,
   "metadata": {},
   "outputs": [
    {
     "name": "stdout",
     "output_type": "stream",
     "text": [
      "       mouse_id  day  event sensor       time  trial    signal\n",
      "0       142_237    2  avoid     D1 -25.000000      0 -1.095460\n",
      "1       142_237    2  avoid     D1 -24.998034      0 -1.099279\n",
      "2       142_237    2  avoid     D1 -24.996067      0 -1.102783\n",
      "3       142_237    2  avoid     D1 -24.994102      0 -1.105968\n",
      "4       142_237    2  avoid     D1 -24.992136      0 -1.108833\n",
      "...         ...  ...    ...    ...        ...    ...       ...\n",
      "114440  142_237    1  avoid     DA  19.992136      4  1.698982\n",
      "114441  142_237    1  avoid     DA  19.994102      4  1.725865\n",
      "114442  142_237    1  avoid     DA  19.996067      4  1.750877\n",
      "114443  142_237    1  avoid     DA  19.998034      4  1.773995\n",
      "114444  142_237    1  avoid     DA  20.000000      4  1.795202\n",
      "\n",
      "[503558 rows x 7 columns]\n"
     ]
    },
    {
     "data": {
      "text/html": [
       "<div>\n",
       "<style scoped>\n",
       "    .dataframe tbody tr th:only-of-type {\n",
       "        vertical-align: middle;\n",
       "    }\n",
       "\n",
       "    .dataframe tbody tr th {\n",
       "        vertical-align: top;\n",
       "    }\n",
       "\n",
       "    .dataframe thead th {\n",
       "        text-align: right;\n",
       "    }\n",
       "</style>\n",
       "<table border=\"1\" class=\"dataframe\">\n",
       "  <thead>\n",
       "    <tr style=\"text-align: right;\">\n",
       "      <th></th>\n",
       "      <th>mouse_id</th>\n",
       "      <th>day</th>\n",
       "      <th>time</th>\n",
       "      <th>trial</th>\n",
       "      <th>signal</th>\n",
       "      <th>event_avoid</th>\n",
       "      <th>sensor_D1</th>\n",
       "      <th>sensor_DA</th>\n",
       "    </tr>\n",
       "  </thead>\n",
       "  <tbody>\n",
       "    <tr>\n",
       "      <th>0</th>\n",
       "      <td>142_237</td>\n",
       "      <td>2</td>\n",
       "      <td>-25.000000</td>\n",
       "      <td>0</td>\n",
       "      <td>-1.095460</td>\n",
       "      <td>1</td>\n",
       "      <td>1</td>\n",
       "      <td>0</td>\n",
       "    </tr>\n",
       "    <tr>\n",
       "      <th>1</th>\n",
       "      <td>142_237</td>\n",
       "      <td>2</td>\n",
       "      <td>-24.998034</td>\n",
       "      <td>0</td>\n",
       "      <td>-1.099279</td>\n",
       "      <td>1</td>\n",
       "      <td>1</td>\n",
       "      <td>0</td>\n",
       "    </tr>\n",
       "    <tr>\n",
       "      <th>2</th>\n",
       "      <td>142_237</td>\n",
       "      <td>2</td>\n",
       "      <td>-24.996067</td>\n",
       "      <td>0</td>\n",
       "      <td>-1.102783</td>\n",
       "      <td>1</td>\n",
       "      <td>1</td>\n",
       "      <td>0</td>\n",
       "    </tr>\n",
       "    <tr>\n",
       "      <th>3</th>\n",
       "      <td>142_237</td>\n",
       "      <td>2</td>\n",
       "      <td>-24.994102</td>\n",
       "      <td>0</td>\n",
       "      <td>-1.105968</td>\n",
       "      <td>1</td>\n",
       "      <td>1</td>\n",
       "      <td>0</td>\n",
       "    </tr>\n",
       "    <tr>\n",
       "      <th>4</th>\n",
       "      <td>142_237</td>\n",
       "      <td>2</td>\n",
       "      <td>-24.992136</td>\n",
       "      <td>0</td>\n",
       "      <td>-1.108833</td>\n",
       "      <td>1</td>\n",
       "      <td>1</td>\n",
       "      <td>0</td>\n",
       "    </tr>\n",
       "    <tr>\n",
       "      <th>...</th>\n",
       "      <td>...</td>\n",
       "      <td>...</td>\n",
       "      <td>...</td>\n",
       "      <td>...</td>\n",
       "      <td>...</td>\n",
       "      <td>...</td>\n",
       "      <td>...</td>\n",
       "      <td>...</td>\n",
       "    </tr>\n",
       "    <tr>\n",
       "      <th>114440</th>\n",
       "      <td>142_237</td>\n",
       "      <td>1</td>\n",
       "      <td>19.992136</td>\n",
       "      <td>4</td>\n",
       "      <td>1.698982</td>\n",
       "      <td>1</td>\n",
       "      <td>0</td>\n",
       "      <td>1</td>\n",
       "    </tr>\n",
       "    <tr>\n",
       "      <th>114441</th>\n",
       "      <td>142_237</td>\n",
       "      <td>1</td>\n",
       "      <td>19.994102</td>\n",
       "      <td>4</td>\n",
       "      <td>1.725865</td>\n",
       "      <td>1</td>\n",
       "      <td>0</td>\n",
       "      <td>1</td>\n",
       "    </tr>\n",
       "    <tr>\n",
       "      <th>114442</th>\n",
       "      <td>142_237</td>\n",
       "      <td>1</td>\n",
       "      <td>19.996067</td>\n",
       "      <td>4</td>\n",
       "      <td>1.750877</td>\n",
       "      <td>1</td>\n",
       "      <td>0</td>\n",
       "      <td>1</td>\n",
       "    </tr>\n",
       "    <tr>\n",
       "      <th>114443</th>\n",
       "      <td>142_237</td>\n",
       "      <td>1</td>\n",
       "      <td>19.998034</td>\n",
       "      <td>4</td>\n",
       "      <td>1.773995</td>\n",
       "      <td>1</td>\n",
       "      <td>0</td>\n",
       "      <td>1</td>\n",
       "    </tr>\n",
       "    <tr>\n",
       "      <th>114444</th>\n",
       "      <td>142_237</td>\n",
       "      <td>1</td>\n",
       "      <td>20.000000</td>\n",
       "      <td>4</td>\n",
       "      <td>1.795202</td>\n",
       "      <td>1</td>\n",
       "      <td>0</td>\n",
       "      <td>1</td>\n",
       "    </tr>\n",
       "  </tbody>\n",
       "</table>\n",
       "<p>503558 rows × 8 columns</p>\n",
       "</div>"
      ],
      "text/plain": [
       "       mouse_id  day       time  trial    signal  event_avoid  sensor_D1  \\\n",
       "0       142_237    2 -25.000000      0 -1.095460            1          1   \n",
       "1       142_237    2 -24.998034      0 -1.099279            1          1   \n",
       "2       142_237    2 -24.996067      0 -1.102783            1          1   \n",
       "3       142_237    2 -24.994102      0 -1.105968            1          1   \n",
       "4       142_237    2 -24.992136      0 -1.108833            1          1   \n",
       "...         ...  ...        ...    ...       ...          ...        ...   \n",
       "114440  142_237    1  19.992136      4  1.698982            1          0   \n",
       "114441  142_237    1  19.994102      4  1.725865            1          0   \n",
       "114442  142_237    1  19.996067      4  1.750877            1          0   \n",
       "114443  142_237    1  19.998034      4  1.773995            1          0   \n",
       "114444  142_237    1  20.000000      4  1.795202            1          0   \n",
       "\n",
       "        sensor_DA  \n",
       "0               0  \n",
       "1               0  \n",
       "2               0  \n",
       "3               0  \n",
       "4               0  \n",
       "...           ...  \n",
       "114440          1  \n",
       "114441          1  \n",
       "114442          1  \n",
       "114443          1  \n",
       "114444          1  \n",
       "\n",
       "[503558 rows x 8 columns]"
      ]
     },
     "execution_count": 15,
     "metadata": {},
     "output_type": "execute_result"
    }
   ],
   "source": [
    "preprocessor.one_hot_encode(*['event', 'sensor'])\n",
    "preprocessor.dummy_data"
   ]
  },
  {
   "cell_type": "code",
   "execution_count": 20,
   "metadata": {},
   "outputs": [
    {
     "data": {
      "text/plain": [
       "mouse_id    category\n",
       "day            int64\n",
       "event       category\n",
       "sensor        object\n",
       "time         float32\n",
       "trial          int32\n",
       "signal       float32\n",
       "dtype: object"
      ]
     },
     "execution_count": 20,
     "metadata": {},
     "output_type": "execute_result"
    }
   ],
   "source": []
  },
  {
   "cell_type": "code",
   "execution_count": 32,
   "metadata": {},
   "outputs": [
    {
     "name": "stdout",
     "output_type": "stream",
     "text": [
      "event sensor\n"
     ]
    }
   ],
   "source": [
    "test = ['event', 'sensor']\n",
    "print(*['event', 'sensor'])"
   ]
  },
  {
   "cell_type": "code",
   "execution_count": 49,
   "metadata": {},
   "outputs": [
    {
     "name": "stdout",
     "output_type": "stream",
     "text": [
      "# packages in environment at /Users/michaelschaid/opt/anaconda3/envs/dope:\n",
      "#\n",
      "# Name                    Version                   Build  Channel\n"
     ]
    }
   ],
   "source": []
  },
  {
   "cell_type": "code",
   "execution_count": 5,
   "metadata": {},
   "outputs": [
    {
     "name": "stdout",
     "output_type": "stream",
     "text": [
      "tf.Tensor(4, shape=(), dtype=int32)\n"
     ]
    }
   ],
   "source": [
    "\n"
   ]
  },
  {
   "cell_type": "code",
   "execution_count": null,
   "metadata": {},
   "outputs": [],
   "source": []
  }
 ],
 "metadata": {
  "kernelspec": {
   "display_name": "dope",
   "language": "python",
   "name": "python3"
  },
  "language_info": {
   "codemirror_mode": {
    "name": "ipython",
    "version": 3
   },
   "file_extension": ".py",
   "mimetype": "text/x-python",
   "name": "python",
   "nbconvert_exporter": "python",
   "pygments_lexer": "ipython3",
   "version": "3.11.0"
  },
  "orig_nbformat": 4
 },
 "nbformat": 4,
 "nbformat_minor": 2
}
