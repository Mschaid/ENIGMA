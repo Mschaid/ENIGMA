{
 "cells": [
  {
   "cell_type": "code",
   "execution_count": null,
   "metadata": {},
   "outputs": [],
   "source": [
    "%load_ext autoreload \n",
    "%autoreload 2"
   ]
  },
  {
   "cell_type": "code",
   "execution_count": null,
   "metadata": {},
   "outputs": [],
   "source": [
    "import pandas as pd\n",
    "import os\n",
    "import numpy as np \n",
    "import matplotlib.pyplot as plt\n",
    "import seaborn as sns\n",
    "import seaborn.objects as so \n",
    "from sklearn.model_selection import train_test_split\n",
    "import tensorflow as tf\n",
    "from tensorflow.keras.layers import Conv1D, MaxPooling1D, Flatten, Dense\n",
    "from tensorflow.keras import Sequential\n",
    "from tensorflow.keras.layers import Dense\n",
    "from tensorflow.keras.losses import BinaryCrossentropy\n",
    "tf.config.run_functions_eagerly(True)\n",
    "\n",
    "#custom imports\n",
    "from src.processors.Preprocessor import Preprocessor\n"
   ]
  },
  {
   "cell_type": "code",
   "execution_count": null,
   "metadata": {},
   "outputs": [],
   "source": [
    "PATH = r'/Users/michaelschaid/GitHub/dopamine_modeling/data/gaby_test/aggregated_data.parquet.gzp'\n",
    "PATH_TO_SAVE = '/Users/michaelschaid/GitHub/dopamine_modeling/data/gaby_test/processed_data.parquet.gzp'"
   ]
  },
  {
   "attachments": {},
   "cell_type": "markdown",
   "metadata": {},
   "source": [
    "# Initial preprocessing of data:\n",
    "* load data\n",
    "* hot encode categorical variables\n",
    "* select features and target variable\n",
    "* split data into train and test sets\n",
    "  * started withn 80/20 split"
   ]
  },
  {
   "cell_type": "code",
   "execution_count": null,
   "metadata": {},
   "outputs": [],
   "source": [
    "preprocessor  = Preprocessor(PATH)\n",
    "preprocessor.load_data()\n",
    "preprocessor.one_hot_encode(*['event', 'sensor'])\n",
    "preprocessor.save_features(PATH_TO_SAVE)\n",
    "\n",
    "\n",
    "features = ['day', 'time', 'trial', \n",
    "            'signal','event_cue', 'event_shock', \n",
    "            'sensor_D1', 'sensor_D2', 'sensor_DA']\n",
    "target = 'signal'\n",
    "\n",
    "preprocessor.split_train_test(X_labels = features, y_label=target)"
   ]
  },
  {
   "attachments": {},
   "cell_type": "markdown",
   "metadata": {},
   "source": [
    "### Standard fully connected "
   ]
  },
  {
   "cell_type": "code",
   "execution_count": null,
   "metadata": {},
   "outputs": [],
   "source": [
    "training_sensor_DA = preprocessor.dummy_data.query('day < 5')\n",
    "testing_sensor_DA = preprocessor.dummy_data.query('trial >= 7')\n",
    "\n",
    "X_train = training_sensor_DA[features]\n",
    "y_train = training_sensor_DA[target]\n",
    "\n",
    "X_test = testing_sensor_DA[features]\n",
    "y_test = testing_sensor_DA[target]\n"
   ]
  },
  {
   "cell_type": "code",
   "execution_count": null,
   "metadata": {},
   "outputs": [],
   "source": [
    "sample = preprocessor.dummy_data.head(100)\n",
    "X_train, X_test, y_train, y_test = train_test_split(sample[features], sample[target], test_size=0.2, random_state=42)\n",
    "sample.to_parquet('/Users/michaelschaid/GitHub/dopamine_modeling/data/gaby_test/testing_data.parquet.gzp')"
   ]
  },
  {
   "cell_type": "code",
   "execution_count": null,
   "metadata": {},
   "outputs": [],
   "source": [
    "model = Sequential([\n",
    "    Dense(units = 128, activation='sigmoid'),\n",
    "    Dense(units = 25, activation = 'sigmoid'),\n",
    "    Dense(units = 1, activation = 'sigmoid')])\n",
    "model.compile(loss = BinaryCrossentropy())\n",
    "model.fit(X_train, y_train, epochs = 100)\n"
   ]
  },
  {
   "cell_type": "code",
   "execution_count": null,
   "metadata": {},
   "outputs": [],
   "source": [
    "model.layers"
   ]
  },
  {
   "cell_type": "code",
   "execution_count": null,
   "metadata": {},
   "outputs": [],
   "source": [
    "model.evaluate(X_test, y_test, verbose=2)"
   ]
  },
  {
   "cell_type": "code",
   "execution_count": null,
   "metadata": {},
   "outputs": [],
   "source": [
    "model.get_metrics_result()"
   ]
  },
  {
   "cell_type": "code",
   "execution_count": null,
   "metadata": {},
   "outputs": [],
   "source": [
    "\n",
    "save_model_path = os.path.join('/Users/michaelschaid/GitHub/dopamine_modeling/results/models','saved_model_2')\n",
    "model.save(save_model_path)"
   ]
  },
  {
   "cell_type": "markdown",
   "metadata": {},
   "source": []
  },
  {
   "cell_type": "code",
   "execution_count": null,
   "metadata": {},
   "outputs": [],
   "source": []
  }
 ],
 "metadata": {
  "kernelspec": {
   "display_name": "dope",
   "language": "python",
   "name": "python3"
  },
  "language_info": {
   "codemirror_mode": {
    "name": "ipython",
    "version": 3
   },
   "file_extension": ".py",
   "mimetype": "text/x-python",
   "name": "python",
   "nbconvert_exporter": "python",
   "pygments_lexer": "ipython3",
   "version": "3.11.0"
  },
  "orig_nbformat": 4
 },
 "nbformat": 4,
 "nbformat_minor": 2
}
