{
 "cells": [
  {
   "cell_type": "code",
   "execution_count": 1,
   "metadata": {},
   "outputs": [],
   "source": [
    "%load_ext autoreload\n",
    "%autoreload 2\n"
   ]
  },
  {
   "cell_type": "code",
   "execution_count": 3,
   "metadata": {},
   "outputs": [
    {
     "name": "stderr",
     "output_type": "stream",
     "text": [
      "2023-05-26 13:56:30.685590: I tensorflow/core/util/port.cc:110] oneDNN custom operations are on. You may see slightly different numerical results due to floating-point round-off errors from different computation orders. To turn them off, set the environment variable `TF_ENABLE_ONEDNN_OPTS=0`.\n",
      "2023-05-26 13:56:33.721489: I tensorflow/core/platform/cpu_feature_guard.cc:182] This TensorFlow binary is optimized to use available CPU instructions in performance-critical operations.\n",
      "To enable the following instructions: AVX2 AVX512F AVX512_VNNI FMA, in other operations, rebuild TensorFlow with the appropriate compiler flags.\n",
      "2023-05-26 13:56:43.135441: W tensorflow/compiler/tf2tensorrt/utils/py_utils.cc:38] TF-TRT Warning: Could not find TensorRT\n"
     ]
    },
    {
     "name": "stdout",
     "output_type": "stream",
     "text": [
      "TensorFlow version: 2.12.0\n"
     ]
    }
   ],
   "source": [
    "from src.processors.Preprocessor import Preprocessor\n",
    "from src.model_experiemtation.ModelExperimentor import TFModelExperimentor\n",
    "\n",
    "import datetime\n",
    "import pandas as pd\n",
    "import os\n",
    "import numpy as np\n",
    "import matplotlib.pyplot as plt\n",
    "import seaborn as sns\n",
    "import seaborn.objects as so\n",
    "from sklearn.model_selection import train_test_split\n",
    "import tensorflow as tf\n",
    "\n",
    "\n",
    "import tensorflow as tf\n",
    "from tensorflow.keras.layers import Dense, LayerNormalization, LSTM\n",
    "from tensorflow.keras import Sequential\n",
    "\n",
    "from tensorflow.keras.losses import Huber, MeanSquaredError\n",
    "\n",
    "#validate GPU detection\n",
    "print(\"TensorFlow version:\", tf.__version__)\n",
    "for gpu in tf.config.list_physical_devices('GPU'):\n",
    "    print(gpu)\n",
    "\n"
   ]
  },
  {
   "cell_type": "code",
   "execution_count": 4,
   "metadata": {},
   "outputs": [
    {
     "ename": "",
     "evalue": "",
     "output_type": "error",
     "traceback": [
      "\u001b[1;31mCanceled future for execute_request message before replies were done"
     ]
    },
    {
     "ename": "",
     "evalue": "",
     "output_type": "error",
     "traceback": [
      "\u001b[1;31mThe Kernel crashed while executing code in the the current cell or a previous cell. Please review the code in the cell(s) to identify a possible cause of the failure. Click <a href='https://aka.ms/vscodeJupyterKernelCrash'>here</a> for more info. View Jupyter <a href='command:jupyter.viewOutput'>log</a> for further details."
     ]
    }
   ],
   "source": [
    "PATH = '/home/mds8301/gaby_test/processors/unit_test_processor.pkl'\n",
    "proc = Preprocessor().load_processor(PATH)\n",
    "proc.one_hot_encode(labels = ['event', 'sensor'])"
   ]
  },
  {
   "attachments": {},
   "cell_type": "markdown",
   "metadata": {},
   "source": [
    "## initial prototyping plan\n",
    "* query trials below 20 for training\n",
    "* query trials above 20 for testing and prediction\n",
    "* drop mouse_id \n",
    "\n",
    "\n"
   ]
  },
  {
   "cell_type": "code",
   "execution_count": null,
   "metadata": {},
   "outputs": [],
   "source": [
    "#downsample data to reduce training timne\n",
    "downsample_data = proc.processed_data.drop(proc.processed_data.index[::100])\n",
    "downsample_data.to_parquet('/home/mds8301/gaby_test/processors/downsampled_data.parquet')\n"
   ]
  },
  {
   "attachments": {},
   "cell_type": "markdown",
   "metadata": {},
   "source": [
    "memory reducetion\n"
   ]
  },
  {
   "cell_type": "code",
   "execution_count": null,
   "metadata": {},
   "outputs": [],
   "source": [
    "downsample_data.memory_usage(deep=True).sum()/proc.processed_data.memory_usage(deep=True).sum()"
   ]
  },
  {
   "cell_type": "code",
   "execution_count": null,
   "metadata": {},
   "outputs": [],
   "source": [
    "plt.plot(downsample_data.query('mouse_id == \"310_909\" & trial==7 & sensor_DA == 1 & event_avoid==1')['time'], downsample_data.query('mouse_id == \"310_909\" & trial==7 & sensor_DA == 1 & event_avoid==1')['signal'])\n",
    "plt.show()"
   ]
  },
  {
   "attachments": {},
   "cell_type": "markdown",
   "metadata": {},
   "source": [
    "### split into training and test sets by trial"
   ]
  },
  {
   "attachments": {},
   "cell_type": "markdown",
   "metadata": {},
   "source": [
    "> query data for a specific mouse, event avoid and dopamine sensor to further reduce training time"
   ]
  },
  {
   "cell_type": "code",
   "execution_count": null,
   "metadata": {},
   "outputs": [],
   "source": [
    "query = 'mouse_id == \"310_909\" & sensor_DA == 1 & event_avoid==1'\n",
    "non_useful_columns=['mouse_id','event_cue','event_escape', 'event_shock','sensor_D1', 'sensor_D2']\n",
    "mouse_909_DA_avoid = downsample_data.query(query).drop(columns=non_useful_columns)\n",
    "mouse_909_DA_avoid"
   ]
  },
  {
   "cell_type": "code",
   "execution_count": null,
   "metadata": {},
   "outputs": [],
   "source": [
    "\n",
    "trials_under_5 = mouse_909_DA_avoid.query('trial<=5')\n",
    "trials_over_5 = mouse_909_DA_avoid.query('trial>5')\n",
    "\n",
    "X_train, y_train = trials_under_5.drop(columns = ['signal']), trials_under_5.signal\n",
    "X_test, y_test = trials_over_5.drop(columns = ['signal']), trials_over_5.signal"
   ]
  },
  {
   "cell_type": "code",
   "execution_count": null,
   "metadata": {},
   "outputs": [],
   "source": [
    "\n",
    "\n",
    "sequential_model = Sequential(\n",
    "    [\n",
    "        Dense(128, activation='relu', name=\"dense_1\"),\n",
    "        Dense(1, activation='relu', name=\"dense_2\")\n",
    "    ]\n",
    ")\n"
   ]
  },
  {
   "cell_type": "code",
   "execution_count": null,
   "metadata": {},
   "outputs": [],
   "source": [
    "model_id = 'sequential_prototype'\n",
    "date_time = datetime.datetime.now().strftime(\"%Y%m%d-%H%M%S\")\n",
    "training_log_dir = \"/projects/p31961/dopamine_modeling/results/logs/training_logs/\" \n",
    "logs_dir = f\"{training_log_dir}/{model_id}/{date_time}\"\n",
    "tensorboard_callback = tf.keras.callbacks.TensorBoard(log_dir=logs_dir, histogram_freq=1)"
   ]
  },
  {
   "cell_type": "code",
   "execution_count": null,
   "metadata": {},
   "outputs": [],
   "source": [
    "sequential_model.compile(\n",
    "    optimizer=\"adam\", loss=Huber())\n",
    "sequential_model.fit(X_train, y_train, batch_size=30, epochs= 100, callbacks=[tensorboard_callback])\n",
    "prediction = sequential_model.predict(X_test)\n",
    "sequential_model.evaluate(X_test, y_test)"
   ]
  },
  {
   "cell_type": "code",
   "execution_count": null,
   "metadata": {},
   "outputs": [],
   "source": [
    "# save model\n",
    "model_dir = \"/projects/p31961/dopamine_modeling/results/models/\"\n",
    "sequential_model.save(f\"{model_dir}/{model_id}/{date_time}\")\n"
   ]
  },
  {
   "cell_type": "code",
   "execution_count": null,
   "metadata": {},
   "outputs": [],
   "source": []
  }
 ],
 "metadata": {
  "kernelspec": {
   "display_name": "dope (Python 311)",
   "language": "python",
   "name": "dope"
  },
  "language_info": {
   "codemirror_mode": {
    "name": "ipython",
    "version": 3
   },
   "file_extension": ".py",
   "mimetype": "text/x-python",
   "name": "python",
   "nbconvert_exporter": "python",
   "pygments_lexer": "ipython3",
   "version": "3.11.2"
  }
 },
 "nbformat": 4,
 "nbformat_minor": 2
}
