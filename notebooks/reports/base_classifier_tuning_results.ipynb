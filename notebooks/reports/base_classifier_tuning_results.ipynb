{
 "cells": [
  {
   "cell_type": "code",
   "execution_count": 23,
   "metadata": {},
   "outputs": [],
   "source": [
    "import json\n",
    "import numpy as np"
   ]
  },
  {
   "cell_type": "code",
   "execution_count": 24,
   "metadata": {},
   "outputs": [],
   "source": [
    "with open('/Users/mds8301/Development/ENIGMA/results/experiments/base_classifier_tuning/results.json', 'r') as f:\n",
    "    results = json.load(f)"
   ]
  },
  {
   "cell_type": "code",
   "execution_count": 32,
   "metadata": {},
   "outputs": [
    {
     "data": {
      "text/plain": [
       "0.8049344272037685"
      ]
     },
     "execution_count": 32,
     "metadata": {},
     "output_type": "execute_result"
    }
   ],
   "source": [
    "num_results = len(results[\"results\"])\n",
    "all_results = results[\"results\"]\n",
    "\n",
    "max_score = np.array([all_results[i]['f1_score'] for i in range(num_results)]).max()\n",
    "max_score"
   ]
  },
  {
   "cell_type": "code",
   "execution_count": 37,
   "metadata": {},
   "outputs": [],
   "source": [
    "def find_best_params(results):\n",
    "    for result in all_results:\n",
    "        if result['f1_score'] == max_score:\n",
    "            return result\n",
    "    \n",
    "best_params = find_best_params(results)\n",
    "best_params_path = '/Users/mds8301/Development/ENIGMA/results/experiments/base_classifier_tuning/best_params.json'\n",
    "with open(best_params_path, 'w') as f:\n",
    "    json.dump(best_params, f)"
   ]
  },
  {
   "cell_type": "code",
   "execution_count": 43,
   "metadata": {},
   "outputs": [
    {
     "data": {
      "text/plain": [
       "{'batch size': 64,\n",
       " 'dropout rate': 0.2,\n",
       " 'epochs': 200,\n",
       " 'learning rate': 1e-05,\n",
       " 'number of layers': 3,\n",
       " 'number of units': 20,\n",
       " 'optimizers': 'adam'}"
      ]
     },
     "execution_count": 43,
     "metadata": {},
     "output_type": "execute_result"
    }
   ],
   "source": [
    "def load_parameters(best_params_file_path):\n",
    "    results = json.load(open(best_params_file_path))\n",
    "    return results[\"params\"]\n",
    "    \n",
    "    \n",
    "load_parameters(best_params_path)"
   ]
  },
  {
   "cell_type": "code",
   "execution_count": 40,
   "metadata": {},
   "outputs": [
    {
     "data": {
      "text/plain": [
       "{'batch size': 64,\n",
       " 'dropout rate': 0.2,\n",
       " 'epochs': 200,\n",
       " 'learning rate': 1e-05,\n",
       " 'number of layers': 3,\n",
       " 'number of units': 20,\n",
       " 'optimizers': 'adam'}"
      ]
     },
     "execution_count": 40,
     "metadata": {},
     "output_type": "execute_result"
    }
   ],
   "source": [
    "best_params = laod"
   ]
  },
  {
   "cell_type": "code",
   "execution_count": null,
   "metadata": {},
   "outputs": [],
   "source": []
  }
 ],
 "metadata": {
  "kernelspec": {
   "display_name": "enigma",
   "language": "python",
   "name": "python3"
  },
  "language_info": {
   "codemirror_mode": {
    "name": "ipython",
    "version": 3
   },
   "file_extension": ".py",
   "mimetype": "text/x-python",
   "name": "python",
   "nbconvert_exporter": "python",
   "pygments_lexer": "ipython3",
   "version": "3.11.2"
  },
  "orig_nbformat": 4
 },
 "nbformat": 4,
 "nbformat_minor": 2
}
