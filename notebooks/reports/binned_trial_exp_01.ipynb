{
 "cells": [
  {
   "cell_type": "raw",
   "metadata": {},
   "source": [
    "---\n",
    "title: \"Validation and plotting of binned_exp_01\" \n",
    "author: \"Mike Schaid\"\n",
    "date: \"2023-07-10\"\n",
    "theme: cosmo\n",
    "format: \n",
    "  html: \n",
    "    monobackgroundcolor: '#f1f1f101'\n",
    "    code-fold: true\n",
    "    code-block-border-left: true\n",
    "    code-block-bg: \"#0000\"\n",
    "    code-block-border-left: \"#999999\"\n",
    "    highlight-style: a11y\n",
    "    embed-resources: true\n",
    "---"
   ]
  },
  {
   "cell_type": "code",
   "execution_count": null,
   "metadata": {},
   "outputs": [],
   "source": [
    "%load_ext autoreload \n",
    "%autoreload 2 "
   ]
  },
  {
   "cell_type": "code",
   "execution_count": null,
   "metadata": {},
   "outputs": [],
   "source": [
    "import random\n",
    "import os\n",
    "import matplotlib.pyplot as plt\n",
    "import matplotlib.gridspec as gridspec # for subplots\n",
    "import pandas as pd\n",
    "import numpy as np\n",
    "import seaborn as sns\n",
    "import seaborn.objects as so\n",
    "import tensorflow as tf\n",
    "\n",
    "from src.utilities.plot_helpers import generate_random_colors\n",
    "from src.modeling.experiments.binned_trial_experiment_01 import split_data\n",
    "\n",
    "from src.utilities.pandas_helpers import get_features"
   ]
  },
  {
   "attachments": {},
   "cell_type": "markdown",
   "metadata": {},
   "source": [
    "## Experimental conditions: \n",
    "* 2 layer LSTM \n",
    "* trained with 128 units"
   ]
  },
  {
   "attachments": {},
   "cell_type": "markdown",
   "metadata": {},
   "source": [
    "#### Load Model"
   ]
  },
  {
   "cell_type": "code",
   "execution_count": null,
   "metadata": {},
   "outputs": [],
   "source": [
    "# directory paths\n",
    "DATA_PATH = '/projects/p31961/gaby_data/aggregated_data/data_pipeline_full_dataset/datasets/full_dataset.parquet.gzip'\n",
    "PATH_TO_MODELS = '/projects/p31961/ENIGMA/results/experiments/binned_trial_experiment_01/models'\n",
    "control_path = os.path.join(PATH_TO_MODELS, 'control')\n",
    "no_bins_path = os.path.join(PATH_TO_MODELS, 'dropped_binned_trials')\n"
   ]
  },
  {
   "cell_type": "code",
   "execution_count": null,
   "metadata": {},
   "outputs": [],
   "source": [
    "\n",
    "control_model = tf.keras.models.load_model(control_path)\n",
    "dropped_bins_model = tf.keras.models.load_model(no_bins_path)\n",
    "control_model.compile(optimizer='adam', loss='mse', metrics=[\n",
    "                  'mae', 'mse', 'mape', 'cosine_similarity'])\n",
    "dropped_bins_model.compile(optimizer='adam', loss='mse', metrics=[\n",
    "                  'mae', 'mse', 'mape', 'cosine_similarity'])\n",
    "\n",
    "\n",
    "models = [control_model, dropped_bins_model]"
   ]
  },
  {
   "attachments": {},
   "cell_type": "markdown",
   "metadata": {},
   "source": [
    "# Model Summary"
   ]
  },
  {
   "cell_type": "code",
   "execution_count": null,
   "metadata": {},
   "outputs": [],
   "source": [
    "for model in models:\n",
    "    print(model.summary())"
   ]
  },
  {
   "attachments": {},
   "cell_type": "markdown",
   "metadata": {},
   "source": [
    "#### load training and testing data"
   ]
  },
  {
   "cell_type": "code",
   "execution_count": null,
   "metadata": {},
   "outputs": [],
   "source": [
    "data= pd.read_parquet(DATA_PATH)\n",
    "data.head()"
   ]
  },
  {
   "cell_type": "code",
   "execution_count": null,
   "metadata": {},
   "outputs": [],
   "source": [
    "# split data for control\n",
    "target='signal'\n",
    "control_features = get_features(data, target)\n",
    "no_bin_features = control_features.copy()\n",
    "no_bin_features.remove('learning_phase')\n",
    "\n",
    "X_train, y_train, X_val, y_val, X_test, y_test = split_data(data, control_features, target, day_cut_off=6, feature_to_drop=None)\n",
    "\n",
    "    # split data for dropped binned trials\n",
    "X_train_dropped, y_train_dropped, X_val_dropped, y_val_dropped, X_test_dropped, y_test_dropped = split_data(\n",
    "data, no_bin_features, target, day_cut_off=6, feature_to_drop='learning_phase')"
   ]
  },
  {
   "cell_type": "code",
   "execution_count": null,
   "metadata": {},
   "outputs": [],
   "source": [
    "y_control_pred = control_model.predict(X_test)\n",
    "y_dropped_pred = dropped_bins_model.predict(X_test_dropped)"
   ]
  },
  {
   "attachments": {},
   "cell_type": "markdown",
   "metadata": {},
   "source": [
    "# Full dataset"
   ]
  },
  {
   "cell_type": "markdown",
   "metadata": {},
   "source": [
    "## Validation check"
   ]
  },
  {
   "cell_type": "code",
   "execution_count": null,
   "metadata": {},
   "outputs": [],
   "source": [
    "data_directory = os.path.dirname(DATA_PATH)"
   ]
  },
  {
   "cell_type": "markdown",
   "metadata": {},
   "source": [
    "### control dataset with inference"
   ]
  },
  {
   "cell_type": "code",
   "execution_count": null,
   "metadata": {},
   "outputs": [],
   "source": [
    "control_inference_data= X_test.assign(predicted_signal= y_control_pred,\n",
    "                                              true_signal=y_test)\n",
    "control_inference_data.to_parquet(os.path.join(data_directory, 'control_inference_data.parquet.gzip'), compression='gzip')"
   ]
  },
  {
   "cell_type": "code",
   "execution_count": null,
   "metadata": {},
   "outputs": [],
   "source": [
    "control_inference_data.head()"
   ]
  },
  {
   "cell_type": "code",
   "execution_count": null,
   "metadata": {},
   "outputs": [],
   "source": [
    "#load data if previously saved\n",
    "control_inference_data = pd.read_parquet(os.path.join(data_directory, 'control_inference_data.parquet.gzip'))"
   ]
  },
  {
   "cell_type": "code",
   "execution_count": 7,
   "metadata": {},
   "outputs": [
    {
     "data": {
      "text/html": [
       "<div>\n",
       "<style scoped>\n",
       "    .dataframe tbody tr th:only-of-type {\n",
       "        vertical-align: middle;\n",
       "    }\n",
       "\n",
       "    .dataframe tbody tr th {\n",
       "        vertical-align: top;\n",
       "    }\n",
       "\n",
       "    .dataframe thead th {\n",
       "        text-align: right;\n",
       "    }\n",
       "</style>\n",
       "<table border=\"1\" class=\"dataframe\">\n",
       "  <thead>\n",
       "    <tr style=\"text-align: right;\">\n",
       "      <th></th>\n",
       "      <th>time</th>\n",
       "      <th>mouse_id</th>\n",
       "      <th>day</th>\n",
       "      <th>trial</th>\n",
       "      <th>learning_phase</th>\n",
       "      <th>latency</th>\n",
       "      <th>event</th>\n",
       "      <th>sensor</th>\n",
       "      <th>male</th>\n",
       "      <th>signal_type</th>\n",
       "      <th>signal</th>\n",
       "    </tr>\n",
       "  </thead>\n",
       "  <tbody>\n",
       "    <tr>\n",
       "      <th>0</th>\n",
       "      <td>-25.000000</td>\n",
       "      <td>0</td>\n",
       "      <td>7</td>\n",
       "      <td>0</td>\n",
       "      <td>0</td>\n",
       "      <td>0.0</td>\n",
       "      <td>cue</td>\n",
       "      <td>D1</td>\n",
       "      <td>False</td>\n",
       "      <td>true</td>\n",
       "      <td>0.145303</td>\n",
       "    </tr>\n",
       "    <tr>\n",
       "      <th>1</th>\n",
       "      <td>-24.901531</td>\n",
       "      <td>0</td>\n",
       "      <td>7</td>\n",
       "      <td>0</td>\n",
       "      <td>0</td>\n",
       "      <td>0.0</td>\n",
       "      <td>cue</td>\n",
       "      <td>D1</td>\n",
       "      <td>False</td>\n",
       "      <td>true</td>\n",
       "      <td>-0.897972</td>\n",
       "    </tr>\n",
       "    <tr>\n",
       "      <th>2</th>\n",
       "      <td>-24.803064</td>\n",
       "      <td>0</td>\n",
       "      <td>7</td>\n",
       "      <td>0</td>\n",
       "      <td>0</td>\n",
       "      <td>0.0</td>\n",
       "      <td>cue</td>\n",
       "      <td>D1</td>\n",
       "      <td>False</td>\n",
       "      <td>true</td>\n",
       "      <td>-1.039647</td>\n",
       "    </tr>\n",
       "    <tr>\n",
       "      <th>3</th>\n",
       "      <td>-24.704596</td>\n",
       "      <td>0</td>\n",
       "      <td>7</td>\n",
       "      <td>0</td>\n",
       "      <td>0</td>\n",
       "      <td>0.0</td>\n",
       "      <td>cue</td>\n",
       "      <td>D1</td>\n",
       "      <td>False</td>\n",
       "      <td>true</td>\n",
       "      <td>-0.414173</td>\n",
       "    </tr>\n",
       "    <tr>\n",
       "      <th>4</th>\n",
       "      <td>-24.606127</td>\n",
       "      <td>0</td>\n",
       "      <td>7</td>\n",
       "      <td>0</td>\n",
       "      <td>0</td>\n",
       "      <td>0.0</td>\n",
       "      <td>cue</td>\n",
       "      <td>D1</td>\n",
       "      <td>False</td>\n",
       "      <td>true</td>\n",
       "      <td>0.291662</td>\n",
       "    </tr>\n",
       "  </tbody>\n",
       "</table>\n",
       "</div>"
      ],
      "text/plain": [
       "        time  mouse_id  day  trial  learning_phase  latency event sensor  \\\n",
       "0 -25.000000         0    7      0               0      0.0   cue     D1   \n",
       "1 -24.901531         0    7      0               0      0.0   cue     D1   \n",
       "2 -24.803064         0    7      0               0      0.0   cue     D1   \n",
       "3 -24.704596         0    7      0               0      0.0   cue     D1   \n",
       "4 -24.606127         0    7      0               0      0.0   cue     D1   \n",
       "\n",
       "    male signal_type    signal  \n",
       "0  False        true  0.145303  \n",
       "1  False        true -0.897972  \n",
       "2  False        true -1.039647  \n",
       "3  False        true -0.414173  \n",
       "4  False        true  0.291662  "
      ]
     },
     "execution_count": 7,
     "metadata": {},
     "output_type": "execute_result"
    }
   ],
   "source": [
    "events = ['event_cue','event_avoid', 'event_escape', 'event_shock']\n",
    "sensors = ['sensor_D1', 'sensor_D2', 'sensor_DA']\n",
    "\n",
    "def format_for_plotting(df):\n",
    "        cols_to_merge = ['true_signal', 'predicted_signal']\n",
    "        cols = ['time',\n",
    "                'mouse_id',\n",
    "                'day',\n",
    "                'trial',\n",
    "                'learning_phase',\n",
    "                'latency',\n",
    "                'event',\n",
    "                'sensor',\n",
    "                'male']\n",
    "        return (\n",
    "        control_inference_data\n",
    "        .assign(event = lambda df_:df_[events].idxmax(axis=1).str.replace('event_', '').astype('category'),\n",
    "                sensor = lambda df_: df_[sensors].idxmax(axis=1).str.replace('sensor_', '').astype('category'), \n",
    "                male = lambda df_: df_.sex_M.astype(bool)\n",
    "                )\n",
    "        .drop(columns=events+sensors + ['sex_M'])\n",
    "        .melt(id_vars=cols, \n",
    "              value_vars=cols_to_merge, \n",
    "              var_name='signal_type', \n",
    "              value_name='signal')\n",
    "        .assign(signal_type = lambda df_: df_.signal_type.str.replace('_signal', '').astype('category'))\n",
    "        )\n",
    "    \n",
    "con_data= format_for_plotting(control_inference_data)\n",
    "con_data.head()\n"
   ]
  },
  {
   "cell_type": "code",
   "execution_count": null,
   "metadata": {},
   "outputs": [],
   "source": [
    "# function to plot data for a given query of sex and sensor\n",
    "def generate_plot(df, query, sensor, sex, palette):\n",
    "    # cmap = sns.light_palette(palette_color, as_cmap=True)\n",
    "    # palette = [cmap(x) for x in np.linspace(0, 1, 2)]\n",
    "    \n",
    "    title = f'{sex} | {sensor}'\n",
    "    grid = (sns.FacetGrid(df.query(query),\n",
    "                         row='event',\n",
    "                         col= 'signal_type',\n",
    "                         hue='learning_phase', \n",
    "                         palette=palette, \n",
    "                         sharex=True, \n",
    "                         sharey=True, \n",
    "                         margin_titles=True)\n",
    "            .map(sns.lineplot, 'time','signal')\n",
    "            .set_titles(row_template = '{row_name}', col_template = '{col_name}')\n",
    "            .add_legend(title = 'Learning Phase', bbox_to_anchor=(1.2, 0.5), loc='center right')\n",
    "    )\n",
    "    \n",
    "    grid.fig.suptitle(title, fontsize=16)\n",
    "    plt.tight_layout()\n",
    "    plt.show()\n",
    "    return grid"
   ]
  },
  {
   "cell_type": "code",
   "execution_count": null,
   "metadata": {},
   "outputs": [],
   "source": [
    "    \n",
    "female_DA = \"sensor == 'DA' & male == False\"\n",
    "female_DA_plot = generate_plot(con_data, female_DA, sensor='DA', sex='female', palette='Greens')"
   ]
  },
  {
   "cell_type": "code",
   "execution_count": null,
   "metadata": {},
   "outputs": [],
   "source": [
    "male_DA = \"sensor == 'DA' & male == True\"\n",
    "male_DA_plot = generate_plot(con_data, male_DA, sensor='DA', sex='male', palette='Greens')"
   ]
  },
  {
   "cell_type": "code",
   "execution_count": null,
   "metadata": {},
   "outputs": [],
   "source": [
    "female_D1 = \"sensor == 'D1' & male == False\"  \n",
    "female_D1_plot = generate_plot(con_data, female_DA, sensor = 'D1', sex = 'female', palette='Blues')"
   ]
  },
  {
   "cell_type": "code",
   "execution_count": null,
   "metadata": {},
   "outputs": [],
   "source": [
    "\n",
    "male_D1 = \"sensor == 'D2' & male == True\"\n",
    "male_D1_plot = generate_plot(con_data, male_D1, sensor = 'D1', sex = 'male', palette='Blues')"
   ]
  },
  {
   "cell_type": "code",
   "execution_count": null,
   "metadata": {},
   "outputs": [],
   "source": [
    "female_D2 = \"sensor == 'D2' & male == False\"\n",
    "female_D2_plot = generate_plot(con_data, female_D2, sensor = 'D2', sex = 'female', palette='Reds')"
   ]
  },
  {
   "cell_type": "code",
   "execution_count": null,
   "metadata": {},
   "outputs": [],
   "source": [
    "male_D2 = \"sensor == 'D2' & male == True\"\n",
    "male_D2_plot = generate_plot(con_data, male_D2, sensor = 'D2', sex = 'male', palette='Reds')"
   ]
  },
  {
   "cell_type": "markdown",
   "metadata": {},
   "source": [
    "### no trial bins data with inference"
   ]
  },
  {
   "cell_type": "code",
   "execution_count": null,
   "metadata": {},
   "outputs": [],
   "source": []
  },
  {
   "cell_type": "code",
   "execution_count": null,
   "metadata": {},
   "outputs": [],
   "source": [
    "no_bins_inference_data= X_test_dropped.assign(predicted_signal= y_dropped_pred,\n",
    "                                              true_signal=y_test_dropped)\n",
    "no_bins_inference_data.to_parquet(os.path.join(data_directory, 'no_bins_inference_data.parquet.gzip'), compression='gzip')"
   ]
  },
  {
   "cell_type": "code",
   "execution_count": null,
   "metadata": {},
   "outputs": [],
   "source": [
    "no_bins_inference_data.head()"
   ]
  },
  {
   "attachments": {},
   "cell_type": "markdown",
   "metadata": {},
   "source": [
    "# Conclusions \n",
    "\n"
   ]
  },
  {
   "attachments": {},
   "cell_type": "markdown",
   "metadata": {},
   "source": [
    "# Next steps"
   ]
  },
  {
   "cell_type": "code",
   "execution_count": null,
   "metadata": {},
   "outputs": [],
   "source": [
    "sns.palplot(sns.color_palette(\"Greens\", 3))"
   ]
  },
  {
   "cell_type": "markdown",
   "metadata": {},
   "source": []
  }
 ],
 "metadata": {
  "kernelspec": {
   "display_name": "enigma",
   "language": "python",
   "name": "enignma"
  },
  "language_info": {
   "codemirror_mode": {
    "name": "ipython",
    "version": 3
   },
   "file_extension": ".py",
   "mimetype": "text/x-python",
   "name": "python",
   "nbconvert_exporter": "python",
   "pygments_lexer": "ipython3",
   "version": "3.11.2"
  },
  "orig_nbformat": 4
 },
 "nbformat": 4,
 "nbformat_minor": 2
}
