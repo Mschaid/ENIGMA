{
 "cells": [
  {
   "cell_type": "raw",
   "metadata": {},
   "source": [
    "---\n",
    "title: \"Development of elastic net experimentor\" \n",
    "author: \"Mike Schaid\"\n",
    "date: \"2023-07-10\"\n",
    "theme: cosmo\n",
    "format: \n",
    "  html: \n",
    "    monobackgroundcolor: '#f1f1f101'\n",
    "    code-fold: true\n",
    "    code-block-border-left: true\n",
    "    code-block-bg: \"#0000\"\n",
    "    code-block-border-left: \"#999999\"\n",
    "    highlight-style: a11y\n",
    "    embed-resources: true\n",
    "---"
   ]
  },
  {
   "cell_type": "code",
   "execution_count": 8,
   "metadata": {},
   "outputs": [
    {
     "name": "stdout",
     "output_type": "stream",
     "text": [
      "The autoreload extension is already loaded. To reload it, use:\n",
      "  %reload_ext autoreload\n"
     ]
    }
   ],
   "source": [
    "%load_ext autoreload\n",
    "%autoreload 2"
   ]
  },
  {
   "cell_type": "markdown",
   "metadata": {},
   "source": [
    "# Dopamine Only"
   ]
  },
  {
   "cell_type": "code",
   "execution_count": 9,
   "metadata": {},
   "outputs": [],
   "source": [
    "\n",
    "import pandas as pd\n",
    "import numpy as np\n",
    "import matplotlib.pyplot as plt\n",
    "import seaborn as sns\n",
    "import shap\n",
    "import xgboost as xgb\n",
    "import yaml\n",
    "\n",
    "from functools import partial\n",
    "from pathlib import Path\n",
    "\n",
    "from sklearn.model_selection import train_test_split\n",
    "from sklearn.metrics import mean_squared_error, mean_absolute_error, r2_score\n",
    "from sklearn.model_selection import cross_val_score\n",
    "\n",
    "# local imports\n",
    "from hydra import compose, initialize\n",
    "from src.data_processing.model_analyzers.xgb_analyzers.XGBRegAnalyzer import XGBRegAnalyzer, XGBRegAnalyzerFactory\n",
    "from src.data_processing.model_analyzers.xgb_analyzers.XGBRegrResults import XGBRegrResults\n",
    "from src.data_processing.model_analyzers.experimenters.experimenters import XGBRegExperimenter"
   ]
  },
  {
   "cell_type": "code",
   "execution_count": 10,
   "metadata": {},
   "outputs": [],
   "source": [
    "\n",
    "da_only_path = '/projects/p31961/ENIGMA/results/experiments/endpoint_experiments/xgb_regression_da_only_hyperopt_tune_no_reg'\n",
    "experimenter = XGBRegExp\n",
    "erimenter(da_only_path, analyzer=XGBRegAnalyzer, results = XGBRegrResults)\n",
    "# "
   ]
  },
  {
   "cell_type": "code",
   "execution_count": 21,
   "metadata": {},
   "outputs": [
    {
     "ename": "TypeError",
     "evalue": "XGBRegExperimenter.run_experiment() got an unexpected keyword argument 'cls_to_drop'",
     "output_type": "error",
     "traceback": [
      "\u001b[0;31m---------------------------------------------------------------------------\u001b[0m",
      "\u001b[0;31mTypeError\u001b[0m                                 Traceback (most recent call last)",
      "Cell \u001b[0;32mIn[21], line 1\u001b[0m\n\u001b[0;32m----> 1\u001b[0m experimenter\u001b[38;5;241m.\u001b[39mrun_experiment(number_of_runs\u001b[38;5;241m=\u001b[39m\u001b[38;5;241m10\u001b[39m, cls_to_drop\u001b[38;5;241m=\u001b[39m[\u001b[38;5;124m'\u001b[39m\u001b[38;5;124mmouse_id\u001b[39m\u001b[38;5;124m'\u001b[39m, \u001b[38;5;124m'\u001b[39m\u001b[38;5;124mday\u001b[39m\u001b[38;5;124m'\u001b[39m])\n\u001b[1;32m      2\u001b[0m \u001b[38;5;66;03m# experimenter.save_results()\u001b[39;00m\n\u001b[1;32m      3\u001b[0m experimenter\n",
      "\u001b[0;31mTypeError\u001b[0m: XGBRegExperimenter.run_experiment() got an unexpected keyword argument 'cls_to_drop'"
     ]
    }
   ],
   "source": [
    "experimenter.run_experiment(number_of_runs=10, cls_to_drop=['mouse_id', 'day'])\n",
    "# experimenter.save_results()\n",
    "experimenter"
   ]
  },
  {
   "cell_type": "code",
   "execution_count": 20,
   "metadata": {},
   "outputs": [
    {
     "data": {
      "text/html": [
       "<div>\n",
       "<style scoped>\n",
       "    .dataframe tbody tr th:only-of-type {\n",
       "        vertical-align: middle;\n",
       "    }\n",
       "\n",
       "    .dataframe tbody tr th {\n",
       "        vertical-align: top;\n",
       "    }\n",
       "\n",
       "    .dataframe thead th {\n",
       "        text-align: right;\n",
       "    }\n",
       "</style>\n",
       "<table border=\"1\" class=\"dataframe\">\n",
       "  <thead>\n",
       "    <tr style=\"text-align: right;\">\n",
       "      <th></th>\n",
       "      <th>feature</th>\n",
       "      <th>importance</th>\n",
       "    </tr>\n",
       "  </thead>\n",
       "  <tbody>\n",
       "    <tr>\n",
       "      <th>0</th>\n",
       "      <td>neg_signal_trapz_DA_avoid</td>\n",
       "      <td>0.0</td>\n",
       "    </tr>\n",
       "    <tr>\n",
       "      <th>17</th>\n",
       "      <td>signal_trapz_DA_cue</td>\n",
       "      <td>0.0</td>\n",
       "    </tr>\n",
       "    <tr>\n",
       "      <th>16</th>\n",
       "      <td>signal_trapz_DA_avoid</td>\n",
       "      <td>0.0</td>\n",
       "    </tr>\n",
       "    <tr>\n",
       "      <th>15</th>\n",
       "      <td>signal_min_DA_shock</td>\n",
       "      <td>0.0</td>\n",
       "    </tr>\n",
       "    <tr>\n",
       "      <th>14</th>\n",
       "      <td>signal_min_DA_escape</td>\n",
       "      <td>0.0</td>\n",
       "    </tr>\n",
       "    <tr>\n",
       "      <th>...</th>\n",
       "      <td>...</td>\n",
       "      <td>...</td>\n",
       "    </tr>\n",
       "    <tr>\n",
       "      <th>3</th>\n",
       "      <td>neg_signal_trapz_DA_shock</td>\n",
       "      <td>0.0</td>\n",
       "    </tr>\n",
       "    <tr>\n",
       "      <th>2</th>\n",
       "      <td>neg_signal_trapz_DA_escape</td>\n",
       "      <td>0.0</td>\n",
       "    </tr>\n",
       "    <tr>\n",
       "      <th>1</th>\n",
       "      <td>neg_signal_trapz_DA_cue</td>\n",
       "      <td>0.0</td>\n",
       "    </tr>\n",
       "    <tr>\n",
       "      <th>18</th>\n",
       "      <td>signal_trapz_DA_escape</td>\n",
       "      <td>0.0</td>\n",
       "    </tr>\n",
       "    <tr>\n",
       "      <th>19</th>\n",
       "      <td>signal_trapz_DA_shock</td>\n",
       "      <td>0.0</td>\n",
       "    </tr>\n",
       "  </tbody>\n",
       "</table>\n",
       "<p>200 rows × 2 columns</p>\n",
       "</div>"
      ],
      "text/plain": [
       "                       feature  importance\n",
       "0    neg_signal_trapz_DA_avoid         0.0\n",
       "17         signal_trapz_DA_cue         0.0\n",
       "16       signal_trapz_DA_avoid         0.0\n",
       "15         signal_min_DA_shock         0.0\n",
       "14        signal_min_DA_escape         0.0\n",
       "..                         ...         ...\n",
       "3    neg_signal_trapz_DA_shock         0.0\n",
       "2   neg_signal_trapz_DA_escape         0.0\n",
       "1      neg_signal_trapz_DA_cue         0.0\n",
       "18      signal_trapz_DA_escape         0.0\n",
       "19       signal_trapz_DA_shock         0.0\n",
       "\n",
       "[200 rows x 2 columns]"
      ]
     },
     "execution_count": 20,
     "metadata": {},
     "output_type": "execute_result"
    }
   ],
   "source": [
    "experimenter.experiment_results['feature_importance_results']"
   ]
  },
  {
   "cell_type": "code",
   "execution_count": 14,
   "metadata": {},
   "outputs": [
    {
     "data": {
      "text/plain": [
       "<Axes: xlabel='importance', ylabel='feature'>"
      ]
     },
     "execution_count": 14,
     "metadata": {},
     "output_type": "execute_result"
    },
    {
     "data": {
      "image/png": "[encoded data removed]",
      "text/plain": [
       "<Figure size 640x480 with 1 Axes>"
      ]
     },
     "metadata": {},
     "output_type": "display_data"
    }
   ],
   "source": [
    "# Calculate the mean 'importance' for each 'feature'\n",
    "experiment_results = experimenter.experiment_results['feature_importance_results']\n",
    "mean_importance = experiment_results.groupby('feature')['importance'].mean()\n",
    "\n",
    "# Sort the features by mean 'importance'\n",
    "sorted_features = mean_importance.sort_values(ascending=False).index\n",
    "\n",
    "# Convert 'feature' to a categorical type with its categories in the order of mean 'importance'\n",
    "experiment_results['feature'] = pd.Categorical(\n",
    "    experiment_results['feature'], categories=sorted_features, ordered=True)\n",
    "\n",
    "sns.barplot(x='importance', y='feature', data=experiment_results, orient='h')"
   ]
  },
  {
   "cell_type": "markdown",
   "metadata": {},
   "source": [
    "# Elastic Net Regularization  =  using L1 and L2"
   ]
  },
  {
   "cell_type": "code",
   "execution_count": null,
   "metadata": {},
   "outputs": [],
   "source": [
    "hyperopt_results = '/projects/p31961/ENIGMA/results/experiments/xgb_regression_da_only_hyperopt_tune/hyper_opt_results.parquet'\n",
    "\n",
    "results.best_params.update(alpha = 3)\n",
    "results.best_params['lambda'] = 4\n",
    "results.best_params\n",
    "analyzer = XGBRegAnalyzer(results)\n",
    "analyzer.fit_best_xgb_model()\n",
    "analyzer.plot_model_results()"
   ]
  },
  {
   "cell_type": "markdown",
   "metadata": {},
   "source": [
    "# what i think we should do\n",
    "*  show model performance with all features\n",
    "*  penalize with elastic net\n",
    "*  show improved performance \n",
    "*  reintroduce day (and mouse id?)\n",
    "*  show model doesn't change (bc unimportant features are penalized)\n",
    "*  do n = 10?"
   ]
  },
  {
   "cell_type": "code",
   "execution_count": null,
   "metadata": {},
   "outputs": [],
   "source": []
  },
  {
   "cell_type": "markdown",
   "metadata": {},
   "source": [
    "# Dopamine with Day"
   ]
  },
  {
   "cell_type": "code",
   "execution_count": null,
   "metadata": {},
   "outputs": [],
   "source": [
    "\n",
    "da_with_day_path = '/projects/p31961/ENIGMA/results/experiments/xgb_regression_da_only_hyperopt_tuneS_with_day'\n",
    "\n",
    "\n",
    "analyzer2 = XGBRegAnalyzer(results)\n",
    "analyzer2.create_pipeline(cls_to_drop=[])\n",
    "analyzer2.fit_best_xgb_model()\n",
    "analyzer2.plot_model_results()"
   ]
  },
  {
   "cell_type": "code",
   "execution_count": null,
   "metadata": {},
   "outputs": [],
   "source": [
    "analyzer.plot_shap_results()"
   ]
  },
  {
   "cell_type": "markdown",
   "metadata": {},
   "source": [
    "# DA + D1 only\n"
   ]
  },
  {
   "cell_type": "code",
   "execution_count": null,
   "metadata": {},
   "outputs": [],
   "source": [
    "da_d1_path = '/projects/p31961/ENIGMA/results/experiments/xgb_regression_da_and_d1_hyperopt_tune'\n",
    "results = XGBRegrResults(da_d1_path)\n",
    "analyzer = XGBRegAnalyzer(results)\n",
    "analyzer.fit_best_xgb_model()\n",
    "analyzer.plot_model_results()"
   ]
  },
  {
   "cell_type": "code",
   "execution_count": null,
   "metadata": {},
   "outputs": [],
   "source": [
    "analyzer.plot_shap_results()"
   ]
  },
  {
   "cell_type": "markdown",
   "metadata": {},
   "source": [
    "# DA + D1 with Day"
   ]
  },
  {
   "cell_type": "code",
   "execution_count": null,
   "metadata": {},
   "outputs": [],
   "source": [
    "da_d1_with_day_path = '/projects/p31961/ENIGMA/results/experiments/xgb_regression_da_and_d1_hyperopt_tune_with_day'\n",
    "results = XGBRegrResults(da_d1_with_day_path)\n",
    "analyzer = XGBRegAnalyzer(results)\n",
    "analyzer.create_pipeline(cls_to_drop=['mouse_id'])\n",
    "analyzer.fit_best_xgb_model()\n",
    "analyzer.plot_model_results()"
   ]
  },
  {
   "cell_type": "code",
   "execution_count": null,
   "metadata": {},
   "outputs": [],
   "source": [
    "analyzer.plot_shap_results()"
   ]
  },
  {
   "cell_type": "markdown",
   "metadata": {},
   "source": [
    "# DA + D2 Only"
   ]
  },
  {
   "cell_type": "code",
   "execution_count": null,
   "metadata": {},
   "outputs": [],
   "source": [
    "da_d2_path = '/projects/p31961/ENIGMA/results/experiments/xgb_regression_da_and_d2_hyperopt_tune'\n",
    "results = XGBRegrResults(da_d2_path)\n",
    "analyzer = XGBRegAnalyzer(results)\n",
    "analyzer.fit_best_xgb_model()\n",
    "analyzer.plot_model_results()"
   ]
  },
  {
   "cell_type": "code",
   "execution_count": null,
   "metadata": {},
   "outputs": [],
   "source": [
    "analyzer.plot_shap_results()"
   ]
  },
  {
   "cell_type": "markdown",
   "metadata": {},
   "source": [
    "# DA + D2 with Day"
   ]
  },
  {
   "cell_type": "code",
   "execution_count": null,
   "metadata": {},
   "outputs": [],
   "source": [
    "da_d2_with_day_path = '/projects/p31961/ENIGMA/results/experiments/xgb_regression_da_and_d2_hyperopt_tune_with_day'\n",
    "results = XGBRegrResults(da_d2_with_day_path)\n",
    "analyzer = XGBRegAnalyzer(results)\n",
    "analyzer.create_pipeline(cls_to_drop=['mouse_id'])\n",
    "analyzer.fit_best_xgb_model()\n",
    "analyzer.plot_model_results()"
   ]
  },
  {
   "cell_type": "code",
   "execution_count": null,
   "metadata": {},
   "outputs": [],
   "source": [
    "analyzer.plot_shap_results()"
   ]
  },
  {
   "cell_type": "code",
   "execution_count": null,
   "metadata": {},
   "outputs": [],
   "source": []
  }
 ],
 "metadata": {
  "kernelspec": {
   "display_name": "enigma_xgbuser",
   "language": "python",
   "name": "enigma_xgbuser"
  },
  "language_info": {
   "codemirror_mode": {
    "name": "ipython",
    "version": 3
   },
   "file_extension": ".py",
   "mimetype": "text/x-python",
   "name": "python",
   "nbconvert_exporter": "python",
   "pygments_lexer": "ipython3",
   "version": "3.11.2"
  }
 },
 "nbformat": 4,
 "nbformat_minor": 2
}
