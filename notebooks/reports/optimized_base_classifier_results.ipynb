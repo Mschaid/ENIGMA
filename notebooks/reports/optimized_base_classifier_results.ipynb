{
 "cells": [
  {
   "cell_type": "code",
   "execution_count": 16,
   "metadata": {},
   "outputs": [
    {
     "name": "stdout",
     "output_type": "stream",
     "text": [
      "The autoreload extension is already loaded. To reload it, use:\n",
      "  %reload_ext autoreload\n"
     ]
    }
   ],
   "source": [
    "%load_ext autoreload \n",
    "%autoreload 2 "
   ]
  },
  {
   "cell_type": "code",
   "execution_count": 17,
   "metadata": {},
   "outputs": [],
   "source": [
    "import numpy as np\n",
    "import pandas as pd\n",
    "import matplotlib.pyplot as plt\n",
    "import seaborn as sns\n",
    "import os\n",
    "import tensorflow as tf\n",
    "\n",
    "from src.data_processing.pipelines.ClassifierPipe import ClassifierPipe\n",
    "from sklearn.metrics import f1_score\n",
    "from sklearn.metrics import ConfusionMatrixDisplay"
   ]
  },
  {
   "cell_type": "code",
   "execution_count": null,
   "metadata": {},
   "outputs": [],
   "source": [
    "model = tf.keras.models.load_model('/projects/p31961/ENIGMA/results/optimized_models/BaseClassifier_optimized')\n",
    "metrics = [tf.keras.metrics.BinaryAccuracy(name='accuracy'),\n",
    "        tf.keras.metrics.Precision(name='precision'),\n",
    "        tf.keras.metrics.Recall(name='recall'),\n",
    "        tf.keras.metrics.AUC(name='auc-roc')]\n",
    "  \n",
    "model.compile(optimizer='adam', loss='binary_crossentropy', metrics=metrics)"
   ]
  },
  {
   "cell_type": "code",
   "execution_count": null,
   "metadata": {},
   "outputs": [],
   "source": [
    "model.summary()"
   ]
  },
  {
   "cell_type": "code",
   "execution_count": null,
   "metadata": {},
   "outputs": [],
   "source": [
    "DATA_PATH = '/projects/p31961/gaby_data/aggregated_data/raw_data/datasets/raw_data_raw_data.parquet.gzip'\n",
    "SUBJECT_IDS_PATH = \"/projects/p31961/ENIGMA/results/optimized_models/subjects.json\"\n",
    "cols_to_drop = [\"mouse_id\", \"event\", \"sex\", \"day\", \"trial_count\", \"trial\"]\n",
    "processor = (ClassifierPipe(DATA_PATH)\n",
    "            .read_raw_data()\n",
    "            .calculate_max_min_signal()\n",
    "            .split_data(load_subject_ids=True, \n",
    "                        subject_ids_path=SUBJECT_IDS_PATH,\n",
    "                        target='action')\n",
    "            .drop_features(cols_to_drop)\n",
    "            .transform_data(numeric_target_dict={'avoid': 1, 'escape': 0})\n",
    "            )\n",
    "processor.processed_data"
   ]
  },
  {
   "cell_type": "code",
   "execution_count": null,
   "metadata": {},
   "outputs": [],
   "source": []
  },
  {
   "cell_type": "markdown",
   "metadata": {},
   "source": []
  },
  {
   "cell_type": "code",
   "execution_count": null,
   "metadata": {},
   "outputs": [],
   "source": [
    "cols_to_drop = [\"mouse_id\", \"event\", \"sex\", \"day\", \"trial_count\", \"trial\"]\n",
    "processor.processed_data.drop(columns = cols_to_drop)"
   ]
  },
  {
   "cell_type": "code",
   "execution_count": null,
   "metadata": {},
   "outputs": [],
   "source": [
    "y_pred = model.predict(processor.X_test)\n",
    "y_pred = np.where(y_pred > 0.5, 1, 0)\n",
    "y_pred"
   ]
  },
  {
   "cell_type": "code",
   "execution_count": null,
   "metadata": {},
   "outputs": [],
   "source": [
    "f1_score_results = f1_score(processor.y_test, y_pred)"
   ]
  },
  {
   "cell_type": "code",
   "execution_count": null,
   "metadata": {},
   "outputs": [],
   "source": [
    "display = ConfusionMatrixDisplay.from_predictions(processor.y_test, y_pred)\n",
    "plt.text(-.5, -.8, f\"F1-score: {np.round(f1_score_results, 2)}\", fontsize = 14)\n",
    "plt.title('Confusion Matrix')"
   ]
  },
  {
   "cell_type": "code",
   "execution_count": null,
   "metadata": {},
   "outputs": [],
   "source": [
    "def reconstruct_df(x_data, y_data, prediction, processor):\n",
    "    num_cols = processor.processor.named_transformers_[\"num\"].get_feature_names_out().tolist()\n",
    "    cat_cols = processor.processor.named_transformers_[\"cat\"].get_feature_names_out().tolist()\n",
    "    cols = num_cols + cat_cols\n",
    "\n",
    "\n",
    "    df = (\n",
    "        pd.DataFrame(x_data, columns=cols)\n",
    "        .assign(target=y_data.reset_index(drop=True),\n",
    "                prediction=prediction.reshape(-1)\n",
    "                ))\n",
    "    return (df\n",
    "        #     .melt(\n",
    "        #     id_vars = df.drop(columns = [\"target\", \"prediction\"]).columns,\n",
    "        #     value_vars = [\"target\", \"prediction\"],\n",
    "        #     value_name = \"avoid\",\n",
    "        #     var_name = 'truth'\n",
    "        # )\n",
    "    )\n",
    "    \n",
    "    \n",
    "    \n",
    "    \n"
   ]
  },
  {
   "cell_type": "code",
   "execution_count": null,
   "metadata": {},
   "outputs": [],
   "source": [
    "test_df = reconstruct_df(processor = processor, \n",
    "               x_data = processor.X_test, \n",
    "               y_data = processor.y_test, \n",
    "               prediction = y_pred)\n",
    "    "
   ]
  },
  {
   "cell_type": "code",
   "execution_count": null,
   "metadata": {},
   "outputs": [],
   "source": [
    "test_df"
   ]
  },
  {
   "cell_type": "code",
   "execution_count": null,
   "metadata": {},
   "outputs": [],
   "source": [
    "\n",
    "sns.kdeplot(data=test_df, x=\"day\", y=\"avoid\", hue = 'truth', palette = ['grey','red'])\n",
    "# sns.kdeplot(data=test_df, x=\"day\", y=\"prediction\", color = 'grey')"
   ]
  },
  {
   "cell_type": "code",
   "execution_count": null,
   "metadata": {},
   "outputs": [],
   "source": [
    "sns.stripplot(data=test_df, x=\"avoid\",\n",
    "              y=\"day\",\n",
    "              hue = 'truth', \n",
    "              palette = ['grey','red'],\n",
    "              dodge = True,\n",
    "              jitter = True\n",
    "              )"
   ]
  },
  {
   "cell_type": "code",
   "execution_count": null,
   "metadata": {},
   "outputs": [],
   "source": [
    "sns.violinplot(data=test_df,\n",
    "               x=\"avoid\",\n",
    "               y=\"trial_count\",\n",
    "               hue = 'truth', \n",
    "               inner = \"stick\",\n",
    "               split = True,\n",
    "               palette = ['grey','red'])"
   ]
  },
  {
   "cell_type": "code",
   "execution_count": null,
   "metadata": {},
   "outputs": [],
   "source": [
    "processor.raw_data"
   ]
  },
  {
   "cell_type": "markdown",
   "metadata": {},
   "source": [
    "# Same model trained on FP data only"
   ]
  },
  {
   "cell_type": "code",
   "execution_count": 18,
   "metadata": {},
   "outputs": [],
   "source": [
    "def process_data(file_path, subject_ids_path,features_to_drop):\n",
    "    \"\"\"\n",
    "    Process the data from a given file path and save the processed data to a specified path.\n",
    "\n",
    "    Args:\n",
    "        file_path (str): The path to the file containing the data.\n",
    "        path_to_save (str): The path to save the processed data.\n",
    "\n",
    "    Returns:\n",
    "        ClassifierPipe: The processed data.\n",
    "    \"\"\"\n",
    "    \n",
    "    processor = (ClassifierPipe(file_path)\n",
    "                  .read_raw_data()\n",
    "                  .calculate_max_min_signal()\n",
    "                  .split_data(load_subject_ids = True, \n",
    "                              subject_ids_path = subject_ids_path,\n",
    "                              target = 'action')\n",
    "                  .drop_features(features_to_drop)\n",
    "                  .transform_data(numeric_target_dict={'avoid': 1, 'escape': 0})\n",
    "                  )\n",
    "    return processor"
   ]
  },
  {
   "cell_type": "code",
   "execution_count": 19,
   "metadata": {},
   "outputs": [],
   "source": [
    "DATA_PATH = '/projects/p31961/gaby_data/aggregated_data/raw_data/datasets/raw_data_raw_data.parquet.gzip'\n",
    "\n",
    "\n",
    "FEATURES_TO_DROP = [\"mouse_id\", \"event\", \"sex\", \"day\", \"trial_count\", \"trial\"]\n",
    "SUBJECT_IDS_PATH = \"/projects/p31961/ENIGMA/results/optimized_models/subjects.json\""
   ]
  },
  {
   "cell_type": "code",
   "execution_count": 24,
   "metadata": {},
   "outputs": [
    {
     "data": {
      "text/plain": [
       "['sensor_D1', 'sensor_D2', 'sensor_DA']"
      ]
     },
     "execution_count": 24,
     "metadata": {},
     "output_type": "execute_result"
    }
   ],
   "source": [
    "processor = ClassifierPipe(DATA_PATH)\n",
    "processor.read_raw_data()\n",
    "processor.calculate_max_min_signal()\n",
    "processor.split_data(load_subject_ids = True, \n",
    "                     subject_ids_path = SUBJECT_IDS_PATH,\n",
    "                     target = 'action')\n",
    "processor.drop_features(FEATURES_TO_DROP)\n",
    "processor.transform_data(numeric_target_dict={'avoid': 1, 'escape': 0})\n",
    "processor.processor.named_transformers_['cat'].get_feature_names_out().tolist()"
   ]
  },
  {
   "cell_type": "code",
   "execution_count": 12,
   "metadata": {},
   "outputs": [],
   "source": [
    "processor = process_data(DATA_PATH, SUBJECT_IDS_PATH, FEATURES_TO_DROP)"
   ]
  },
  {
   "cell_type": "code",
   "execution_count": 9,
   "metadata": {},
   "outputs": [
    {
     "data": {
      "text/html": [
       "<div>\n",
       "<style scoped>\n",
       "    .dataframe tbody tr th:only-of-type {\n",
       "        vertical-align: middle;\n",
       "    }\n",
       "\n",
       "    .dataframe tbody tr th {\n",
       "        vertical-align: top;\n",
       "    }\n",
       "\n",
       "    .dataframe thead th {\n",
       "        text-align: right;\n",
       "    }\n",
       "</style>\n",
       "<table border=\"1\" class=\"dataframe\">\n",
       "  <thead>\n",
       "    <tr style=\"text-align: right;\">\n",
       "      <th></th>\n",
       "      <th>action</th>\n",
       "      <th>sensor</th>\n",
       "      <th>signal_max</th>\n",
       "      <th>signal_min</th>\n",
       "    </tr>\n",
       "  </thead>\n",
       "  <tbody>\n",
       "    <tr>\n",
       "      <th>0</th>\n",
       "      <td>avoid</td>\n",
       "      <td>D1</td>\n",
       "      <td>3.127942</td>\n",
       "      <td>0.191952</td>\n",
       "    </tr>\n",
       "    <tr>\n",
       "      <th>1</th>\n",
       "      <td>avoid</td>\n",
       "      <td>D1</td>\n",
       "      <td>0.919383</td>\n",
       "      <td>-0.615567</td>\n",
       "    </tr>\n",
       "    <tr>\n",
       "      <th>2</th>\n",
       "      <td>avoid</td>\n",
       "      <td>D1</td>\n",
       "      <td>-0.394839</td>\n",
       "      <td>-2.368783</td>\n",
       "    </tr>\n",
       "    <tr>\n",
       "      <th>3</th>\n",
       "      <td>avoid</td>\n",
       "      <td>D1</td>\n",
       "      <td>0.367330</td>\n",
       "      <td>-1.989866</td>\n",
       "    </tr>\n",
       "    <tr>\n",
       "      <th>4</th>\n",
       "      <td>avoid</td>\n",
       "      <td>D1</td>\n",
       "      <td>3.867368</td>\n",
       "      <td>1.411265</td>\n",
       "    </tr>\n",
       "    <tr>\n",
       "      <th>...</th>\n",
       "      <td>...</td>\n",
       "      <td>...</td>\n",
       "      <td>...</td>\n",
       "      <td>...</td>\n",
       "    </tr>\n",
       "    <tr>\n",
       "      <th>12789</th>\n",
       "      <td>escape</td>\n",
       "      <td>DA</td>\n",
       "      <td>2.978387</td>\n",
       "      <td>-1.480360</td>\n",
       "    </tr>\n",
       "    <tr>\n",
       "      <th>12790</th>\n",
       "      <td>escape</td>\n",
       "      <td>DA</td>\n",
       "      <td>1.694918</td>\n",
       "      <td>-2.158833</td>\n",
       "    </tr>\n",
       "    <tr>\n",
       "      <th>12791</th>\n",
       "      <td>escape</td>\n",
       "      <td>DA</td>\n",
       "      <td>3.849639</td>\n",
       "      <td>-1.624187</td>\n",
       "    </tr>\n",
       "    <tr>\n",
       "      <th>12792</th>\n",
       "      <td>escape</td>\n",
       "      <td>DA</td>\n",
       "      <td>4.559294</td>\n",
       "      <td>-1.507916</td>\n",
       "    </tr>\n",
       "    <tr>\n",
       "      <th>12793</th>\n",
       "      <td>escape</td>\n",
       "      <td>DA</td>\n",
       "      <td>3.999084</td>\n",
       "      <td>-1.335708</td>\n",
       "    </tr>\n",
       "  </tbody>\n",
       "</table>\n",
       "<p>12794 rows × 4 columns</p>\n",
       "</div>"
      ],
      "text/plain": [
       "       action sensor  signal_max  signal_min\n",
       "0       avoid     D1    3.127942    0.191952\n",
       "1       avoid     D1    0.919383   -0.615567\n",
       "2       avoid     D1   -0.394839   -2.368783\n",
       "3       avoid     D1    0.367330   -1.989866\n",
       "4       avoid     D1    3.867368    1.411265\n",
       "...       ...    ...         ...         ...\n",
       "12789  escape     DA    2.978387   -1.480360\n",
       "12790  escape     DA    1.694918   -2.158833\n",
       "12791  escape     DA    3.849639   -1.624187\n",
       "12792  escape     DA    4.559294   -1.507916\n",
       "12793  escape     DA    3.999084   -1.335708\n",
       "\n",
       "[12794 rows x 4 columns]"
      ]
     },
     "execution_count": 9,
     "metadata": {},
     "output_type": "execute_result"
    }
   ],
   "source": [
    "processor.processed_data"
   ]
  },
  {
   "cell_type": "code",
   "execution_count": null,
   "metadata": {},
   "outputs": [],
   "source": [
    "fp_only_model = tf.keras.models.load_model('/projects/p31961/ENIGMA/results/optimized_models/BaseClassifier_optimized_fp_only')\n",
    "metrics = [tf.keras.metrics.BinaryAccuracy(name='accuracy'),\n",
    "        tf.keras.metrics.Precision(name='precision'),\n",
    "        tf.keras.metrics.Recall(name='recall'),\n",
    "        tf.keras.metrics.AUC(name='auc-roc')]\n",
    "  \n",
    "fp_only_model.compile(optimizer='adam', loss='binary_crossentropy', metrics=metrics)\n",
    "fp_only_model.summary()"
   ]
  },
  {
   "cell_type": "code",
   "execution_count": null,
   "metadata": {},
   "outputs": [],
   "source": [
    "y_pred = fp_only_model.predict(processor.X_test)"
   ]
  },
  {
   "cell_type": "code",
   "execution_count": null,
   "metadata": {},
   "outputs": [],
   "source": [
    "fp_only_df = reconstruct_df(processor = processor, \n",
    "               x_data = processor.X_test, \n",
    "               y_data = processor.y_test, \n",
    "               prediction = y_pred)"
   ]
  },
  {
   "cell_type": "code",
   "execution_count": null,
   "metadata": {},
   "outputs": [],
   "source": [
    "processor.processed_data"
   ]
  },
  {
   "cell_type": "code",
   "execution_count": null,
   "metadata": {},
   "outputs": [],
   "source": [
    "fp_only_df"
   ]
  },
  {
   "cell_type": "code",
   "execution_count": null,
   "metadata": {},
   "outputs": [],
   "source": []
  }
 ],
 "metadata": {
  "kernelspec": {
   "display_name": "enigma",
   "language": "python",
   "name": "enignma"
  },
  "language_info": {
   "codemirror_mode": {
    "name": "ipython",
    "version": 3
   },
   "file_extension": ".py",
   "mimetype": "text/x-python",
   "name": "python",
   "nbconvert_exporter": "python",
   "pygments_lexer": "ipython3",
   "version": "3.11.2"
  },
  "orig_nbformat": 4
 },
 "nbformat": 4,
 "nbformat_minor": 2
}
