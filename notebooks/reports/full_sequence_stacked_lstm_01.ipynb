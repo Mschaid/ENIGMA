{
 "cells": [
  {
   "cell_type": "raw",
   "metadata": {},
   "source": [
    "---\n",
    "title: \"Validation and plotting of full_sequence_stacked_01\"\n",
    "author: \"Mike Schaid\"\n",
    "date: \"2023-08-07\"\n",
    "theme: cosmo\n",
    "format: \n",
    "  html: \n",
    "    monobackgroundcolor: '#f1f1f101'\n",
    "    code-fold: true\n",
    "    code-block-border-left: true\n",
    "    code-block-bg: \"#0000\"\n",
    "    code-block-border-left: \"#999999\"\n",
    "    highlight-style: a11y\n",
    "    embed-resources: true\n",
    "---"
   ]
  },
  {
   "cell_type": "code",
   "execution_count": 1,
   "metadata": {},
   "outputs": [],
   "source": [
    "%load_ext autoreload \n",
    "%autoreload 2 "
   ]
  },
  {
   "cell_type": "code",
   "execution_count": 1,
   "metadata": {},
   "outputs": [],
   "source": [
    "import random\n",
    "import os\n",
    "import matplotlib.pyplot as plt\n",
    "import matplotlib.gridspec as gridspec # for subplots\n",
    "import pandas as pd\n",
    "import numpy as np\n",
    "import seaborn as sns\n",
    "import seaborn.objects as so\n",
    "import tensorflow as tf\n",
    "import json\n",
    "\n",
    "from src.data_processing.pipelines.LSTMPipe import LSTMPipe\n",
    "from src.models.experimental_dropout_StackedLSTM import StackedLSTM\n",
    "\n",
    "\n"
   ]
  },
  {
   "cell_type": "code",
   "execution_count": 2,
   "metadata": {},
   "outputs": [
    {
     "name": "stdout",
     "output_type": "stream",
     "text": [
      "Num GPUs Available:  1\n"
     ]
    }
   ],
   "source": [
    "# print gpus available\n",
    "print(\"Num GPUs Available: \", len(tf.config.experimental.list_physical_devices('GPU')))"
   ]
  },
  {
   "cell_type": "code",
   "execution_count": 4,
   "metadata": {},
   "outputs": [],
   "source": [
    "# DATA_PATH = '/projects/p31961/gaby_data/aggregated_data/data_pipeline_full_dataset/datasets/full_dataset.parquet.gzip'\n",
    "# MODEL_PATH = \"/projects/p31961/ENIGMA/results/experiments/dopamine_full_sequence_stacked_lstm_01/models/dopamine_full_sequence_stacked_lstm_01\"\n",
    "\n",
    "# locald\n",
    "DATA_PATH = '/Users/mds8301/iterm_data_storage/raw_data_raw_data.parquet.gzip'\n",
    "MODEL_PATH = '/Users/mds8301/Development/enigma/results/experiments/full_sequence_stacked_lstm_01/models/full_sequence_stacked_lstm_01'"
   ]
  },
  {
   "cell_type": "code",
   "execution_count": 5,
   "metadata": {},
   "outputs": [
    {
     "data": {
      "text/html": [
       "<div>\n",
       "<style scoped>\n",
       "    .dataframe tbody tr th:only-of-type {\n",
       "        vertical-align: middle;\n",
       "    }\n",
       "\n",
       "    .dataframe tbody tr th {\n",
       "        vertical-align: top;\n",
       "    }\n",
       "\n",
       "    .dataframe thead th {\n",
       "        text-align: right;\n",
       "    }\n",
       "</style>\n",
       "<table border=\"1\" class=\"dataframe\">\n",
       "  <thead>\n",
       "    <tr style=\"text-align: right;\">\n",
       "      <th></th>\n",
       "      <th>mouse_id</th>\n",
       "      <th>day</th>\n",
       "      <th>event</th>\n",
       "      <th>sensor</th>\n",
       "      <th>time</th>\n",
       "      <th>trial</th>\n",
       "      <th>signal</th>\n",
       "      <th>action</th>\n",
       "      <th>latency</th>\n",
       "      <th>sex</th>\n",
       "      <th>learning_phase</th>\n",
       "      <th>trial_count</th>\n",
       "    </tr>\n",
       "  </thead>\n",
       "  <tbody>\n",
       "    <tr>\n",
       "      <th>0</th>\n",
       "      <td>12</td>\n",
       "      <td>5</td>\n",
       "      <td>cue</td>\n",
       "      <td>D2</td>\n",
       "      <td>-25.000000</td>\n",
       "      <td>0</td>\n",
       "      <td>-0.155359</td>\n",
       "      <td>escape</td>\n",
       "      <td>0.00</td>\n",
       "      <td>F</td>\n",
       "      <td>0</td>\n",
       "      <td>115</td>\n",
       "    </tr>\n",
       "    <tr>\n",
       "      <th>10000</th>\n",
       "      <td>12</td>\n",
       "      <td>5</td>\n",
       "      <td>cue</td>\n",
       "      <td>D2</td>\n",
       "      <td>12.614880</td>\n",
       "      <td>21</td>\n",
       "      <td>1.241920</td>\n",
       "      <td>avoid</td>\n",
       "      <td>0.00</td>\n",
       "      <td>F</td>\n",
       "      <td>2</td>\n",
       "      <td>136</td>\n",
       "    </tr>\n",
       "    <tr>\n",
       "      <th>20000</th>\n",
       "      <td>2</td>\n",
       "      <td>5</td>\n",
       "      <td>cue</td>\n",
       "      <td>D1</td>\n",
       "      <td>5.131291</td>\n",
       "      <td>15</td>\n",
       "      <td>1.258710</td>\n",
       "      <td>avoid</td>\n",
       "      <td>0.00</td>\n",
       "      <td>F</td>\n",
       "      <td>1</td>\n",
       "      <td>130</td>\n",
       "    </tr>\n",
       "    <tr>\n",
       "      <th>30000</th>\n",
       "      <td>9</td>\n",
       "      <td>5</td>\n",
       "      <td>escape</td>\n",
       "      <td>D2</td>\n",
       "      <td>-2.352298</td>\n",
       "      <td>5</td>\n",
       "      <td>0.212984</td>\n",
       "      <td>avoid</td>\n",
       "      <td>0.00</td>\n",
       "      <td>M</td>\n",
       "      <td>0</td>\n",
       "      <td>94</td>\n",
       "    </tr>\n",
       "    <tr>\n",
       "      <th>40000</th>\n",
       "      <td>2</td>\n",
       "      <td>5</td>\n",
       "      <td>avoid</td>\n",
       "      <td>D1</td>\n",
       "      <td>-9.835886</td>\n",
       "      <td>17</td>\n",
       "      <td>-0.925406</td>\n",
       "      <td>avoid</td>\n",
       "      <td>4.28</td>\n",
       "      <td>F</td>\n",
       "      <td>1</td>\n",
       "      <td>132</td>\n",
       "    </tr>\n",
       "    <tr>\n",
       "      <th>...</th>\n",
       "      <td>...</td>\n",
       "      <td>...</td>\n",
       "      <td>...</td>\n",
       "      <td>...</td>\n",
       "      <td>...</td>\n",
       "      <td>...</td>\n",
       "      <td>...</td>\n",
       "      <td>...</td>\n",
       "      <td>...</td>\n",
       "      <td>...</td>\n",
       "      <td>...</td>\n",
       "      <td>...</td>\n",
       "    </tr>\n",
       "    <tr>\n",
       "      <th>5820000</th>\n",
       "      <td>8</td>\n",
       "      <td>4</td>\n",
       "      <td>avoid</td>\n",
       "      <td>DA</td>\n",
       "      <td>-5.897155</td>\n",
       "      <td>5</td>\n",
       "      <td>-0.838271</td>\n",
       "      <td>avoid</td>\n",
       "      <td>3.77</td>\n",
       "      <td>M</td>\n",
       "      <td>0</td>\n",
       "      <td>88</td>\n",
       "    </tr>\n",
       "    <tr>\n",
       "      <th>5830000</th>\n",
       "      <td>8</td>\n",
       "      <td>4</td>\n",
       "      <td>cue</td>\n",
       "      <td>D2</td>\n",
       "      <td>-13.380744</td>\n",
       "      <td>1</td>\n",
       "      <td>-0.028153</td>\n",
       "      <td>avoid</td>\n",
       "      <td>0.00</td>\n",
       "      <td>M</td>\n",
       "      <td>0</td>\n",
       "      <td>84</td>\n",
       "    </tr>\n",
       "    <tr>\n",
       "      <th>5840000</th>\n",
       "      <td>8</td>\n",
       "      <td>4</td>\n",
       "      <td>cue</td>\n",
       "      <td>D2</td>\n",
       "      <td>-20.864332</td>\n",
       "      <td>23</td>\n",
       "      <td>0.290670</td>\n",
       "      <td>avoid</td>\n",
       "      <td>0.00</td>\n",
       "      <td>M</td>\n",
       "      <td>2</td>\n",
       "      <td>106</td>\n",
       "    </tr>\n",
       "    <tr>\n",
       "      <th>5850000</th>\n",
       "      <td>4</td>\n",
       "      <td>4</td>\n",
       "      <td>avoid</td>\n",
       "      <td>D1</td>\n",
       "      <td>16.750547</td>\n",
       "      <td>3</td>\n",
       "      <td>-0.066026</td>\n",
       "      <td>avoid</td>\n",
       "      <td>0.00</td>\n",
       "      <td>M</td>\n",
       "      <td>0</td>\n",
       "      <td>90</td>\n",
       "    </tr>\n",
       "    <tr>\n",
       "      <th>5860000</th>\n",
       "      <td>1</td>\n",
       "      <td>4</td>\n",
       "      <td>escape</td>\n",
       "      <td>D1</td>\n",
       "      <td>9.266958</td>\n",
       "      <td>1</td>\n",
       "      <td>-1.145244</td>\n",
       "      <td>avoid</td>\n",
       "      <td>7.54</td>\n",
       "      <td>F</td>\n",
       "      <td>0</td>\n",
       "      <td>87</td>\n",
       "    </tr>\n",
       "  </tbody>\n",
       "</table>\n",
       "<p>587 rows × 12 columns</p>\n",
       "</div>"
      ],
      "text/plain": [
       "         mouse_id  day   event sensor       time  trial    signal  action  \\\n",
       "0              12    5     cue     D2 -25.000000      0 -0.155359  escape   \n",
       "10000          12    5     cue     D2  12.614880     21  1.241920   avoid   \n",
       "20000           2    5     cue     D1   5.131291     15  1.258710   avoid   \n",
       "30000           9    5  escape     D2  -2.352298      5  0.212984   avoid   \n",
       "40000           2    5   avoid     D1  -9.835886     17 -0.925406   avoid   \n",
       "...           ...  ...     ...    ...        ...    ...       ...     ...   \n",
       "5820000         8    4   avoid     DA  -5.897155      5 -0.838271   avoid   \n",
       "5830000         8    4     cue     D2 -13.380744      1 -0.028153   avoid   \n",
       "5840000         8    4     cue     D2 -20.864332     23  0.290670   avoid   \n",
       "5850000         4    4   avoid     D1  16.750547      3 -0.066026   avoid   \n",
       "5860000         1    4  escape     D1   9.266958      1 -1.145244   avoid   \n",
       "\n",
       "         latency sex  learning_phase  trial_count  \n",
       "0           0.00   F               0          115  \n",
       "10000       0.00   F               2          136  \n",
       "20000       0.00   F               1          130  \n",
       "30000       0.00   M               0           94  \n",
       "40000       4.28   F               1          132  \n",
       "...          ...  ..             ...          ...  \n",
       "5820000     3.77   M               0           88  \n",
       "5830000     0.00   M               0           84  \n",
       "5840000     0.00   M               2          106  \n",
       "5850000     0.00   M               0           90  \n",
       "5860000     7.54   F               0           87  \n",
       "\n",
       "[587 rows x 12 columns]"
      ]
     },
     "execution_count": 5,
     "metadata": {},
     "output_type": "execute_result"
    }
   ],
   "source": [
    "processor = LSTMPipe(DATA_PATH)\n",
    "processor.read_raw_data()\n",
    "processor.raw_data=processor.raw_data[::10000]\n",
    "processor.raw_data"
   ]
  },
  {
   "cell_type": "code",
   "execution_count": 6,
   "metadata": {},
   "outputs": [
    {
     "data": {
      "text/plain": [
       "{'training': [8, 3, 10, 13, 4, 1, 7, 6, 2], 'dev': [0, 11], 'test': [5, 9, 12]}"
      ]
     },
     "execution_count": 6,
     "metadata": {},
     "output_type": "execute_result"
    }
   ],
   "source": [
    "with open('/Users/mds8301/Development/enigma/results/experiments/full_sequence_stacked_lstm_01/subjects.json', 'r') as f:\n",
    "    subjects = json.load(f)\n",
    "subjects"
   ]
  },
  {
   "cell_type": "code",
   "execution_count": 7,
   "metadata": {},
   "outputs": [],
   "source": [
    "training_subjects = subjects['training']\n",
    "dev_subjects = subjects['dev']\n",
    "test_subjects = subjects['test']\n",
    "\n",
    "training_query = ' or '.join([f\"mouse_id=={subject}\" for subject in training_subjects])\n",
    "dev_query = ' or '.join([f\"mouse_id=={subject}\" for subject in dev_subjects])\n",
    "test_query = ' or '.join([f\"mouse_id=={subject}\" for subject in test_subjects])\n",
    "\n",
    "def split_by_subjects_query(subjects):\n",
    "    query = ' or '.join([f\"mouse_id=={subject}\" for subject in subjects])\n",
    "    x, y = processor.raw_data.query(query).drop(columns =\"signal\"), processor.raw_data.query(query)['signal']\n",
    "    return x, y\n",
    "\n",
    "processor.X_train, processor.y_train = split_by_subjects_query(training_subjects)\n",
    "processor.X_dev, processor.y_dev = split_by_subjects_query(dev_subjects)\n",
    "processor.X_test, processor.y_test = split_by_subjects_query(test_subjects)\n"
   ]
  },
  {
   "cell_type": "code",
   "execution_count": 8,
   "metadata": {},
   "outputs": [
    {
     "data": {
      "text/html": [
       "<div>\n",
       "<style scoped>\n",
       "    .dataframe tbody tr th:only-of-type {\n",
       "        vertical-align: middle;\n",
       "    }\n",
       "\n",
       "    .dataframe tbody tr th {\n",
       "        vertical-align: top;\n",
       "    }\n",
       "\n",
       "    .dataframe thead th {\n",
       "        text-align: right;\n",
       "    }\n",
       "</style>\n",
       "<table border=\"1\" class=\"dataframe\">\n",
       "  <thead>\n",
       "    <tr style=\"text-align: right;\">\n",
       "      <th></th>\n",
       "      <th>mouse_id</th>\n",
       "      <th>day</th>\n",
       "      <th>event</th>\n",
       "      <th>sensor</th>\n",
       "      <th>time</th>\n",
       "      <th>trial</th>\n",
       "      <th>action</th>\n",
       "      <th>latency</th>\n",
       "      <th>sex</th>\n",
       "      <th>learning_phase</th>\n",
       "      <th>trial_count</th>\n",
       "    </tr>\n",
       "  </thead>\n",
       "  <tbody>\n",
       "    <tr>\n",
       "      <th>20000</th>\n",
       "      <td>2</td>\n",
       "      <td>5</td>\n",
       "      <td>cue</td>\n",
       "      <td>D1</td>\n",
       "      <td>5.131291</td>\n",
       "      <td>15</td>\n",
       "      <td>avoid</td>\n",
       "      <td>0.00</td>\n",
       "      <td>F</td>\n",
       "      <td>1</td>\n",
       "      <td>130</td>\n",
       "    </tr>\n",
       "    <tr>\n",
       "      <th>40000</th>\n",
       "      <td>2</td>\n",
       "      <td>5</td>\n",
       "      <td>avoid</td>\n",
       "      <td>D1</td>\n",
       "      <td>-9.835886</td>\n",
       "      <td>17</td>\n",
       "      <td>avoid</td>\n",
       "      <td>4.28</td>\n",
       "      <td>F</td>\n",
       "      <td>1</td>\n",
       "      <td>132</td>\n",
       "    </tr>\n",
       "    <tr>\n",
       "      <th>70000</th>\n",
       "      <td>1</td>\n",
       "      <td>5</td>\n",
       "      <td>cue</td>\n",
       "      <td>DA</td>\n",
       "      <td>12.811816</td>\n",
       "      <td>9</td>\n",
       "      <td>avoid</td>\n",
       "      <td>0.00</td>\n",
       "      <td>F</td>\n",
       "      <td>0</td>\n",
       "      <td>124</td>\n",
       "    </tr>\n",
       "    <tr>\n",
       "      <th>100000</th>\n",
       "      <td>1</td>\n",
       "      <td>5</td>\n",
       "      <td>avoid</td>\n",
       "      <td>DA</td>\n",
       "      <td>-9.638949</td>\n",
       "      <td>8</td>\n",
       "      <td>avoid</td>\n",
       "      <td>2.59</td>\n",
       "      <td>F</td>\n",
       "      <td>0</td>\n",
       "      <td>123</td>\n",
       "    </tr>\n",
       "    <tr>\n",
       "      <th>130000</th>\n",
       "      <td>13</td>\n",
       "      <td>5</td>\n",
       "      <td>cue</td>\n",
       "      <td>D2</td>\n",
       "      <td>13.008753</td>\n",
       "      <td>10</td>\n",
       "      <td>avoid</td>\n",
       "      <td>0.00</td>\n",
       "      <td>M</td>\n",
       "      <td>0</td>\n",
       "      <td>124</td>\n",
       "    </tr>\n",
       "    <tr>\n",
       "      <th>...</th>\n",
       "      <td>...</td>\n",
       "      <td>...</td>\n",
       "      <td>...</td>\n",
       "      <td>...</td>\n",
       "      <td>...</td>\n",
       "      <td>...</td>\n",
       "      <td>...</td>\n",
       "      <td>...</td>\n",
       "      <td>...</td>\n",
       "      <td>...</td>\n",
       "      <td>...</td>\n",
       "    </tr>\n",
       "    <tr>\n",
       "      <th>5820000</th>\n",
       "      <td>8</td>\n",
       "      <td>4</td>\n",
       "      <td>avoid</td>\n",
       "      <td>DA</td>\n",
       "      <td>-5.897155</td>\n",
       "      <td>5</td>\n",
       "      <td>avoid</td>\n",
       "      <td>3.77</td>\n",
       "      <td>M</td>\n",
       "      <td>0</td>\n",
       "      <td>88</td>\n",
       "    </tr>\n",
       "    <tr>\n",
       "      <th>5830000</th>\n",
       "      <td>8</td>\n",
       "      <td>4</td>\n",
       "      <td>cue</td>\n",
       "      <td>D2</td>\n",
       "      <td>-13.380744</td>\n",
       "      <td>1</td>\n",
       "      <td>avoid</td>\n",
       "      <td>0.00</td>\n",
       "      <td>M</td>\n",
       "      <td>0</td>\n",
       "      <td>84</td>\n",
       "    </tr>\n",
       "    <tr>\n",
       "      <th>5840000</th>\n",
       "      <td>8</td>\n",
       "      <td>4</td>\n",
       "      <td>cue</td>\n",
       "      <td>D2</td>\n",
       "      <td>-20.864332</td>\n",
       "      <td>23</td>\n",
       "      <td>avoid</td>\n",
       "      <td>0.00</td>\n",
       "      <td>M</td>\n",
       "      <td>2</td>\n",
       "      <td>106</td>\n",
       "    </tr>\n",
       "    <tr>\n",
       "      <th>5850000</th>\n",
       "      <td>4</td>\n",
       "      <td>4</td>\n",
       "      <td>avoid</td>\n",
       "      <td>D1</td>\n",
       "      <td>16.750547</td>\n",
       "      <td>3</td>\n",
       "      <td>avoid</td>\n",
       "      <td>0.00</td>\n",
       "      <td>M</td>\n",
       "      <td>0</td>\n",
       "      <td>90</td>\n",
       "    </tr>\n",
       "    <tr>\n",
       "      <th>5860000</th>\n",
       "      <td>1</td>\n",
       "      <td>4</td>\n",
       "      <td>escape</td>\n",
       "      <td>D1</td>\n",
       "      <td>9.266958</td>\n",
       "      <td>1</td>\n",
       "      <td>avoid</td>\n",
       "      <td>7.54</td>\n",
       "      <td>F</td>\n",
       "      <td>0</td>\n",
       "      <td>87</td>\n",
       "    </tr>\n",
       "  </tbody>\n",
       "</table>\n",
       "<p>375 rows × 11 columns</p>\n",
       "</div>"
      ],
      "text/plain": [
       "         mouse_id  day   event sensor       time  trial action  latency sex  \\\n",
       "20000           2    5     cue     D1   5.131291     15  avoid     0.00   F   \n",
       "40000           2    5   avoid     D1  -9.835886     17  avoid     4.28   F   \n",
       "70000           1    5     cue     DA  12.811816      9  avoid     0.00   F   \n",
       "100000          1    5   avoid     DA  -9.638949      8  avoid     2.59   F   \n",
       "130000         13    5     cue     D2  13.008753     10  avoid     0.00   M   \n",
       "...           ...  ...     ...    ...        ...    ...    ...      ...  ..   \n",
       "5820000         8    4   avoid     DA  -5.897155      5  avoid     3.77   M   \n",
       "5830000         8    4     cue     D2 -13.380744      1  avoid     0.00   M   \n",
       "5840000         8    4     cue     D2 -20.864332     23  avoid     0.00   M   \n",
       "5850000         4    4   avoid     D1  16.750547      3  avoid     0.00   M   \n",
       "5860000         1    4  escape     D1   9.266958      1  avoid     7.54   F   \n",
       "\n",
       "         learning_phase  trial_count  \n",
       "20000                 1          130  \n",
       "40000                 1          132  \n",
       "70000                 0          124  \n",
       "100000                0          123  \n",
       "130000                0          124  \n",
       "...                 ...          ...  \n",
       "5820000               0           88  \n",
       "5830000               0           84  \n",
       "5840000               2          106  \n",
       "5850000               0           90  \n",
       "5860000               0           87  \n",
       "\n",
       "[375 rows x 11 columns]"
      ]
     },
     "execution_count": 8,
     "metadata": {},
     "output_type": "execute_result"
    }
   ],
   "source": [
    "# processor.transorm_data()\n",
    "processor.X_train"
   ]
  },
  {
   "cell_type": "code",
   "execution_count": 10,
   "metadata": {},
   "outputs": [
    {
     "name": "stderr",
     "output_type": "stream",
     "text": [
      "2023-08-29 10:01:18.069553: I metal_plugin/src/device/metal_device.cc:1154] Metal device set to: Apple M2 Max\n",
      "2023-08-29 10:01:18.069574: I metal_plugin/src/device/metal_device.cc:296] systemMemory: 96.00 GB\n",
      "2023-08-29 10:01:18.069580: I metal_plugin/src/device/metal_device.cc:313] maxCacheSize: 36.00 GB\n",
      "2023-08-29 10:01:18.069617: I tensorflow/core/common_runtime/pluggable_device/pluggable_device_factory.cc:306] Could not identify NUMA node of platform GPU ID 0, defaulting to 0. Your kernel may not have been built with NUMA support.\n",
      "2023-08-29 10:01:18.069632: I tensorflow/core/common_runtime/pluggable_device/pluggable_device_factory.cc:272] Created TensorFlow device (/job:localhost/replica:0/task:0/device:GPU:0 with 0 MB memory) -> physical PluggableDevice (device: 0, name: METAL, pci bus id: <undefined>)\n"
     ]
    },
    {
     "data": {
      "text/plain": [
       "[<matplotlib.lines.Line2D at 0x2ab240bd0>]"
      ]
     },
     "execution_count": 10,
     "metadata": {},
     "output_type": "execute_result"
    },
    {
     "data": {
      "image/png": "[encoded data removed]",
      "text/plain": [
       "<Figure size 640x480 with 1 Axes>"
      ]
     },
     "metadata": {},
     "output_type": "display_data"
    }
   ],
   "source": [
    "def lr_schedular(epoch, lr):\n",
    "    if epoch < 10:\n",
    "        return lr\n",
    "    else:\n",
    "        return lr * tf.math.exp(1.)/epoch\n",
    "epochs = range(1,400,1)\n",
    "lrs = np.array([lr_schedular(e, 0.001) for e in epochs])\n",
    "plt.plot(epochs, lrs)\n",
    "# plot loss\n",
    "\n"
   ]
  },
  {
   "cell_type": "code",
   "execution_count": 11,
   "metadata": {},
   "outputs": [],
   "source": [
    "# tf tensor\n",
    "X_train = tf.convert_to_tensor(processor.X_train)\n",
    "y_train = tf.convert_to_tensor(processor.y_train)"
   ]
  },
  {
   "cell_type": "code",
   "execution_count": 13,
   "metadata": {},
   "outputs": [
    {
     "data": {
      "text/plain": [
       "18"
      ]
     },
     "execution_count": 13,
     "metadata": {},
     "output_type": "execute_result"
    }
   ],
   "source": [
    "X_train.shape[1]"
   ]
  },
  {
   "cell_type": "code",
   "execution_count": 9,
   "metadata": {},
   "outputs": [
    {
     "name": "stderr",
     "output_type": "stream",
     "text": [
      "2023-08-29 10:02:30.284302: I metal_plugin/src/device/metal_device.cc:1154] Metal device set to: Apple M2 Max\n",
      "2023-08-29 10:02:30.284324: I metal_plugin/src/device/metal_device.cc:296] systemMemory: 96.00 GB\n",
      "2023-08-29 10:02:30.284329: I metal_plugin/src/device/metal_device.cc:313] maxCacheSize: 36.00 GB\n",
      "2023-08-29 10:02:30.284377: I tensorflow/core/common_runtime/pluggable_device/pluggable_device_factory.cc:306] Could not identify NUMA node of platform GPU ID 0, defaulting to 0. Your kernel may not have been built with NUMA support.\n",
      "2023-08-29 10:02:30.284397: I tensorflow/core/common_runtime/pluggable_device/pluggable_device_factory.cc:272] Created TensorFlow device (/job:localhost/replica:0/task:0/device:GPU:0 with 0 MB memory) -> physical PluggableDevice (device: 0, name: METAL, pci bus id: <undefined>)\n"
     ]
    },
    {
     "ename": "ValueError",
     "evalue": "Failed to convert a NumPy array to a Tensor (Unsupported object type int).",
     "output_type": "error",
     "traceback": [
      "\u001b[0;31m---------------------------------------------------------------------------\u001b[0m",
      "\u001b[0;31mValueError\u001b[0m                                Traceback (most recent call last)",
      "Cell \u001b[0;32mIn[9], line 16\u001b[0m\n\u001b[1;32m      8\u001b[0m model\u001b[39m.\u001b[39mcompile(optimizer\u001b[39m=\u001b[39m\u001b[39m'\u001b[39m\u001b[39madam\u001b[39m\u001b[39m'\u001b[39m, loss\u001b[39m=\u001b[39m\u001b[39m'\u001b[39m\u001b[39mmse\u001b[39m\u001b[39m'\u001b[39m, metrics\u001b[39m=\u001b[39m[\n\u001b[1;32m      9\u001b[0m     \u001b[39m'\u001b[39m\u001b[39mmae\u001b[39m\u001b[39m'\u001b[39m, \u001b[39m'\u001b[39m\u001b[39mmse\u001b[39m\u001b[39m'\u001b[39m, \u001b[39m'\u001b[39m\u001b[39mmape\u001b[39m\u001b[39m'\u001b[39m, \u001b[39m'\u001b[39m\u001b[39mcosine_similarity\u001b[39m\u001b[39m'\u001b[39m])\n\u001b[1;32m     13\u001b[0m \u001b[39m# learning_rate_callback = tf.keras.callbacks.LearningRateScheduler(\u001b[39;00m\n\u001b[1;32m     14\u001b[0m \u001b[39m#     lr_schedular, verbose=1)\u001b[39;00m\n\u001b[0;32m---> 16\u001b[0m model\u001b[39m.\u001b[39mfit(processor\u001b[39m.\u001b[39mX_train,\n\u001b[1;32m     17\u001b[0m             processor\u001b[39m.\u001b[39my_train,\n\u001b[1;32m     18\u001b[0m             epochs\u001b[39m=\u001b[39m\u001b[39m5\u001b[39m,\n\u001b[1;32m     19\u001b[0m             validation_data\u001b[39m=\u001b[39m(processor\u001b[39m.\u001b[39mX_dev, processor\u001b[39m.\u001b[39my_dev)\n\u001b[1;32m     20\u001b[0m             )\n",
      "File \u001b[0;32m~/anaconda3/envs/enigma/lib/python3.11/site-packages/keras/utils/traceback_utils.py:70\u001b[0m, in \u001b[0;36mfilter_traceback.<locals>.error_handler\u001b[0;34m(*args, **kwargs)\u001b[0m\n\u001b[1;32m     67\u001b[0m     filtered_tb \u001b[39m=\u001b[39m _process_traceback_frames(e\u001b[39m.\u001b[39m__traceback__)\n\u001b[1;32m     68\u001b[0m     \u001b[39m# To get the full stack trace, call:\u001b[39;00m\n\u001b[1;32m     69\u001b[0m     \u001b[39m# `tf.debugging.disable_traceback_filtering()`\u001b[39;00m\n\u001b[0;32m---> 70\u001b[0m     \u001b[39mraise\u001b[39;00m e\u001b[39m.\u001b[39mwith_traceback(filtered_tb) \u001b[39mfrom\u001b[39;00m \u001b[39mNone\u001b[39;00m\n\u001b[1;32m     71\u001b[0m \u001b[39mfinally\u001b[39;00m:\n\u001b[1;32m     72\u001b[0m     \u001b[39mdel\u001b[39;00m filtered_tb\n",
      "File \u001b[0;32m~/anaconda3/envs/enigma/lib/python3.11/site-packages/tensorflow/python/framework/constant_op.py:103\u001b[0m, in \u001b[0;36mconvert_to_eager_tensor\u001b[0;34m(value, ctx, dtype)\u001b[0m\n\u001b[1;32m    101\u001b[0m     dtype \u001b[39m=\u001b[39m dtypes\u001b[39m.\u001b[39mas_dtype(dtype)\u001b[39m.\u001b[39mas_datatype_enum\n\u001b[1;32m    102\u001b[0m ctx\u001b[39m.\u001b[39mensure_initialized()\n\u001b[0;32m--> 103\u001b[0m \u001b[39mreturn\u001b[39;00m ops\u001b[39m.\u001b[39mEagerTensor(value, ctx\u001b[39m.\u001b[39mdevice_name, dtype)\n",
      "\u001b[0;31mValueError\u001b[0m: Failed to convert a NumPy array to a Tensor (Unsupported object type int)."
     ]
    }
   ],
   "source": [
    "model = StackedLSTM(\n",
    "    sequence_length=processor.raw_data['time'].nunique(),\n",
    "    num_features=processor.X_train.shape[1],\n",
    "    lstm_units=processor.X_train.shape[1] * 2\n",
    ")\n",
    "\n",
    "\n",
    "model.compile(optimizer='adam', loss='mse', metrics=[\n",
    "    'mae', 'mse', 'mape', 'cosine_similarity'])\n",
    "\n",
    "\n",
    "\n",
    "# learning_rate_callback = tf.keras.callbacks.LearningRateScheduler(\n",
    "#     lr_schedular, verbose=1)\n",
    "\n",
    "model.fit(processor.X_train,\n",
    "            processor.y_train,\n",
    "            epochs=5,\n",
    "            validation_data=(processor.X_dev, processor.y_dev)\n",
    "            )\n"
   ]
  },
  {
   "cell_type": "code",
   "execution_count": null,
   "metadata": {},
   "outputs": [],
   "source": [
    "model = tf.keras.models.load_model(MODEL_PATH)\n",
    "\n",
    "# model.compile(optimizer='adam', loss='mse', metrics=[\n",
    "#         'mae', 'mse', 'mape', 'cosine_similarity'])"
   ]
  },
  {
   "cell_type": "code",
   "execution_count": null,
   "metadata": {},
   "outputs": [],
   "source": [
    "model.summary()"
   ]
  },
  {
   "cell_type": "code",
   "execution_count": null,
   "metadata": {},
   "outputs": [],
   "source": []
  },
  {
   "cell_type": "code",
   "execution_count": null,
   "metadata": {},
   "outputs": [],
   "source": [
    "x_test_raw, y_test_raw = split_by_subjects_query(test_subjects)\n",
    "full_test_set = (x_test_raw\n",
    "                 .assign(\n",
    "                     true_signal=y_test_raw,\n",
    "                     predicted_signal = predicted_signal\n",
    "                     )\n",
    "                 )\n"
   ]
  },
  {
   "cell_type": "code",
   "execution_count": null,
   "metadata": {},
   "outputs": [],
   "source": [
    "full_test_set.shape"
   ]
  },
  {
   "cell_type": "code",
   "execution_count": null,
   "metadata": {},
   "outputs": [],
   "source": [
    "full_test_set.isnull().sum()"
   ]
  },
  {
   "cell_type": "code",
   "execution_count": null,
   "metadata": {},
   "outputs": [],
   "source": [
    "full_test_set"
   ]
  },
  {
   "cell_type": "code",
   "execution_count": null,
   "metadata": {},
   "outputs": [],
   "source": [
    "\n",
    "processor_pipe = (LSTMPipe(DATA_PATH)\n",
    ".read_raw_data(sort_by=['mouse_id','sensor','event', 'trial_count']))\n",
    "processor.raw_data = processor_pipe.raw_data[::10000]\n",
    "(processor_pipe.split_data(processed_data = False, \n",
    "            test_size=0.3,\n",
    "            test_dev_size=0.5, \n",
    "            split_group = \"mouse_id\", \n",
    "            stratify_group = \"sex\", \n",
    "            target='signal', \n",
    "            save_subject_ids=False)\n",
    ".transorm_data()\n",
    ")"
   ]
  },
  {
   "cell_type": "code",
   "execution_count": null,
   "metadata": {},
   "outputs": [],
   "source": [
    "from src.models.experimental_dropout_StackedLSTM import StackedLSTM\n",
    "def lr_schedular(epoch, lr):\n",
    "        if epoch < 10:\n",
    "            return lr\n",
    "        else:\n",
    "            return lr * tf.math.exp(-0.1)\n",
    "\n",
    "\n",
    "model = StackedLSTM(\n",
    "    sequence_length=processor.raw_data['time'].nunique(),\n",
    "    num_features=processor.X_train.shape[1],\n",
    "    lstm_units=processor.X_train.shape[1] * 2\n",
    ")\n",
    "\n",
    "\n",
    "model.compile(optimizer='adam', loss='mse', metrics=[\n",
    "    'mae', 'mse', 'mape', 'cosine_similarity'])\n",
    "\n",
    "# call backs\n",
    "\n",
    "\n",
    "learning_rate_callback = tf.keras.callbacks.LearningRateScheduler(\n",
    "    lr_schedular, verbose=1)\n",
    "\n",
    "model.fit(processor.X_train,\n",
    "            processor.y_train,\n",
    "            epochs=5,\n",
    "            validation_data=(processor.X_dev, processor.y_dev),\n",
    "            callbacks=[learning_rate_callback]\n",
    "            )\n",
    "\n",
    "\n",
    "model.evaluate(processor.X_test, processor.y_test)\n",
    "\n",
    "\n",
    "\n"
   ]
  },
  {
   "cell_type": "code",
   "execution_count": null,
   "metadata": {},
   "outputs": [],
   "source": [
    "sns.lineplot(data = avoid, x = 'time', y = 'signal', hue = 'signal_type')\n",
    "# sns.lineplot(data = query, x = 'time', y = 'predicted_signal')"
   ]
  },
  {
   "cell_type": "code",
   "execution_count": null,
   "metadata": {},
   "outputs": [],
   "source": [
    "facet = sns.FacetGrid(avoid, row = 'day', col = \"learning_phase\")\n",
    "facet.map_dataframe(sns.lineplot, x = 'time', y = 'signal', hue = 'signal_type', hue_order = [\"true_signal\", \"predicted_signal\"])"
   ]
  },
  {
   "cell_type": "code",
   "execution_count": null,
   "metadata": {},
   "outputs": [],
   "source": [
    "mouse_3 = avoid.query(\"mouse_id_3==1 & trial_count < 10\")\n",
    "mouse_3"
   ]
  },
  {
   "cell_type": "code",
   "execution_count": null,
   "metadata": {},
   "outputs": [],
   "source": [
    "sns.lineplot(data = mouse_3.query(\"trial_count==9\"), x = 'time', y = 'signal', hue = 'signal_type')"
   ]
  },
  {
   "cell_type": "code",
   "execution_count": null,
   "metadata": {},
   "outputs": [],
   "source": [
    "evalulation = model.evaluate(X_test, y_test)\n",
    "for name, value in zip(model.metrics_names, evalulation):\n",
    "    print(f'{name}: {value}')"
   ]
  },
  {
   "cell_type": "markdown",
   "metadata": {},
   "source": [
    "## Analysis on training set"
   ]
  },
  {
   "cell_type": "code",
   "execution_count": null,
   "metadata": {},
   "outputs": [],
   "source": [
    "def query_testing_subjects(subjects, df):\n",
    "    \n",
    "    full_query = ''\n",
    "    for mouse in subjects:\n",
    "        query =f\"{mouse} == 1\"\n",
    "        if full_query == '':\n",
    "            full_query = query\n",
    "        else:\n",
    "            full_query += f\" or {query}\" \n",
    "        \n",
    "    return df.query(full_query)\n",
    "\n",
    "train_set = query_testing_subjects(subjects_by_category['training'], train_processor.data)\n",
    "X_train, y_train = train_set.drop(columns = 'signal'), train_set['signal']"
   ]
  },
  {
   "cell_type": "code",
   "execution_count": null,
   "metadata": {},
   "outputs": [],
   "source": [
    "predicted_signal = model.predict(X_train)"
   ]
  },
  {
   "cell_type": "code",
   "execution_count": null,
   "metadata": {},
   "outputs": [],
   "source": [
    "full_train_set = (X_train\n",
    "                 .assign(\n",
    "                     true_signal=y_train,\n",
    "                     predicted_signal = predicted_signal\n",
    "                     )\n",
    "                 )"
   ]
  },
  {
   "cell_type": "code",
   "execution_count": null,
   "metadata": {},
   "outputs": [],
   "source": [
    "train_avoid = (full_train_set\n",
    "         .query(\"action_avoid==1 & event_cue==1\")\n",
    "         .melt(id_vars = full_test_set.drop(columns = ['predicted_signal', 'true_signal']).columns, value_vars= ['predicted_signal', 'true_signal'], value_name = \"signal\", var_name = 'signal_type'))\n",
    "train_avoid"
   ]
  },
  {
   "cell_type": "code",
   "execution_count": null,
   "metadata": {},
   "outputs": [],
   "source": [
    "sns.lineplot(data = train_avoid, x = 'time', y = 'signal', hue = 'signal_type')"
   ]
  },
  {
   "cell_type": "code",
   "execution_count": null,
   "metadata": {},
   "outputs": [],
   "source": [
    "facet = sns.FacetGrid(train_avoid, row = 'day', col = \"learning_phase\")\n",
    "facet.map_dataframe(sns.lineplot, x = 'time', y = 'signal', hue = 'signal_type', hue_order = [\"true_signal\", \"predicted_signal\"])"
   ]
  },
  {
   "cell_type": "code",
   "execution_count": null,
   "metadata": {},
   "outputs": [],
   "source": [
    "mouse_id_1_train  = train_avoid.query(\"mouse_id_1==1 & trial_count < 20\")\n",
    "sns.lineplot(data = mouse_id_1_train.query(\"trial_count==17\"), x = 'time', y = 'signal', hue = 'signal_type')"
   ]
  },
  {
   "cell_type": "markdown",
   "metadata": {},
   "source": [
    "# Summary\n",
    "given the training performance data, I think this model is still overrfitting. It looks a little better, but validation loss is still increasing. I am going to expand on this and include a standard learning rate schedular in experiment 3\n"
   ]
  }
 ],
 "metadata": {
  "kernelspec": {
   "display_name": "enigma",
   "language": "python",
   "name": "python3"
  },
  "language_info": {
   "codemirror_mode": {
    "name": "ipython",
    "version": 3
   },
   "file_extension": ".py",
   "mimetype": "text/x-python",
   "name": "python",
   "nbconvert_exporter": "python",
   "pygments_lexer": "ipython3",
   "version": "3.11.2"
  },
  "orig_nbformat": 4
 },
 "nbformat": 4,
 "nbformat_minor": 2
}
