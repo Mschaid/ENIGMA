{
 "cells": [
  {
   "attachments": {},
   "cell_type": "markdown",
   "id": "667b1c92",
   "metadata": {},
   "source": [
    "# Test \n"
   ]
  },
  {
   "cell_type": "code",
   "execution_count": 1,
   "id": "7955cf2a",
   "metadata": {},
   "outputs": [],
   "source": [
    "%load_ext autoreload\n",
    "%autoreload 2"
   ]
  },
  {
   "cell_type": "code",
   "execution_count": 2,
   "id": "53587072",
   "metadata": {},
   "outputs": [
    {
     "name": "stderr",
     "output_type": "stream",
     "text": [
      "2023-05-30 16:45:55.386980: I tensorflow/core/util/port.cc:110] oneDNN custom operations are on. You may see slightly different numerical results due to floating-point round-off errors from different computation orders. To turn them off, set the environment variable `TF_ENABLE_ONEDNN_OPTS=0`.\n",
      "2023-05-30 16:45:55.437128: I tensorflow/core/platform/cpu_feature_guard.cc:182] This TensorFlow binary is optimized to use available CPU instructions in performance-critical operations.\n",
      "To enable the following instructions: AVX2 AVX512F AVX512_VNNI FMA, in other operations, rebuild TensorFlow with the appropriate compiler flags.\n",
      "2023-05-30 16:45:57.016237: W tensorflow/compiler/tf2tensorrt/utils/py_utils.cc:38] TF-TRT Warning: Could not find TensorRT\n"
     ]
    }
   ],
   "source": [
    "from src.processors.Preprocessor import Preprocessor\n",
    "\n",
    "import pandas as pd\n",
    "import os\n",
    "import numpy as np\n",
    "import matplotlib.pyplot as plt\n",
    "import seaborn as sns\n",
    "import seaborn.objects as so\n",
    "\n",
    "from src.model_experimentation.model_experimentation import validated_tf\n",
    "\n",
    "import tensorflow as tf\n",
    "from \n",
    "\n"
   ]
  },
  {
   "cell_type": "code",
   "execution_count": 3,
   "id": "06c2776f",
   "metadata": {},
   "outputs": [
    {
     "name": "stdout",
     "output_type": "stream",
     "text": [
      "TensorFlow version: 2.12.0\n",
      "PhysicalDevice(name='/physical_device:GPU:0', device_type='GPU')\n",
      "PhysicalDevice(name='/physical_device:GPU:1', device_type='GPU')\n"
     ]
    }
   ],
   "source": [
    "validated_tf()"
   ]
  },
  {
   "attachments": {},
   "cell_type": "markdown",
   "id": "cca1daf5",
   "metadata": {},
   "source": [
    "Test data"
   ]
  },
  {
   "cell_type": "code",
   "execution_count": 6,
   "id": "191f0e9e",
   "metadata": {},
   "outputs": [],
   "source": [
    "X_test = pd.read_parquet('/projects/p31961/dopamine_modeling/data/prototype_data/X_test.parquet.gzip')"
   ]
  },
  {
   "cell_type": "code",
   "execution_count": null,
   "id": "3b157591",
   "metadata": {},
   "outputs": [],
   "source": [
    "ltsm_model = tf.keras.models.load_model('/projects/p31961/dopamine_modeling/results/models/ltsm_prototype')"
   ]
  },
  {
   "cell_type": "code",
   "execution_count": 7,
   "id": "f4221cc6",
   "metadata": {},
   "outputs": [
    {
     "data": {
      "text/html": [
       "<div>\n",
       "<style scoped>\n",
       "    .dataframe tbody tr th:only-of-type {\n",
       "        vertical-align: middle;\n",
       "    }\n",
       "\n",
       "    .dataframe tbody tr th {\n",
       "        vertical-align: top;\n",
       "    }\n",
       "\n",
       "    .dataframe thead th {\n",
       "        text-align: right;\n",
       "    }\n",
       "</style>\n",
       "<table border=\"1\" class=\"dataframe\">\n",
       "  <thead>\n",
       "    <tr style=\"text-align: right;\">\n",
       "      <th></th>\n",
       "      <th>day</th>\n",
       "      <th>time</th>\n",
       "      <th>trial</th>\n",
       "      <th>event_avoid</th>\n",
       "      <th>sensor_DA</th>\n",
       "    </tr>\n",
       "  </thead>\n",
       "  <tbody>\n",
       "    <tr>\n",
       "      <th>274662</th>\n",
       "      <td>7</td>\n",
       "      <td>-25.000000</td>\n",
       "      <td>6</td>\n",
       "      <td>1</td>\n",
       "      <td>1</td>\n",
       "    </tr>\n",
       "    <tr>\n",
       "      <th>274663</th>\n",
       "      <td>7</td>\n",
       "      <td>-24.999018</td>\n",
       "      <td>6</td>\n",
       "      <td>1</td>\n",
       "      <td>1</td>\n",
       "    </tr>\n",
       "    <tr>\n",
       "      <th>274664</th>\n",
       "      <td>7</td>\n",
       "      <td>-24.998034</td>\n",
       "      <td>6</td>\n",
       "      <td>1</td>\n",
       "      <td>1</td>\n",
       "    </tr>\n",
       "    <tr>\n",
       "      <th>274665</th>\n",
       "      <td>7</td>\n",
       "      <td>-24.997051</td>\n",
       "      <td>6</td>\n",
       "      <td>1</td>\n",
       "      <td>1</td>\n",
       "    </tr>\n",
       "    <tr>\n",
       "      <th>274667</th>\n",
       "      <td>7</td>\n",
       "      <td>-24.995085</td>\n",
       "      <td>6</td>\n",
       "      <td>1</td>\n",
       "      <td>1</td>\n",
       "    </tr>\n",
       "    <tr>\n",
       "      <th>...</th>\n",
       "      <td>...</td>\n",
       "      <td>...</td>\n",
       "      <td>...</td>\n",
       "      <td>...</td>\n",
       "      <td>...</td>\n",
       "    </tr>\n",
       "    <tr>\n",
       "      <th>366208</th>\n",
       "      <td>7</td>\n",
       "      <td>19.993118</td>\n",
       "      <td>7</td>\n",
       "      <td>1</td>\n",
       "      <td>1</td>\n",
       "    </tr>\n",
       "    <tr>\n",
       "      <th>366209</th>\n",
       "      <td>7</td>\n",
       "      <td>19.994102</td>\n",
       "      <td>7</td>\n",
       "      <td>1</td>\n",
       "      <td>1</td>\n",
       "    </tr>\n",
       "    <tr>\n",
       "      <th>366211</th>\n",
       "      <td>7</td>\n",
       "      <td>19.996067</td>\n",
       "      <td>7</td>\n",
       "      <td>1</td>\n",
       "      <td>1</td>\n",
       "    </tr>\n",
       "    <tr>\n",
       "      <th>366213</th>\n",
       "      <td>7</td>\n",
       "      <td>19.998034</td>\n",
       "      <td>7</td>\n",
       "      <td>1</td>\n",
       "      <td>1</td>\n",
       "    </tr>\n",
       "    <tr>\n",
       "      <th>366215</th>\n",
       "      <td>7</td>\n",
       "      <td>20.000000</td>\n",
       "      <td>7</td>\n",
       "      <td>1</td>\n",
       "      <td>1</td>\n",
       "    </tr>\n",
       "  </tbody>\n",
       "</table>\n",
       "<p>63401 rows × 5 columns</p>\n",
       "</div>"
      ],
      "text/plain": [
       "        day       time  trial  event_avoid  sensor_DA\n",
       "274662    7 -25.000000      6            1          1\n",
       "274663    7 -24.999018      6            1          1\n",
       "274664    7 -24.998034      6            1          1\n",
       "274665    7 -24.997051      6            1          1\n",
       "274667    7 -24.995085      6            1          1\n",
       "...     ...        ...    ...          ...        ...\n",
       "366208    7  19.993118      7            1          1\n",
       "366209    7  19.994102      7            1          1\n",
       "366211    7  19.996067      7            1          1\n",
       "366213    7  19.998034      7            1          1\n",
       "366215    7  20.000000      7            1          1\n",
       "\n",
       "[63401 rows x 5 columns]"
      ]
     },
     "execution_count": 7,
     "metadata": {},
     "output_type": "execute_result"
    }
   ],
   "source": [
    "X_test"
   ]
  },
  {
   "cell_type": "code",
   "execution_count": 10,
   "id": "c72febb1",
   "metadata": {},
   "outputs": [
    {
     "ename": "AttributeError",
     "evalue": "type object '_UserObject' has no attribute 'from_config'",
     "output_type": "error",
     "traceback": [
      "\u001b[0;31m---------------------------------------------------------------------------\u001b[0m",
      "\u001b[0;31mAttributeError\u001b[0m                            Traceback (most recent call last)",
      "Cell \u001b[0;32mIn[10], line 1\u001b[0m\n\u001b[0;32m----> 1\u001b[0m ltsm_model \u001b[39m=\u001b[39m tf\u001b[39m.\u001b[39mkeras\u001b[39m.\u001b[39mmodels\u001b[39m.\u001b[39mclone_model(ltsm_model)\n",
      "File \u001b[0;32m~/.conda/envs/dope/lib/python3.11/site-packages/keras/models/cloning.py:544\u001b[0m, in \u001b[0;36mclone_model\u001b[0;34m(model, input_tensors, clone_function)\u001b[0m\n\u001b[1;32m    535\u001b[0m     \u001b[39mraise\u001b[39;00m \u001b[39mValueError\u001b[39;00m(\n\u001b[1;32m    536\u001b[0m         \u001b[39m\"\u001b[39m\u001b[39mArguments clone_function and input_tensors \u001b[39m\u001b[39m\"\u001b[39m\n\u001b[1;32m    537\u001b[0m         \u001b[39m\"\u001b[39m\u001b[39mare only supported for Sequential models \u001b[39m\u001b[39m\"\u001b[39m\n\u001b[0;32m   (...)\u001b[0m\n\u001b[1;32m    541\u001b[0m         \u001b[39mf\u001b[39m\u001b[39m\"\u001b[39m\u001b[39minput_tensors=\u001b[39m\u001b[39m{\u001b[39;00minput_tensors\u001b[39m}\u001b[39;00m\u001b[39m\"\u001b[39m\n\u001b[1;32m    542\u001b[0m     )\n\u001b[1;32m    543\u001b[0m \u001b[39m# Note that a custom object scope may be required in this case.\u001b[39;00m\n\u001b[0;32m--> 544\u001b[0m \u001b[39mreturn\u001b[39;00m model\u001b[39m.\u001b[39m\u001b[39m__class__\u001b[39m\u001b[39m.\u001b[39mfrom_config(model\u001b[39m.\u001b[39mget_config())\n",
      "\u001b[0;31mAttributeError\u001b[0m: type object '_UserObject' has no attribute 'from_config'"
     ]
    }
   ],
   "source": [
    "ltsm_model = tf.keras.models.clone_model(ltsm_model)"
   ]
  },
  {
   "cell_type": "code",
   "execution_count": null,
   "id": "19e33f14",
   "metadata": {},
   "outputs": [],
   "source": []
  }
 ],
 "metadata": {
  "kernelspec": {
   "display_name": "dope (Python 311)",
   "language": "python",
   "name": "dope"
  },
  "language_info": {
   "codemirror_mode": {
    "name": "ipython",
    "version": 3
   },
   "file_extension": ".py",
   "mimetype": "text/x-python",
   "name": "python",
   "nbconvert_exporter": "python",
   "pygments_lexer": "ipython3",
   "version": "3.11.2"
  }
 },
 "nbformat": 4,
 "nbformat_minor": 5
}
